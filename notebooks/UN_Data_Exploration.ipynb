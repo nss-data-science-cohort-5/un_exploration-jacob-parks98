{
 "cells": [
  {
   "cell_type": "code",
   "execution_count": 1,
   "id": "634b515a",
   "metadata": {},
   "outputs": [],
   "source": [
    "import pandas as pd\n",
    "import numpy as np\n",
    "import matplotlib.pyplot as plt\n",
    "import seaborn as sns\n",
    "%matplotlib inline"
   ]
  },
  {
   "cell_type": "code",
   "execution_count": 2,
   "id": "ff7dc9b8",
   "metadata": {},
   "outputs": [],
   "source": [
    "#Using the pandas `read_csv()` function, read the GDP dataset into your notebook as a DataFrame called `gdp_df`. \n",
    "#* Take a look at the first 10 rows. \n",
    "#* Look at the last 5 rows. Do you see a problem?\n",
    "#* Redo the read_csv() call to correct this issue - **do not** modify the original csv file."
   ]
  },
  {
   "cell_type": "code",
   "execution_count": 3,
   "id": "d70468e0",
   "metadata": {},
   "outputs": [],
   "source": [
    "gdp_df = pd.read_csv(\"../data/gdp_per_capita.csv\")"
   ]
  },
  {
   "cell_type": "code",
   "execution_count": 4,
   "id": "4dab5661",
   "metadata": {},
   "outputs": [
    {
     "data": {
      "text/html": [
       "<div>\n",
       "<style scoped>\n",
       "    .dataframe tbody tr th:only-of-type {\n",
       "        vertical-align: middle;\n",
       "    }\n",
       "\n",
       "    .dataframe tbody tr th {\n",
       "        vertical-align: top;\n",
       "    }\n",
       "\n",
       "    .dataframe thead th {\n",
       "        text-align: right;\n",
       "    }\n",
       "</style>\n",
       "<table border=\"1\" class=\"dataframe\">\n",
       "  <thead>\n",
       "    <tr style=\"text-align: right;\">\n",
       "      <th></th>\n",
       "      <th>Country or Area</th>\n",
       "      <th>Year</th>\n",
       "      <th>Value</th>\n",
       "      <th>Value Footnotes</th>\n",
       "    </tr>\n",
       "  </thead>\n",
       "  <tbody>\n",
       "    <tr>\n",
       "      <th>0</th>\n",
       "      <td>Afghanistan</td>\n",
       "      <td>2019</td>\n",
       "      <td>2065.036398</td>\n",
       "      <td>NaN</td>\n",
       "    </tr>\n",
       "    <tr>\n",
       "      <th>1</th>\n",
       "      <td>Afghanistan</td>\n",
       "      <td>2018</td>\n",
       "      <td>2033.779002</td>\n",
       "      <td>NaN</td>\n",
       "    </tr>\n",
       "    <tr>\n",
       "      <th>2</th>\n",
       "      <td>Afghanistan</td>\n",
       "      <td>2017</td>\n",
       "      <td>2058.383832</td>\n",
       "      <td>NaN</td>\n",
       "    </tr>\n",
       "    <tr>\n",
       "      <th>3</th>\n",
       "      <td>Afghanistan</td>\n",
       "      <td>2016</td>\n",
       "      <td>2057.062164</td>\n",
       "      <td>NaN</td>\n",
       "    </tr>\n",
       "    <tr>\n",
       "      <th>4</th>\n",
       "      <td>Afghanistan</td>\n",
       "      <td>2015</td>\n",
       "      <td>2068.265904</td>\n",
       "      <td>NaN</td>\n",
       "    </tr>\n",
       "    <tr>\n",
       "      <th>5</th>\n",
       "      <td>Afghanistan</td>\n",
       "      <td>2014</td>\n",
       "      <td>2102.385234</td>\n",
       "      <td>NaN</td>\n",
       "    </tr>\n",
       "    <tr>\n",
       "      <th>6</th>\n",
       "      <td>Afghanistan</td>\n",
       "      <td>2013</td>\n",
       "      <td>2116.465454</td>\n",
       "      <td>NaN</td>\n",
       "    </tr>\n",
       "    <tr>\n",
       "      <th>7</th>\n",
       "      <td>Afghanistan</td>\n",
       "      <td>2012</td>\n",
       "      <td>2075.491747</td>\n",
       "      <td>NaN</td>\n",
       "    </tr>\n",
       "    <tr>\n",
       "      <th>8</th>\n",
       "      <td>Afghanistan</td>\n",
       "      <td>2011</td>\n",
       "      <td>1904.559799</td>\n",
       "      <td>NaN</td>\n",
       "    </tr>\n",
       "    <tr>\n",
       "      <th>9</th>\n",
       "      <td>Afghanistan</td>\n",
       "      <td>2010</td>\n",
       "      <td>1957.029338</td>\n",
       "      <td>NaN</td>\n",
       "    </tr>\n",
       "  </tbody>\n",
       "</table>\n",
       "</div>"
      ],
      "text/plain": [
       "  Country or Area  Year        Value  Value Footnotes\n",
       "0     Afghanistan  2019  2065.036398              NaN\n",
       "1     Afghanistan  2018  2033.779002              NaN\n",
       "2     Afghanistan  2017  2058.383832              NaN\n",
       "3     Afghanistan  2016  2057.062164              NaN\n",
       "4     Afghanistan  2015  2068.265904              NaN\n",
       "5     Afghanistan  2014  2102.385234              NaN\n",
       "6     Afghanistan  2013  2116.465454              NaN\n",
       "7     Afghanistan  2012  2075.491747              NaN\n",
       "8     Afghanistan  2011  1904.559799              NaN\n",
       "9     Afghanistan  2010  1957.029338              NaN"
      ]
     },
     "execution_count": 4,
     "metadata": {},
     "output_type": "execute_result"
    }
   ],
   "source": [
    "gdp_df[0:10]"
   ]
  },
  {
   "cell_type": "code",
   "execution_count": 5,
   "id": "7c2c389f",
   "metadata": {},
   "outputs": [
    {
     "data": {
      "text/html": [
       "<div>\n",
       "<style scoped>\n",
       "    .dataframe tbody tr th:only-of-type {\n",
       "        vertical-align: middle;\n",
       "    }\n",
       "\n",
       "    .dataframe tbody tr th {\n",
       "        vertical-align: top;\n",
       "    }\n",
       "\n",
       "    .dataframe thead th {\n",
       "        text-align: right;\n",
       "    }\n",
       "</style>\n",
       "<table border=\"1\" class=\"dataframe\">\n",
       "  <thead>\n",
       "    <tr style=\"text-align: right;\">\n",
       "      <th></th>\n",
       "      <th>Country or Area</th>\n",
       "      <th>Year</th>\n",
       "      <th>Value</th>\n",
       "      <th>Value Footnotes</th>\n",
       "    </tr>\n",
       "  </thead>\n",
       "  <tbody>\n",
       "    <tr>\n",
       "      <th>6866</th>\n",
       "      <td>Zimbabwe</td>\n",
       "      <td>1991</td>\n",
       "      <td>3426.598094</td>\n",
       "      <td>NaN</td>\n",
       "    </tr>\n",
       "    <tr>\n",
       "      <th>6867</th>\n",
       "      <td>Zimbabwe</td>\n",
       "      <td>1990</td>\n",
       "      <td>3324.348171</td>\n",
       "      <td>NaN</td>\n",
       "    </tr>\n",
       "    <tr>\n",
       "      <th>6868</th>\n",
       "      <td>NaN</td>\n",
       "      <td>NaN</td>\n",
       "      <td>NaN</td>\n",
       "      <td>NaN</td>\n",
       "    </tr>\n",
       "    <tr>\n",
       "      <th>6869</th>\n",
       "      <td>footnoteSeqID</td>\n",
       "      <td>Footnote</td>\n",
       "      <td>NaN</td>\n",
       "      <td>NaN</td>\n",
       "    </tr>\n",
       "    <tr>\n",
       "      <th>6870</th>\n",
       "      <td>2</td>\n",
       "      <td>Excludes South Sudan after July 9, 2011.</td>\n",
       "      <td>NaN</td>\n",
       "      <td>NaN</td>\n",
       "    </tr>\n",
       "  </tbody>\n",
       "</table>\n",
       "</div>"
      ],
      "text/plain": [
       "     Country or Area                                      Year        Value  \\\n",
       "6866        Zimbabwe                                      1991  3426.598094   \n",
       "6867        Zimbabwe                                      1990  3324.348171   \n",
       "6868             NaN                                       NaN          NaN   \n",
       "6869   footnoteSeqID                                  Footnote          NaN   \n",
       "6870               2  Excludes South Sudan after July 9, 2011.          NaN   \n",
       "\n",
       "      Value Footnotes  \n",
       "6866              NaN  \n",
       "6867              NaN  \n",
       "6868              NaN  \n",
       "6869              NaN  \n",
       "6870              NaN  "
      ]
     },
     "execution_count": 5,
     "metadata": {},
     "output_type": "execute_result"
    }
   ],
   "source": [
    "gdp_df[-5:]"
   ]
  },
  {
   "cell_type": "code",
   "execution_count": 6,
   "id": "7b237a2d",
   "metadata": {},
   "outputs": [],
   "source": [
    "gdp_df = pd.read_csv(\"../data/gdp_per_capita.csv\", skipfooter = 3, engine = 'python')"
   ]
  },
  {
   "cell_type": "code",
   "execution_count": 7,
   "id": "08352863",
   "metadata": {},
   "outputs": [
    {
     "data": {
      "text/html": [
       "<div>\n",
       "<style scoped>\n",
       "    .dataframe tbody tr th:only-of-type {\n",
       "        vertical-align: middle;\n",
       "    }\n",
       "\n",
       "    .dataframe tbody tr th {\n",
       "        vertical-align: top;\n",
       "    }\n",
       "\n",
       "    .dataframe thead th {\n",
       "        text-align: right;\n",
       "    }\n",
       "</style>\n",
       "<table border=\"1\" class=\"dataframe\">\n",
       "  <thead>\n",
       "    <tr style=\"text-align: right;\">\n",
       "      <th></th>\n",
       "      <th>Country or Area</th>\n",
       "      <th>Year</th>\n",
       "      <th>Value</th>\n",
       "      <th>Value Footnotes</th>\n",
       "    </tr>\n",
       "  </thead>\n",
       "  <tbody>\n",
       "    <tr>\n",
       "      <th>6863</th>\n",
       "      <td>Zimbabwe</td>\n",
       "      <td>1994</td>\n",
       "      <td>3263.934978</td>\n",
       "      <td>NaN</td>\n",
       "    </tr>\n",
       "    <tr>\n",
       "      <th>6864</th>\n",
       "      <td>Zimbabwe</td>\n",
       "      <td>1993</td>\n",
       "      <td>3033.504852</td>\n",
       "      <td>NaN</td>\n",
       "    </tr>\n",
       "    <tr>\n",
       "      <th>6865</th>\n",
       "      <td>Zimbabwe</td>\n",
       "      <td>1992</td>\n",
       "      <td>3054.889178</td>\n",
       "      <td>NaN</td>\n",
       "    </tr>\n",
       "    <tr>\n",
       "      <th>6866</th>\n",
       "      <td>Zimbabwe</td>\n",
       "      <td>1991</td>\n",
       "      <td>3426.598094</td>\n",
       "      <td>NaN</td>\n",
       "    </tr>\n",
       "    <tr>\n",
       "      <th>6867</th>\n",
       "      <td>Zimbabwe</td>\n",
       "      <td>1990</td>\n",
       "      <td>3324.348171</td>\n",
       "      <td>NaN</td>\n",
       "    </tr>\n",
       "  </tbody>\n",
       "</table>\n",
       "</div>"
      ],
      "text/plain": [
       "     Country or Area  Year        Value  Value Footnotes\n",
       "6863        Zimbabwe  1994  3263.934978              NaN\n",
       "6864        Zimbabwe  1993  3033.504852              NaN\n",
       "6865        Zimbabwe  1992  3054.889178              NaN\n",
       "6866        Zimbabwe  1991  3426.598094              NaN\n",
       "6867        Zimbabwe  1990  3324.348171              NaN"
      ]
     },
     "execution_count": 7,
     "metadata": {},
     "output_type": "execute_result"
    }
   ],
   "source": [
    "gdp_df[-5:]"
   ]
  },
  {
   "cell_type": "code",
   "execution_count": 8,
   "id": "cad210cb",
   "metadata": {},
   "outputs": [],
   "source": [
    "#Drop the 'Value Footnotes' column, and rename the remaining columns to ‘Country’, ‘Year’, and ‘GDP_Per_Capita’."
   ]
  },
  {
   "cell_type": "code",
   "execution_count": 9,
   "id": "e2a5396f",
   "metadata": {},
   "outputs": [],
   "source": [
    "gdp_df = gdp_df.rename(columns = {\"Country or Area\":\"Country\",\"Value\":\"GDP_Per_Capita\"})"
   ]
  },
  {
   "cell_type": "code",
   "execution_count": 10,
   "id": "d06d3166",
   "metadata": {
    "scrolled": true
   },
   "outputs": [
    {
     "data": {
      "text/html": [
       "<div>\n",
       "<style scoped>\n",
       "    .dataframe tbody tr th:only-of-type {\n",
       "        vertical-align: middle;\n",
       "    }\n",
       "\n",
       "    .dataframe tbody tr th {\n",
       "        vertical-align: top;\n",
       "    }\n",
       "\n",
       "    .dataframe thead th {\n",
       "        text-align: right;\n",
       "    }\n",
       "</style>\n",
       "<table border=\"1\" class=\"dataframe\">\n",
       "  <thead>\n",
       "    <tr style=\"text-align: right;\">\n",
       "      <th></th>\n",
       "      <th>Country</th>\n",
       "      <th>Year</th>\n",
       "      <th>GDP_Per_Capita</th>\n",
       "      <th>Value Footnotes</th>\n",
       "    </tr>\n",
       "  </thead>\n",
       "  <tbody>\n",
       "    <tr>\n",
       "      <th>0</th>\n",
       "      <td>Afghanistan</td>\n",
       "      <td>2019</td>\n",
       "      <td>2065.036398</td>\n",
       "      <td>NaN</td>\n",
       "    </tr>\n",
       "    <tr>\n",
       "      <th>1</th>\n",
       "      <td>Afghanistan</td>\n",
       "      <td>2018</td>\n",
       "      <td>2033.779002</td>\n",
       "      <td>NaN</td>\n",
       "    </tr>\n",
       "    <tr>\n",
       "      <th>2</th>\n",
       "      <td>Afghanistan</td>\n",
       "      <td>2017</td>\n",
       "      <td>2058.383832</td>\n",
       "      <td>NaN</td>\n",
       "    </tr>\n",
       "    <tr>\n",
       "      <th>3</th>\n",
       "      <td>Afghanistan</td>\n",
       "      <td>2016</td>\n",
       "      <td>2057.062164</td>\n",
       "      <td>NaN</td>\n",
       "    </tr>\n",
       "    <tr>\n",
       "      <th>4</th>\n",
       "      <td>Afghanistan</td>\n",
       "      <td>2015</td>\n",
       "      <td>2068.265904</td>\n",
       "      <td>NaN</td>\n",
       "    </tr>\n",
       "    <tr>\n",
       "      <th>...</th>\n",
       "      <td>...</td>\n",
       "      <td>...</td>\n",
       "      <td>...</td>\n",
       "      <td>...</td>\n",
       "    </tr>\n",
       "    <tr>\n",
       "      <th>6863</th>\n",
       "      <td>Zimbabwe</td>\n",
       "      <td>1994</td>\n",
       "      <td>3263.934978</td>\n",
       "      <td>NaN</td>\n",
       "    </tr>\n",
       "    <tr>\n",
       "      <th>6864</th>\n",
       "      <td>Zimbabwe</td>\n",
       "      <td>1993</td>\n",
       "      <td>3033.504852</td>\n",
       "      <td>NaN</td>\n",
       "    </tr>\n",
       "    <tr>\n",
       "      <th>6865</th>\n",
       "      <td>Zimbabwe</td>\n",
       "      <td>1992</td>\n",
       "      <td>3054.889178</td>\n",
       "      <td>NaN</td>\n",
       "    </tr>\n",
       "    <tr>\n",
       "      <th>6866</th>\n",
       "      <td>Zimbabwe</td>\n",
       "      <td>1991</td>\n",
       "      <td>3426.598094</td>\n",
       "      <td>NaN</td>\n",
       "    </tr>\n",
       "    <tr>\n",
       "      <th>6867</th>\n",
       "      <td>Zimbabwe</td>\n",
       "      <td>1990</td>\n",
       "      <td>3324.348171</td>\n",
       "      <td>NaN</td>\n",
       "    </tr>\n",
       "  </tbody>\n",
       "</table>\n",
       "<p>6868 rows × 4 columns</p>\n",
       "</div>"
      ],
      "text/plain": [
       "          Country  Year  GDP_Per_Capita  Value Footnotes\n",
       "0     Afghanistan  2019     2065.036398              NaN\n",
       "1     Afghanistan  2018     2033.779002              NaN\n",
       "2     Afghanistan  2017     2058.383832              NaN\n",
       "3     Afghanistan  2016     2057.062164              NaN\n",
       "4     Afghanistan  2015     2068.265904              NaN\n",
       "...           ...   ...             ...              ...\n",
       "6863     Zimbabwe  1994     3263.934978              NaN\n",
       "6864     Zimbabwe  1993     3033.504852              NaN\n",
       "6865     Zimbabwe  1992     3054.889178              NaN\n",
       "6866     Zimbabwe  1991     3426.598094              NaN\n",
       "6867     Zimbabwe  1990     3324.348171              NaN\n",
       "\n",
       "[6868 rows x 4 columns]"
      ]
     },
     "execution_count": 10,
     "metadata": {},
     "output_type": "execute_result"
    }
   ],
   "source": [
    "gdp_df"
   ]
  },
  {
   "cell_type": "code",
   "execution_count": 11,
   "id": "e5f0658b",
   "metadata": {},
   "outputs": [],
   "source": [
    "gdp_df = gdp_df.drop(columns = \"Value Footnotes\")"
   ]
  },
  {
   "cell_type": "code",
   "execution_count": 12,
   "id": "4808082a",
   "metadata": {},
   "outputs": [
    {
     "data": {
      "text/html": [
       "<div>\n",
       "<style scoped>\n",
       "    .dataframe tbody tr th:only-of-type {\n",
       "        vertical-align: middle;\n",
       "    }\n",
       "\n",
       "    .dataframe tbody tr th {\n",
       "        vertical-align: top;\n",
       "    }\n",
       "\n",
       "    .dataframe thead th {\n",
       "        text-align: right;\n",
       "    }\n",
       "</style>\n",
       "<table border=\"1\" class=\"dataframe\">\n",
       "  <thead>\n",
       "    <tr style=\"text-align: right;\">\n",
       "      <th></th>\n",
       "      <th>Country</th>\n",
       "      <th>Year</th>\n",
       "      <th>GDP_Per_Capita</th>\n",
       "    </tr>\n",
       "  </thead>\n",
       "  <tbody>\n",
       "    <tr>\n",
       "      <th>0</th>\n",
       "      <td>Afghanistan</td>\n",
       "      <td>2019</td>\n",
       "      <td>2065.036398</td>\n",
       "    </tr>\n",
       "    <tr>\n",
       "      <th>1</th>\n",
       "      <td>Afghanistan</td>\n",
       "      <td>2018</td>\n",
       "      <td>2033.779002</td>\n",
       "    </tr>\n",
       "    <tr>\n",
       "      <th>2</th>\n",
       "      <td>Afghanistan</td>\n",
       "      <td>2017</td>\n",
       "      <td>2058.383832</td>\n",
       "    </tr>\n",
       "    <tr>\n",
       "      <th>3</th>\n",
       "      <td>Afghanistan</td>\n",
       "      <td>2016</td>\n",
       "      <td>2057.062164</td>\n",
       "    </tr>\n",
       "    <tr>\n",
       "      <th>4</th>\n",
       "      <td>Afghanistan</td>\n",
       "      <td>2015</td>\n",
       "      <td>2068.265904</td>\n",
       "    </tr>\n",
       "    <tr>\n",
       "      <th>...</th>\n",
       "      <td>...</td>\n",
       "      <td>...</td>\n",
       "      <td>...</td>\n",
       "    </tr>\n",
       "    <tr>\n",
       "      <th>6863</th>\n",
       "      <td>Zimbabwe</td>\n",
       "      <td>1994</td>\n",
       "      <td>3263.934978</td>\n",
       "    </tr>\n",
       "    <tr>\n",
       "      <th>6864</th>\n",
       "      <td>Zimbabwe</td>\n",
       "      <td>1993</td>\n",
       "      <td>3033.504852</td>\n",
       "    </tr>\n",
       "    <tr>\n",
       "      <th>6865</th>\n",
       "      <td>Zimbabwe</td>\n",
       "      <td>1992</td>\n",
       "      <td>3054.889178</td>\n",
       "    </tr>\n",
       "    <tr>\n",
       "      <th>6866</th>\n",
       "      <td>Zimbabwe</td>\n",
       "      <td>1991</td>\n",
       "      <td>3426.598094</td>\n",
       "    </tr>\n",
       "    <tr>\n",
       "      <th>6867</th>\n",
       "      <td>Zimbabwe</td>\n",
       "      <td>1990</td>\n",
       "      <td>3324.348171</td>\n",
       "    </tr>\n",
       "  </tbody>\n",
       "</table>\n",
       "<p>6868 rows × 3 columns</p>\n",
       "</div>"
      ],
      "text/plain": [
       "          Country  Year  GDP_Per_Capita\n",
       "0     Afghanistan  2019     2065.036398\n",
       "1     Afghanistan  2018     2033.779002\n",
       "2     Afghanistan  2017     2058.383832\n",
       "3     Afghanistan  2016     2057.062164\n",
       "4     Afghanistan  2015     2068.265904\n",
       "...           ...   ...             ...\n",
       "6863     Zimbabwe  1994     3263.934978\n",
       "6864     Zimbabwe  1993     3033.504852\n",
       "6865     Zimbabwe  1992     3054.889178\n",
       "6866     Zimbabwe  1991     3426.598094\n",
       "6867     Zimbabwe  1990     3324.348171\n",
       "\n",
       "[6868 rows x 3 columns]"
      ]
     },
     "execution_count": 12,
     "metadata": {},
     "output_type": "execute_result"
    }
   ],
   "source": [
    "gdp_df"
   ]
  },
  {
   "cell_type": "code",
   "execution_count": 13,
   "id": "f2cc01a2",
   "metadata": {},
   "outputs": [],
   "source": [
    "#How many rows and columns does gdp_df have? What are the data types of its columns? If any of the columns are not the expected types, figure out why and fix it."
   ]
  },
  {
   "cell_type": "code",
   "execution_count": 14,
   "id": "83a3e979",
   "metadata": {},
   "outputs": [
    {
     "name": "stdout",
     "output_type": "stream",
     "text": [
      "<class 'pandas.core.frame.DataFrame'>\n",
      "RangeIndex: 6868 entries, 0 to 6867\n",
      "Data columns (total 3 columns):\n",
      " #   Column          Non-Null Count  Dtype  \n",
      "---  ------          --------------  -----  \n",
      " 0   Country         6868 non-null   object \n",
      " 1   Year            6868 non-null   int64  \n",
      " 2   GDP_Per_Capita  6868 non-null   float64\n",
      "dtypes: float64(1), int64(1), object(1)\n",
      "memory usage: 161.1+ KB\n"
     ]
    }
   ],
   "source": [
    "gdp_df.info()"
   ]
  },
  {
   "cell_type": "code",
   "execution_count": 15,
   "id": "14ab0de0",
   "metadata": {},
   "outputs": [],
   "source": [
    "gdp_df[\"Country\"] = gdp_df[\"Country\"].astype(str)"
   ]
  },
  {
   "cell_type": "code",
   "execution_count": 16,
   "id": "eafc2151",
   "metadata": {},
   "outputs": [
    {
     "name": "stdout",
     "output_type": "stream",
     "text": [
      "<class 'pandas.core.frame.DataFrame'>\n",
      "RangeIndex: 6868 entries, 0 to 6867\n",
      "Data columns (total 3 columns):\n",
      " #   Column          Non-Null Count  Dtype  \n",
      "---  ------          --------------  -----  \n",
      " 0   Country         6868 non-null   object \n",
      " 1   Year            6868 non-null   int64  \n",
      " 2   GDP_Per_Capita  6868 non-null   float64\n",
      "dtypes: float64(1), int64(1), object(1)\n",
      "memory usage: 161.1+ KB\n"
     ]
    }
   ],
   "source": [
    "gdp_df.info()"
   ]
  },
  {
   "cell_type": "code",
   "execution_count": 17,
   "id": "35dbdf83",
   "metadata": {},
   "outputs": [],
   "source": [
    "#Which years are represented in this dataset? Take a look at the number of observations per year. What do you notice?"
   ]
  },
  {
   "cell_type": "code",
   "execution_count": 18,
   "id": "e090f4c5",
   "metadata": {},
   "outputs": [
    {
     "data": {
      "text/plain": [
       "2013    238\n",
       "2014    238\n",
       "2016    238\n",
       "2015    238\n",
       "2017    238\n",
       "2012    237\n",
       "2018    237\n",
       "2011    237\n",
       "2009    236\n",
       "2010    236\n",
       "2007    235\n",
       "2008    235\n",
       "2006    235\n",
       "2004    234\n",
       "2005    234\n",
       "2002    233\n",
       "2003    233\n",
       "2001    232\n",
       "2019    231\n",
       "2000    231\n",
       "1999    224\n",
       "1998    223\n",
       "1997    223\n",
       "1996    221\n",
       "1995    221\n",
       "1994    214\n",
       "1993    212\n",
       "1992    209\n",
       "1991    208\n",
       "1990    207\n",
       "Name: Year, dtype: int64"
      ]
     },
     "execution_count": 18,
     "metadata": {},
     "output_type": "execute_result"
    }
   ],
   "source": [
    "gdp_df[\"Year\"].value_counts()"
   ]
  },
  {
   "cell_type": "code",
   "execution_count": 19,
   "id": "a9a4a6e8",
   "metadata": {},
   "outputs": [],
   "source": [
    "#How many countries are represented in this dataset? Which countries are least represented in the dataset? Why do you think these countries have so few observations?"
   ]
  },
  {
   "cell_type": "code",
   "execution_count": 20,
   "id": "4a432e90",
   "metadata": {},
   "outputs": [
    {
     "data": {
      "text/plain": [
       "Country            238\n",
       "Year                30\n",
       "GDP_Per_Capita    6808\n",
       "dtype: int64"
      ]
     },
     "execution_count": 20,
     "metadata": {},
     "output_type": "execute_result"
    }
   ],
   "source": [
    "gdp_df.nunique()"
   ]
  },
  {
   "cell_type": "code",
   "execution_count": 21,
   "id": "df57f055",
   "metadata": {},
   "outputs": [],
   "source": [
    "#238 countries"
   ]
  },
  {
   "cell_type": "code",
   "execution_count": 22,
   "id": "b776081b",
   "metadata": {},
   "outputs": [
    {
     "data": {
      "text/plain": [
       "Chad                         30\n",
       "Philippines                  30\n",
       "Latin America & Caribbean    30\n",
       "Benin                        30\n",
       "IDA total                    30\n",
       "                             ..\n",
       "Nauru                        16\n",
       "Cayman Islands               13\n",
       "Sint Maarten (Dutch part)    10\n",
       "Turks and Caicos Islands      9\n",
       "Djibouti                      7\n",
       "Name: Country, Length: 238, dtype: int64"
      ]
     },
     "execution_count": 22,
     "metadata": {},
     "output_type": "execute_result"
    }
   ],
   "source": [
    "gdp_df[\"Country\"].value_counts()"
   ]
  },
  {
   "cell_type": "code",
   "execution_count": 23,
   "id": "28135342",
   "metadata": {},
   "outputs": [],
   "source": [
    "#The Countries with less data may be territories or newer countries"
   ]
  },
  {
   "cell_type": "code",
   "execution_count": 24,
   "id": "c3e3373b",
   "metadata": {},
   "outputs": [],
   "source": [
    "#Create a new dataframe by subsetting `gdp_df` to just the year 2014. Call this new dataframe `gdp_2014`."
   ]
  },
  {
   "cell_type": "code",
   "execution_count": 25,
   "id": "6dcbd9db",
   "metadata": {},
   "outputs": [],
   "source": [
    "gdp_2014 = gdp_df[gdp_df[\"Year\"] == 2014]"
   ]
  },
  {
   "cell_type": "code",
   "execution_count": 26,
   "id": "9aa93788",
   "metadata": {},
   "outputs": [
    {
     "data": {
      "text/html": [
       "<div>\n",
       "<style scoped>\n",
       "    .dataframe tbody tr th:only-of-type {\n",
       "        vertical-align: middle;\n",
       "    }\n",
       "\n",
       "    .dataframe tbody tr th {\n",
       "        vertical-align: top;\n",
       "    }\n",
       "\n",
       "    .dataframe thead th {\n",
       "        text-align: right;\n",
       "    }\n",
       "</style>\n",
       "<table border=\"1\" class=\"dataframe\">\n",
       "  <thead>\n",
       "    <tr style=\"text-align: right;\">\n",
       "      <th></th>\n",
       "      <th>Country</th>\n",
       "      <th>Year</th>\n",
       "      <th>GDP_Per_Capita</th>\n",
       "    </tr>\n",
       "  </thead>\n",
       "  <tbody>\n",
       "    <tr>\n",
       "      <th>5</th>\n",
       "      <td>Afghanistan</td>\n",
       "      <td>2014</td>\n",
       "      <td>2102.385234</td>\n",
       "    </tr>\n",
       "    <tr>\n",
       "      <th>23</th>\n",
       "      <td>Albania</td>\n",
       "      <td>2014</td>\n",
       "      <td>11623.866680</td>\n",
       "    </tr>\n",
       "    <tr>\n",
       "      <th>53</th>\n",
       "      <td>Algeria</td>\n",
       "      <td>2014</td>\n",
       "      <td>11512.705410</td>\n",
       "    </tr>\n",
       "    <tr>\n",
       "      <th>83</th>\n",
       "      <td>Angola</td>\n",
       "      <td>2014</td>\n",
       "      <td>8239.828837</td>\n",
       "    </tr>\n",
       "    <tr>\n",
       "      <th>113</th>\n",
       "      <td>Antigua and Barbuda</td>\n",
       "      <td>2014</td>\n",
       "      <td>18104.241470</td>\n",
       "    </tr>\n",
       "    <tr>\n",
       "      <th>...</th>\n",
       "      <td>...</td>\n",
       "      <td>...</td>\n",
       "      <td>...</td>\n",
       "    </tr>\n",
       "    <tr>\n",
       "      <th>6727</th>\n",
       "      <td>Vietnam</td>\n",
       "      <td>2014</td>\n",
       "      <td>6098.489609</td>\n",
       "    </tr>\n",
       "    <tr>\n",
       "      <th>6757</th>\n",
       "      <td>West Bank and Gaza</td>\n",
       "      <td>2014</td>\n",
       "      <td>5967.073437</td>\n",
       "    </tr>\n",
       "    <tr>\n",
       "      <th>6783</th>\n",
       "      <td>World</td>\n",
       "      <td>2014</td>\n",
       "      <td>15189.648510</td>\n",
       "    </tr>\n",
       "    <tr>\n",
       "      <th>6813</th>\n",
       "      <td>Zambia</td>\n",
       "      <td>2014</td>\n",
       "      <td>3450.046561</td>\n",
       "    </tr>\n",
       "    <tr>\n",
       "      <th>6843</th>\n",
       "      <td>Zimbabwe</td>\n",
       "      <td>2014</td>\n",
       "      <td>2955.240287</td>\n",
       "    </tr>\n",
       "  </tbody>\n",
       "</table>\n",
       "<p>238 rows × 3 columns</p>\n",
       "</div>"
      ],
      "text/plain": [
       "                  Country  Year  GDP_Per_Capita\n",
       "5             Afghanistan  2014     2102.385234\n",
       "23                Albania  2014    11623.866680\n",
       "53                Algeria  2014    11512.705410\n",
       "83                 Angola  2014     8239.828837\n",
       "113   Antigua and Barbuda  2014    18104.241470\n",
       "...                   ...   ...             ...\n",
       "6727              Vietnam  2014     6098.489609\n",
       "6757   West Bank and Gaza  2014     5967.073437\n",
       "6783                World  2014    15189.648510\n",
       "6813               Zambia  2014     3450.046561\n",
       "6843             Zimbabwe  2014     2955.240287\n",
       "\n",
       "[238 rows x 3 columns]"
      ]
     },
     "execution_count": 26,
     "metadata": {},
     "output_type": "execute_result"
    }
   ],
   "source": [
    "gdp_2014"
   ]
  },
  {
   "cell_type": "code",
   "execution_count": 27,
   "id": "1e024d13",
   "metadata": {},
   "outputs": [],
   "source": [
    "# Use `.describe()` to find the summary statistics for GDP per capita in 2014. "
   ]
  },
  {
   "cell_type": "code",
   "execution_count": 28,
   "id": "e45c3bd0",
   "metadata": {},
   "outputs": [
    {
     "data": {
      "text/plain": [
       "count       238.000000\n",
       "mean      19766.710347\n",
       "std       20983.869621\n",
       "min         822.610458\n",
       "25%        4753.110935\n",
       "50%       12209.385755\n",
       "75%       26803.610475\n",
       "max      156514.133800\n",
       "Name: GDP_Per_Capita, dtype: float64"
      ]
     },
     "execution_count": 28,
     "metadata": {},
     "output_type": "execute_result"
    }
   ],
   "source": [
    "gdp_2014[\"GDP_Per_Capita\"].describe()"
   ]
  },
  {
   "cell_type": "code",
   "execution_count": 29,
   "id": "18e73cd4",
   "metadata": {},
   "outputs": [],
   "source": [
    "#Create a histogram of GDP Per Capita numbers for 2014 (you may wish to adjust the number of bins for your histogram). How would you describe the shape of the distribution?"
   ]
  },
  {
   "cell_type": "code",
   "execution_count": 30,
   "id": "62ba5d52",
   "metadata": {},
   "outputs": [
    {
     "data": {
      "text/plain": [
       "<AxesSubplot:>"
      ]
     },
     "execution_count": 30,
     "metadata": {},
     "output_type": "execute_result"
    },
    {
     "data": {
      "image/png": "[encoded data removed]",
      "text/plain": [
       "<Figure size 432x288 with 1 Axes>"
      ]
     },
     "metadata": {
      "needs_background": "light"
     },
     "output_type": "display_data"
    }
   ],
   "source": [
    "gdp_2014[\"GDP_Per_Capita\"].hist(bins = 10)"
   ]
  },
  {
   "cell_type": "code",
   "execution_count": 31,
   "id": "30be18bf",
   "metadata": {},
   "outputs": [],
   "source": [
    "#Histogram is right skewed"
   ]
  },
  {
   "cell_type": "code",
   "execution_count": 32,
   "id": "d5bac87d",
   "metadata": {},
   "outputs": [],
   "source": [
    "#Find the top 5 counties and bottom 5 countries by GDP per capita in 2014."
   ]
  },
  {
   "cell_type": "code",
   "execution_count": 33,
   "id": "4d2d2c3e",
   "metadata": {},
   "outputs": [],
   "source": [
    "gdp_sorted = gdp_2014.sort_values(\"GDP_Per_Capita\", ascending = False)"
   ]
  },
  {
   "cell_type": "code",
   "execution_count": 34,
   "id": "c26dfa06",
   "metadata": {},
   "outputs": [
    {
     "data": {
      "text/html": [
       "<div>\n",
       "<style scoped>\n",
       "    .dataframe tbody tr th:only-of-type {\n",
       "        vertical-align: middle;\n",
       "    }\n",
       "\n",
       "    .dataframe tbody tr th {\n",
       "        vertical-align: top;\n",
       "    }\n",
       "\n",
       "    .dataframe thead th {\n",
       "        text-align: right;\n",
       "    }\n",
       "</style>\n",
       "<table border=\"1\" class=\"dataframe\">\n",
       "  <thead>\n",
       "    <tr style=\"text-align: right;\">\n",
       "      <th></th>\n",
       "      <th>Country</th>\n",
       "      <th>Year</th>\n",
       "      <th>GDP_Per_Capita</th>\n",
       "    </tr>\n",
       "  </thead>\n",
       "  <tbody>\n",
       "    <tr>\n",
       "      <th>3721</th>\n",
       "      <td>Macao SAR, China</td>\n",
       "      <td>2014</td>\n",
       "      <td>156514.133800</td>\n",
       "    </tr>\n",
       "    <tr>\n",
       "      <th>3691</th>\n",
       "      <td>Luxembourg</td>\n",
       "      <td>2014</td>\n",
       "      <td>108760.916000</td>\n",
       "    </tr>\n",
       "    <tr>\n",
       "      <th>5138</th>\n",
       "      <td>Qatar</td>\n",
       "      <td>2014</td>\n",
       "      <td>95578.416970</td>\n",
       "    </tr>\n",
       "    <tr>\n",
       "      <th>5464</th>\n",
       "      <td>Singapore</td>\n",
       "      <td>2014</td>\n",
       "      <td>87808.663160</td>\n",
       "    </tr>\n",
       "    <tr>\n",
       "      <th>561</th>\n",
       "      <td>Bermuda</td>\n",
       "      <td>2014</td>\n",
       "      <td>77361.104880</td>\n",
       "    </tr>\n",
       "    <tr>\n",
       "      <th>...</th>\n",
       "      <td>...</td>\n",
       "      <td>...</td>\n",
       "      <td>...</td>\n",
       "    </tr>\n",
       "    <tr>\n",
       "      <th>4528</th>\n",
       "      <td>Niger</td>\n",
       "      <td>2014</td>\n",
       "      <td>1127.615541</td>\n",
       "    </tr>\n",
       "    <tr>\n",
       "      <th>1422</th>\n",
       "      <td>Dem. Rep. Congo</td>\n",
       "      <td>2014</td>\n",
       "      <td>1029.790785</td>\n",
       "    </tr>\n",
       "    <tr>\n",
       "      <th>3781</th>\n",
       "      <td>Malawi</td>\n",
       "      <td>2014</td>\n",
       "      <td>1027.208496</td>\n",
       "    </tr>\n",
       "    <tr>\n",
       "      <th>827</th>\n",
       "      <td>Burundi</td>\n",
       "      <td>2014</td>\n",
       "      <td>886.235777</td>\n",
       "    </tr>\n",
       "    <tr>\n",
       "      <th>1047</th>\n",
       "      <td>Central African Republic</td>\n",
       "      <td>2014</td>\n",
       "      <td>822.610458</td>\n",
       "    </tr>\n",
       "  </tbody>\n",
       "</table>\n",
       "<p>238 rows × 3 columns</p>\n",
       "</div>"
      ],
      "text/plain": [
       "                       Country  Year  GDP_Per_Capita\n",
       "3721          Macao SAR, China  2014   156514.133800\n",
       "3691                Luxembourg  2014   108760.916000\n",
       "5138                     Qatar  2014    95578.416970\n",
       "5464                 Singapore  2014    87808.663160\n",
       "561                    Bermuda  2014    77361.104880\n",
       "...                        ...   ...             ...\n",
       "4528                     Niger  2014     1127.615541\n",
       "1422           Dem. Rep. Congo  2014     1029.790785\n",
       "3781                    Malawi  2014     1027.208496\n",
       "827                    Burundi  2014      886.235777\n",
       "1047  Central African Republic  2014      822.610458\n",
       "\n",
       "[238 rows x 3 columns]"
      ]
     },
     "execution_count": 34,
     "metadata": {},
     "output_type": "execute_result"
    }
   ],
   "source": [
    "gdp_sorted"
   ]
  },
  {
   "cell_type": "code",
   "execution_count": 35,
   "id": "0344a427",
   "metadata": {},
   "outputs": [
    {
     "name": "stdout",
     "output_type": "stream",
     "text": [
      "               Country  GDP_Per_Capita\n",
      "3721  Macao SAR, China    156514.13380\n",
      "3691        Luxembourg    108760.91600\n",
      "5138             Qatar     95578.41697\n",
      "5464         Singapore     87808.66316\n",
      "561            Bermuda     77361.10488\n"
     ]
    }
   ],
   "source": [
    "print(gdp_sorted[:5][[\"Country\",\"GDP_Per_Capita\"]])"
   ]
  },
  {
   "cell_type": "code",
   "execution_count": 36,
   "id": "c5000bda",
   "metadata": {},
   "outputs": [
    {
     "name": "stdout",
     "output_type": "stream",
     "text": [
      "                       Country  GDP_Per_Capita\n",
      "4528                     Niger     1127.615541\n",
      "1422           Dem. Rep. Congo     1029.790785\n",
      "3781                    Malawi     1027.208496\n",
      "827                    Burundi      886.235777\n",
      "1047  Central African Republic      822.610458\n"
     ]
    }
   ],
   "source": [
    "print(gdp_sorted[-5:][[\"Country\",\"GDP_Per_Capita\"]])"
   ]
  },
  {
   "cell_type": "code",
   "execution_count": 37,
   "id": "5523d268",
   "metadata": {},
   "outputs": [],
   "source": [
    "#Now, return to the full dataset, `gdp_df`. Pivot the data for 1990 and 2017 (using the pandas `.pivot_table()` method or another method) so that each row corresponds to a country, each column corresponds to a year, and the values in the table give the GDP_Per_Capita amount. Drop any rows that are missing values for either 1990 or 2017. Save the result to a dataframe named `gdp_pivoted`."
   ]
  },
  {
   "cell_type": "code",
   "execution_count": 38,
   "id": "3785966e",
   "metadata": {},
   "outputs": [],
   "source": [
    "gdp_pivoted = gdp_df[gdp_df[\"Year\"].isin([1990,2017])].pivot_table(values = 'GDP_Per_Capita', index = \"Country\", columns = \"Year\")"
   ]
  },
  {
   "cell_type": "code",
   "execution_count": 39,
   "id": "5b83778f",
   "metadata": {},
   "outputs": [
    {
     "data": {
      "text/html": [
       "<div>\n",
       "<style scoped>\n",
       "    .dataframe tbody tr th:only-of-type {\n",
       "        vertical-align: middle;\n",
       "    }\n",
       "\n",
       "    .dataframe tbody tr th {\n",
       "        vertical-align: top;\n",
       "    }\n",
       "\n",
       "    .dataframe thead th {\n",
       "        text-align: right;\n",
       "    }\n",
       "</style>\n",
       "<table border=\"1\" class=\"dataframe\">\n",
       "  <thead>\n",
       "    <tr style=\"text-align: right;\">\n",
       "      <th>Year</th>\n",
       "      <th>1990</th>\n",
       "      <th>2017</th>\n",
       "    </tr>\n",
       "    <tr>\n",
       "      <th>Country</th>\n",
       "      <th></th>\n",
       "      <th></th>\n",
       "    </tr>\n",
       "  </thead>\n",
       "  <tbody>\n",
       "    <tr>\n",
       "      <th>Afghanistan</th>\n",
       "      <td>NaN</td>\n",
       "      <td>2058.383832</td>\n",
       "    </tr>\n",
       "    <tr>\n",
       "      <th>Albania</th>\n",
       "      <td>4842.734635</td>\n",
       "      <td>12811.759440</td>\n",
       "    </tr>\n",
       "    <tr>\n",
       "      <th>Algeria</th>\n",
       "      <td>8746.352901</td>\n",
       "      <td>11737.409350</td>\n",
       "    </tr>\n",
       "    <tr>\n",
       "      <th>Angola</th>\n",
       "      <td>5783.429064</td>\n",
       "      <td>7310.901738</td>\n",
       "    </tr>\n",
       "    <tr>\n",
       "      <th>Antigua and Barbuda</th>\n",
       "      <td>15459.551680</td>\n",
       "      <td>19840.076120</td>\n",
       "    </tr>\n",
       "    <tr>\n",
       "      <th>...</th>\n",
       "      <td>...</td>\n",
       "      <td>...</td>\n",
       "    </tr>\n",
       "    <tr>\n",
       "      <th>Vietnam</th>\n",
       "      <td>1673.249634</td>\n",
       "      <td>7155.745829</td>\n",
       "    </tr>\n",
       "    <tr>\n",
       "      <th>West Bank and Gaza</th>\n",
       "      <td>NaN</td>\n",
       "      <td>6401.740891</td>\n",
       "    </tr>\n",
       "    <tr>\n",
       "      <th>World</th>\n",
       "      <td>9680.269697</td>\n",
       "      <td>16253.385520</td>\n",
       "    </tr>\n",
       "    <tr>\n",
       "      <th>Zambia</th>\n",
       "      <td>2190.182814</td>\n",
       "      <td>3485.005238</td>\n",
       "    </tr>\n",
       "    <tr>\n",
       "      <th>Zimbabwe</th>\n",
       "      <td>3324.348171</td>\n",
       "      <td>3028.245976</td>\n",
       "    </tr>\n",
       "  </tbody>\n",
       "</table>\n",
       "<p>238 rows × 2 columns</p>\n",
       "</div>"
      ],
      "text/plain": [
       "Year                         1990          2017\n",
       "Country                                        \n",
       "Afghanistan                   NaN   2058.383832\n",
       "Albania               4842.734635  12811.759440\n",
       "Algeria               8746.352901  11737.409350\n",
       "Angola                5783.429064   7310.901738\n",
       "Antigua and Barbuda  15459.551680  19840.076120\n",
       "...                           ...           ...\n",
       "Vietnam               1673.249634   7155.745829\n",
       "West Bank and Gaza            NaN   6401.740891\n",
       "World                 9680.269697  16253.385520\n",
       "Zambia                2190.182814   3485.005238\n",
       "Zimbabwe              3324.348171   3028.245976\n",
       "\n",
       "[238 rows x 2 columns]"
      ]
     },
     "execution_count": 39,
     "metadata": {},
     "output_type": "execute_result"
    }
   ],
   "source": [
    "gdp_pivoted"
   ]
  },
  {
   "cell_type": "code",
   "execution_count": 40,
   "id": "50f51aa9",
   "metadata": {},
   "outputs": [],
   "source": [
    "gdp_pivoted = gdp_pivoted.dropna()"
   ]
  },
  {
   "cell_type": "code",
   "execution_count": 41,
   "id": "9616c9c9",
   "metadata": {},
   "outputs": [
    {
     "data": {
      "text/html": [
       "<div>\n",
       "<style scoped>\n",
       "    .dataframe tbody tr th:only-of-type {\n",
       "        vertical-align: middle;\n",
       "    }\n",
       "\n",
       "    .dataframe tbody tr th {\n",
       "        vertical-align: top;\n",
       "    }\n",
       "\n",
       "    .dataframe thead th {\n",
       "        text-align: right;\n",
       "    }\n",
       "</style>\n",
       "<table border=\"1\" class=\"dataframe\">\n",
       "  <thead>\n",
       "    <tr style=\"text-align: right;\">\n",
       "      <th>Year</th>\n",
       "      <th>1990</th>\n",
       "      <th>2017</th>\n",
       "    </tr>\n",
       "    <tr>\n",
       "      <th>Country</th>\n",
       "      <th></th>\n",
       "      <th></th>\n",
       "    </tr>\n",
       "  </thead>\n",
       "  <tbody>\n",
       "    <tr>\n",
       "      <th>Albania</th>\n",
       "      <td>4842.734635</td>\n",
       "      <td>12811.759440</td>\n",
       "    </tr>\n",
       "    <tr>\n",
       "      <th>Algeria</th>\n",
       "      <td>8746.352901</td>\n",
       "      <td>11737.409350</td>\n",
       "    </tr>\n",
       "    <tr>\n",
       "      <th>Angola</th>\n",
       "      <td>5783.429064</td>\n",
       "      <td>7310.901738</td>\n",
       "    </tr>\n",
       "    <tr>\n",
       "      <th>Antigua and Barbuda</th>\n",
       "      <td>15459.551680</td>\n",
       "      <td>19840.076120</td>\n",
       "    </tr>\n",
       "    <tr>\n",
       "      <th>Arab World</th>\n",
       "      <td>9694.667544</td>\n",
       "      <td>14555.474920</td>\n",
       "    </tr>\n",
       "    <tr>\n",
       "      <th>...</th>\n",
       "      <td>...</td>\n",
       "      <td>...</td>\n",
       "    </tr>\n",
       "    <tr>\n",
       "      <th>Vanuatu</th>\n",
       "      <td>2888.309393</td>\n",
       "      <td>3116.645194</td>\n",
       "    </tr>\n",
       "    <tr>\n",
       "      <th>Vietnam</th>\n",
       "      <td>1673.249634</td>\n",
       "      <td>7155.745829</td>\n",
       "    </tr>\n",
       "    <tr>\n",
       "      <th>World</th>\n",
       "      <td>9680.269697</td>\n",
       "      <td>16253.385520</td>\n",
       "    </tr>\n",
       "    <tr>\n",
       "      <th>Zambia</th>\n",
       "      <td>2190.182814</td>\n",
       "      <td>3485.005238</td>\n",
       "    </tr>\n",
       "    <tr>\n",
       "      <th>Zimbabwe</th>\n",
       "      <td>3324.348171</td>\n",
       "      <td>3028.245976</td>\n",
       "    </tr>\n",
       "  </tbody>\n",
       "</table>\n",
       "<p>207 rows × 2 columns</p>\n",
       "</div>"
      ],
      "text/plain": [
       "Year                         1990          2017\n",
       "Country                                        \n",
       "Albania               4842.734635  12811.759440\n",
       "Algeria               8746.352901  11737.409350\n",
       "Angola                5783.429064   7310.901738\n",
       "Antigua and Barbuda  15459.551680  19840.076120\n",
       "Arab World            9694.667544  14555.474920\n",
       "...                           ...           ...\n",
       "Vanuatu               2888.309393   3116.645194\n",
       "Vietnam               1673.249634   7155.745829\n",
       "World                 9680.269697  16253.385520\n",
       "Zambia                2190.182814   3485.005238\n",
       "Zimbabwe              3324.348171   3028.245976\n",
       "\n",
       "[207 rows x 2 columns]"
      ]
     },
     "execution_count": 41,
     "metadata": {},
     "output_type": "execute_result"
    }
   ],
   "source": [
    "gdp_pivoted"
   ]
  },
  {
   "cell_type": "code",
   "execution_count": 42,
   "id": "f4a9167f",
   "metadata": {},
   "outputs": [],
   "source": [
    "#Create a new column in `gdp_pivoted` named `Percent_Change`. This column should contain the percent change in GDP_Per_Capita from 1990 to 2017. Hint: Percent change is calculated as 100*(New Value - Old Value) / Old Value."
   ]
  },
  {
   "cell_type": "code",
   "execution_count": 43,
   "id": "27fdcf28",
   "metadata": {},
   "outputs": [
    {
     "name": "stderr",
     "output_type": "stream",
     "text": [
      "<ipython-input-43-c36042363769>:1: SettingWithCopyWarning: \n",
      "A value is trying to be set on a copy of a slice from a DataFrame.\n",
      "Try using .loc[row_indexer,col_indexer] = value instead\n",
      "\n",
      "See the caveats in the documentation: https://pandas.pydata.org/pandas-docs/stable/user_guide/indexing.html#returning-a-view-versus-a-copy\n",
      "  gdp_pivoted[\"Percent_Change\"] = 100*(gdp_pivoted[2017] - gdp_pivoted[1990]) / gdp_pivoted[1990]\n"
     ]
    }
   ],
   "source": [
    "gdp_pivoted[\"Percent_Change\"] = 100*(gdp_pivoted[2017] - gdp_pivoted[1990]) / gdp_pivoted[1990]\n"
   ]
  },
  {
   "cell_type": "code",
   "execution_count": 44,
   "id": "a77e1dd9",
   "metadata": {},
   "outputs": [
    {
     "data": {
      "text/html": [
       "<div>\n",
       "<style scoped>\n",
       "    .dataframe tbody tr th:only-of-type {\n",
       "        vertical-align: middle;\n",
       "    }\n",
       "\n",
       "    .dataframe tbody tr th {\n",
       "        vertical-align: top;\n",
       "    }\n",
       "\n",
       "    .dataframe thead th {\n",
       "        text-align: right;\n",
       "    }\n",
       "</style>\n",
       "<table border=\"1\" class=\"dataframe\">\n",
       "  <thead>\n",
       "    <tr style=\"text-align: right;\">\n",
       "      <th>Year</th>\n",
       "      <th>1990</th>\n",
       "      <th>2017</th>\n",
       "      <th>Percent_Change</th>\n",
       "    </tr>\n",
       "    <tr>\n",
       "      <th>Country</th>\n",
       "      <th></th>\n",
       "      <th></th>\n",
       "      <th></th>\n",
       "    </tr>\n",
       "  </thead>\n",
       "  <tbody>\n",
       "    <tr>\n",
       "      <th>Albania</th>\n",
       "      <td>4842.734635</td>\n",
       "      <td>12811.759440</td>\n",
       "      <td>164.556297</td>\n",
       "    </tr>\n",
       "    <tr>\n",
       "      <th>Algeria</th>\n",
       "      <td>8746.352901</td>\n",
       "      <td>11737.409350</td>\n",
       "      <td>34.197756</td>\n",
       "    </tr>\n",
       "    <tr>\n",
       "      <th>Angola</th>\n",
       "      <td>5783.429064</td>\n",
       "      <td>7310.901738</td>\n",
       "      <td>26.411194</td>\n",
       "    </tr>\n",
       "    <tr>\n",
       "      <th>Antigua and Barbuda</th>\n",
       "      <td>15459.551680</td>\n",
       "      <td>19840.076120</td>\n",
       "      <td>28.335391</td>\n",
       "    </tr>\n",
       "    <tr>\n",
       "      <th>Arab World</th>\n",
       "      <td>9694.667544</td>\n",
       "      <td>14555.474920</td>\n",
       "      <td>50.138980</td>\n",
       "    </tr>\n",
       "    <tr>\n",
       "      <th>...</th>\n",
       "      <td>...</td>\n",
       "      <td>...</td>\n",
       "      <td>...</td>\n",
       "    </tr>\n",
       "    <tr>\n",
       "      <th>Vanuatu</th>\n",
       "      <td>2888.309393</td>\n",
       "      <td>3116.645194</td>\n",
       "      <td>7.905517</td>\n",
       "    </tr>\n",
       "    <tr>\n",
       "      <th>Vietnam</th>\n",
       "      <td>1673.249634</td>\n",
       "      <td>7155.745829</td>\n",
       "      <td>327.655604</td>\n",
       "    </tr>\n",
       "    <tr>\n",
       "      <th>World</th>\n",
       "      <td>9680.269697</td>\n",
       "      <td>16253.385520</td>\n",
       "      <td>67.902197</td>\n",
       "    </tr>\n",
       "    <tr>\n",
       "      <th>Zambia</th>\n",
       "      <td>2190.182814</td>\n",
       "      <td>3485.005238</td>\n",
       "      <td>59.119377</td>\n",
       "    </tr>\n",
       "    <tr>\n",
       "      <th>Zimbabwe</th>\n",
       "      <td>3324.348171</td>\n",
       "      <td>3028.245976</td>\n",
       "      <td>-8.907075</td>\n",
       "    </tr>\n",
       "  </tbody>\n",
       "</table>\n",
       "<p>207 rows × 3 columns</p>\n",
       "</div>"
      ],
      "text/plain": [
       "Year                         1990          2017  Percent_Change\n",
       "Country                                                        \n",
       "Albania               4842.734635  12811.759440      164.556297\n",
       "Algeria               8746.352901  11737.409350       34.197756\n",
       "Angola                5783.429064   7310.901738       26.411194\n",
       "Antigua and Barbuda  15459.551680  19840.076120       28.335391\n",
       "Arab World            9694.667544  14555.474920       50.138980\n",
       "...                           ...           ...             ...\n",
       "Vanuatu               2888.309393   3116.645194        7.905517\n",
       "Vietnam               1673.249634   7155.745829      327.655604\n",
       "World                 9680.269697  16253.385520       67.902197\n",
       "Zambia                2190.182814   3485.005238       59.119377\n",
       "Zimbabwe              3324.348171   3028.245976       -8.907075\n",
       "\n",
       "[207 rows x 3 columns]"
      ]
     },
     "execution_count": 44,
     "metadata": {},
     "output_type": "execute_result"
    }
   ],
   "source": [
    "gdp_pivoted"
   ]
  },
  {
   "cell_type": "code",
   "execution_count": 45,
   "id": "d648a9d1",
   "metadata": {},
   "outputs": [],
   "source": [
    "#How many countries experienced a negative percent change in GDP per capita from 1990 to 2017?"
   ]
  },
  {
   "cell_type": "code",
   "execution_count": 46,
   "id": "993d22d2",
   "metadata": {},
   "outputs": [
    {
     "data": {
      "text/plain": [
       "Year\n",
       "1990              17\n",
       "2017              17\n",
       "Percent_Change    17\n",
       "dtype: int64"
      ]
     },
     "execution_count": 46,
     "metadata": {},
     "output_type": "execute_result"
    }
   ],
   "source": [
    "gdp_pivoted[gdp_pivoted[\"Percent_Change\"] < 0].count()"
   ]
  },
  {
   "cell_type": "code",
   "execution_count": 47,
   "id": "6d36cb7a",
   "metadata": {},
   "outputs": [],
   "source": [
    "#17 countries experienced a negative percent change in GDP"
   ]
  },
  {
   "cell_type": "code",
   "execution_count": 48,
   "id": "9e1cc7d6",
   "metadata": {},
   "outputs": [],
   "source": [
    "#Which country had the highest % change in GDP per capita? Create a line plot showing this country's GDP per capita for all years from 1990 to 2017. Create another showing the country with the second highest % change in GDP. How do the trends in these countries compare?"
   ]
  },
  {
   "cell_type": "code",
   "execution_count": 49,
   "id": "8e6b8f6c",
   "metadata": {},
   "outputs": [
    {
     "name": "stdout",
     "output_type": "stream",
     "text": [
      "Year                                                1990          2017  \\\n",
      "Country                                                                  \n",
      "Equatorial Guinea                            1039.985049  22551.083250   \n",
      "China                                        1423.896348  14344.421240   \n",
      "Myanmar                                       619.645145   4739.910118   \n",
      "East Asia & Pacific (excluding high income)  2173.223895  12986.322230   \n",
      "East Asia & Pacific (IDA & IBRD)             2196.950288  13123.151790   \n",
      "\n",
      "Year                                         Percent_Change  \n",
      "Country                                                      \n",
      "Equatorial Guinea                               2068.404562  \n",
      "China                                            907.406281  \n",
      "Myanmar                                          664.939443  \n",
      "East Asia & Pacific (excluding high income)      497.560254  \n",
      "East Asia & Pacific (IDA & IBRD)                 497.334945  \n"
     ]
    }
   ],
   "source": [
    "print(gdp_pivoted.sort_values(\"Percent_Change\", ascending = False).head())"
   ]
  },
  {
   "cell_type": "code",
   "execution_count": 50,
   "id": "5e6193fa",
   "metadata": {},
   "outputs": [
    {
     "data": {
      "text/plain": [
       "<AxesSubplot:xlabel='Year'>"
      ]
     },
     "execution_count": 50,
     "metadata": {},
     "output_type": "execute_result"
    },
    {
     "data": {
      "image/png": "[encoded data removed]",
      "text/plain": [
       "<Figure size 432x288 with 1 Axes>"
      ]
     },
     "metadata": {
      "needs_background": "light"
     },
     "output_type": "display_data"
    },
    {
     "data": {
      "image/png": "[encoded data removed]",
      "text/plain": [
       "<Figure size 432x288 with 1 Axes>"
      ]
     },
     "metadata": {
      "needs_background": "light"
     },
     "output_type": "display_data"
    }
   ],
   "source": [
    "gdp_df[gdp_df[\"Country\"]==\"Equatorial Guinea\"].plot(x = \"Year\", y = \"GDP_Per_Capita\", kind = \"line\")\n",
    "gdp_df[gdp_df[\"Country\"] == \"China\"].plot(x = \"Year\", y = \"GDP_Per_Capita\", kind = \"line\")\n"
   ]
  },
  {
   "cell_type": "code",
   "execution_count": 51,
   "id": "933a4edc",
   "metadata": {},
   "outputs": [],
   "source": [
    "#Read in continents.csv contained in the `data` folder into a new dataframe called `continents`. We will be using this dataframe to add a new column to our dataset."
   ]
  },
  {
   "cell_type": "code",
   "execution_count": 52,
   "id": "3df94a3c",
   "metadata": {},
   "outputs": [],
   "source": [
    "continents = pd.read_csv(\"../data/continents.csv\")"
   ]
  },
  {
   "cell_type": "code",
   "execution_count": 53,
   "id": "f6001c8e",
   "metadata": {},
   "outputs": [
    {
     "data": {
      "text/html": [
       "<div>\n",
       "<style scoped>\n",
       "    .dataframe tbody tr th:only-of-type {\n",
       "        vertical-align: middle;\n",
       "    }\n",
       "\n",
       "    .dataframe tbody tr th {\n",
       "        vertical-align: top;\n",
       "    }\n",
       "\n",
       "    .dataframe thead th {\n",
       "        text-align: right;\n",
       "    }\n",
       "</style>\n",
       "<table border=\"1\" class=\"dataframe\">\n",
       "  <thead>\n",
       "    <tr style=\"text-align: right;\">\n",
       "      <th></th>\n",
       "      <th>Continent</th>\n",
       "      <th>Country</th>\n",
       "    </tr>\n",
       "  </thead>\n",
       "  <tbody>\n",
       "    <tr>\n",
       "      <th>0</th>\n",
       "      <td>Asia</td>\n",
       "      <td>Afghanistan</td>\n",
       "    </tr>\n",
       "    <tr>\n",
       "      <th>1</th>\n",
       "      <td>Europe</td>\n",
       "      <td>Albania</td>\n",
       "    </tr>\n",
       "    <tr>\n",
       "      <th>2</th>\n",
       "      <td>Africa</td>\n",
       "      <td>Algeria</td>\n",
       "    </tr>\n",
       "    <tr>\n",
       "      <th>3</th>\n",
       "      <td>Europe</td>\n",
       "      <td>Andorra</td>\n",
       "    </tr>\n",
       "    <tr>\n",
       "      <th>4</th>\n",
       "      <td>Africa</td>\n",
       "      <td>Angola</td>\n",
       "    </tr>\n",
       "  </tbody>\n",
       "</table>\n",
       "</div>"
      ],
      "text/plain": [
       "  Continent      Country\n",
       "0      Asia  Afghanistan\n",
       "1    Europe      Albania\n",
       "2    Africa      Algeria\n",
       "3    Europe      Andorra\n",
       "4    Africa       Angola"
      ]
     },
     "execution_count": 53,
     "metadata": {},
     "output_type": "execute_result"
    }
   ],
   "source": [
    "continents.head()"
   ]
  },
  {
   "cell_type": "code",
   "execution_count": 54,
   "id": "5fe660da",
   "metadata": {},
   "outputs": [],
   "source": [
    "#Merge gdp_df and continents. Keep only the countries that appear in both data frames. Save the result back to gdp_df."
   ]
  },
  {
   "cell_type": "code",
   "execution_count": 55,
   "id": "a669415e",
   "metadata": {},
   "outputs": [],
   "source": [
    "gdp_df = pd.merge(left = continents, right = gdp_df, on = \"Country\")"
   ]
  },
  {
   "cell_type": "code",
   "execution_count": 56,
   "id": "0d00c64f",
   "metadata": {},
   "outputs": [],
   "source": [
    "#Determine the number of countries per continent. Create a bar chart showing this."
   ]
  },
  {
   "cell_type": "code",
   "execution_count": 57,
   "id": "04c779c6",
   "metadata": {},
   "outputs": [],
   "source": [
    "countries_per_continent = gdp_df.drop_duplicates(subset = \"Country\")"
   ]
  },
  {
   "cell_type": "code",
   "execution_count": 58,
   "id": "8c7a06c1",
   "metadata": {},
   "outputs": [
    {
     "data": {
      "text/plain": [
       "<AxesSubplot:>"
      ]
     },
     "execution_count": 58,
     "metadata": {},
     "output_type": "execute_result"
    },
    {
     "data": {
      "image/png": "[encoded data removed]",
      "text/plain": [
       "<Figure size 432x288 with 1 Axes>"
      ]
     },
     "metadata": {
      "needs_background": "light"
     },
     "output_type": "display_data"
    }
   ],
   "source": [
    "countries_per_continent[\"Continent\"].value_counts().plot(kind = \"bar\")"
   ]
  },
  {
   "cell_type": "code",
   "execution_count": 59,
   "id": "31202638",
   "metadata": {},
   "outputs": [],
   "source": [
    "#Create a seaborn boxplot showing GDP per capita in 2014 split out by continent. What do you notice?"
   ]
  },
  {
   "cell_type": "code",
   "execution_count": 60,
   "id": "8957fe71",
   "metadata": {},
   "outputs": [
    {
     "data": {
      "text/plain": [
       "<AxesSubplot:xlabel='Continent', ylabel='GDP_Per_Capita'>"
      ]
     },
     "execution_count": 60,
     "metadata": {},
     "output_type": "execute_result"
    },
    {
     "data": {
      "image/png": "[encoded data removed]",
      "text/plain": [
       "<Figure size 432x288 with 1 Axes>"
      ]
     },
     "metadata": {
      "needs_background": "light"
     },
     "output_type": "display_data"
    }
   ],
   "source": [
    "sns.boxplot(x = \"Continent\", y= \"GDP_Per_Capita\", data = gdp_df[gdp_df[\"Year\"]== 2014])"
   ]
  },
  {
   "cell_type": "code",
   "execution_count": 61,
   "id": "ca5d936c",
   "metadata": {},
   "outputs": [],
   "source": [
    "#Read in internet_use.csv into a DataFrame called `internet_df`. You will most likely get an error message when doing this - figure out what is going wrong and fix it. Take a look at the first and last five rows and make any corrections to your `read_csv()` call to fix this. Again, **do not** modify the original datasets."
   ]
  },
  {
   "cell_type": "code",
   "execution_count": 62,
   "id": "a3cadf61",
   "metadata": {},
   "outputs": [],
   "source": [
    "internet_df = pd.read_csv(\"../data/internet_use.csv\", skipfooter = 182, engine = 'python')"
   ]
  },
  {
   "cell_type": "code",
   "execution_count": 63,
   "id": "29e1915e",
   "metadata": {},
   "outputs": [
    {
     "data": {
      "text/html": [
       "<div>\n",
       "<style scoped>\n",
       "    .dataframe tbody tr th:only-of-type {\n",
       "        vertical-align: middle;\n",
       "    }\n",
       "\n",
       "    .dataframe tbody tr th {\n",
       "        vertical-align: top;\n",
       "    }\n",
       "\n",
       "    .dataframe thead th {\n",
       "        text-align: right;\n",
       "    }\n",
       "</style>\n",
       "<table border=\"1\" class=\"dataframe\">\n",
       "  <thead>\n",
       "    <tr style=\"text-align: right;\">\n",
       "      <th></th>\n",
       "      <th>Country or Area</th>\n",
       "      <th>Year</th>\n",
       "      <th>Value</th>\n",
       "      <th>Value Footnotes</th>\n",
       "      <th>Unnamed: 4</th>\n",
       "      <th>Unnamed: 5</th>\n",
       "    </tr>\n",
       "  </thead>\n",
       "  <tbody>\n",
       "    <tr>\n",
       "      <th>0</th>\n",
       "      <td>Afghanistan</td>\n",
       "      <td>2014</td>\n",
       "      <td>6.390000</td>\n",
       "      <td>NaN</td>\n",
       "      <td>NaN</td>\n",
       "      <td>NaN</td>\n",
       "    </tr>\n",
       "    <tr>\n",
       "      <th>1</th>\n",
       "      <td>Afghanistan</td>\n",
       "      <td>2013</td>\n",
       "      <td>5.900000</td>\n",
       "      <td>NaN</td>\n",
       "      <td>NaN</td>\n",
       "      <td>NaN</td>\n",
       "    </tr>\n",
       "    <tr>\n",
       "      <th>2</th>\n",
       "      <td>Afghanistan</td>\n",
       "      <td>2012</td>\n",
       "      <td>5.454545</td>\n",
       "      <td>NaN</td>\n",
       "      <td>NaN</td>\n",
       "      <td>NaN</td>\n",
       "    </tr>\n",
       "    <tr>\n",
       "      <th>3</th>\n",
       "      <td>Afghanistan</td>\n",
       "      <td>2011</td>\n",
       "      <td>5.000000</td>\n",
       "      <td>NaN</td>\n",
       "      <td>NaN</td>\n",
       "      <td>NaN</td>\n",
       "    </tr>\n",
       "    <tr>\n",
       "      <th>4</th>\n",
       "      <td>Afghanistan</td>\n",
       "      <td>2010</td>\n",
       "      <td>4.000000</td>\n",
       "      <td>NaN</td>\n",
       "      <td>NaN</td>\n",
       "      <td>NaN</td>\n",
       "    </tr>\n",
       "  </tbody>\n",
       "</table>\n",
       "</div>"
      ],
      "text/plain": [
       "  Country or Area  Year     Value  Value Footnotes  Unnamed: 4  Unnamed: 5\n",
       "0     Afghanistan  2014  6.390000              NaN         NaN         NaN\n",
       "1     Afghanistan  2013  5.900000              NaN         NaN         NaN\n",
       "2     Afghanistan  2012  5.454545              NaN         NaN         NaN\n",
       "3     Afghanistan  2011  5.000000              NaN         NaN         NaN\n",
       "4     Afghanistan  2010  4.000000              NaN         NaN         NaN"
      ]
     },
     "execution_count": 63,
     "metadata": {},
     "output_type": "execute_result"
    }
   ],
   "source": [
    "internet_df.head(5)"
   ]
  },
  {
   "cell_type": "code",
   "execution_count": 64,
   "id": "ca569fa9",
   "metadata": {},
   "outputs": [
    {
     "data": {
      "text/html": [
       "<div>\n",
       "<style scoped>\n",
       "    .dataframe tbody tr th:only-of-type {\n",
       "        vertical-align: middle;\n",
       "    }\n",
       "\n",
       "    .dataframe tbody tr th {\n",
       "        vertical-align: top;\n",
       "    }\n",
       "\n",
       "    .dataframe thead th {\n",
       "        text-align: right;\n",
       "    }\n",
       "</style>\n",
       "<table border=\"1\" class=\"dataframe\">\n",
       "  <thead>\n",
       "    <tr style=\"text-align: right;\">\n",
       "      <th></th>\n",
       "      <th>Country or Area</th>\n",
       "      <th>Year</th>\n",
       "      <th>Value</th>\n",
       "      <th>Value Footnotes</th>\n",
       "      <th>Unnamed: 4</th>\n",
       "      <th>Unnamed: 5</th>\n",
       "    </tr>\n",
       "  </thead>\n",
       "  <tbody>\n",
       "    <tr>\n",
       "      <th>4490</th>\n",
       "      <td>Zimbabwe</td>\n",
       "      <td>1997</td>\n",
       "      <td>0.033080</td>\n",
       "      <td>NaN</td>\n",
       "      <td>NaN</td>\n",
       "      <td>NaN</td>\n",
       "    </tr>\n",
       "    <tr>\n",
       "      <th>4491</th>\n",
       "      <td>Zimbabwe</td>\n",
       "      <td>1996</td>\n",
       "      <td>0.016790</td>\n",
       "      <td>NaN</td>\n",
       "      <td>NaN</td>\n",
       "      <td>NaN</td>\n",
       "    </tr>\n",
       "    <tr>\n",
       "      <th>4492</th>\n",
       "      <td>Zimbabwe</td>\n",
       "      <td>1995</td>\n",
       "      <td>0.007684</td>\n",
       "      <td>NaN</td>\n",
       "      <td>NaN</td>\n",
       "      <td>NaN</td>\n",
       "    </tr>\n",
       "    <tr>\n",
       "      <th>4493</th>\n",
       "      <td>Zimbabwe</td>\n",
       "      <td>1994</td>\n",
       "      <td>0.001739</td>\n",
       "      <td>NaN</td>\n",
       "      <td>NaN</td>\n",
       "      <td>NaN</td>\n",
       "    </tr>\n",
       "    <tr>\n",
       "      <th>4494</th>\n",
       "      <td>Zimbabwe</td>\n",
       "      <td>1990</td>\n",
       "      <td>0.000000</td>\n",
       "      <td>NaN</td>\n",
       "      <td>NaN</td>\n",
       "      <td>NaN</td>\n",
       "    </tr>\n",
       "  </tbody>\n",
       "</table>\n",
       "</div>"
      ],
      "text/plain": [
       "     Country or Area  Year     Value  Value Footnotes  Unnamed: 4  Unnamed: 5\n",
       "4490        Zimbabwe  1997  0.033080              NaN         NaN         NaN\n",
       "4491        Zimbabwe  1996  0.016790              NaN         NaN         NaN\n",
       "4492        Zimbabwe  1995  0.007684              NaN         NaN         NaN\n",
       "4493        Zimbabwe  1994  0.001739              NaN         NaN         NaN\n",
       "4494        Zimbabwe  1990  0.000000              NaN         NaN         NaN"
      ]
     },
     "execution_count": 64,
     "metadata": {},
     "output_type": "execute_result"
    }
   ],
   "source": [
    "internet_df[-5:]"
   ]
  },
  {
   "cell_type": "code",
   "execution_count": 65,
   "id": "b2dff8cb",
   "metadata": {},
   "outputs": [],
   "source": [
    "#Drop the Value Footnotes column and then rename the columns to ‘Country’, ‘Year’, and ‘Internet_Users_Pct’."
   ]
  },
  {
   "cell_type": "code",
   "execution_count": 66,
   "id": "55f90996",
   "metadata": {},
   "outputs": [],
   "source": [
    "internet_df = internet_df.drop(columns = [\"Value Footnotes\", \"Unnamed: 4\",\"Unnamed: 5\"])"
   ]
  },
  {
   "cell_type": "code",
   "execution_count": 67,
   "id": "a4509ccd",
   "metadata": {},
   "outputs": [],
   "source": [
    "internet_df = internet_df.rename(columns = {\"Country or Area\":\"Country\",\"Value\": \"Internet_Users_Pct\"})"
   ]
  },
  {
   "cell_type": "code",
   "execution_count": 68,
   "id": "dd325e13",
   "metadata": {},
   "outputs": [
    {
     "data": {
      "text/html": [
       "<div>\n",
       "<style scoped>\n",
       "    .dataframe tbody tr th:only-of-type {\n",
       "        vertical-align: middle;\n",
       "    }\n",
       "\n",
       "    .dataframe tbody tr th {\n",
       "        vertical-align: top;\n",
       "    }\n",
       "\n",
       "    .dataframe thead th {\n",
       "        text-align: right;\n",
       "    }\n",
       "</style>\n",
       "<table border=\"1\" class=\"dataframe\">\n",
       "  <thead>\n",
       "    <tr style=\"text-align: right;\">\n",
       "      <th></th>\n",
       "      <th>Country</th>\n",
       "      <th>Year</th>\n",
       "      <th>Internet_Users_Pct</th>\n",
       "    </tr>\n",
       "  </thead>\n",
       "  <tbody>\n",
       "    <tr>\n",
       "      <th>0</th>\n",
       "      <td>Afghanistan</td>\n",
       "      <td>2014</td>\n",
       "      <td>6.390000</td>\n",
       "    </tr>\n",
       "    <tr>\n",
       "      <th>1</th>\n",
       "      <td>Afghanistan</td>\n",
       "      <td>2013</td>\n",
       "      <td>5.900000</td>\n",
       "    </tr>\n",
       "    <tr>\n",
       "      <th>2</th>\n",
       "      <td>Afghanistan</td>\n",
       "      <td>2012</td>\n",
       "      <td>5.454545</td>\n",
       "    </tr>\n",
       "    <tr>\n",
       "      <th>3</th>\n",
       "      <td>Afghanistan</td>\n",
       "      <td>2011</td>\n",
       "      <td>5.000000</td>\n",
       "    </tr>\n",
       "    <tr>\n",
       "      <th>4</th>\n",
       "      <td>Afghanistan</td>\n",
       "      <td>2010</td>\n",
       "      <td>4.000000</td>\n",
       "    </tr>\n",
       "    <tr>\n",
       "      <th>...</th>\n",
       "      <td>...</td>\n",
       "      <td>...</td>\n",
       "      <td>...</td>\n",
       "    </tr>\n",
       "    <tr>\n",
       "      <th>4490</th>\n",
       "      <td>Zimbabwe</td>\n",
       "      <td>1997</td>\n",
       "      <td>0.033080</td>\n",
       "    </tr>\n",
       "    <tr>\n",
       "      <th>4491</th>\n",
       "      <td>Zimbabwe</td>\n",
       "      <td>1996</td>\n",
       "      <td>0.016790</td>\n",
       "    </tr>\n",
       "    <tr>\n",
       "      <th>4492</th>\n",
       "      <td>Zimbabwe</td>\n",
       "      <td>1995</td>\n",
       "      <td>0.007684</td>\n",
       "    </tr>\n",
       "    <tr>\n",
       "      <th>4493</th>\n",
       "      <td>Zimbabwe</td>\n",
       "      <td>1994</td>\n",
       "      <td>0.001739</td>\n",
       "    </tr>\n",
       "    <tr>\n",
       "      <th>4494</th>\n",
       "      <td>Zimbabwe</td>\n",
       "      <td>1990</td>\n",
       "      <td>0.000000</td>\n",
       "    </tr>\n",
       "  </tbody>\n",
       "</table>\n",
       "<p>4495 rows × 3 columns</p>\n",
       "</div>"
      ],
      "text/plain": [
       "          Country  Year  Internet_Users_Pct\n",
       "0     Afghanistan  2014            6.390000\n",
       "1     Afghanistan  2013            5.900000\n",
       "2     Afghanistan  2012            5.454545\n",
       "3     Afghanistan  2011            5.000000\n",
       "4     Afghanistan  2010            4.000000\n",
       "...           ...   ...                 ...\n",
       "4490     Zimbabwe  1997            0.033080\n",
       "4491     Zimbabwe  1996            0.016790\n",
       "4492     Zimbabwe  1995            0.007684\n",
       "4493     Zimbabwe  1994            0.001739\n",
       "4494     Zimbabwe  1990            0.000000\n",
       "\n",
       "[4495 rows x 3 columns]"
      ]
     },
     "execution_count": 68,
     "metadata": {},
     "output_type": "execute_result"
    }
   ],
   "source": [
    "internet_df"
   ]
  },
  {
   "cell_type": "code",
   "execution_count": 69,
   "id": "5c9e8623",
   "metadata": {},
   "outputs": [],
   "source": [
    "# How many rows and columns does this new dataset have? What are the types of its columns? Ensure that the `Internet_Users_Pct` column is a numeric data type and fix it if it is not."
   ]
  },
  {
   "cell_type": "code",
   "execution_count": 70,
   "id": "04b37aa4",
   "metadata": {},
   "outputs": [
    {
     "name": "stdout",
     "output_type": "stream",
     "text": [
      "<class 'pandas.core.frame.DataFrame'>\n",
      "RangeIndex: 4495 entries, 0 to 4494\n",
      "Data columns (total 3 columns):\n",
      " #   Column              Non-Null Count  Dtype  \n",
      "---  ------              --------------  -----  \n",
      " 0   Country             4495 non-null   object \n",
      " 1   Year                4495 non-null   int64  \n",
      " 2   Internet_Users_Pct  4495 non-null   float64\n",
      "dtypes: float64(1), int64(1), object(1)\n",
      "memory usage: 105.5+ KB\n"
     ]
    }
   ],
   "source": [
    "internet_df.info()"
   ]
  },
  {
   "cell_type": "code",
   "execution_count": 71,
   "id": "4dd6f2b3",
   "metadata": {},
   "outputs": [],
   "source": [
    "#3 columns, 4495 rows."
   ]
  },
  {
   "cell_type": "code",
   "execution_count": 72,
   "id": "dc099b8c",
   "metadata": {},
   "outputs": [],
   "source": [
    "#What is the first year that has a nonzero internet users percentage reported? What is the general trend in internet users percentage over the years. Pick a visualization that you think illustrates this trend well."
   ]
  },
  {
   "cell_type": "code",
   "execution_count": 73,
   "id": "c00382bb",
   "metadata": {},
   "outputs": [
    {
     "data": {
      "text/plain": [
       "Year    1990\n",
       "dtype: int64"
      ]
     },
     "execution_count": 73,
     "metadata": {},
     "output_type": "execute_result"
    }
   ],
   "source": [
    "internet_df[internet_df[\"Internet_Users_Pct\"] !=0][[\"Year\"]].min()"
   ]
  },
  {
   "cell_type": "code",
   "execution_count": 74,
   "id": "c1e2de1e",
   "metadata": {},
   "outputs": [],
   "source": [
    "#1990 is the first year with nonzero "
   ]
  },
  {
   "cell_type": "code",
   "execution_count": 75,
   "id": "b626b825",
   "metadata": {},
   "outputs": [
    {
     "data": {
      "text/plain": [
       "<AxesSubplot:xlabel='Year', ylabel='Internet_Users_Pct'>"
      ]
     },
     "execution_count": 75,
     "metadata": {},
     "output_type": "execute_result"
    },
    {
     "data": {
      "image/png": "[encoded data removed]",
      "text/plain": [
       "<Figure size 432x288 with 1 Axes>"
      ]
     },
     "metadata": {
      "needs_background": "light"
     },
     "output_type": "display_data"
    }
   ],
   "source": [
    "internet_df[[\"Year\",\"Internet_Users_Pct\"]].plot(x = \"Year\", y = \"Internet_Users_Pct\", kind = \"scatter\")"
   ]
  },
  {
   "cell_type": "code",
   "execution_count": 76,
   "id": "e6646381",
   "metadata": {},
   "outputs": [],
   "source": [
    "#Merge `gdp_df` and `internet_df` (on Country and Year) into a single DataFrame named `gdp_and_internet_use`. Keep only countries and years that appear in both tables. "
   ]
  },
  {
   "cell_type": "code",
   "execution_count": 77,
   "id": "cfb4ed0f",
   "metadata": {},
   "outputs": [],
   "source": [
    "gdp_and_internet_use = pd.merge(left = gdp_df, right = internet_df, on = [\"Country\",\"Year\"])"
   ]
  },
  {
   "cell_type": "code",
   "execution_count": 78,
   "id": "1663856d",
   "metadata": {},
   "outputs": [
    {
     "data": {
      "text/html": [
       "<div>\n",
       "<style scoped>\n",
       "    .dataframe tbody tr th:only-of-type {\n",
       "        vertical-align: middle;\n",
       "    }\n",
       "\n",
       "    .dataframe tbody tr th {\n",
       "        vertical-align: top;\n",
       "    }\n",
       "\n",
       "    .dataframe thead th {\n",
       "        text-align: right;\n",
       "    }\n",
       "</style>\n",
       "<table border=\"1\" class=\"dataframe\">\n",
       "  <thead>\n",
       "    <tr style=\"text-align: right;\">\n",
       "      <th></th>\n",
       "      <th>Continent</th>\n",
       "      <th>Country</th>\n",
       "      <th>Year</th>\n",
       "      <th>GDP_Per_Capita</th>\n",
       "      <th>Internet_Users_Pct</th>\n",
       "    </tr>\n",
       "  </thead>\n",
       "  <tbody>\n",
       "    <tr>\n",
       "      <th>0</th>\n",
       "      <td>Asia</td>\n",
       "      <td>Afghanistan</td>\n",
       "      <td>2014</td>\n",
       "      <td>2102.385234</td>\n",
       "      <td>6.390000</td>\n",
       "    </tr>\n",
       "    <tr>\n",
       "      <th>1</th>\n",
       "      <td>Asia</td>\n",
       "      <td>Afghanistan</td>\n",
       "      <td>2013</td>\n",
       "      <td>2116.465454</td>\n",
       "      <td>5.900000</td>\n",
       "    </tr>\n",
       "    <tr>\n",
       "      <th>2</th>\n",
       "      <td>Asia</td>\n",
       "      <td>Afghanistan</td>\n",
       "      <td>2012</td>\n",
       "      <td>2075.491747</td>\n",
       "      <td>5.454545</td>\n",
       "    </tr>\n",
       "    <tr>\n",
       "      <th>3</th>\n",
       "      <td>Asia</td>\n",
       "      <td>Afghanistan</td>\n",
       "      <td>2011</td>\n",
       "      <td>1904.559799</td>\n",
       "      <td>5.000000</td>\n",
       "    </tr>\n",
       "    <tr>\n",
       "      <th>4</th>\n",
       "      <td>Asia</td>\n",
       "      <td>Afghanistan</td>\n",
       "      <td>2010</td>\n",
       "      <td>1957.029338</td>\n",
       "      <td>4.000000</td>\n",
       "    </tr>\n",
       "  </tbody>\n",
       "</table>\n",
       "</div>"
      ],
      "text/plain": [
       "  Continent      Country  Year  GDP_Per_Capita  Internet_Users_Pct\n",
       "0      Asia  Afghanistan  2014     2102.385234            6.390000\n",
       "1      Asia  Afghanistan  2013     2116.465454            5.900000\n",
       "2      Asia  Afghanistan  2012     2075.491747            5.454545\n",
       "3      Asia  Afghanistan  2011     1904.559799            5.000000\n",
       "4      Asia  Afghanistan  2010     1957.029338            4.000000"
      ]
     },
     "execution_count": 78,
     "metadata": {},
     "output_type": "execute_result"
    }
   ],
   "source": [
    "gdp_and_internet_use.head(5)"
   ]
  },
  {
   "cell_type": "code",
   "execution_count": 79,
   "id": "f889efd9",
   "metadata": {},
   "outputs": [],
   "source": [
    "#Create a new DataFrame, named `gdp_and_internet_use_2014` by extracting data for the year 2014 from `gdp_and_internet_use`. How many countries have at least 90% internet users in 2014?"
   ]
  },
  {
   "cell_type": "code",
   "execution_count": 80,
   "id": "2ffee3a3",
   "metadata": {},
   "outputs": [],
   "source": [
    "gdp_and_internet_use_2014 = gdp_and_internet_use[gdp_and_internet_use[\"Year\"] == 2014]"
   ]
  },
  {
   "cell_type": "code",
   "execution_count": 81,
   "id": "8198bf50",
   "metadata": {},
   "outputs": [
    {
     "data": {
      "text/plain": [
       "Continent             13\n",
       "Country               13\n",
       "Year                  13\n",
       "GDP_Per_Capita        13\n",
       "Internet_Users_Pct    13\n",
       "dtype: int64"
      ]
     },
     "execution_count": 81,
     "metadata": {},
     "output_type": "execute_result"
    }
   ],
   "source": [
    "gdp_and_internet_use_2014[gdp_and_internet_use_2014[\"Internet_Users_Pct\"] >= 90].count()"
   ]
  },
  {
   "cell_type": "code",
   "execution_count": 82,
   "id": "0c3d3321",
   "metadata": {},
   "outputs": [],
   "source": [
    "#13 countries had over 90% internet users in 2014"
   ]
  },
  {
   "cell_type": "code",
   "execution_count": 83,
   "id": "f4fab42e",
   "metadata": {},
   "outputs": [],
   "source": [
    "#Find the countries that had the top 3 largest GDP per capita figures for 2014. Create a seaborn FacetGrid showing the change in internet user percentage over time for these three countries. Each individual figure in the facet grid will represent a single country.  What trends do you notice?"
   ]
  },
  {
   "cell_type": "code",
   "execution_count": 84,
   "id": "6e6c4505",
   "metadata": {},
   "outputs": [],
   "source": [
    "gdp_and_internet_use_2014_sorted = gdp_and_internet_use_2014.sort_values(\"GDP_Per_Capita\", ascending= False)"
   ]
  },
  {
   "cell_type": "code",
   "execution_count": 85,
   "id": "f404d8fa",
   "metadata": {},
   "outputs": [
    {
     "data": {
      "text/html": [
       "<div>\n",
       "<style scoped>\n",
       "    .dataframe tbody tr th:only-of-type {\n",
       "        vertical-align: middle;\n",
       "    }\n",
       "\n",
       "    .dataframe tbody tr th {\n",
       "        vertical-align: top;\n",
       "    }\n",
       "\n",
       "    .dataframe thead th {\n",
       "        text-align: right;\n",
       "    }\n",
       "</style>\n",
       "<table border=\"1\" class=\"dataframe\">\n",
       "  <thead>\n",
       "    <tr style=\"text-align: right;\">\n",
       "      <th></th>\n",
       "      <th>Continent</th>\n",
       "      <th>Country</th>\n",
       "      <th>Year</th>\n",
       "      <th>GDP_Per_Capita</th>\n",
       "      <th>Internet_Users_Pct</th>\n",
       "    </tr>\n",
       "  </thead>\n",
       "  <tbody>\n",
       "    <tr>\n",
       "      <th>1798</th>\n",
       "      <td>Europe</td>\n",
       "      <td>Luxembourg</td>\n",
       "      <td>2014</td>\n",
       "      <td>108760.916000</td>\n",
       "      <td>94.67</td>\n",
       "    </tr>\n",
       "    <tr>\n",
       "      <th>2542</th>\n",
       "      <td>Asia</td>\n",
       "      <td>Qatar</td>\n",
       "      <td>2014</td>\n",
       "      <td>95578.416970</td>\n",
       "      <td>91.49</td>\n",
       "    </tr>\n",
       "    <tr>\n",
       "      <th>2772</th>\n",
       "      <td>Asia</td>\n",
       "      <td>Singapore</td>\n",
       "      <td>2014</td>\n",
       "      <td>87808.663160</td>\n",
       "      <td>82.00</td>\n",
       "    </tr>\n",
       "    <tr>\n",
       "      <th>372</th>\n",
       "      <td>North America</td>\n",
       "      <td>Bermuda</td>\n",
       "      <td>2014</td>\n",
       "      <td>77361.104880</td>\n",
       "      <td>96.80</td>\n",
       "    </tr>\n",
       "    <tr>\n",
       "      <th>627</th>\n",
       "      <td>North America</td>\n",
       "      <td>Cayman Islands</td>\n",
       "      <td>2014</td>\n",
       "      <td>66207.447230</td>\n",
       "      <td>74.10</td>\n",
       "    </tr>\n",
       "    <tr>\n",
       "      <th>...</th>\n",
       "      <td>...</td>\n",
       "      <td>...</td>\n",
       "      <td>...</td>\n",
       "      <td>...</td>\n",
       "      <td>...</td>\n",
       "    </tr>\n",
       "    <tr>\n",
       "      <th>3098</th>\n",
       "      <td>Africa</td>\n",
       "      <td>Togo</td>\n",
       "      <td>2014</td>\n",
       "      <td>1404.132938</td>\n",
       "      <td>5.70</td>\n",
       "    </tr>\n",
       "    <tr>\n",
       "      <th>2102</th>\n",
       "      <td>Africa</td>\n",
       "      <td>Mozambique</td>\n",
       "      <td>2014</td>\n",
       "      <td>1217.090210</td>\n",
       "      <td>5.94</td>\n",
       "    </tr>\n",
       "    <tr>\n",
       "      <th>2256</th>\n",
       "      <td>Africa</td>\n",
       "      <td>Niger</td>\n",
       "      <td>2014</td>\n",
       "      <td>1127.615541</td>\n",
       "      <td>1.95</td>\n",
       "    </tr>\n",
       "    <tr>\n",
       "      <th>1842</th>\n",
       "      <td>Africa</td>\n",
       "      <td>Malawi</td>\n",
       "      <td>2014</td>\n",
       "      <td>1027.208496</td>\n",
       "      <td>5.83</td>\n",
       "    </tr>\n",
       "    <tr>\n",
       "      <th>540</th>\n",
       "      <td>Africa</td>\n",
       "      <td>Burundi</td>\n",
       "      <td>2014</td>\n",
       "      <td>886.235777</td>\n",
       "      <td>1.38</td>\n",
       "    </tr>\n",
       "  </tbody>\n",
       "</table>\n",
       "<p>163 rows × 5 columns</p>\n",
       "</div>"
      ],
      "text/plain": [
       "          Continent         Country  Year  GDP_Per_Capita  Internet_Users_Pct\n",
       "1798         Europe      Luxembourg  2014   108760.916000               94.67\n",
       "2542           Asia           Qatar  2014    95578.416970               91.49\n",
       "2772           Asia       Singapore  2014    87808.663160               82.00\n",
       "372   North America         Bermuda  2014    77361.104880               96.80\n",
       "627   North America  Cayman Islands  2014    66207.447230               74.10\n",
       "...             ...             ...   ...             ...                 ...\n",
       "3098         Africa            Togo  2014     1404.132938                5.70\n",
       "2102         Africa      Mozambique  2014     1217.090210                5.94\n",
       "2256         Africa           Niger  2014     1127.615541                1.95\n",
       "1842         Africa          Malawi  2014     1027.208496                5.83\n",
       "540          Africa         Burundi  2014      886.235777                1.38\n",
       "\n",
       "[163 rows x 5 columns]"
      ]
     },
     "execution_count": 85,
     "metadata": {},
     "output_type": "execute_result"
    }
   ],
   "source": [
    "gdp_and_internet_use_2014_sorted"
   ]
  },
  {
   "cell_type": "code",
   "execution_count": 86,
   "id": "dded22e4",
   "metadata": {},
   "outputs": [
    {
     "data": {
      "text/html": [
       "<div>\n",
       "<style scoped>\n",
       "    .dataframe tbody tr th:only-of-type {\n",
       "        vertical-align: middle;\n",
       "    }\n",
       "\n",
       "    .dataframe tbody tr th {\n",
       "        vertical-align: top;\n",
       "    }\n",
       "\n",
       "    .dataframe thead th {\n",
       "        text-align: right;\n",
       "    }\n",
       "</style>\n",
       "<table border=\"1\" class=\"dataframe\">\n",
       "  <thead>\n",
       "    <tr style=\"text-align: right;\">\n",
       "      <th></th>\n",
       "      <th>Continent</th>\n",
       "      <th>Country</th>\n",
       "      <th>Year</th>\n",
       "      <th>GDP_Per_Capita</th>\n",
       "      <th>Internet_Users_Pct</th>\n",
       "    </tr>\n",
       "  </thead>\n",
       "  <tbody>\n",
       "    <tr>\n",
       "      <th>1798</th>\n",
       "      <td>Europe</td>\n",
       "      <td>Luxembourg</td>\n",
       "      <td>2014</td>\n",
       "      <td>108760.91600</td>\n",
       "      <td>94.670000</td>\n",
       "    </tr>\n",
       "    <tr>\n",
       "      <th>1799</th>\n",
       "      <td>Europe</td>\n",
       "      <td>Luxembourg</td>\n",
       "      <td>2013</td>\n",
       "      <td>106767.27500</td>\n",
       "      <td>93.776500</td>\n",
       "    </tr>\n",
       "    <tr>\n",
       "      <th>1800</th>\n",
       "      <td>Europe</td>\n",
       "      <td>Luxembourg</td>\n",
       "      <td>2012</td>\n",
       "      <td>105411.46460</td>\n",
       "      <td>91.949924</td>\n",
       "    </tr>\n",
       "    <tr>\n",
       "      <th>1801</th>\n",
       "      <td>Europe</td>\n",
       "      <td>Luxembourg</td>\n",
       "      <td>2011</td>\n",
       "      <td>108355.58260</td>\n",
       "      <td>90.029859</td>\n",
       "    </tr>\n",
       "    <tr>\n",
       "      <th>1802</th>\n",
       "      <td>Europe</td>\n",
       "      <td>Luxembourg</td>\n",
       "      <td>2010</td>\n",
       "      <td>108047.34690</td>\n",
       "      <td>90.620000</td>\n",
       "    </tr>\n",
       "    <tr>\n",
       "      <th>...</th>\n",
       "      <td>...</td>\n",
       "      <td>...</td>\n",
       "      <td>...</td>\n",
       "      <td>...</td>\n",
       "      <td>...</td>\n",
       "    </tr>\n",
       "    <tr>\n",
       "      <th>2792</th>\n",
       "      <td>Asia</td>\n",
       "      <td>Singapore</td>\n",
       "      <td>1994</td>\n",
       "      <td>46895.05301</td>\n",
       "      <td>1.185204</td>\n",
       "    </tr>\n",
       "    <tr>\n",
       "      <th>2793</th>\n",
       "      <td>Asia</td>\n",
       "      <td>Singapore</td>\n",
       "      <td>1993</td>\n",
       "      <td>43555.61904</td>\n",
       "      <td>0.763278</td>\n",
       "    </tr>\n",
       "    <tr>\n",
       "      <th>2794</th>\n",
       "      <td>Asia</td>\n",
       "      <td>Singapore</td>\n",
       "      <td>1992</td>\n",
       "      <td>40077.54879</td>\n",
       "      <td>0.471368</td>\n",
       "    </tr>\n",
       "    <tr>\n",
       "      <th>2795</th>\n",
       "      <td>Asia</td>\n",
       "      <td>Singapore</td>\n",
       "      <td>1991</td>\n",
       "      <td>38728.40391</td>\n",
       "      <td>0.161504</td>\n",
       "    </tr>\n",
       "    <tr>\n",
       "      <th>2796</th>\n",
       "      <td>Asia</td>\n",
       "      <td>Singapore</td>\n",
       "      <td>1990</td>\n",
       "      <td>37348.20679</td>\n",
       "      <td>0.000000</td>\n",
       "    </tr>\n",
       "  </tbody>\n",
       "</table>\n",
       "<p>64 rows × 5 columns</p>\n",
       "</div>"
      ],
      "text/plain": [
       "     Continent     Country  Year  GDP_Per_Capita  Internet_Users_Pct\n",
       "1798    Europe  Luxembourg  2014    108760.91600           94.670000\n",
       "1799    Europe  Luxembourg  2013    106767.27500           93.776500\n",
       "1800    Europe  Luxembourg  2012    105411.46460           91.949924\n",
       "1801    Europe  Luxembourg  2011    108355.58260           90.029859\n",
       "1802    Europe  Luxembourg  2010    108047.34690           90.620000\n",
       "...        ...         ...   ...             ...                 ...\n",
       "2792      Asia   Singapore  1994     46895.05301            1.185204\n",
       "2793      Asia   Singapore  1993     43555.61904            0.763278\n",
       "2794      Asia   Singapore  1992     40077.54879            0.471368\n",
       "2795      Asia   Singapore  1991     38728.40391            0.161504\n",
       "2796      Asia   Singapore  1990     37348.20679            0.000000\n",
       "\n",
       "[64 rows x 5 columns]"
      ]
     },
     "execution_count": 86,
     "metadata": {},
     "output_type": "execute_result"
    }
   ],
   "source": [
    "top_3_gdps = gdp_and_internet_use[(gdp_and_internet_use[\"Country\"] == \"Luxembourg\")\n",
    "                                 |(gdp_and_internet_use[\"Country\"] == \"Qatar\")\n",
    "                                 |(gdp_and_internet_use[\"Country\"] == \"Singapore\")]\n",
    "top_3_gdps"
   ]
  },
  {
   "cell_type": "code",
   "execution_count": 87,
   "id": "2e754648",
   "metadata": {},
   "outputs": [
    {
     "data": {
      "image/png": "[encoded data removed]",
      "text/plain": [
       "<Figure size 648x216 with 3 Axes>"
      ]
     },
     "metadata": {
      "needs_background": "light"
     },
     "output_type": "display_data"
    }
   ],
   "source": [
    "top_3_graph = sns.FacetGrid(top_3_gdps, col = \"Country\")"
   ]
  },
  {
   "cell_type": "code",
   "execution_count": 88,
   "id": "70edd4bc",
   "metadata": {},
   "outputs": [
    {
     "data": {
      "text/plain": [
       "<seaborn.axisgrid.FacetGrid at 0x2d9da378430>"
      ]
     },
     "execution_count": 88,
     "metadata": {},
     "output_type": "execute_result"
    },
    {
     "data": {
      "image/png": "[encoded data removed]",
      "text/plain": [
       "<Figure size 648x216 with 3 Axes>"
      ]
     },
     "metadata": {
      "needs_background": "light"
     },
     "output_type": "display_data"
    }
   ],
   "source": [
    "top_3_graph.map(plt.plot, \"Year\", \"Internet_Users_Pct\") "
   ]
  },
  {
   "cell_type": "code",
   "execution_count": 89,
   "id": "68d1a806",
   "metadata": {},
   "outputs": [],
   "source": [
    "#Create a scatter plot of Internet Use vs GDP per Capita for the year 2014. What do you notice?"
   ]
  },
  {
   "cell_type": "code",
   "execution_count": 90,
   "id": "07f9d8da",
   "metadata": {},
   "outputs": [
    {
     "data": {
      "text/plain": [
       "<AxesSubplot:title={'center':'Internet Use vs. GDP Per Capita'}, xlabel='GDP_Per_Capita', ylabel='Internet_Users_Pct'>"
      ]
     },
     "execution_count": 90,
     "metadata": {},
     "output_type": "execute_result"
    },
    {
     "data": {
      "image/png": "[encoded data removed]",
      "text/plain": [
       "<Figure size 432x288 with 1 Axes>"
      ]
     },
     "metadata": {
      "needs_background": "light"
     },
     "output_type": "display_data"
    }
   ],
   "source": [
    "gdp_and_internet_use_2014.plot(x = \"GDP_Per_Capita\", y = \"Internet_Users_Pct\" , kind = \"scatter\", title = \"Internet Use vs. GDP Per Capita\")"
   ]
  },
  {
   "cell_type": "code",
   "execution_count": 91,
   "id": "4369cc43",
   "metadata": {},
   "outputs": [],
   "source": [
    "#The data does not look like it is a linear correlation."
   ]
  },
  {
   "cell_type": "code",
   "execution_count": 92,
   "id": "33b8ec03",
   "metadata": {},
   "outputs": [],
   "source": [
    "#Find the correlation between GDP per Capita and Internet Use for the year 2014. What is the meaning of this number?"
   ]
  },
  {
   "cell_type": "code",
   "execution_count": 93,
   "id": "919e8731",
   "metadata": {},
   "outputs": [
    {
     "data": {
      "text/plain": [
       "0.8246267227719846"
      ]
     },
     "execution_count": 93,
     "metadata": {},
     "output_type": "execute_result"
    }
   ],
   "source": [
    "gdp_and_internet_use_2014[\"GDP_Per_Capita\"].corr(gdp_and_internet_use_2014[\"Internet_Users_Pct\"])"
   ]
  },
  {
   "cell_type": "code",
   "execution_count": 94,
   "id": "60259e8c",
   "metadata": {},
   "outputs": [],
   "source": [
    "#the correlation is 0.8246. This means that the variables have a strong positive correlation."
   ]
  },
  {
   "cell_type": "code",
   "execution_count": 95,
   "id": "5bb1fe9f",
   "metadata": {},
   "outputs": [],
   "source": [
    "#Add a column to `gdp_and_internet_use_2014` and calculate the logarithm of GDP per capita. Find the correlation between the log of GDP per capita and internet users percentage. How does this compare to the calculation in the previous part?"
   ]
  },
  {
   "cell_type": "code",
   "execution_count": 96,
   "id": "df3cc7ee",
   "metadata": {},
   "outputs": [
    {
     "name": "stderr",
     "output_type": "stream",
     "text": [
      "<ipython-input-96-2f27264dbf70>:1: SettingWithCopyWarning: \n",
      "A value is trying to be set on a copy of a slice from a DataFrame.\n",
      "Try using .loc[row_indexer,col_indexer] = value instead\n",
      "\n",
      "See the caveats in the documentation: https://pandas.pydata.org/pandas-docs/stable/user_guide/indexing.html#returning-a-view-versus-a-copy\n",
      "  gdp_and_internet_use_2014[\"log_of_GDP_Per_Capita\"] = np.log10(gdp_and_internet_use_2014[\"GDP_Per_Capita\"])\n"
     ]
    }
   ],
   "source": [
    "gdp_and_internet_use_2014[\"log_of_GDP_Per_Capita\"] = np.log10(gdp_and_internet_use_2014[\"GDP_Per_Capita\"])"
   ]
  },
  {
   "cell_type": "code",
   "execution_count": 97,
   "id": "098a3f9d",
   "metadata": {},
   "outputs": [
    {
     "data": {
      "text/html": [
       "<div>\n",
       "<style scoped>\n",
       "    .dataframe tbody tr th:only-of-type {\n",
       "        vertical-align: middle;\n",
       "    }\n",
       "\n",
       "    .dataframe tbody tr th {\n",
       "        vertical-align: top;\n",
       "    }\n",
       "\n",
       "    .dataframe thead th {\n",
       "        text-align: right;\n",
       "    }\n",
       "</style>\n",
       "<table border=\"1\" class=\"dataframe\">\n",
       "  <thead>\n",
       "    <tr style=\"text-align: right;\">\n",
       "      <th></th>\n",
       "      <th>Continent</th>\n",
       "      <th>Country</th>\n",
       "      <th>Year</th>\n",
       "      <th>GDP_Per_Capita</th>\n",
       "      <th>Internet_Users_Pct</th>\n",
       "      <th>log_of_GDP_Per_Capita</th>\n",
       "    </tr>\n",
       "  </thead>\n",
       "  <tbody>\n",
       "    <tr>\n",
       "      <th>0</th>\n",
       "      <td>Asia</td>\n",
       "      <td>Afghanistan</td>\n",
       "      <td>2014</td>\n",
       "      <td>2102.385234</td>\n",
       "      <td>6.39</td>\n",
       "      <td>3.322712</td>\n",
       "    </tr>\n",
       "    <tr>\n",
       "      <th>13</th>\n",
       "      <td>Europe</td>\n",
       "      <td>Albania</td>\n",
       "      <td>2014</td>\n",
       "      <td>11623.866680</td>\n",
       "      <td>60.10</td>\n",
       "      <td>4.065351</td>\n",
       "    </tr>\n",
       "    <tr>\n",
       "      <th>34</th>\n",
       "      <td>Africa</td>\n",
       "      <td>Algeria</td>\n",
       "      <td>2014</td>\n",
       "      <td>11512.705410</td>\n",
       "      <td>18.09</td>\n",
       "      <td>4.061177</td>\n",
       "    </tr>\n",
       "    <tr>\n",
       "      <th>56</th>\n",
       "      <td>Africa</td>\n",
       "      <td>Angola</td>\n",
       "      <td>2014</td>\n",
       "      <td>8239.828837</td>\n",
       "      <td>21.26</td>\n",
       "      <td>3.915918</td>\n",
       "    </tr>\n",
       "    <tr>\n",
       "      <th>76</th>\n",
       "      <td>North America</td>\n",
       "      <td>Antigua and Barbuda</td>\n",
       "      <td>2014</td>\n",
       "      <td>18104.241470</td>\n",
       "      <td>64.00</td>\n",
       "      <td>4.257780</td>\n",
       "    </tr>\n",
       "    <tr>\n",
       "      <th>...</th>\n",
       "      <td>...</td>\n",
       "      <td>...</td>\n",
       "      <td>...</td>\n",
       "      <td>...</td>\n",
       "      <td>...</td>\n",
       "      <td>...</td>\n",
       "    </tr>\n",
       "    <tr>\n",
       "      <th>3348</th>\n",
       "      <td>North America</td>\n",
       "      <td>United States</td>\n",
       "      <td>2014</td>\n",
       "      <td>57273.129070</td>\n",
       "      <td>87.36</td>\n",
       "      <td>4.757951</td>\n",
       "    </tr>\n",
       "    <tr>\n",
       "      <th>3373</th>\n",
       "      <td>Asia</td>\n",
       "      <td>Uzbekistan</td>\n",
       "      <td>2014</td>\n",
       "      <td>5764.492705</td>\n",
       "      <td>43.55</td>\n",
       "      <td>3.760761</td>\n",
       "    </tr>\n",
       "    <tr>\n",
       "      <th>3394</th>\n",
       "      <td>Oceania</td>\n",
       "      <td>Vanuatu</td>\n",
       "      <td>2014</td>\n",
       "      <td>3116.077025</td>\n",
       "      <td>18.80</td>\n",
       "      <td>3.493608</td>\n",
       "    </tr>\n",
       "    <tr>\n",
       "      <th>3414</th>\n",
       "      <td>Africa</td>\n",
       "      <td>Zambia</td>\n",
       "      <td>2014</td>\n",
       "      <td>3450.046561</td>\n",
       "      <td>17.34</td>\n",
       "      <td>3.537825</td>\n",
       "    </tr>\n",
       "    <tr>\n",
       "      <th>3436</th>\n",
       "      <td>Africa</td>\n",
       "      <td>Zimbabwe</td>\n",
       "      <td>2014</td>\n",
       "      <td>2955.240287</td>\n",
       "      <td>19.89</td>\n",
       "      <td>3.470593</td>\n",
       "    </tr>\n",
       "  </tbody>\n",
       "</table>\n",
       "<p>163 rows × 6 columns</p>\n",
       "</div>"
      ],
      "text/plain": [
       "          Continent              Country  Year  GDP_Per_Capita  \\\n",
       "0              Asia          Afghanistan  2014     2102.385234   \n",
       "13           Europe              Albania  2014    11623.866680   \n",
       "34           Africa              Algeria  2014    11512.705410   \n",
       "56           Africa               Angola  2014     8239.828837   \n",
       "76    North America  Antigua and Barbuda  2014    18104.241470   \n",
       "...             ...                  ...   ...             ...   \n",
       "3348  North America        United States  2014    57273.129070   \n",
       "3373           Asia           Uzbekistan  2014     5764.492705   \n",
       "3394        Oceania              Vanuatu  2014     3116.077025   \n",
       "3414         Africa               Zambia  2014     3450.046561   \n",
       "3436         Africa             Zimbabwe  2014     2955.240287   \n",
       "\n",
       "      Internet_Users_Pct  log_of_GDP_Per_Capita  \n",
       "0                   6.39               3.322712  \n",
       "13                 60.10               4.065351  \n",
       "34                 18.09               4.061177  \n",
       "56                 21.26               3.915918  \n",
       "76                 64.00               4.257780  \n",
       "...                  ...                    ...  \n",
       "3348               87.36               4.757951  \n",
       "3373               43.55               3.760761  \n",
       "3394               18.80               3.493608  \n",
       "3414               17.34               3.537825  \n",
       "3436               19.89               3.470593  \n",
       "\n",
       "[163 rows x 6 columns]"
      ]
     },
     "execution_count": 97,
     "metadata": {},
     "output_type": "execute_result"
    }
   ],
   "source": [
    "gdp_and_internet_use_2014"
   ]
  },
  {
   "cell_type": "code",
   "execution_count": 98,
   "id": "093592ce",
   "metadata": {},
   "outputs": [
    {
     "data": {
      "text/plain": [
       "<AxesSubplot:xlabel='log_of_GDP_Per_Capita', ylabel='Internet_Users_Pct'>"
      ]
     },
     "execution_count": 98,
     "metadata": {},
     "output_type": "execute_result"
    },
    {
     "data": {
      "image/png": "[encoded data removed]",
      "text/plain": [
       "<Figure size 432x288 with 1 Axes>"
      ]
     },
     "metadata": {
      "needs_background": "light"
     },
     "output_type": "display_data"
    }
   ],
   "source": [
    "gdp_and_internet_use_2014.plot(x = \"log_of_GDP_Per_Capita\", y = \"Internet_Users_Pct\", kind = \"scatter\")"
   ]
  },
  {
   "cell_type": "code",
   "execution_count": 99,
   "id": "c38e9a9d",
   "metadata": {},
   "outputs": [
    {
     "data": {
      "text/plain": [
       "0.9039866356848423"
      ]
     },
     "execution_count": 99,
     "metadata": {},
     "output_type": "execute_result"
    }
   ],
   "source": [
    "gdp_and_internet_use_2014[\"log_of_GDP_Per_Capita\"].corr(gdp_and_internet_use_2014[\"Internet_Users_Pct\"])"
   ]
  },
  {
   "cell_type": "code",
   "execution_count": 100,
   "id": "edea9a8b",
   "metadata": {},
   "outputs": [],
   "source": [
    "#The Correlation between the log of GDP and Internet users is stronger than the correlation between GDP per Capita and Internet Users"
   ]
  },
  {
   "cell_type": "code",
   "execution_count": 101,
   "id": "08b8561f",
   "metadata": {},
   "outputs": [],
   "source": [
    "#Filter the original dataset down to just the United States for all available years. Calculate correlation between internet use and gdp per capita. Is this meaningful or useful?"
   ]
  },
  {
   "cell_type": "code",
   "execution_count": 102,
   "id": "7b90cde5",
   "metadata": {},
   "outputs": [
    {
     "data": {
      "text/html": [
       "<div>\n",
       "<style scoped>\n",
       "    .dataframe tbody tr th:only-of-type {\n",
       "        vertical-align: middle;\n",
       "    }\n",
       "\n",
       "    .dataframe tbody tr th {\n",
       "        vertical-align: top;\n",
       "    }\n",
       "\n",
       "    .dataframe thead th {\n",
       "        text-align: right;\n",
       "    }\n",
       "</style>\n",
       "<table border=\"1\" class=\"dataframe\">\n",
       "  <thead>\n",
       "    <tr style=\"text-align: right;\">\n",
       "      <th></th>\n",
       "      <th>Continent</th>\n",
       "      <th>Country</th>\n",
       "      <th>Year</th>\n",
       "      <th>GDP_Per_Capita</th>\n",
       "      <th>Internet_Users_Pct</th>\n",
       "    </tr>\n",
       "  </thead>\n",
       "  <tbody>\n",
       "    <tr>\n",
       "      <th>3348</th>\n",
       "      <td>North America</td>\n",
       "      <td>United States</td>\n",
       "      <td>2014</td>\n",
       "      <td>57273.12907</td>\n",
       "      <td>87.360000</td>\n",
       "    </tr>\n",
       "    <tr>\n",
       "      <th>3349</th>\n",
       "      <td>North America</td>\n",
       "      <td>United States</td>\n",
       "      <td>2013</td>\n",
       "      <td>56269.95643</td>\n",
       "      <td>84.200000</td>\n",
       "    </tr>\n",
       "    <tr>\n",
       "      <th>3350</th>\n",
       "      <td>North America</td>\n",
       "      <td>United States</td>\n",
       "      <td>2012</td>\n",
       "      <td>55632.92976</td>\n",
       "      <td>79.300000</td>\n",
       "    </tr>\n",
       "    <tr>\n",
       "      <th>3351</th>\n",
       "      <td>North America</td>\n",
       "      <td>United States</td>\n",
       "      <td>2011</td>\n",
       "      <td>54806.11693</td>\n",
       "      <td>69.729461</td>\n",
       "    </tr>\n",
       "    <tr>\n",
       "      <th>3352</th>\n",
       "      <td>North America</td>\n",
       "      <td>United States</td>\n",
       "      <td>2010</td>\n",
       "      <td>54359.13397</td>\n",
       "      <td>71.690000</td>\n",
       "    </tr>\n",
       "    <tr>\n",
       "      <th>3353</th>\n",
       "      <td>North America</td>\n",
       "      <td>United States</td>\n",
       "      <td>2009</td>\n",
       "      <td>53440.91154</td>\n",
       "      <td>71.000000</td>\n",
       "    </tr>\n",
       "    <tr>\n",
       "      <th>3354</th>\n",
       "      <td>North America</td>\n",
       "      <td>United States</td>\n",
       "      <td>2008</td>\n",
       "      <td>55314.66006</td>\n",
       "      <td>74.000000</td>\n",
       "    </tr>\n",
       "    <tr>\n",
       "      <th>3355</th>\n",
       "      <td>North America</td>\n",
       "      <td>United States</td>\n",
       "      <td>2007</td>\n",
       "      <td>55916.71538</td>\n",
       "      <td>75.000000</td>\n",
       "    </tr>\n",
       "    <tr>\n",
       "      <th>3356</th>\n",
       "      <td>North America</td>\n",
       "      <td>United States</td>\n",
       "      <td>2006</td>\n",
       "      <td>55411.43755</td>\n",
       "      <td>68.931193</td>\n",
       "    </tr>\n",
       "    <tr>\n",
       "      <th>3357</th>\n",
       "      <td>North America</td>\n",
       "      <td>United States</td>\n",
       "      <td>2005</td>\n",
       "      <td>54395.35648</td>\n",
       "      <td>67.968053</td>\n",
       "    </tr>\n",
       "    <tr>\n",
       "      <th>3358</th>\n",
       "      <td>North America</td>\n",
       "      <td>United States</td>\n",
       "      <td>2004</td>\n",
       "      <td>53035.78291</td>\n",
       "      <td>64.758256</td>\n",
       "    </tr>\n",
       "    <tr>\n",
       "      <th>3359</th>\n",
       "      <td>North America</td>\n",
       "      <td>United States</td>\n",
       "      <td>2003</td>\n",
       "      <td>51569.81769</td>\n",
       "      <td>61.697117</td>\n",
       "    </tr>\n",
       "    <tr>\n",
       "      <th>3360</th>\n",
       "      <td>North America</td>\n",
       "      <td>United States</td>\n",
       "      <td>2002</td>\n",
       "      <td>50568.10111</td>\n",
       "      <td>58.785404</td>\n",
       "    </tr>\n",
       "    <tr>\n",
       "      <th>3361</th>\n",
       "      <td>North America</td>\n",
       "      <td>United States</td>\n",
       "      <td>2001</td>\n",
       "      <td>50165.71994</td>\n",
       "      <td>49.080832</td>\n",
       "    </tr>\n",
       "    <tr>\n",
       "      <th>3362</th>\n",
       "      <td>North America</td>\n",
       "      <td>United States</td>\n",
       "      <td>2000</td>\n",
       "      <td>50163.88947</td>\n",
       "      <td>43.079163</td>\n",
       "    </tr>\n",
       "    <tr>\n",
       "      <th>3363</th>\n",
       "      <td>North America</td>\n",
       "      <td>United States</td>\n",
       "      <td>1999</td>\n",
       "      <td>48714.53055</td>\n",
       "      <td>35.848724</td>\n",
       "    </tr>\n",
       "    <tr>\n",
       "      <th>3364</th>\n",
       "      <td>North America</td>\n",
       "      <td>United States</td>\n",
       "      <td>1998</td>\n",
       "      <td>47041.18478</td>\n",
       "      <td>30.093197</td>\n",
       "    </tr>\n",
       "    <tr>\n",
       "      <th>3365</th>\n",
       "      <td>North America</td>\n",
       "      <td>United States</td>\n",
       "      <td>1997</td>\n",
       "      <td>45551.41480</td>\n",
       "      <td>21.616401</td>\n",
       "    </tr>\n",
       "    <tr>\n",
       "      <th>3366</th>\n",
       "      <td>North America</td>\n",
       "      <td>United States</td>\n",
       "      <td>1996</td>\n",
       "      <td>44140.14279</td>\n",
       "      <td>16.419353</td>\n",
       "    </tr>\n",
       "    <tr>\n",
       "      <th>3367</th>\n",
       "      <td>North America</td>\n",
       "      <td>United States</td>\n",
       "      <td>1995</td>\n",
       "      <td>43033.24352</td>\n",
       "      <td>9.237088</td>\n",
       "    </tr>\n",
       "    <tr>\n",
       "      <th>3368</th>\n",
       "      <td>North America</td>\n",
       "      <td>United States</td>\n",
       "      <td>1994</td>\n",
       "      <td>42410.32605</td>\n",
       "      <td>4.862781</td>\n",
       "    </tr>\n",
       "    <tr>\n",
       "      <th>3369</th>\n",
       "      <td>North America</td>\n",
       "      <td>United States</td>\n",
       "      <td>1993</td>\n",
       "      <td>41270.86730</td>\n",
       "      <td>2.271673</td>\n",
       "    </tr>\n",
       "    <tr>\n",
       "      <th>3370</th>\n",
       "      <td>North America</td>\n",
       "      <td>United States</td>\n",
       "      <td>1992</td>\n",
       "      <td>40698.34018</td>\n",
       "      <td>1.724203</td>\n",
       "    </tr>\n",
       "    <tr>\n",
       "      <th>3371</th>\n",
       "      <td>North America</td>\n",
       "      <td>United States</td>\n",
       "      <td>1991</td>\n",
       "      <td>39862.57556</td>\n",
       "      <td>1.163194</td>\n",
       "    </tr>\n",
       "    <tr>\n",
       "      <th>3372</th>\n",
       "      <td>North America</td>\n",
       "      <td>United States</td>\n",
       "      <td>1990</td>\n",
       "      <td>40442.60113</td>\n",
       "      <td>0.784729</td>\n",
       "    </tr>\n",
       "  </tbody>\n",
       "</table>\n",
       "</div>"
      ],
      "text/plain": [
       "          Continent        Country  Year  GDP_Per_Capita  Internet_Users_Pct\n",
       "3348  North America  United States  2014     57273.12907           87.360000\n",
       "3349  North America  United States  2013     56269.95643           84.200000\n",
       "3350  North America  United States  2012     55632.92976           79.300000\n",
       "3351  North America  United States  2011     54806.11693           69.729461\n",
       "3352  North America  United States  2010     54359.13397           71.690000\n",
       "3353  North America  United States  2009     53440.91154           71.000000\n",
       "3354  North America  United States  2008     55314.66006           74.000000\n",
       "3355  North America  United States  2007     55916.71538           75.000000\n",
       "3356  North America  United States  2006     55411.43755           68.931193\n",
       "3357  North America  United States  2005     54395.35648           67.968053\n",
       "3358  North America  United States  2004     53035.78291           64.758256\n",
       "3359  North America  United States  2003     51569.81769           61.697117\n",
       "3360  North America  United States  2002     50568.10111           58.785404\n",
       "3361  North America  United States  2001     50165.71994           49.080832\n",
       "3362  North America  United States  2000     50163.88947           43.079163\n",
       "3363  North America  United States  1999     48714.53055           35.848724\n",
       "3364  North America  United States  1998     47041.18478           30.093197\n",
       "3365  North America  United States  1997     45551.41480           21.616401\n",
       "3366  North America  United States  1996     44140.14279           16.419353\n",
       "3367  North America  United States  1995     43033.24352            9.237088\n",
       "3368  North America  United States  1994     42410.32605            4.862781\n",
       "3369  North America  United States  1993     41270.86730            2.271673\n",
       "3370  North America  United States  1992     40698.34018            1.724203\n",
       "3371  North America  United States  1991     39862.57556            1.163194\n",
       "3372  North America  United States  1990     40442.60113            0.784729"
      ]
     },
     "execution_count": 102,
     "metadata": {},
     "output_type": "execute_result"
    }
   ],
   "source": [
    "gdp_United_States = gdp_and_internet_use[gdp_and_internet_use[\"Country\"] == \"United States\"]\n",
    "gdp_United_States"
   ]
  },
  {
   "cell_type": "code",
   "execution_count": 103,
   "id": "fdb9ca97",
   "metadata": {
    "scrolled": true
   },
   "outputs": [
    {
     "data": {
      "text/plain": [
       "0.9916600677796319"
      ]
     },
     "execution_count": 103,
     "metadata": {},
     "output_type": "execute_result"
    }
   ],
   "source": [
    "gdp_United_States[\"GDP_Per_Capita\"].corr(gdp_United_States[\"Internet_Users_Pct\"])"
   ]
  },
  {
   "cell_type": "code",
   "execution_count": 104,
   "id": "588860f9",
   "metadata": {},
   "outputs": [],
   "source": [
    "#This is meaningful. This means that within the United States, there is a strong correlation between the GDP Per\n",
    "#Capita and the percentage of internet users. As the GDP in the US increases, so does the percentage of Internet\n",
    "#users"
   ]
  },
  {
   "cell_type": "markdown",
   "id": "85fe68b5",
   "metadata": {
    "slideshow": {
     "slide_type": "slide"
    }
   },
   "source": [
    "# IS THE WORLD GETTING GREENER?"
   ]
  },
  {
   "cell_type": "markdown",
   "id": "ece2ddc1",
   "metadata": {
    "slideshow": {
     "slide_type": "slide"
    }
   },
   "source": [
    "Uploading Data"
   ]
  },
  {
   "cell_type": "code",
   "execution_count": 105,
   "id": "6499a423",
   "metadata": {
    "slideshow": {
     "slide_type": "fragment"
    }
   },
   "outputs": [],
   "source": [
    "wind_energy = pd.read_csv(\"../data/wind_energy.csv\", skipfooter=2, engine = 'python')"
   ]
  },
  {
   "cell_type": "code",
   "execution_count": 106,
   "id": "c056eaad",
   "metadata": {
    "slideshow": {
     "slide_type": "skip"
    }
   },
   "outputs": [
    {
     "data": {
      "text/html": [
       "<div>\n",
       "<style scoped>\n",
       "    .dataframe tbody tr th:only-of-type {\n",
       "        vertical-align: middle;\n",
       "    }\n",
       "\n",
       "    .dataframe tbody tr th {\n",
       "        vertical-align: top;\n",
       "    }\n",
       "\n",
       "    .dataframe thead th {\n",
       "        text-align: right;\n",
       "    }\n",
       "</style>\n",
       "<table border=\"1\" class=\"dataframe\">\n",
       "  <thead>\n",
       "    <tr style=\"text-align: right;\">\n",
       "      <th></th>\n",
       "      <th>Country or Area</th>\n",
       "      <th>Commodity - Transaction</th>\n",
       "      <th>Year</th>\n",
       "      <th>Unit</th>\n",
       "      <th>Quantity</th>\n",
       "      <th>Quantity Footnotes</th>\n",
       "    </tr>\n",
       "  </thead>\n",
       "  <tbody>\n",
       "    <tr>\n",
       "      <th>0</th>\n",
       "      <td>Algeria</td>\n",
       "      <td>Electricity - total wind production</td>\n",
       "      <td>2018</td>\n",
       "      <td>Kilowatt-hours, million</td>\n",
       "      <td>84.0</td>\n",
       "      <td>1.0</td>\n",
       "    </tr>\n",
       "    <tr>\n",
       "      <th>1</th>\n",
       "      <td>Algeria</td>\n",
       "      <td>Electricity - total wind production</td>\n",
       "      <td>2017</td>\n",
       "      <td>Kilowatt-hours, million</td>\n",
       "      <td>68.0</td>\n",
       "      <td>1.0</td>\n",
       "    </tr>\n",
       "    <tr>\n",
       "      <th>2</th>\n",
       "      <td>Algeria</td>\n",
       "      <td>Electricity - total wind production</td>\n",
       "      <td>2016</td>\n",
       "      <td>Kilowatt-hours, million</td>\n",
       "      <td>19.0</td>\n",
       "      <td>NaN</td>\n",
       "    </tr>\n",
       "    <tr>\n",
       "      <th>3</th>\n",
       "      <td>Algeria</td>\n",
       "      <td>Electricity - total wind production</td>\n",
       "      <td>2015</td>\n",
       "      <td>Kilowatt-hours, million</td>\n",
       "      <td>19.0</td>\n",
       "      <td>NaN</td>\n",
       "    </tr>\n",
       "    <tr>\n",
       "      <th>4</th>\n",
       "      <td>Argentina</td>\n",
       "      <td>Electricity - total wind production</td>\n",
       "      <td>2019</td>\n",
       "      <td>Kilowatt-hours, million</td>\n",
       "      <td>4996.0</td>\n",
       "      <td>NaN</td>\n",
       "    </tr>\n",
       "  </tbody>\n",
       "</table>\n",
       "</div>"
      ],
      "text/plain": [
       "  Country or Area              Commodity - Transaction  Year  \\\n",
       "0         Algeria  Electricity - total wind production  2018   \n",
       "1         Algeria  Electricity - total wind production  2017   \n",
       "2         Algeria  Electricity - total wind production  2016   \n",
       "3         Algeria  Electricity - total wind production  2015   \n",
       "4       Argentina  Electricity - total wind production  2019   \n",
       "\n",
       "                      Unit  Quantity  Quantity Footnotes  \n",
       "0  Kilowatt-hours, million      84.0                 1.0  \n",
       "1  Kilowatt-hours, million      68.0                 1.0  \n",
       "2  Kilowatt-hours, million      19.0                 NaN  \n",
       "3  Kilowatt-hours, million      19.0                 NaN  \n",
       "4  Kilowatt-hours, million    4996.0                 NaN  "
      ]
     },
     "execution_count": 106,
     "metadata": {},
     "output_type": "execute_result"
    }
   ],
   "source": [
    "wind_energy.head()"
   ]
  },
  {
   "cell_type": "code",
   "execution_count": 107,
   "id": "e85f2a80",
   "metadata": {
    "slideshow": {
     "slide_type": "fragment"
    }
   },
   "outputs": [],
   "source": [
    "wind_energy = wind_energy.drop(columns = [\"Commodity - Transaction\", \"Quantity Footnotes\", \"Unit\"]).rename(columns = {\"Country or Area\": \"Country\", \"Quantity\":\"Wind Energy\"})"
   ]
  },
  {
   "cell_type": "code",
   "execution_count": 108,
   "id": "45be0107",
   "metadata": {
    "slideshow": {
     "slide_type": "fragment"
    }
   },
   "outputs": [
    {
     "data": {
      "text/html": [
       "<div>\n",
       "<style scoped>\n",
       "    .dataframe tbody tr th:only-of-type {\n",
       "        vertical-align: middle;\n",
       "    }\n",
       "\n",
       "    .dataframe tbody tr th {\n",
       "        vertical-align: top;\n",
       "    }\n",
       "\n",
       "    .dataframe thead th {\n",
       "        text-align: right;\n",
       "    }\n",
       "</style>\n",
       "<table border=\"1\" class=\"dataframe\">\n",
       "  <thead>\n",
       "    <tr style=\"text-align: right;\">\n",
       "      <th></th>\n",
       "      <th>Country</th>\n",
       "      <th>Year</th>\n",
       "      <th>Wind Energy</th>\n",
       "    </tr>\n",
       "  </thead>\n",
       "  <tbody>\n",
       "    <tr>\n",
       "      <th>0</th>\n",
       "      <td>Algeria</td>\n",
       "      <td>2018</td>\n",
       "      <td>84.0</td>\n",
       "    </tr>\n",
       "    <tr>\n",
       "      <th>1</th>\n",
       "      <td>Algeria</td>\n",
       "      <td>2017</td>\n",
       "      <td>68.0</td>\n",
       "    </tr>\n",
       "    <tr>\n",
       "      <th>2</th>\n",
       "      <td>Algeria</td>\n",
       "      <td>2016</td>\n",
       "      <td>19.0</td>\n",
       "    </tr>\n",
       "    <tr>\n",
       "      <th>3</th>\n",
       "      <td>Algeria</td>\n",
       "      <td>2015</td>\n",
       "      <td>19.0</td>\n",
       "    </tr>\n",
       "    <tr>\n",
       "      <th>4</th>\n",
       "      <td>Argentina</td>\n",
       "      <td>2019</td>\n",
       "      <td>4996.0</td>\n",
       "    </tr>\n",
       "  </tbody>\n",
       "</table>\n",
       "</div>"
      ],
      "text/plain": [
       "     Country  Year  Wind Energy\n",
       "0    Algeria  2018         84.0\n",
       "1    Algeria  2017         68.0\n",
       "2    Algeria  2016         19.0\n",
       "3    Algeria  2015         19.0\n",
       "4  Argentina  2019       4996.0"
      ]
     },
     "execution_count": 108,
     "metadata": {},
     "output_type": "execute_result"
    }
   ],
   "source": [
    "wind_energy.head()"
   ]
  },
  {
   "cell_type": "code",
   "execution_count": 109,
   "id": "1526a97f",
   "metadata": {
    "slideshow": {
     "slide_type": "fragment"
    }
   },
   "outputs": [],
   "source": [
    "solar_energy = pd.read_csv(\"../data/Solar_energy.csv\", skipfooter = 2, engine = 'python')"
   ]
  },
  {
   "cell_type": "code",
   "execution_count": 110,
   "id": "ec7eb4e6",
   "metadata": {},
   "outputs": [
    {
     "data": {
      "text/html": [
       "<div>\n",
       "<style scoped>\n",
       "    .dataframe tbody tr th:only-of-type {\n",
       "        vertical-align: middle;\n",
       "    }\n",
       "\n",
       "    .dataframe tbody tr th {\n",
       "        vertical-align: top;\n",
       "    }\n",
       "\n",
       "    .dataframe thead th {\n",
       "        text-align: right;\n",
       "    }\n",
       "</style>\n",
       "<table border=\"1\" class=\"dataframe\">\n",
       "  <thead>\n",
       "    <tr style=\"text-align: right;\">\n",
       "      <th></th>\n",
       "      <th>Country or Area</th>\n",
       "      <th>Commodity - Transaction</th>\n",
       "      <th>Year</th>\n",
       "      <th>Unit</th>\n",
       "      <th>Quantity</th>\n",
       "      <th>Quantity Footnotes</th>\n",
       "    </tr>\n",
       "  </thead>\n",
       "  <tbody>\n",
       "    <tr>\n",
       "      <th>1997</th>\n",
       "      <td>Yemen</td>\n",
       "      <td>Electricity - total solar production</td>\n",
       "      <td>2013</td>\n",
       "      <td>Kilowatt-hours, million</td>\n",
       "      <td>4.00</td>\n",
       "      <td>NaN</td>\n",
       "    </tr>\n",
       "    <tr>\n",
       "      <th>1998</th>\n",
       "      <td>Yemen</td>\n",
       "      <td>Electricity - total solar production</td>\n",
       "      <td>2012</td>\n",
       "      <td>Kilowatt-hours, million</td>\n",
       "      <td>4.00</td>\n",
       "      <td>NaN</td>\n",
       "    </tr>\n",
       "    <tr>\n",
       "      <th>1999</th>\n",
       "      <td>Yemen</td>\n",
       "      <td>Electricity - total solar production</td>\n",
       "      <td>2011</td>\n",
       "      <td>Kilowatt-hours, million</td>\n",
       "      <td>3.00</td>\n",
       "      <td>NaN</td>\n",
       "    </tr>\n",
       "    <tr>\n",
       "      <th>2000</th>\n",
       "      <td>Zambia</td>\n",
       "      <td>Electricity - total solar production</td>\n",
       "      <td>2019</td>\n",
       "      <td>Kilowatt-hours, million</td>\n",
       "      <td>1.40</td>\n",
       "      <td>NaN</td>\n",
       "    </tr>\n",
       "    <tr>\n",
       "      <th>2001</th>\n",
       "      <td>Zambia</td>\n",
       "      <td>Electricity - total solar production</td>\n",
       "      <td>2018</td>\n",
       "      <td>Kilowatt-hours, million</td>\n",
       "      <td>0.93</td>\n",
       "      <td>NaN</td>\n",
       "    </tr>\n",
       "  </tbody>\n",
       "</table>\n",
       "</div>"
      ],
      "text/plain": [
       "     Country or Area               Commodity - Transaction  Year  \\\n",
       "1997           Yemen  Electricity - total solar production  2013   \n",
       "1998           Yemen  Electricity - total solar production  2012   \n",
       "1999           Yemen  Electricity - total solar production  2011   \n",
       "2000          Zambia  Electricity - total solar production  2019   \n",
       "2001          Zambia  Electricity - total solar production  2018   \n",
       "\n",
       "                         Unit  Quantity  Quantity Footnotes  \n",
       "1997  Kilowatt-hours, million      4.00                 NaN  \n",
       "1998  Kilowatt-hours, million      4.00                 NaN  \n",
       "1999  Kilowatt-hours, million      3.00                 NaN  \n",
       "2000  Kilowatt-hours, million      1.40                 NaN  \n",
       "2001  Kilowatt-hours, million      0.93                 NaN  "
      ]
     },
     "execution_count": 110,
     "metadata": {},
     "output_type": "execute_result"
    }
   ],
   "source": [
    "solar_energy[-5:]"
   ]
  },
  {
   "cell_type": "code",
   "execution_count": 111,
   "id": "6e73feb6",
   "metadata": {
    "slideshow": {
     "slide_type": "fragment"
    }
   },
   "outputs": [],
   "source": [
    "solar_energy = solar_energy.drop(columns = [\"Commodity - Transaction\", \"Quantity Footnotes\", \"Unit\"]).rename(columns = {\"Country or Area\": \"Country\", \"Quantity\":\"Solar Power\"})"
   ]
  },
  {
   "cell_type": "code",
   "execution_count": 112,
   "id": "f8f1afd8",
   "metadata": {
    "slideshow": {
     "slide_type": "fragment"
    }
   },
   "outputs": [
    {
     "data": {
      "text/html": [
       "<div>\n",
       "<style scoped>\n",
       "    .dataframe tbody tr th:only-of-type {\n",
       "        vertical-align: middle;\n",
       "    }\n",
       "\n",
       "    .dataframe tbody tr th {\n",
       "        vertical-align: top;\n",
       "    }\n",
       "\n",
       "    .dataframe thead th {\n",
       "        text-align: right;\n",
       "    }\n",
       "</style>\n",
       "<table border=\"1\" class=\"dataframe\">\n",
       "  <thead>\n",
       "    <tr style=\"text-align: right;\">\n",
       "      <th></th>\n",
       "      <th>Country</th>\n",
       "      <th>Year</th>\n",
       "      <th>Solar Power</th>\n",
       "    </tr>\n",
       "  </thead>\n",
       "  <tbody>\n",
       "    <tr>\n",
       "      <th>0</th>\n",
       "      <td>Afghanistan</td>\n",
       "      <td>2019</td>\n",
       "      <td>20.77</td>\n",
       "    </tr>\n",
       "    <tr>\n",
       "      <th>1</th>\n",
       "      <td>Algeria</td>\n",
       "      <td>2018</td>\n",
       "      <td>62.00</td>\n",
       "    </tr>\n",
       "    <tr>\n",
       "      <th>2</th>\n",
       "      <td>Algeria</td>\n",
       "      <td>2017</td>\n",
       "      <td>50.00</td>\n",
       "    </tr>\n",
       "    <tr>\n",
       "      <th>3</th>\n",
       "      <td>Algeria</td>\n",
       "      <td>2016</td>\n",
       "      <td>14.00</td>\n",
       "    </tr>\n",
       "    <tr>\n",
       "      <th>4</th>\n",
       "      <td>Algeria</td>\n",
       "      <td>2015</td>\n",
       "      <td>58.00</td>\n",
       "    </tr>\n",
       "    <tr>\n",
       "      <th>...</th>\n",
       "      <td>...</td>\n",
       "      <td>...</td>\n",
       "      <td>...</td>\n",
       "    </tr>\n",
       "    <tr>\n",
       "      <th>1997</th>\n",
       "      <td>Yemen</td>\n",
       "      <td>2013</td>\n",
       "      <td>4.00</td>\n",
       "    </tr>\n",
       "    <tr>\n",
       "      <th>1998</th>\n",
       "      <td>Yemen</td>\n",
       "      <td>2012</td>\n",
       "      <td>4.00</td>\n",
       "    </tr>\n",
       "    <tr>\n",
       "      <th>1999</th>\n",
       "      <td>Yemen</td>\n",
       "      <td>2011</td>\n",
       "      <td>3.00</td>\n",
       "    </tr>\n",
       "    <tr>\n",
       "      <th>2000</th>\n",
       "      <td>Zambia</td>\n",
       "      <td>2019</td>\n",
       "      <td>1.40</td>\n",
       "    </tr>\n",
       "    <tr>\n",
       "      <th>2001</th>\n",
       "      <td>Zambia</td>\n",
       "      <td>2018</td>\n",
       "      <td>0.93</td>\n",
       "    </tr>\n",
       "  </tbody>\n",
       "</table>\n",
       "<p>2002 rows × 3 columns</p>\n",
       "</div>"
      ],
      "text/plain": [
       "          Country  Year  Solar Power\n",
       "0     Afghanistan  2019        20.77\n",
       "1         Algeria  2018        62.00\n",
       "2         Algeria  2017        50.00\n",
       "3         Algeria  2016        14.00\n",
       "4         Algeria  2015        58.00\n",
       "...           ...   ...          ...\n",
       "1997        Yemen  2013         4.00\n",
       "1998        Yemen  2012         4.00\n",
       "1999        Yemen  2011         3.00\n",
       "2000       Zambia  2019         1.40\n",
       "2001       Zambia  2018         0.93\n",
       "\n",
       "[2002 rows x 3 columns]"
      ]
     },
     "execution_count": 112,
     "metadata": {},
     "output_type": "execute_result"
    }
   ],
   "source": [
    "solar_energy"
   ]
  },
  {
   "cell_type": "code",
   "execution_count": 113,
   "id": "854c4e8a",
   "metadata": {
    "slideshow": {
     "slide_type": "fragment"
    }
   },
   "outputs": [],
   "source": [
    "hydro_energy = pd.read_csv(\"../data/hydro_energy.csv\", skipfooter = 2, engine = 'python')"
   ]
  },
  {
   "cell_type": "code",
   "execution_count": 114,
   "id": "4fb6c42c",
   "metadata": {},
   "outputs": [
    {
     "data": {
      "text/html": [
       "<div>\n",
       "<style scoped>\n",
       "    .dataframe tbody tr th:only-of-type {\n",
       "        vertical-align: middle;\n",
       "    }\n",
       "\n",
       "    .dataframe tbody tr th {\n",
       "        vertical-align: top;\n",
       "    }\n",
       "\n",
       "    .dataframe thead th {\n",
       "        text-align: right;\n",
       "    }\n",
       "</style>\n",
       "<table border=\"1\" class=\"dataframe\">\n",
       "  <thead>\n",
       "    <tr style=\"text-align: right;\">\n",
       "      <th></th>\n",
       "      <th>Country or Area</th>\n",
       "      <th>Commodity - Transaction</th>\n",
       "      <th>Year</th>\n",
       "      <th>Unit</th>\n",
       "      <th>Quantity</th>\n",
       "      <th>Quantity Footnotes</th>\n",
       "    </tr>\n",
       "  </thead>\n",
       "  <tbody>\n",
       "    <tr>\n",
       "      <th>0</th>\n",
       "      <td>Afghanistan</td>\n",
       "      <td>Electricity - total hydro production</td>\n",
       "      <td>2019</td>\n",
       "      <td>Kilowatt-hours, million</td>\n",
       "      <td>1388.04</td>\n",
       "      <td>NaN</td>\n",
       "    </tr>\n",
       "    <tr>\n",
       "      <th>1</th>\n",
       "      <td>Afghanistan</td>\n",
       "      <td>Electricity - total hydro production</td>\n",
       "      <td>2018</td>\n",
       "      <td>Kilowatt-hours, million</td>\n",
       "      <td>1065.79</td>\n",
       "      <td>NaN</td>\n",
       "    </tr>\n",
       "    <tr>\n",
       "      <th>2</th>\n",
       "      <td>Afghanistan</td>\n",
       "      <td>Electricity - total hydro production</td>\n",
       "      <td>2017</td>\n",
       "      <td>Kilowatt-hours, million</td>\n",
       "      <td>1243.78</td>\n",
       "      <td>NaN</td>\n",
       "    </tr>\n",
       "    <tr>\n",
       "      <th>3</th>\n",
       "      <td>Afghanistan</td>\n",
       "      <td>Electricity - total hydro production</td>\n",
       "      <td>2016</td>\n",
       "      <td>Kilowatt-hours, million</td>\n",
       "      <td>1239.20</td>\n",
       "      <td>NaN</td>\n",
       "    </tr>\n",
       "    <tr>\n",
       "      <th>4</th>\n",
       "      <td>Afghanistan</td>\n",
       "      <td>Electricity - total hydro production</td>\n",
       "      <td>2015</td>\n",
       "      <td>Kilowatt-hours, million</td>\n",
       "      <td>1189.50</td>\n",
       "      <td>NaN</td>\n",
       "    </tr>\n",
       "  </tbody>\n",
       "</table>\n",
       "</div>"
      ],
      "text/plain": [
       "  Country or Area               Commodity - Transaction  Year  \\\n",
       "0     Afghanistan  Electricity - total hydro production  2019   \n",
       "1     Afghanistan  Electricity - total hydro production  2018   \n",
       "2     Afghanistan  Electricity - total hydro production  2017   \n",
       "3     Afghanistan  Electricity - total hydro production  2016   \n",
       "4     Afghanistan  Electricity - total hydro production  2015   \n",
       "\n",
       "                      Unit  Quantity  Quantity Footnotes  \n",
       "0  Kilowatt-hours, million   1388.04                 NaN  \n",
       "1  Kilowatt-hours, million   1065.79                 NaN  \n",
       "2  Kilowatt-hours, million   1243.78                 NaN  \n",
       "3  Kilowatt-hours, million   1239.20                 NaN  \n",
       "4  Kilowatt-hours, million   1189.50                 NaN  "
      ]
     },
     "execution_count": 114,
     "metadata": {},
     "output_type": "execute_result"
    }
   ],
   "source": [
    "hydro_energy.head()"
   ]
  },
  {
   "cell_type": "code",
   "execution_count": 115,
   "id": "c9caa99e",
   "metadata": {
    "slideshow": {
     "slide_type": "fragment"
    }
   },
   "outputs": [],
   "source": [
    "hydro_energy = hydro_energy.drop(columns = [\"Commodity - Transaction\", \"Quantity Footnotes\", \"Unit\"]).rename(columns = {\"Country or Area\": \"Country\", \"Quantity\":\"Hydro Power\"})"
   ]
  },
  {
   "cell_type": "code",
   "execution_count": 116,
   "id": "8e7d6f7b",
   "metadata": {
    "slideshow": {
     "slide_type": "fragment"
    }
   },
   "outputs": [
    {
     "data": {
      "text/html": [
       "<div>\n",
       "<style scoped>\n",
       "    .dataframe tbody tr th:only-of-type {\n",
       "        vertical-align: middle;\n",
       "    }\n",
       "\n",
       "    .dataframe tbody tr th {\n",
       "        vertical-align: top;\n",
       "    }\n",
       "\n",
       "    .dataframe thead th {\n",
       "        text-align: right;\n",
       "    }\n",
       "</style>\n",
       "<table border=\"1\" class=\"dataframe\">\n",
       "  <thead>\n",
       "    <tr style=\"text-align: right;\">\n",
       "      <th></th>\n",
       "      <th>Country</th>\n",
       "      <th>Year</th>\n",
       "      <th>Hydro Power</th>\n",
       "    </tr>\n",
       "  </thead>\n",
       "  <tbody>\n",
       "    <tr>\n",
       "      <th>0</th>\n",
       "      <td>Afghanistan</td>\n",
       "      <td>2019</td>\n",
       "      <td>1388.04</td>\n",
       "    </tr>\n",
       "    <tr>\n",
       "      <th>1</th>\n",
       "      <td>Afghanistan</td>\n",
       "      <td>2018</td>\n",
       "      <td>1065.79</td>\n",
       "    </tr>\n",
       "    <tr>\n",
       "      <th>2</th>\n",
       "      <td>Afghanistan</td>\n",
       "      <td>2017</td>\n",
       "      <td>1243.78</td>\n",
       "    </tr>\n",
       "    <tr>\n",
       "      <th>3</th>\n",
       "      <td>Afghanistan</td>\n",
       "      <td>2016</td>\n",
       "      <td>1239.20</td>\n",
       "    </tr>\n",
       "    <tr>\n",
       "      <th>4</th>\n",
       "      <td>Afghanistan</td>\n",
       "      <td>2015</td>\n",
       "      <td>1189.50</td>\n",
       "    </tr>\n",
       "  </tbody>\n",
       "</table>\n",
       "</div>"
      ],
      "text/plain": [
       "       Country  Year  Hydro Power\n",
       "0  Afghanistan  2019      1388.04\n",
       "1  Afghanistan  2018      1065.79\n",
       "2  Afghanistan  2017      1243.78\n",
       "3  Afghanistan  2016      1239.20\n",
       "4  Afghanistan  2015      1189.50"
      ]
     },
     "execution_count": 116,
     "metadata": {},
     "output_type": "execute_result"
    }
   ],
   "source": [
    "hydro_energy.head()"
   ]
  },
  {
   "cell_type": "code",
   "execution_count": 117,
   "id": "eeb9f072",
   "metadata": {},
   "outputs": [],
   "source": [
    "co2_emmissions = pd.read_csv(\"../data/CO2_emissions.csv\")"
   ]
  },
  {
   "cell_type": "code",
   "execution_count": 118,
   "id": "41f34b74",
   "metadata": {},
   "outputs": [
    {
     "data": {
      "text/html": [
       "<div>\n",
       "<style scoped>\n",
       "    .dataframe tbody tr th:only-of-type {\n",
       "        vertical-align: middle;\n",
       "    }\n",
       "\n",
       "    .dataframe tbody tr th {\n",
       "        vertical-align: top;\n",
       "    }\n",
       "\n",
       "    .dataframe thead th {\n",
       "        text-align: right;\n",
       "    }\n",
       "</style>\n",
       "<table border=\"1\" class=\"dataframe\">\n",
       "  <thead>\n",
       "    <tr style=\"text-align: right;\">\n",
       "      <th></th>\n",
       "      <th>Country or Area</th>\n",
       "      <th>Year</th>\n",
       "      <th>Value</th>\n",
       "    </tr>\n",
       "  </thead>\n",
       "  <tbody>\n",
       "    <tr>\n",
       "      <th>0</th>\n",
       "      <td>Australia</td>\n",
       "      <td>2018</td>\n",
       "      <td>4.159539e+05</td>\n",
       "    </tr>\n",
       "    <tr>\n",
       "      <th>1</th>\n",
       "      <td>Australia</td>\n",
       "      <td>2017</td>\n",
       "      <td>4.150974e+05</td>\n",
       "    </tr>\n",
       "    <tr>\n",
       "      <th>2</th>\n",
       "      <td>Australia</td>\n",
       "      <td>2016</td>\n",
       "      <td>4.110315e+05</td>\n",
       "    </tr>\n",
       "    <tr>\n",
       "      <th>3</th>\n",
       "      <td>Australia</td>\n",
       "      <td>2015</td>\n",
       "      <td>4.015548e+05</td>\n",
       "    </tr>\n",
       "    <tr>\n",
       "      <th>4</th>\n",
       "      <td>Australia</td>\n",
       "      <td>2014</td>\n",
       "      <td>3.941169e+05</td>\n",
       "    </tr>\n",
       "    <tr>\n",
       "      <th>...</th>\n",
       "      <td>...</td>\n",
       "      <td>...</td>\n",
       "      <td>...</td>\n",
       "    </tr>\n",
       "    <tr>\n",
       "      <th>1242</th>\n",
       "      <td>United States of America</td>\n",
       "      <td>1994</td>\n",
       "      <td>5.377033e+06</td>\n",
       "    </tr>\n",
       "    <tr>\n",
       "      <th>1243</th>\n",
       "      <td>United States of America</td>\n",
       "      <td>1993</td>\n",
       "      <td>5.283438e+06</td>\n",
       "    </tr>\n",
       "    <tr>\n",
       "      <th>1244</th>\n",
       "      <td>United States of America</td>\n",
       "      <td>1992</td>\n",
       "      <td>5.182707e+06</td>\n",
       "    </tr>\n",
       "    <tr>\n",
       "      <th>1245</th>\n",
       "      <td>United States of America</td>\n",
       "      <td>1991</td>\n",
       "      <td>5.078890e+06</td>\n",
       "    </tr>\n",
       "    <tr>\n",
       "      <th>1246</th>\n",
       "      <td>United States of America</td>\n",
       "      <td>1990</td>\n",
       "      <td>5.128301e+06</td>\n",
       "    </tr>\n",
       "  </tbody>\n",
       "</table>\n",
       "<p>1247 rows × 3 columns</p>\n",
       "</div>"
      ],
      "text/plain": [
       "               Country or Area  Year         Value\n",
       "0                    Australia  2018  4.159539e+05\n",
       "1                    Australia  2017  4.150974e+05\n",
       "2                    Australia  2016  4.110315e+05\n",
       "3                    Australia  2015  4.015548e+05\n",
       "4                    Australia  2014  3.941169e+05\n",
       "...                        ...   ...           ...\n",
       "1242  United States of America  1994  5.377033e+06\n",
       "1243  United States of America  1993  5.283438e+06\n",
       "1244  United States of America  1992  5.182707e+06\n",
       "1245  United States of America  1991  5.078890e+06\n",
       "1246  United States of America  1990  5.128301e+06\n",
       "\n",
       "[1247 rows x 3 columns]"
      ]
     },
     "execution_count": 118,
     "metadata": {},
     "output_type": "execute_result"
    }
   ],
   "source": [
    "co2_emmissions"
   ]
  },
  {
   "cell_type": "code",
   "execution_count": 119,
   "id": "53adac20",
   "metadata": {},
   "outputs": [],
   "source": [
    "co2_emmissions = co2_emmissions.rename(columns = {\"Country or Area\":\"Country\", \"Value\":\"CO2_emmissions\"})\n",
    "co2_emmissions = co2_emmissions.replace(\"United States of America\", \"United States\")"
   ]
  },
  {
   "cell_type": "code",
   "execution_count": 120,
   "id": "cc86a65f",
   "metadata": {},
   "outputs": [
    {
     "data": {
      "text/html": [
       "<div>\n",
       "<style scoped>\n",
       "    .dataframe tbody tr th:only-of-type {\n",
       "        vertical-align: middle;\n",
       "    }\n",
       "\n",
       "    .dataframe tbody tr th {\n",
       "        vertical-align: top;\n",
       "    }\n",
       "\n",
       "    .dataframe thead th {\n",
       "        text-align: right;\n",
       "    }\n",
       "</style>\n",
       "<table border=\"1\" class=\"dataframe\">\n",
       "  <thead>\n",
       "    <tr style=\"text-align: right;\">\n",
       "      <th></th>\n",
       "      <th>Country or Area</th>\n",
       "      <th>Year(s)</th>\n",
       "      <th>Variant</th>\n",
       "      <th>Value</th>\n",
       "    </tr>\n",
       "  </thead>\n",
       "  <tbody>\n",
       "    <tr>\n",
       "      <th>0</th>\n",
       "      <td>Afghanistan</td>\n",
       "      <td>2018</td>\n",
       "      <td>Medium</td>\n",
       "      <td>37171.921</td>\n",
       "    </tr>\n",
       "    <tr>\n",
       "      <th>1</th>\n",
       "      <td>Afghanistan</td>\n",
       "      <td>2017</td>\n",
       "      <td>Medium</td>\n",
       "      <td>36296.113</td>\n",
       "    </tr>\n",
       "    <tr>\n",
       "      <th>2</th>\n",
       "      <td>Afghanistan</td>\n",
       "      <td>2016</td>\n",
       "      <td>Medium</td>\n",
       "      <td>35383.032</td>\n",
       "    </tr>\n",
       "    <tr>\n",
       "      <th>3</th>\n",
       "      <td>Afghanistan</td>\n",
       "      <td>2015</td>\n",
       "      <td>Medium</td>\n",
       "      <td>34413.603</td>\n",
       "    </tr>\n",
       "    <tr>\n",
       "      <th>4</th>\n",
       "      <td>Afghanistan</td>\n",
       "      <td>2014</td>\n",
       "      <td>Medium</td>\n",
       "      <td>33370.794</td>\n",
       "    </tr>\n",
       "  </tbody>\n",
       "</table>\n",
       "</div>"
      ],
      "text/plain": [
       "  Country or Area  Year(s) Variant      Value\n",
       "0     Afghanistan     2018  Medium  37171.921\n",
       "1     Afghanistan     2017  Medium  36296.113\n",
       "2     Afghanistan     2016  Medium  35383.032\n",
       "3     Afghanistan     2015  Medium  34413.603\n",
       "4     Afghanistan     2014  Medium  33370.794"
      ]
     },
     "execution_count": 120,
     "metadata": {},
     "output_type": "execute_result"
    }
   ],
   "source": [
    "population = pd.read_csv(\"../data/Population.csv\", skipfooter = 29, engine = 'python')\n",
    "population.head()"
   ]
  },
  {
   "cell_type": "code",
   "execution_count": 121,
   "id": "9dadd4ab",
   "metadata": {},
   "outputs": [
    {
     "data": {
      "text/html": [
       "<div>\n",
       "<style scoped>\n",
       "    .dataframe tbody tr th:only-of-type {\n",
       "        vertical-align: middle;\n",
       "    }\n",
       "\n",
       "    .dataframe tbody tr th {\n",
       "        vertical-align: top;\n",
       "    }\n",
       "\n",
       "    .dataframe thead th {\n",
       "        text-align: right;\n",
       "    }\n",
       "</style>\n",
       "<table border=\"1\" class=\"dataframe\">\n",
       "  <thead>\n",
       "    <tr style=\"text-align: right;\">\n",
       "      <th></th>\n",
       "      <th>Country</th>\n",
       "      <th>Year</th>\n",
       "      <th>Population</th>\n",
       "    </tr>\n",
       "  </thead>\n",
       "  <tbody>\n",
       "    <tr>\n",
       "      <th>0</th>\n",
       "      <td>Afghanistan</td>\n",
       "      <td>2018</td>\n",
       "      <td>37171.921</td>\n",
       "    </tr>\n",
       "    <tr>\n",
       "      <th>1</th>\n",
       "      <td>Afghanistan</td>\n",
       "      <td>2017</td>\n",
       "      <td>36296.113</td>\n",
       "    </tr>\n",
       "    <tr>\n",
       "      <th>2</th>\n",
       "      <td>Afghanistan</td>\n",
       "      <td>2016</td>\n",
       "      <td>35383.032</td>\n",
       "    </tr>\n",
       "    <tr>\n",
       "      <th>3</th>\n",
       "      <td>Afghanistan</td>\n",
       "      <td>2015</td>\n",
       "      <td>34413.603</td>\n",
       "    </tr>\n",
       "    <tr>\n",
       "      <th>4</th>\n",
       "      <td>Afghanistan</td>\n",
       "      <td>2014</td>\n",
       "      <td>33370.794</td>\n",
       "    </tr>\n",
       "  </tbody>\n",
       "</table>\n",
       "</div>"
      ],
      "text/plain": [
       "       Country  Year  Population\n",
       "0  Afghanistan  2018   37171.921\n",
       "1  Afghanistan  2017   36296.113\n",
       "2  Afghanistan  2016   35383.032\n",
       "3  Afghanistan  2015   34413.603\n",
       "4  Afghanistan  2014   33370.794"
      ]
     },
     "execution_count": 121,
     "metadata": {},
     "output_type": "execute_result"
    }
   ],
   "source": [
    "population = population.drop(columns = \"Variant\")\n",
    "population = population.rename(columns = {\"Country or Area\":\"Country\", \"Value\":\"Population\", \"Year(s)\":\"Year\"}).replace(\"United States of America\", \"United States\")\n",
    "population.head()"
   ]
  },
  {
   "cell_type": "code",
   "execution_count": 122,
   "id": "65813cd9",
   "metadata": {},
   "outputs": [],
   "source": [
    "#population is given in thousands, want to convert to total population"
   ]
  },
  {
   "cell_type": "code",
   "execution_count": 123,
   "id": "a248af30",
   "metadata": {},
   "outputs": [],
   "source": [
    "population[\"Population\"] = population[\"Population\"]*1000"
   ]
  },
  {
   "cell_type": "markdown",
   "id": "e36c4cab",
   "metadata": {
    "slideshow": {
     "slide_type": "slide"
    }
   },
   "source": [
    "# Merging Data"
   ]
  },
  {
   "cell_type": "code",
   "execution_count": 124,
   "id": "e9982629",
   "metadata": {
    "slideshow": {
     "slide_type": "slide"
    }
   },
   "outputs": [
    {
     "data": {
      "text/html": [
       "<div>\n",
       "<style scoped>\n",
       "    .dataframe tbody tr th:only-of-type {\n",
       "        vertical-align: middle;\n",
       "    }\n",
       "\n",
       "    .dataframe tbody tr th {\n",
       "        vertical-align: top;\n",
       "    }\n",
       "\n",
       "    .dataframe thead th {\n",
       "        text-align: right;\n",
       "    }\n",
       "</style>\n",
       "<table border=\"1\" class=\"dataframe\">\n",
       "  <thead>\n",
       "    <tr style=\"text-align: right;\">\n",
       "      <th></th>\n",
       "      <th>Continent</th>\n",
       "      <th>Country</th>\n",
       "      <th>Year</th>\n",
       "      <th>GDP_Per_Capita</th>\n",
       "      <th>Solar Power</th>\n",
       "    </tr>\n",
       "  </thead>\n",
       "  <tbody>\n",
       "    <tr>\n",
       "      <th>0</th>\n",
       "      <td>Asia</td>\n",
       "      <td>Afghanistan</td>\n",
       "      <td>2019</td>\n",
       "      <td>2065.036398</td>\n",
       "      <td>20.77</td>\n",
       "    </tr>\n",
       "    <tr>\n",
       "      <th>1</th>\n",
       "      <td>Asia</td>\n",
       "      <td>Afghanistan</td>\n",
       "      <td>2018</td>\n",
       "      <td>2033.779002</td>\n",
       "      <td>NaN</td>\n",
       "    </tr>\n",
       "    <tr>\n",
       "      <th>2</th>\n",
       "      <td>Asia</td>\n",
       "      <td>Afghanistan</td>\n",
       "      <td>2017</td>\n",
       "      <td>2058.383832</td>\n",
       "      <td>NaN</td>\n",
       "    </tr>\n",
       "    <tr>\n",
       "      <th>3</th>\n",
       "      <td>Asia</td>\n",
       "      <td>Afghanistan</td>\n",
       "      <td>2016</td>\n",
       "      <td>2057.062164</td>\n",
       "      <td>NaN</td>\n",
       "    </tr>\n",
       "    <tr>\n",
       "      <th>4</th>\n",
       "      <td>Asia</td>\n",
       "      <td>Afghanistan</td>\n",
       "      <td>2015</td>\n",
       "      <td>2068.265904</td>\n",
       "      <td>NaN</td>\n",
       "    </tr>\n",
       "    <tr>\n",
       "      <th>...</th>\n",
       "      <td>...</td>\n",
       "      <td>...</td>\n",
       "      <td>...</td>\n",
       "      <td>...</td>\n",
       "      <td>...</td>\n",
       "    </tr>\n",
       "    <tr>\n",
       "      <th>5949</th>\n",
       "      <td>NaN</td>\n",
       "      <td>Yemen</td>\n",
       "      <td>2015</td>\n",
       "      <td>NaN</td>\n",
       "      <td>110.00</td>\n",
       "    </tr>\n",
       "    <tr>\n",
       "      <th>5950</th>\n",
       "      <td>NaN</td>\n",
       "      <td>Yemen</td>\n",
       "      <td>2014</td>\n",
       "      <td>NaN</td>\n",
       "      <td>9.00</td>\n",
       "    </tr>\n",
       "    <tr>\n",
       "      <th>5951</th>\n",
       "      <td>NaN</td>\n",
       "      <td>Yemen</td>\n",
       "      <td>2013</td>\n",
       "      <td>NaN</td>\n",
       "      <td>4.00</td>\n",
       "    </tr>\n",
       "    <tr>\n",
       "      <th>5952</th>\n",
       "      <td>NaN</td>\n",
       "      <td>Yemen</td>\n",
       "      <td>2012</td>\n",
       "      <td>NaN</td>\n",
       "      <td>4.00</td>\n",
       "    </tr>\n",
       "    <tr>\n",
       "      <th>5953</th>\n",
       "      <td>NaN</td>\n",
       "      <td>Yemen</td>\n",
       "      <td>2011</td>\n",
       "      <td>NaN</td>\n",
       "      <td>3.00</td>\n",
       "    </tr>\n",
       "  </tbody>\n",
       "</table>\n",
       "<p>5954 rows × 5 columns</p>\n",
       "</div>"
      ],
      "text/plain": [
       "     Continent      Country  Year  GDP_Per_Capita  Solar Power\n",
       "0         Asia  Afghanistan  2019     2065.036398        20.77\n",
       "1         Asia  Afghanistan  2018     2033.779002          NaN\n",
       "2         Asia  Afghanistan  2017     2058.383832          NaN\n",
       "3         Asia  Afghanistan  2016     2057.062164          NaN\n",
       "4         Asia  Afghanistan  2015     2068.265904          NaN\n",
       "...        ...          ...   ...             ...          ...\n",
       "5949       NaN        Yemen  2015             NaN       110.00\n",
       "5950       NaN        Yemen  2014             NaN         9.00\n",
       "5951       NaN        Yemen  2013             NaN         4.00\n",
       "5952       NaN        Yemen  2012             NaN         4.00\n",
       "5953       NaN        Yemen  2011             NaN         3.00\n",
       "\n",
       "[5954 rows x 5 columns]"
      ]
     },
     "execution_count": 124,
     "metadata": {},
     "output_type": "execute_result"
    }
   ],
   "source": [
    "gdp_and_solar = pd.merge(left = gdp_df, right = solar_energy, on = [\"Country\",\"Year\"], how = 'outer')\n",
    "gdp_and_solar"
   ]
  },
  {
   "cell_type": "code",
   "execution_count": 125,
   "id": "e6e05961",
   "metadata": {},
   "outputs": [
    {
     "data": {
      "text/html": [
       "<div>\n",
       "<style scoped>\n",
       "    .dataframe tbody tr th:only-of-type {\n",
       "        vertical-align: middle;\n",
       "    }\n",
       "\n",
       "    .dataframe tbody tr th {\n",
       "        vertical-align: top;\n",
       "    }\n",
       "\n",
       "    .dataframe thead th {\n",
       "        text-align: right;\n",
       "    }\n",
       "</style>\n",
       "<table border=\"1\" class=\"dataframe\">\n",
       "  <thead>\n",
       "    <tr style=\"text-align: right;\">\n",
       "      <th></th>\n",
       "      <th>Continent</th>\n",
       "      <th>Country</th>\n",
       "      <th>Year</th>\n",
       "      <th>GDP_Per_Capita</th>\n",
       "      <th>Solar Power</th>\n",
       "      <th>Hydro Power</th>\n",
       "    </tr>\n",
       "  </thead>\n",
       "  <tbody>\n",
       "    <tr>\n",
       "      <th>0</th>\n",
       "      <td>Asia</td>\n",
       "      <td>Afghanistan</td>\n",
       "      <td>2019</td>\n",
       "      <td>2065.036398</td>\n",
       "      <td>20.77</td>\n",
       "      <td>1388.04</td>\n",
       "    </tr>\n",
       "    <tr>\n",
       "      <th>1</th>\n",
       "      <td>Asia</td>\n",
       "      <td>Afghanistan</td>\n",
       "      <td>2018</td>\n",
       "      <td>2033.779002</td>\n",
       "      <td>NaN</td>\n",
       "      <td>1065.79</td>\n",
       "    </tr>\n",
       "    <tr>\n",
       "      <th>2</th>\n",
       "      <td>Asia</td>\n",
       "      <td>Afghanistan</td>\n",
       "      <td>2017</td>\n",
       "      <td>2058.383832</td>\n",
       "      <td>NaN</td>\n",
       "      <td>1243.78</td>\n",
       "    </tr>\n",
       "    <tr>\n",
       "      <th>3</th>\n",
       "      <td>Asia</td>\n",
       "      <td>Afghanistan</td>\n",
       "      <td>2016</td>\n",
       "      <td>2057.062164</td>\n",
       "      <td>NaN</td>\n",
       "      <td>1239.20</td>\n",
       "    </tr>\n",
       "    <tr>\n",
       "      <th>4</th>\n",
       "      <td>Asia</td>\n",
       "      <td>Afghanistan</td>\n",
       "      <td>2015</td>\n",
       "      <td>2068.265904</td>\n",
       "      <td>NaN</td>\n",
       "      <td>1189.50</td>\n",
       "    </tr>\n",
       "    <tr>\n",
       "      <th>...</th>\n",
       "      <td>...</td>\n",
       "      <td>...</td>\n",
       "      <td>...</td>\n",
       "      <td>...</td>\n",
       "      <td>...</td>\n",
       "      <td>...</td>\n",
       "    </tr>\n",
       "    <tr>\n",
       "      <th>6700</th>\n",
       "      <td>NaN</td>\n",
       "      <td>Wallis and Futuna Is.</td>\n",
       "      <td>2003</td>\n",
       "      <td>NaN</td>\n",
       "      <td>NaN</td>\n",
       "      <td>0.56</td>\n",
       "    </tr>\n",
       "    <tr>\n",
       "      <th>6701</th>\n",
       "      <td>NaN</td>\n",
       "      <td>Wallis and Futuna Is.</td>\n",
       "      <td>2002</td>\n",
       "      <td>NaN</td>\n",
       "      <td>NaN</td>\n",
       "      <td>0.54</td>\n",
       "    </tr>\n",
       "    <tr>\n",
       "      <th>6702</th>\n",
       "      <td>NaN</td>\n",
       "      <td>Wallis and Futuna Is.</td>\n",
       "      <td>2001</td>\n",
       "      <td>NaN</td>\n",
       "      <td>NaN</td>\n",
       "      <td>0.51</td>\n",
       "    </tr>\n",
       "    <tr>\n",
       "      <th>6703</th>\n",
       "      <td>NaN</td>\n",
       "      <td>Yugoslavia, SFR (former)</td>\n",
       "      <td>1991</td>\n",
       "      <td>NaN</td>\n",
       "      <td>NaN</td>\n",
       "      <td>19120.00</td>\n",
       "    </tr>\n",
       "    <tr>\n",
       "      <th>6704</th>\n",
       "      <td>NaN</td>\n",
       "      <td>Yugoslavia, SFR (former)</td>\n",
       "      <td>1990</td>\n",
       "      <td>NaN</td>\n",
       "      <td>NaN</td>\n",
       "      <td>20094.00</td>\n",
       "    </tr>\n",
       "  </tbody>\n",
       "</table>\n",
       "<p>6705 rows × 6 columns</p>\n",
       "</div>"
      ],
      "text/plain": [
       "     Continent                   Country  Year  GDP_Per_Capita  Solar Power  \\\n",
       "0         Asia               Afghanistan  2019     2065.036398        20.77   \n",
       "1         Asia               Afghanistan  2018     2033.779002          NaN   \n",
       "2         Asia               Afghanistan  2017     2058.383832          NaN   \n",
       "3         Asia               Afghanistan  2016     2057.062164          NaN   \n",
       "4         Asia               Afghanistan  2015     2068.265904          NaN   \n",
       "...        ...                       ...   ...             ...          ...   \n",
       "6700       NaN     Wallis and Futuna Is.  2003             NaN          NaN   \n",
       "6701       NaN     Wallis and Futuna Is.  2002             NaN          NaN   \n",
       "6702       NaN     Wallis and Futuna Is.  2001             NaN          NaN   \n",
       "6703       NaN  Yugoslavia, SFR (former)  1991             NaN          NaN   \n",
       "6704       NaN  Yugoslavia, SFR (former)  1990             NaN          NaN   \n",
       "\n",
       "      Hydro Power  \n",
       "0         1388.04  \n",
       "1         1065.79  \n",
       "2         1243.78  \n",
       "3         1239.20  \n",
       "4         1189.50  \n",
       "...           ...  \n",
       "6700         0.56  \n",
       "6701         0.54  \n",
       "6702         0.51  \n",
       "6703     19120.00  \n",
       "6704     20094.00  \n",
       "\n",
       "[6705 rows x 6 columns]"
      ]
     },
     "execution_count": 125,
     "metadata": {},
     "output_type": "execute_result"
    }
   ],
   "source": [
    "gdp_solar_hydro = pd.merge(left = gdp_and_solar, right = hydro_energy, on =[\"Country\",\"Year\"], how = 'outer')\n",
    "gdp_solar_hydro"
   ]
  },
  {
   "cell_type": "code",
   "execution_count": 126,
   "id": "82016601",
   "metadata": {
    "slideshow": {
     "slide_type": "fragment"
    }
   },
   "outputs": [
    {
     "data": {
      "text/html": [
       "<div>\n",
       "<style scoped>\n",
       "    .dataframe tbody tr th:only-of-type {\n",
       "        vertical-align: middle;\n",
       "    }\n",
       "\n",
       "    .dataframe tbody tr th {\n",
       "        vertical-align: top;\n",
       "    }\n",
       "\n",
       "    .dataframe thead th {\n",
       "        text-align: right;\n",
       "    }\n",
       "</style>\n",
       "<table border=\"1\" class=\"dataframe\">\n",
       "  <thead>\n",
       "    <tr style=\"text-align: right;\">\n",
       "      <th></th>\n",
       "      <th>Continent</th>\n",
       "      <th>Country</th>\n",
       "      <th>Year</th>\n",
       "      <th>GDP_Per_Capita</th>\n",
       "      <th>Solar Power</th>\n",
       "      <th>Hydro Power</th>\n",
       "      <th>Wind Energy</th>\n",
       "    </tr>\n",
       "  </thead>\n",
       "  <tbody>\n",
       "    <tr>\n",
       "      <th>0</th>\n",
       "      <td>Asia</td>\n",
       "      <td>Afghanistan</td>\n",
       "      <td>2019</td>\n",
       "      <td>2065.036398</td>\n",
       "      <td>20.77</td>\n",
       "      <td>1388.04</td>\n",
       "      <td>NaN</td>\n",
       "    </tr>\n",
       "    <tr>\n",
       "      <th>1</th>\n",
       "      <td>Asia</td>\n",
       "      <td>Afghanistan</td>\n",
       "      <td>2018</td>\n",
       "      <td>2033.779002</td>\n",
       "      <td>NaN</td>\n",
       "      <td>1065.79</td>\n",
       "      <td>NaN</td>\n",
       "    </tr>\n",
       "    <tr>\n",
       "      <th>2</th>\n",
       "      <td>Asia</td>\n",
       "      <td>Afghanistan</td>\n",
       "      <td>2017</td>\n",
       "      <td>2058.383832</td>\n",
       "      <td>NaN</td>\n",
       "      <td>1243.78</td>\n",
       "      <td>NaN</td>\n",
       "    </tr>\n",
       "    <tr>\n",
       "      <th>3</th>\n",
       "      <td>Asia</td>\n",
       "      <td>Afghanistan</td>\n",
       "      <td>2016</td>\n",
       "      <td>2057.062164</td>\n",
       "      <td>NaN</td>\n",
       "      <td>1239.20</td>\n",
       "      <td>NaN</td>\n",
       "    </tr>\n",
       "    <tr>\n",
       "      <th>4</th>\n",
       "      <td>Asia</td>\n",
       "      <td>Afghanistan</td>\n",
       "      <td>2015</td>\n",
       "      <td>2068.265904</td>\n",
       "      <td>NaN</td>\n",
       "      <td>1189.50</td>\n",
       "      <td>NaN</td>\n",
       "    </tr>\n",
       "    <tr>\n",
       "      <th>...</th>\n",
       "      <td>...</td>\n",
       "      <td>...</td>\n",
       "      <td>...</td>\n",
       "      <td>...</td>\n",
       "      <td>...</td>\n",
       "      <td>...</td>\n",
       "      <td>...</td>\n",
       "    </tr>\n",
       "    <tr>\n",
       "      <th>6811</th>\n",
       "      <td>NaN</td>\n",
       "      <td>St. Pierre-Miquelon</td>\n",
       "      <td>2004</td>\n",
       "      <td>NaN</td>\n",
       "      <td>NaN</td>\n",
       "      <td>NaN</td>\n",
       "      <td>0.8</td>\n",
       "    </tr>\n",
       "    <tr>\n",
       "      <th>6812</th>\n",
       "      <td>NaN</td>\n",
       "      <td>St. Pierre-Miquelon</td>\n",
       "      <td>2003</td>\n",
       "      <td>NaN</td>\n",
       "      <td>NaN</td>\n",
       "      <td>NaN</td>\n",
       "      <td>0.8</td>\n",
       "    </tr>\n",
       "    <tr>\n",
       "      <th>6813</th>\n",
       "      <td>NaN</td>\n",
       "      <td>St. Pierre-Miquelon</td>\n",
       "      <td>2002</td>\n",
       "      <td>NaN</td>\n",
       "      <td>NaN</td>\n",
       "      <td>NaN</td>\n",
       "      <td>0.8</td>\n",
       "    </tr>\n",
       "    <tr>\n",
       "      <th>6814</th>\n",
       "      <td>NaN</td>\n",
       "      <td>St. Pierre-Miquelon</td>\n",
       "      <td>2001</td>\n",
       "      <td>NaN</td>\n",
       "      <td>NaN</td>\n",
       "      <td>NaN</td>\n",
       "      <td>0.8</td>\n",
       "    </tr>\n",
       "    <tr>\n",
       "      <th>6815</th>\n",
       "      <td>NaN</td>\n",
       "      <td>St. Pierre-Miquelon</td>\n",
       "      <td>2000</td>\n",
       "      <td>NaN</td>\n",
       "      <td>NaN</td>\n",
       "      <td>NaN</td>\n",
       "      <td>0.8</td>\n",
       "    </tr>\n",
       "  </tbody>\n",
       "</table>\n",
       "<p>6816 rows × 7 columns</p>\n",
       "</div>"
      ],
      "text/plain": [
       "     Continent              Country  Year  GDP_Per_Capita  Solar Power  \\\n",
       "0         Asia          Afghanistan  2019     2065.036398        20.77   \n",
       "1         Asia          Afghanistan  2018     2033.779002          NaN   \n",
       "2         Asia          Afghanistan  2017     2058.383832          NaN   \n",
       "3         Asia          Afghanistan  2016     2057.062164          NaN   \n",
       "4         Asia          Afghanistan  2015     2068.265904          NaN   \n",
       "...        ...                  ...   ...             ...          ...   \n",
       "6811       NaN  St. Pierre-Miquelon  2004             NaN          NaN   \n",
       "6812       NaN  St. Pierre-Miquelon  2003             NaN          NaN   \n",
       "6813       NaN  St. Pierre-Miquelon  2002             NaN          NaN   \n",
       "6814       NaN  St. Pierre-Miquelon  2001             NaN          NaN   \n",
       "6815       NaN  St. Pierre-Miquelon  2000             NaN          NaN   \n",
       "\n",
       "      Hydro Power  Wind Energy  \n",
       "0         1388.04          NaN  \n",
       "1         1065.79          NaN  \n",
       "2         1243.78          NaN  \n",
       "3         1239.20          NaN  \n",
       "4         1189.50          NaN  \n",
       "...           ...          ...  \n",
       "6811          NaN          0.8  \n",
       "6812          NaN          0.8  \n",
       "6813          NaN          0.8  \n",
       "6814          NaN          0.8  \n",
       "6815          NaN          0.8  \n",
       "\n",
       "[6816 rows x 7 columns]"
      ]
     },
     "execution_count": 126,
     "metadata": {},
     "output_type": "execute_result"
    }
   ],
   "source": [
    "gdp_and_renewable_energy = pd.merge(left = gdp_solar_hydro, right = wind_energy, on = [\"Country\",\"Year\"], how = 'outer')\n",
    "gdp_and_renewable_energy"
   ]
  },
  {
   "cell_type": "code",
   "execution_count": 127,
   "id": "e4e41d8a",
   "metadata": {},
   "outputs": [
    {
     "data": {
      "text/html": [
       "<div>\n",
       "<style scoped>\n",
       "    .dataframe tbody tr th:only-of-type {\n",
       "        vertical-align: middle;\n",
       "    }\n",
       "\n",
       "    .dataframe tbody tr th {\n",
       "        vertical-align: top;\n",
       "    }\n",
       "\n",
       "    .dataframe thead th {\n",
       "        text-align: right;\n",
       "    }\n",
       "</style>\n",
       "<table border=\"1\" class=\"dataframe\">\n",
       "  <thead>\n",
       "    <tr style=\"text-align: right;\">\n",
       "      <th></th>\n",
       "      <th>Continent</th>\n",
       "      <th>Country</th>\n",
       "      <th>Year</th>\n",
       "      <th>GDP_Per_Capita</th>\n",
       "      <th>Solar Power</th>\n",
       "      <th>Hydro Power</th>\n",
       "      <th>Wind Energy</th>\n",
       "    </tr>\n",
       "  </thead>\n",
       "  <tbody>\n",
       "    <tr>\n",
       "      <th>0</th>\n",
       "      <td>Asia</td>\n",
       "      <td>Afghanistan</td>\n",
       "      <td>2019</td>\n",
       "      <td>2065.036398</td>\n",
       "      <td>20.77</td>\n",
       "      <td>1388.04</td>\n",
       "      <td>NaN</td>\n",
       "    </tr>\n",
       "    <tr>\n",
       "      <th>1</th>\n",
       "      <td>Asia</td>\n",
       "      <td>Afghanistan</td>\n",
       "      <td>2018</td>\n",
       "      <td>2033.779002</td>\n",
       "      <td>NaN</td>\n",
       "      <td>1065.79</td>\n",
       "      <td>NaN</td>\n",
       "    </tr>\n",
       "    <tr>\n",
       "      <th>2</th>\n",
       "      <td>Asia</td>\n",
       "      <td>Afghanistan</td>\n",
       "      <td>2017</td>\n",
       "      <td>2058.383832</td>\n",
       "      <td>NaN</td>\n",
       "      <td>1243.78</td>\n",
       "      <td>NaN</td>\n",
       "    </tr>\n",
       "    <tr>\n",
       "      <th>3</th>\n",
       "      <td>Asia</td>\n",
       "      <td>Afghanistan</td>\n",
       "      <td>2016</td>\n",
       "      <td>2057.062164</td>\n",
       "      <td>NaN</td>\n",
       "      <td>1239.20</td>\n",
       "      <td>NaN</td>\n",
       "    </tr>\n",
       "    <tr>\n",
       "      <th>4</th>\n",
       "      <td>Asia</td>\n",
       "      <td>Afghanistan</td>\n",
       "      <td>2015</td>\n",
       "      <td>2068.265904</td>\n",
       "      <td>NaN</td>\n",
       "      <td>1189.50</td>\n",
       "      <td>NaN</td>\n",
       "    </tr>\n",
       "    <tr>\n",
       "      <th>...</th>\n",
       "      <td>...</td>\n",
       "      <td>...</td>\n",
       "      <td>...</td>\n",
       "      <td>...</td>\n",
       "      <td>...</td>\n",
       "      <td>...</td>\n",
       "      <td>...</td>\n",
       "    </tr>\n",
       "    <tr>\n",
       "      <th>6811</th>\n",
       "      <td>NaN</td>\n",
       "      <td>St. Pierre-Miquelon</td>\n",
       "      <td>2004</td>\n",
       "      <td>NaN</td>\n",
       "      <td>NaN</td>\n",
       "      <td>NaN</td>\n",
       "      <td>0.8</td>\n",
       "    </tr>\n",
       "    <tr>\n",
       "      <th>6812</th>\n",
       "      <td>NaN</td>\n",
       "      <td>St. Pierre-Miquelon</td>\n",
       "      <td>2003</td>\n",
       "      <td>NaN</td>\n",
       "      <td>NaN</td>\n",
       "      <td>NaN</td>\n",
       "      <td>0.8</td>\n",
       "    </tr>\n",
       "    <tr>\n",
       "      <th>6813</th>\n",
       "      <td>NaN</td>\n",
       "      <td>St. Pierre-Miquelon</td>\n",
       "      <td>2002</td>\n",
       "      <td>NaN</td>\n",
       "      <td>NaN</td>\n",
       "      <td>NaN</td>\n",
       "      <td>0.8</td>\n",
       "    </tr>\n",
       "    <tr>\n",
       "      <th>6814</th>\n",
       "      <td>NaN</td>\n",
       "      <td>St. Pierre-Miquelon</td>\n",
       "      <td>2001</td>\n",
       "      <td>NaN</td>\n",
       "      <td>NaN</td>\n",
       "      <td>NaN</td>\n",
       "      <td>0.8</td>\n",
       "    </tr>\n",
       "    <tr>\n",
       "      <th>6815</th>\n",
       "      <td>NaN</td>\n",
       "      <td>St. Pierre-Miquelon</td>\n",
       "      <td>2000</td>\n",
       "      <td>NaN</td>\n",
       "      <td>NaN</td>\n",
       "      <td>NaN</td>\n",
       "      <td>0.8</td>\n",
       "    </tr>\n",
       "  </tbody>\n",
       "</table>\n",
       "<p>6816 rows × 7 columns</p>\n",
       "</div>"
      ],
      "text/plain": [
       "     Continent              Country  Year  GDP_Per_Capita  Solar Power  \\\n",
       "0         Asia          Afghanistan  2019     2065.036398        20.77   \n",
       "1         Asia          Afghanistan  2018     2033.779002          NaN   \n",
       "2         Asia          Afghanistan  2017     2058.383832          NaN   \n",
       "3         Asia          Afghanistan  2016     2057.062164          NaN   \n",
       "4         Asia          Afghanistan  2015     2068.265904          NaN   \n",
       "...        ...                  ...   ...             ...          ...   \n",
       "6811       NaN  St. Pierre-Miquelon  2004             NaN          NaN   \n",
       "6812       NaN  St. Pierre-Miquelon  2003             NaN          NaN   \n",
       "6813       NaN  St. Pierre-Miquelon  2002             NaN          NaN   \n",
       "6814       NaN  St. Pierre-Miquelon  2001             NaN          NaN   \n",
       "6815       NaN  St. Pierre-Miquelon  2000             NaN          NaN   \n",
       "\n",
       "      Hydro Power  Wind Energy  \n",
       "0         1388.04          NaN  \n",
       "1         1065.79          NaN  \n",
       "2         1243.78          NaN  \n",
       "3         1239.20          NaN  \n",
       "4         1189.50          NaN  \n",
       "...           ...          ...  \n",
       "6811          NaN          0.8  \n",
       "6812          NaN          0.8  \n",
       "6813          NaN          0.8  \n",
       "6814          NaN          0.8  \n",
       "6815          NaN          0.8  \n",
       "\n",
       "[6816 rows x 7 columns]"
      ]
     },
     "execution_count": 127,
     "metadata": {},
     "output_type": "execute_result"
    }
   ],
   "source": [
    "gdp_and_renewable_energy"
   ]
  },
  {
   "cell_type": "code",
   "execution_count": 128,
   "id": "0e17aadb",
   "metadata": {
    "slideshow": {
     "slide_type": "fragment"
    }
   },
   "outputs": [],
   "source": [
    "gdp_and_renewable_energy = pd.merge(left = gdp_and_renewable_energy, right = co2_emmissions, on = [\"Country\",\"Year\"], how = 'outer')"
   ]
  },
  {
   "cell_type": "code",
   "execution_count": 129,
   "id": "f8145e63",
   "metadata": {
    "slideshow": {
     "slide_type": "fragment"
    }
   },
   "outputs": [
    {
     "data": {
      "text/html": [
       "<div>\n",
       "<style scoped>\n",
       "    .dataframe tbody tr th:only-of-type {\n",
       "        vertical-align: middle;\n",
       "    }\n",
       "\n",
       "    .dataframe tbody tr th {\n",
       "        vertical-align: top;\n",
       "    }\n",
       "\n",
       "    .dataframe thead th {\n",
       "        text-align: right;\n",
       "    }\n",
       "</style>\n",
       "<table border=\"1\" class=\"dataframe\">\n",
       "  <thead>\n",
       "    <tr style=\"text-align: right;\">\n",
       "      <th></th>\n",
       "      <th>Continent</th>\n",
       "      <th>Country</th>\n",
       "      <th>Year</th>\n",
       "      <th>GDP_Per_Capita</th>\n",
       "      <th>Solar Power</th>\n",
       "      <th>Hydro Power</th>\n",
       "      <th>Wind Energy</th>\n",
       "      <th>CO2_emmissions</th>\n",
       "      <th>Population</th>\n",
       "    </tr>\n",
       "  </thead>\n",
       "  <tbody>\n",
       "    <tr>\n",
       "      <th>0</th>\n",
       "      <td>Asia</td>\n",
       "      <td>Afghanistan</td>\n",
       "      <td>2019</td>\n",
       "      <td>2065.036398</td>\n",
       "      <td>20.77</td>\n",
       "      <td>1388.04</td>\n",
       "      <td>NaN</td>\n",
       "      <td>NaN</td>\n",
       "      <td>NaN</td>\n",
       "    </tr>\n",
       "    <tr>\n",
       "      <th>1</th>\n",
       "      <td>Asia</td>\n",
       "      <td>Afghanistan</td>\n",
       "      <td>2018</td>\n",
       "      <td>2033.779002</td>\n",
       "      <td>NaN</td>\n",
       "      <td>1065.79</td>\n",
       "      <td>NaN</td>\n",
       "      <td>NaN</td>\n",
       "      <td>37171921.0</td>\n",
       "    </tr>\n",
       "    <tr>\n",
       "      <th>2</th>\n",
       "      <td>Asia</td>\n",
       "      <td>Afghanistan</td>\n",
       "      <td>2017</td>\n",
       "      <td>2058.383832</td>\n",
       "      <td>NaN</td>\n",
       "      <td>1243.78</td>\n",
       "      <td>NaN</td>\n",
       "      <td>NaN</td>\n",
       "      <td>36296113.0</td>\n",
       "    </tr>\n",
       "    <tr>\n",
       "      <th>3</th>\n",
       "      <td>Asia</td>\n",
       "      <td>Afghanistan</td>\n",
       "      <td>2016</td>\n",
       "      <td>2057.062164</td>\n",
       "      <td>NaN</td>\n",
       "      <td>1239.20</td>\n",
       "      <td>NaN</td>\n",
       "      <td>NaN</td>\n",
       "      <td>35383032.0</td>\n",
       "    </tr>\n",
       "    <tr>\n",
       "      <th>4</th>\n",
       "      <td>Asia</td>\n",
       "      <td>Afghanistan</td>\n",
       "      <td>2015</td>\n",
       "      <td>2068.265904</td>\n",
       "      <td>NaN</td>\n",
       "      <td>1189.50</td>\n",
       "      <td>NaN</td>\n",
       "      <td>NaN</td>\n",
       "      <td>34413603.0</td>\n",
       "    </tr>\n",
       "    <tr>\n",
       "      <th>...</th>\n",
       "      <td>...</td>\n",
       "      <td>...</td>\n",
       "      <td>...</td>\n",
       "      <td>...</td>\n",
       "      <td>...</td>\n",
       "      <td>...</td>\n",
       "      <td>...</td>\n",
       "      <td>...</td>\n",
       "      <td>...</td>\n",
       "    </tr>\n",
       "    <tr>\n",
       "      <th>9645</th>\n",
       "      <td>NaN</td>\n",
       "      <td>Yemen</td>\n",
       "      <td>1994</td>\n",
       "      <td>NaN</td>\n",
       "      <td>NaN</td>\n",
       "      <td>NaN</td>\n",
       "      <td>NaN</td>\n",
       "      <td>NaN</td>\n",
       "      <td>14297613.0</td>\n",
       "    </tr>\n",
       "    <tr>\n",
       "      <th>9646</th>\n",
       "      <td>NaN</td>\n",
       "      <td>Yemen</td>\n",
       "      <td>1993</td>\n",
       "      <td>NaN</td>\n",
       "      <td>NaN</td>\n",
       "      <td>NaN</td>\n",
       "      <td>NaN</td>\n",
       "      <td>NaN</td>\n",
       "      <td>13634076.0</td>\n",
       "    </tr>\n",
       "    <tr>\n",
       "      <th>9647</th>\n",
       "      <td>NaN</td>\n",
       "      <td>Yemen</td>\n",
       "      <td>1992</td>\n",
       "      <td>NaN</td>\n",
       "      <td>NaN</td>\n",
       "      <td>NaN</td>\n",
       "      <td>NaN</td>\n",
       "      <td>NaN</td>\n",
       "      <td>12954155.0</td>\n",
       "    </tr>\n",
       "    <tr>\n",
       "      <th>9648</th>\n",
       "      <td>NaN</td>\n",
       "      <td>Yemen</td>\n",
       "      <td>1991</td>\n",
       "      <td>NaN</td>\n",
       "      <td>NaN</td>\n",
       "      <td>NaN</td>\n",
       "      <td>NaN</td>\n",
       "      <td>NaN</td>\n",
       "      <td>12302124.0</td>\n",
       "    </tr>\n",
       "    <tr>\n",
       "      <th>9649</th>\n",
       "      <td>NaN</td>\n",
       "      <td>Yemen</td>\n",
       "      <td>1990</td>\n",
       "      <td>NaN</td>\n",
       "      <td>NaN</td>\n",
       "      <td>NaN</td>\n",
       "      <td>NaN</td>\n",
       "      <td>NaN</td>\n",
       "      <td>11709993.0</td>\n",
       "    </tr>\n",
       "  </tbody>\n",
       "</table>\n",
       "<p>9650 rows × 9 columns</p>\n",
       "</div>"
      ],
      "text/plain": [
       "     Continent      Country  Year  GDP_Per_Capita  Solar Power  Hydro Power  \\\n",
       "0         Asia  Afghanistan  2019     2065.036398        20.77      1388.04   \n",
       "1         Asia  Afghanistan  2018     2033.779002          NaN      1065.79   \n",
       "2         Asia  Afghanistan  2017     2058.383832          NaN      1243.78   \n",
       "3         Asia  Afghanistan  2016     2057.062164          NaN      1239.20   \n",
       "4         Asia  Afghanistan  2015     2068.265904          NaN      1189.50   \n",
       "...        ...          ...   ...             ...          ...          ...   \n",
       "9645       NaN        Yemen  1994             NaN          NaN          NaN   \n",
       "9646       NaN        Yemen  1993             NaN          NaN          NaN   \n",
       "9647       NaN        Yemen  1992             NaN          NaN          NaN   \n",
       "9648       NaN        Yemen  1991             NaN          NaN          NaN   \n",
       "9649       NaN        Yemen  1990             NaN          NaN          NaN   \n",
       "\n",
       "      Wind Energy  CO2_emmissions  Population  \n",
       "0             NaN             NaN         NaN  \n",
       "1             NaN             NaN  37171921.0  \n",
       "2             NaN             NaN  36296113.0  \n",
       "3             NaN             NaN  35383032.0  \n",
       "4             NaN             NaN  34413603.0  \n",
       "...           ...             ...         ...  \n",
       "9645          NaN             NaN  14297613.0  \n",
       "9646          NaN             NaN  13634076.0  \n",
       "9647          NaN             NaN  12954155.0  \n",
       "9648          NaN             NaN  12302124.0  \n",
       "9649          NaN             NaN  11709993.0  \n",
       "\n",
       "[9650 rows x 9 columns]"
      ]
     },
     "execution_count": 129,
     "metadata": {},
     "output_type": "execute_result"
    }
   ],
   "source": [
    "gdp_and_renewable_energy = pd.merge(left = gdp_and_renewable_energy , right = population, on = [\"Country\", \"Year\"], how = 'outer' )\n",
    "gdp_and_renewable_energy"
   ]
  },
  {
   "cell_type": "code",
   "execution_count": 130,
   "id": "b7175330",
   "metadata": {
    "slideshow": {
     "slide_type": "fragment"
    }
   },
   "outputs": [],
   "source": [
    "gdp_and_renewable_energy_full = gdp_and_renewable_energy.dropna()"
   ]
  },
  {
   "cell_type": "code",
   "execution_count": 131,
   "id": "f05df374",
   "metadata": {
    "slideshow": {
     "slide_type": "fragment"
    }
   },
   "outputs": [
    {
     "data": {
      "text/html": [
       "<div>\n",
       "<style scoped>\n",
       "    .dataframe tbody tr th:only-of-type {\n",
       "        vertical-align: middle;\n",
       "    }\n",
       "\n",
       "    .dataframe tbody tr th {\n",
       "        vertical-align: top;\n",
       "    }\n",
       "\n",
       "    .dataframe thead th {\n",
       "        text-align: right;\n",
       "    }\n",
       "</style>\n",
       "<table border=\"1\" class=\"dataframe\">\n",
       "  <thead>\n",
       "    <tr style=\"text-align: right;\">\n",
       "      <th></th>\n",
       "      <th>Continent</th>\n",
       "      <th>Country</th>\n",
       "      <th>Year</th>\n",
       "      <th>GDP_Per_Capita</th>\n",
       "      <th>Solar Power</th>\n",
       "      <th>Hydro Power</th>\n",
       "      <th>Wind Energy</th>\n",
       "      <th>CO2_emmissions</th>\n",
       "      <th>Population</th>\n",
       "    </tr>\n",
       "  </thead>\n",
       "  <tbody>\n",
       "    <tr>\n",
       "      <th>227</th>\n",
       "      <td>Oceania</td>\n",
       "      <td>Australia</td>\n",
       "      <td>2018</td>\n",
       "      <td>49304.25111</td>\n",
       "      <td>9929.0</td>\n",
       "      <td>16021.0</td>\n",
       "      <td>15164.0</td>\n",
       "      <td>4.159539e+05</td>\n",
       "      <td>24898152.0</td>\n",
       "    </tr>\n",
       "    <tr>\n",
       "      <th>228</th>\n",
       "      <td>Oceania</td>\n",
       "      <td>Australia</td>\n",
       "      <td>2017</td>\n",
       "      <td>48633.13322</td>\n",
       "      <td>8071.0</td>\n",
       "      <td>16285.0</td>\n",
       "      <td>12597.0</td>\n",
       "      <td>4.150974e+05</td>\n",
       "      <td>24584620.0</td>\n",
       "    </tr>\n",
       "    <tr>\n",
       "      <th>229</th>\n",
       "      <td>Oceania</td>\n",
       "      <td>Australia</td>\n",
       "      <td>2016</td>\n",
       "      <td>48347.03166</td>\n",
       "      <td>6209.0</td>\n",
       "      <td>15318.0</td>\n",
       "      <td>12199.0</td>\n",
       "      <td>4.110315e+05</td>\n",
       "      <td>24262712.0</td>\n",
       "    </tr>\n",
       "    <tr>\n",
       "      <th>230</th>\n",
       "      <td>Oceania</td>\n",
       "      <td>Australia</td>\n",
       "      <td>2015</td>\n",
       "      <td>47784.17848</td>\n",
       "      <td>5023.0</td>\n",
       "      <td>13445.0</td>\n",
       "      <td>11467.0</td>\n",
       "      <td>4.015548e+05</td>\n",
       "      <td>23932502.0</td>\n",
       "    </tr>\n",
       "    <tr>\n",
       "      <th>231</th>\n",
       "      <td>Oceania</td>\n",
       "      <td>Australia</td>\n",
       "      <td>2014</td>\n",
       "      <td>47436.74839</td>\n",
       "      <td>4010.0</td>\n",
       "      <td>18421.0</td>\n",
       "      <td>10252.0</td>\n",
       "      <td>3.941169e+05</td>\n",
       "      <td>23596424.0</td>\n",
       "    </tr>\n",
       "    <tr>\n",
       "      <th>...</th>\n",
       "      <td>...</td>\n",
       "      <td>...</td>\n",
       "      <td>...</td>\n",
       "      <td>...</td>\n",
       "      <td>...</td>\n",
       "      <td>...</td>\n",
       "      <td>...</td>\n",
       "      <td>...</td>\n",
       "      <td>...</td>\n",
       "    </tr>\n",
       "    <tr>\n",
       "      <th>5262</th>\n",
       "      <td>North America</td>\n",
       "      <td>United States</td>\n",
       "      <td>1994</td>\n",
       "      <td>42410.32605</td>\n",
       "      <td>828.0</td>\n",
       "      <td>284373.0</td>\n",
       "      <td>3483.0</td>\n",
       "      <td>5.377033e+06</td>\n",
       "      <td>262241196.0</td>\n",
       "    </tr>\n",
       "    <tr>\n",
       "      <th>5263</th>\n",
       "      <td>North America</td>\n",
       "      <td>United States</td>\n",
       "      <td>1993</td>\n",
       "      <td>41270.86730</td>\n",
       "      <td>901.0</td>\n",
       "      <td>303060.0</td>\n",
       "      <td>3053.0</td>\n",
       "      <td>5.283438e+06</td>\n",
       "      <td>259532129.0</td>\n",
       "    </tr>\n",
       "    <tr>\n",
       "      <th>5264</th>\n",
       "      <td>North America</td>\n",
       "      <td>United States</td>\n",
       "      <td>1992</td>\n",
       "      <td>40698.34018</td>\n",
       "      <td>749.0</td>\n",
       "      <td>274883.0</td>\n",
       "      <td>2917.0</td>\n",
       "      <td>5.182707e+06</td>\n",
       "      <td>256990613.0</td>\n",
       "    </tr>\n",
       "    <tr>\n",
       "      <th>5265</th>\n",
       "      <td>North America</td>\n",
       "      <td>United States</td>\n",
       "      <td>1991</td>\n",
       "      <td>39862.57556</td>\n",
       "      <td>782.0</td>\n",
       "      <td>309155.0</td>\n",
       "      <td>3051.0</td>\n",
       "      <td>5.078890e+06</td>\n",
       "      <td>254539370.0</td>\n",
       "    </tr>\n",
       "    <tr>\n",
       "      <th>5266</th>\n",
       "      <td>North America</td>\n",
       "      <td>United States</td>\n",
       "      <td>1990</td>\n",
       "      <td>40442.60113</td>\n",
       "      <td>666.0</td>\n",
       "      <td>288960.0</td>\n",
       "      <td>3066.0</td>\n",
       "      <td>5.128301e+06</td>\n",
       "      <td>252120309.0</td>\n",
       "    </tr>\n",
       "  </tbody>\n",
       "</table>\n",
       "<p>556 rows × 9 columns</p>\n",
       "</div>"
      ],
      "text/plain": [
       "          Continent        Country  Year  GDP_Per_Capita  Solar Power  \\\n",
       "227         Oceania      Australia  2018     49304.25111       9929.0   \n",
       "228         Oceania      Australia  2017     48633.13322       8071.0   \n",
       "229         Oceania      Australia  2016     48347.03166       6209.0   \n",
       "230         Oceania      Australia  2015     47784.17848       5023.0   \n",
       "231         Oceania      Australia  2014     47436.74839       4010.0   \n",
       "...             ...            ...   ...             ...          ...   \n",
       "5262  North America  United States  1994     42410.32605        828.0   \n",
       "5263  North America  United States  1993     41270.86730        901.0   \n",
       "5264  North America  United States  1992     40698.34018        749.0   \n",
       "5265  North America  United States  1991     39862.57556        782.0   \n",
       "5266  North America  United States  1990     40442.60113        666.0   \n",
       "\n",
       "      Hydro Power  Wind Energy  CO2_emmissions   Population  \n",
       "227       16021.0      15164.0    4.159539e+05   24898152.0  \n",
       "228       16285.0      12597.0    4.150974e+05   24584620.0  \n",
       "229       15318.0      12199.0    4.110315e+05   24262712.0  \n",
       "230       13445.0      11467.0    4.015548e+05   23932502.0  \n",
       "231       18421.0      10252.0    3.941169e+05   23596424.0  \n",
       "...           ...          ...             ...          ...  \n",
       "5262     284373.0       3483.0    5.377033e+06  262241196.0  \n",
       "5263     303060.0       3053.0    5.283438e+06  259532129.0  \n",
       "5264     274883.0       2917.0    5.182707e+06  256990613.0  \n",
       "5265     309155.0       3051.0    5.078890e+06  254539370.0  \n",
       "5266     288960.0       3066.0    5.128301e+06  252120309.0  \n",
       "\n",
       "[556 rows x 9 columns]"
      ]
     },
     "execution_count": 131,
     "metadata": {},
     "output_type": "execute_result"
    }
   ],
   "source": [
    "gdp_and_renewable_energy_full"
   ]
  },
  {
   "cell_type": "code",
   "execution_count": 132,
   "id": "e54bdb38",
   "metadata": {
    "slideshow": {
     "slide_type": "fragment"
    }
   },
   "outputs": [
    {
     "name": "stderr",
     "output_type": "stream",
     "text": [
      "<ipython-input-132-37cc47e2f92f>:1: SettingWithCopyWarning: \n",
      "A value is trying to be set on a copy of a slice from a DataFrame.\n",
      "Try using .loc[row_indexer,col_indexer] = value instead\n",
      "\n",
      "See the caveats in the documentation: https://pandas.pydata.org/pandas-docs/stable/user_guide/indexing.html#returning-a-view-versus-a-copy\n",
      "  gdp_and_renewable_energy_full[\"total_renewable_energy\"] = (gdp_and_renewable_energy_full[\"Solar Power\"] +\n",
      "<ipython-input-132-37cc47e2f92f>:4: SettingWithCopyWarning: \n",
      "A value is trying to be set on a copy of a slice from a DataFrame.\n",
      "Try using .loc[row_indexer,col_indexer] = value instead\n",
      "\n",
      "See the caveats in the documentation: https://pandas.pydata.org/pandas-docs/stable/user_guide/indexing.html#returning-a-view-versus-a-copy\n",
      "  gdp_and_renewable_energy_full[\"renewable_energy_per_capita\"] = (gdp_and_renewable_energy_full[\"total_renewable_energy\"] /\n",
      "<ipython-input-132-37cc47e2f92f>:6: SettingWithCopyWarning: \n",
      "A value is trying to be set on a copy of a slice from a DataFrame.\n",
      "Try using .loc[row_indexer,col_indexer] = value instead\n",
      "\n",
      "See the caveats in the documentation: https://pandas.pydata.org/pandas-docs/stable/user_guide/indexing.html#returning-a-view-versus-a-copy\n",
      "  gdp_and_renewable_energy_full[\"CO2_emmissions_per_capita\"] = (gdp_and_renewable_energy_full[\"CO2_emmissions\"]/\n"
     ]
    }
   ],
   "source": [
    "gdp_and_renewable_energy_full[\"total_renewable_energy\"] = (gdp_and_renewable_energy_full[\"Solar Power\"] + \n",
    "                                                           gdp_and_renewable_energy_full[\"Hydro Power\"]+\n",
    "                                                          gdp_and_renewable_energy_full[\"Wind Energy\"])\n",
    "gdp_and_renewable_energy_full[\"renewable_energy_per_capita\"] = (gdp_and_renewable_energy_full[\"total_renewable_energy\"] / \n",
    "                                                               gdp_and_renewable_energy_full[\"Population\"])\n",
    "gdp_and_renewable_energy_full[\"CO2_emmissions_per_capita\"] = (gdp_and_renewable_energy_full[\"CO2_emmissions\"]/\n",
    "                                                              gdp_and_renewable_energy_full[\"Population\"])"
   ]
  },
  {
   "cell_type": "code",
   "execution_count": 133,
   "id": "e2dd3f67",
   "metadata": {
    "scrolled": true,
    "slideshow": {
     "slide_type": "slide"
    }
   },
   "outputs": [
    {
     "data": {
      "text/html": [
       "<div>\n",
       "<style scoped>\n",
       "    .dataframe tbody tr th:only-of-type {\n",
       "        vertical-align: middle;\n",
       "    }\n",
       "\n",
       "    .dataframe tbody tr th {\n",
       "        vertical-align: top;\n",
       "    }\n",
       "\n",
       "    .dataframe thead th {\n",
       "        text-align: right;\n",
       "    }\n",
       "</style>\n",
       "<table border=\"1\" class=\"dataframe\">\n",
       "  <thead>\n",
       "    <tr style=\"text-align: right;\">\n",
       "      <th></th>\n",
       "      <th>Continent</th>\n",
       "      <th>Country</th>\n",
       "      <th>Year</th>\n",
       "      <th>GDP_Per_Capita</th>\n",
       "      <th>Solar Power</th>\n",
       "      <th>Hydro Power</th>\n",
       "      <th>Wind Energy</th>\n",
       "      <th>CO2_emmissions</th>\n",
       "      <th>Population</th>\n",
       "      <th>total_renewable_energy</th>\n",
       "      <th>renewable_energy_per_capita</th>\n",
       "      <th>CO2_emmissions_per_capita</th>\n",
       "    </tr>\n",
       "  </thead>\n",
       "  <tbody>\n",
       "    <tr>\n",
       "      <th>227</th>\n",
       "      <td>Oceania</td>\n",
       "      <td>Australia</td>\n",
       "      <td>2018</td>\n",
       "      <td>49304.25111</td>\n",
       "      <td>9929.0</td>\n",
       "      <td>16021.0</td>\n",
       "      <td>15164.0</td>\n",
       "      <td>4.159539e+05</td>\n",
       "      <td>24898152.0</td>\n",
       "      <td>41114.0</td>\n",
       "      <td>0.001651</td>\n",
       "      <td>0.016706</td>\n",
       "    </tr>\n",
       "    <tr>\n",
       "      <th>228</th>\n",
       "      <td>Oceania</td>\n",
       "      <td>Australia</td>\n",
       "      <td>2017</td>\n",
       "      <td>48633.13322</td>\n",
       "      <td>8071.0</td>\n",
       "      <td>16285.0</td>\n",
       "      <td>12597.0</td>\n",
       "      <td>4.150974e+05</td>\n",
       "      <td>24584620.0</td>\n",
       "      <td>36953.0</td>\n",
       "      <td>0.001503</td>\n",
       "      <td>0.016884</td>\n",
       "    </tr>\n",
       "    <tr>\n",
       "      <th>229</th>\n",
       "      <td>Oceania</td>\n",
       "      <td>Australia</td>\n",
       "      <td>2016</td>\n",
       "      <td>48347.03166</td>\n",
       "      <td>6209.0</td>\n",
       "      <td>15318.0</td>\n",
       "      <td>12199.0</td>\n",
       "      <td>4.110315e+05</td>\n",
       "      <td>24262712.0</td>\n",
       "      <td>33726.0</td>\n",
       "      <td>0.001390</td>\n",
       "      <td>0.016941</td>\n",
       "    </tr>\n",
       "    <tr>\n",
       "      <th>230</th>\n",
       "      <td>Oceania</td>\n",
       "      <td>Australia</td>\n",
       "      <td>2015</td>\n",
       "      <td>47784.17848</td>\n",
       "      <td>5023.0</td>\n",
       "      <td>13445.0</td>\n",
       "      <td>11467.0</td>\n",
       "      <td>4.015548e+05</td>\n",
       "      <td>23932502.0</td>\n",
       "      <td>29935.0</td>\n",
       "      <td>0.001251</td>\n",
       "      <td>0.016779</td>\n",
       "    </tr>\n",
       "    <tr>\n",
       "      <th>231</th>\n",
       "      <td>Oceania</td>\n",
       "      <td>Australia</td>\n",
       "      <td>2014</td>\n",
       "      <td>47436.74839</td>\n",
       "      <td>4010.0</td>\n",
       "      <td>18421.0</td>\n",
       "      <td>10252.0</td>\n",
       "      <td>3.941169e+05</td>\n",
       "      <td>23596424.0</td>\n",
       "      <td>32683.0</td>\n",
       "      <td>0.001385</td>\n",
       "      <td>0.016702</td>\n",
       "    </tr>\n",
       "    <tr>\n",
       "      <th>...</th>\n",
       "      <td>...</td>\n",
       "      <td>...</td>\n",
       "      <td>...</td>\n",
       "      <td>...</td>\n",
       "      <td>...</td>\n",
       "      <td>...</td>\n",
       "      <td>...</td>\n",
       "      <td>...</td>\n",
       "      <td>...</td>\n",
       "      <td>...</td>\n",
       "      <td>...</td>\n",
       "      <td>...</td>\n",
       "    </tr>\n",
       "    <tr>\n",
       "      <th>5262</th>\n",
       "      <td>North America</td>\n",
       "      <td>United States</td>\n",
       "      <td>1994</td>\n",
       "      <td>42410.32605</td>\n",
       "      <td>828.0</td>\n",
       "      <td>284373.0</td>\n",
       "      <td>3483.0</td>\n",
       "      <td>5.377033e+06</td>\n",
       "      <td>262241196.0</td>\n",
       "      <td>288684.0</td>\n",
       "      <td>0.001101</td>\n",
       "      <td>0.020504</td>\n",
       "    </tr>\n",
       "    <tr>\n",
       "      <th>5263</th>\n",
       "      <td>North America</td>\n",
       "      <td>United States</td>\n",
       "      <td>1993</td>\n",
       "      <td>41270.86730</td>\n",
       "      <td>901.0</td>\n",
       "      <td>303060.0</td>\n",
       "      <td>3053.0</td>\n",
       "      <td>5.283438e+06</td>\n",
       "      <td>259532129.0</td>\n",
       "      <td>307014.0</td>\n",
       "      <td>0.001183</td>\n",
       "      <td>0.020358</td>\n",
       "    </tr>\n",
       "    <tr>\n",
       "      <th>5264</th>\n",
       "      <td>North America</td>\n",
       "      <td>United States</td>\n",
       "      <td>1992</td>\n",
       "      <td>40698.34018</td>\n",
       "      <td>749.0</td>\n",
       "      <td>274883.0</td>\n",
       "      <td>2917.0</td>\n",
       "      <td>5.182707e+06</td>\n",
       "      <td>256990613.0</td>\n",
       "      <td>278549.0</td>\n",
       "      <td>0.001084</td>\n",
       "      <td>0.020167</td>\n",
       "    </tr>\n",
       "    <tr>\n",
       "      <th>5265</th>\n",
       "      <td>North America</td>\n",
       "      <td>United States</td>\n",
       "      <td>1991</td>\n",
       "      <td>39862.57556</td>\n",
       "      <td>782.0</td>\n",
       "      <td>309155.0</td>\n",
       "      <td>3051.0</td>\n",
       "      <td>5.078890e+06</td>\n",
       "      <td>254539370.0</td>\n",
       "      <td>312988.0</td>\n",
       "      <td>0.001230</td>\n",
       "      <td>0.019953</td>\n",
       "    </tr>\n",
       "    <tr>\n",
       "      <th>5266</th>\n",
       "      <td>North America</td>\n",
       "      <td>United States</td>\n",
       "      <td>1990</td>\n",
       "      <td>40442.60113</td>\n",
       "      <td>666.0</td>\n",
       "      <td>288960.0</td>\n",
       "      <td>3066.0</td>\n",
       "      <td>5.128301e+06</td>\n",
       "      <td>252120309.0</td>\n",
       "      <td>292692.0</td>\n",
       "      <td>0.001161</td>\n",
       "      <td>0.020341</td>\n",
       "    </tr>\n",
       "  </tbody>\n",
       "</table>\n",
       "<p>556 rows × 12 columns</p>\n",
       "</div>"
      ],
      "text/plain": [
       "          Continent        Country  Year  GDP_Per_Capita  Solar Power  \\\n",
       "227         Oceania      Australia  2018     49304.25111       9929.0   \n",
       "228         Oceania      Australia  2017     48633.13322       8071.0   \n",
       "229         Oceania      Australia  2016     48347.03166       6209.0   \n",
       "230         Oceania      Australia  2015     47784.17848       5023.0   \n",
       "231         Oceania      Australia  2014     47436.74839       4010.0   \n",
       "...             ...            ...   ...             ...          ...   \n",
       "5262  North America  United States  1994     42410.32605        828.0   \n",
       "5263  North America  United States  1993     41270.86730        901.0   \n",
       "5264  North America  United States  1992     40698.34018        749.0   \n",
       "5265  North America  United States  1991     39862.57556        782.0   \n",
       "5266  North America  United States  1990     40442.60113        666.0   \n",
       "\n",
       "      Hydro Power  Wind Energy  CO2_emmissions   Population  \\\n",
       "227       16021.0      15164.0    4.159539e+05   24898152.0   \n",
       "228       16285.0      12597.0    4.150974e+05   24584620.0   \n",
       "229       15318.0      12199.0    4.110315e+05   24262712.0   \n",
       "230       13445.0      11467.0    4.015548e+05   23932502.0   \n",
       "231       18421.0      10252.0    3.941169e+05   23596424.0   \n",
       "...           ...          ...             ...          ...   \n",
       "5262     284373.0       3483.0    5.377033e+06  262241196.0   \n",
       "5263     303060.0       3053.0    5.283438e+06  259532129.0   \n",
       "5264     274883.0       2917.0    5.182707e+06  256990613.0   \n",
       "5265     309155.0       3051.0    5.078890e+06  254539370.0   \n",
       "5266     288960.0       3066.0    5.128301e+06  252120309.0   \n",
       "\n",
       "      total_renewable_energy  renewable_energy_per_capita  \\\n",
       "227                  41114.0                     0.001651   \n",
       "228                  36953.0                     0.001503   \n",
       "229                  33726.0                     0.001390   \n",
       "230                  29935.0                     0.001251   \n",
       "231                  32683.0                     0.001385   \n",
       "...                      ...                          ...   \n",
       "5262                288684.0                     0.001101   \n",
       "5263                307014.0                     0.001183   \n",
       "5264                278549.0                     0.001084   \n",
       "5265                312988.0                     0.001230   \n",
       "5266                292692.0                     0.001161   \n",
       "\n",
       "      CO2_emmissions_per_capita  \n",
       "227                    0.016706  \n",
       "228                    0.016884  \n",
       "229                    0.016941  \n",
       "230                    0.016779  \n",
       "231                    0.016702  \n",
       "...                         ...  \n",
       "5262                   0.020504  \n",
       "5263                   0.020358  \n",
       "5264                   0.020167  \n",
       "5265                   0.019953  \n",
       "5266                   0.020341  \n",
       "\n",
       "[556 rows x 12 columns]"
      ]
     },
     "execution_count": 133,
     "metadata": {},
     "output_type": "execute_result"
    }
   ],
   "source": [
    "gdp_and_renewable_energy_full"
   ]
  },
  {
   "cell_type": "markdown",
   "id": "d495ee1c",
   "metadata": {
    "slideshow": {
     "slide_type": "slide"
    }
   },
   "source": [
    "# Visualizing Data"
   ]
  },
  {
   "cell_type": "code",
   "execution_count": 134,
   "id": "cae5df26",
   "metadata": {
    "slideshow": {
     "slide_type": "slide"
    }
   },
   "outputs": [
    {
     "data": {
      "text/plain": [
       "0.19600814711545778"
      ]
     },
     "execution_count": 134,
     "metadata": {},
     "output_type": "execute_result"
    },
    {
     "data": {
      "image/png": "[encoded data removed]",
      "text/plain": [
       "<Figure size 432x288 with 1 Axes>"
      ]
     },
     "metadata": {
      "needs_background": "light"
     },
     "output_type": "display_data"
    }
   ],
   "source": [
    "gdp_and_renewable_energy_full.plot(x = \"GDP_Per_Capita\" , y = \"renewable_energy_per_capita\", kind = 'scatter', title = \"Renewable Energy Per Capita vs GDP Per Capita\")\n",
    "gdp_and_renewable_energy_full[\"GDP_Per_Capita\"].corr(gdp_and_renewable_energy_full[\"renewable_energy_per_capita\"])"
   ]
  },
  {
   "cell_type": "code",
   "execution_count": 135,
   "id": "d98132d0",
   "metadata": {
    "slideshow": {
     "slide_type": "slide"
    }
   },
   "outputs": [
    {
     "data": {
      "text/plain": [
       "0.11688301265219841"
      ]
     },
     "execution_count": 135,
     "metadata": {},
     "output_type": "execute_result"
    },
    {
     "data": {
      "image/png": "[encoded data removed]",
      "text/plain": [
       "<Figure size 432x288 with 1 Axes>"
      ]
     },
     "metadata": {
      "needs_background": "light"
     },
     "output_type": "display_data"
    }
   ],
   "source": [
    "gdp_and_renewable_energy_full.plot(x = \"renewable_energy_per_capita\" , y = \"CO2_emmissions_per_capita\", kind = \"scatter\", title = \"CO2 emissions per capita vs. Renewable energy per capita\")\n",
    "gdp_and_renewable_energy_full[\"renewable_energy_per_capita\"].corr(gdp_and_renewable_energy_full[\"CO2_emmissions_per_capita\"])"
   ]
  },
  {
   "cell_type": "code",
   "execution_count": 136,
   "id": "a4e8ad29",
   "metadata": {
    "slideshow": {
     "slide_type": "slide"
    }
   },
   "outputs": [
    {
     "data": {
      "text/plain": [
       "0.9572943150733566"
      ]
     },
     "execution_count": 136,
     "metadata": {},
     "output_type": "execute_result"
    },
    {
     "data": {
      "image/png": "[encoded data removed]",
      "text/plain": [
       "<Figure size 432x288 with 1 Axes>"
      ]
     },
     "metadata": {
      "needs_background": "light"
     },
     "output_type": "display_data"
    }
   ],
   "source": [
    "gdp_and_renewable_energy_full.plot(x = \"Population\" , y = \"CO2_emmissions\", kind = \"scatter\", title = \"CO2 emissions vs. Population\" )\n",
    "gdp_and_renewable_energy_full[\"Population\"].corr(gdp_and_renewable_energy_full[\"CO2_emmissions\"])"
   ]
  },
  {
   "cell_type": "code",
   "execution_count": 137,
   "id": "151178a4",
   "metadata": {},
   "outputs": [
    {
     "data": {
      "text/html": [
       "<div>\n",
       "<style scoped>\n",
       "    .dataframe tbody tr th:only-of-type {\n",
       "        vertical-align: middle;\n",
       "    }\n",
       "\n",
       "    .dataframe tbody tr th {\n",
       "        vertical-align: top;\n",
       "    }\n",
       "\n",
       "    .dataframe thead th {\n",
       "        text-align: right;\n",
       "    }\n",
       "</style>\n",
       "<table border=\"1\" class=\"dataframe\">\n",
       "  <thead>\n",
       "    <tr style=\"text-align: right;\">\n",
       "      <th></th>\n",
       "      <th>Continent</th>\n",
       "      <th>Country</th>\n",
       "      <th>Year</th>\n",
       "      <th>GDP_Per_Capita</th>\n",
       "      <th>Solar Power</th>\n",
       "      <th>Hydro Power</th>\n",
       "      <th>Wind Energy</th>\n",
       "      <th>CO2_emmissions</th>\n",
       "      <th>Population</th>\n",
       "      <th>total_renewable_energy</th>\n",
       "      <th>renewable_energy_per_capita</th>\n",
       "      <th>CO2_emmissions_per_capita</th>\n",
       "    </tr>\n",
       "  </thead>\n",
       "  <tbody>\n",
       "    <tr>\n",
       "      <th>3694</th>\n",
       "      <td>Europe</td>\n",
       "      <td>Norway</td>\n",
       "      <td>2018</td>\n",
       "      <td>64655.68752</td>\n",
       "      <td>2.0</td>\n",
       "      <td>139509.0</td>\n",
       "      <td>3876.0</td>\n",
       "      <td>43817.656745</td>\n",
       "      <td>5337962.0</td>\n",
       "      <td>143387.0</td>\n",
       "      <td>0.026862</td>\n",
       "      <td>0.008209</td>\n",
       "    </tr>\n",
       "  </tbody>\n",
       "</table>\n",
       "</div>"
      ],
      "text/plain": [
       "     Continent Country  Year  GDP_Per_Capita  Solar Power  Hydro Power  \\\n",
       "3694    Europe  Norway  2018     64655.68752          2.0     139509.0   \n",
       "\n",
       "      Wind Energy  CO2_emmissions  Population  total_renewable_energy  \\\n",
       "3694       3876.0    43817.656745   5337962.0                143387.0   \n",
       "\n",
       "      renewable_energy_per_capita  CO2_emmissions_per_capita  \n",
       "3694                     0.026862                   0.008209  "
      ]
     },
     "execution_count": 137,
     "metadata": {},
     "output_type": "execute_result"
    }
   ],
   "source": [
    "gdp_and_renewable_energy_full[gdp_and_renewable_energy_full[\"renewable_energy_per_capita\"]==gdp_and_renewable_energy_full[\"renewable_energy_per_capita\"].max()]"
   ]
  },
  {
   "cell_type": "code",
   "execution_count": 138,
   "id": "5f4b14ef",
   "metadata": {},
   "outputs": [],
   "source": [
    "#Norway in 2018 had the highest renewable energy"
   ]
  },
  {
   "cell_type": "code",
   "execution_count": 139,
   "id": "f6cf213b",
   "metadata": {},
   "outputs": [],
   "source": [
    "#want to compare 1990 to 2018 carbon emissions. Want to see since population has large effect, which countries \n",
    "#are actually the worst in carbon emissions"
   ]
  },
  {
   "cell_type": "markdown",
   "id": "5f09fc3d",
   "metadata": {
    "slideshow": {
     "slide_type": "slide"
    }
   },
   "source": [
    "## Comparing 2000 to 2018"
   ]
  },
  {
   "cell_type": "code",
   "execution_count": 140,
   "id": "35666c3a",
   "metadata": {
    "slideshow": {
     "slide_type": "slide"
    }
   },
   "outputs": [],
   "source": [
    "renewable_energy_pivoted = gdp_and_renewable_energy_full[gdp_and_renewable_energy_full[\"Year\"].isin([2000,2018])].pivot_table([\"renewable_energy_per_capita\",\"GDP_Per_Capita\",\"CO2_emmissions_per_capita\"], columns = \"Year\", index = \"Country\")"
   ]
  },
  {
   "cell_type": "code",
   "execution_count": 141,
   "id": "5ef0257b",
   "metadata": {
    "slideshow": {
     "slide_type": "subslide"
    }
   },
   "outputs": [
    {
     "data": {
      "text/html": [
       "<div>\n",
       "<style scoped>\n",
       "    .dataframe tbody tr th:only-of-type {\n",
       "        vertical-align: middle;\n",
       "    }\n",
       "\n",
       "    .dataframe tbody tr th {\n",
       "        vertical-align: top;\n",
       "    }\n",
       "\n",
       "    .dataframe thead tr th {\n",
       "        text-align: left;\n",
       "    }\n",
       "\n",
       "    .dataframe thead tr:last-of-type th {\n",
       "        text-align: right;\n",
       "    }\n",
       "</style>\n",
       "<table border=\"1\" class=\"dataframe\">\n",
       "  <thead>\n",
       "    <tr>\n",
       "      <th></th>\n",
       "      <th colspan=\"2\" halign=\"left\">CO2_emmissions_per_capita</th>\n",
       "      <th colspan=\"2\" halign=\"left\">GDP_Per_Capita</th>\n",
       "      <th colspan=\"2\" halign=\"left\">renewable_energy_per_capita</th>\n",
       "    </tr>\n",
       "    <tr>\n",
       "      <th>Year</th>\n",
       "      <th>2000</th>\n",
       "      <th>2018</th>\n",
       "      <th>2000</th>\n",
       "      <th>2018</th>\n",
       "      <th>2000</th>\n",
       "      <th>2018</th>\n",
       "    </tr>\n",
       "    <tr>\n",
       "      <th>Country</th>\n",
       "      <th></th>\n",
       "      <th></th>\n",
       "      <th></th>\n",
       "      <th></th>\n",
       "      <th></th>\n",
       "      <th></th>\n",
       "    </tr>\n",
       "  </thead>\n",
       "  <tbody>\n",
       "    <tr>\n",
       "      <th>Australia</th>\n",
       "      <td>0.018440</td>\n",
       "      <td>0.016706</td>\n",
       "      <td>38462.01536</td>\n",
       "      <td>49304.25111</td>\n",
       "      <td>0.000885</td>\n",
       "      <td>0.001651</td>\n",
       "    </tr>\n",
       "    <tr>\n",
       "      <th>Austria</th>\n",
       "      <td>0.008199</td>\n",
       "      <td>0.007504</td>\n",
       "      <td>46551.45979</td>\n",
       "      <td>55474.20315</td>\n",
       "      <td>0.005365</td>\n",
       "      <td>0.005475</td>\n",
       "    </tr>\n",
       "    <tr>\n",
       "      <th>Belarus</th>\n",
       "      <td>NaN</td>\n",
       "      <td>0.006545</td>\n",
       "      <td>NaN</td>\n",
       "      <td>18885.23550</td>\n",
       "      <td>NaN</td>\n",
       "      <td>0.000057</td>\n",
       "    </tr>\n",
       "    <tr>\n",
       "      <th>Belgium</th>\n",
       "      <td>NaN</td>\n",
       "      <td>0.008727</td>\n",
       "      <td>NaN</td>\n",
       "      <td>51279.65454</td>\n",
       "      <td>NaN</td>\n",
       "      <td>0.001106</td>\n",
       "    </tr>\n",
       "    <tr>\n",
       "      <th>Bulgaria</th>\n",
       "      <td>NaN</td>\n",
       "      <td>0.006176</td>\n",
       "      <td>NaN</td>\n",
       "      <td>22279.36194</td>\n",
       "      <td>NaN</td>\n",
       "      <td>0.001146</td>\n",
       "    </tr>\n",
       "    <tr>\n",
       "      <th>Canada</th>\n",
       "      <td>0.018705</td>\n",
       "      <td>0.015820</td>\n",
       "      <td>37278.43251</td>\n",
       "      <td>48770.33586</td>\n",
       "      <td>0.011733</td>\n",
       "      <td>0.011408</td>\n",
       "    </tr>\n",
       "    <tr>\n",
       "      <th>Croatia</th>\n",
       "      <td>NaN</td>\n",
       "      <td>0.004263</td>\n",
       "      <td>NaN</td>\n",
       "      <td>27888.57363</td>\n",
       "      <td>NaN</td>\n",
       "      <td>0.002212</td>\n",
       "    </tr>\n",
       "    <tr>\n",
       "      <th>Denmark</th>\n",
       "      <td>0.010411</td>\n",
       "      <td>0.006301</td>\n",
       "      <td>49063.18270</td>\n",
       "      <td>56461.00792</td>\n",
       "      <td>0.000800</td>\n",
       "      <td>0.002585</td>\n",
       "    </tr>\n",
       "    <tr>\n",
       "      <th>Estonia</th>\n",
       "      <td>NaN</td>\n",
       "      <td>0.013388</td>\n",
       "      <td>NaN</td>\n",
       "      <td>35320.47464</td>\n",
       "      <td>NaN</td>\n",
       "      <td>0.000516</td>\n",
       "    </tr>\n",
       "    <tr>\n",
       "      <th>Finland</th>\n",
       "      <td>0.010994</td>\n",
       "      <td>0.008302</td>\n",
       "      <td>39926.41368</td>\n",
       "      <td>48303.36220</td>\n",
       "      <td>0.002841</td>\n",
       "      <td>0.003482</td>\n",
       "    </tr>\n",
       "    <tr>\n",
       "      <th>France</th>\n",
       "      <td>0.007104</td>\n",
       "      <td>0.005206</td>\n",
       "      <td>39859.19272</td>\n",
       "      <td>45488.65322</td>\n",
       "      <td>0.001206</td>\n",
       "      <td>0.001689</td>\n",
       "    </tr>\n",
       "    <tr>\n",
       "      <th>Germany</th>\n",
       "      <td>0.011054</td>\n",
       "      <td>0.009087</td>\n",
       "      <td>43001.82825</td>\n",
       "      <td>53634.14458</td>\n",
       "      <td>0.000435</td>\n",
       "      <td>0.002164</td>\n",
       "    </tr>\n",
       "    <tr>\n",
       "      <th>Greece</th>\n",
       "      <td>NaN</td>\n",
       "      <td>0.006823</td>\n",
       "      <td>NaN</td>\n",
       "      <td>29859.80485</td>\n",
       "      <td>NaN</td>\n",
       "      <td>0.001506</td>\n",
       "    </tr>\n",
       "    <tr>\n",
       "      <th>Hungary</th>\n",
       "      <td>NaN</td>\n",
       "      <td>0.005112</td>\n",
       "      <td>NaN</td>\n",
       "      <td>31196.50498</td>\n",
       "      <td>NaN</td>\n",
       "      <td>0.000149</td>\n",
       "    </tr>\n",
       "    <tr>\n",
       "      <th>Italy</th>\n",
       "      <td>0.008263</td>\n",
       "      <td>0.005741</td>\n",
       "      <td>43191.41536</td>\n",
       "      <td>42187.82412</td>\n",
       "      <td>0.000908</td>\n",
       "      <td>0.001499</td>\n",
       "    </tr>\n",
       "    <tr>\n",
       "      <th>Japan</th>\n",
       "      <td>0.009918</td>\n",
       "      <td>0.008928</td>\n",
       "      <td>35722.12311</td>\n",
       "      <td>41309.95609</td>\n",
       "      <td>0.000763</td>\n",
       "      <td>0.001246</td>\n",
       "    </tr>\n",
       "    <tr>\n",
       "      <th>Latvia</th>\n",
       "      <td>NaN</td>\n",
       "      <td>0.004075</td>\n",
       "      <td>NaN</td>\n",
       "      <td>30131.97915</td>\n",
       "      <td>NaN</td>\n",
       "      <td>0.001325</td>\n",
       "    </tr>\n",
       "    <tr>\n",
       "      <th>Lithuania</th>\n",
       "      <td>NaN</td>\n",
       "      <td>0.004880</td>\n",
       "      <td>NaN</td>\n",
       "      <td>35540.65377</td>\n",
       "      <td>NaN</td>\n",
       "      <td>0.000782</td>\n",
       "    </tr>\n",
       "    <tr>\n",
       "      <th>Luxembourg</th>\n",
       "      <td>NaN</td>\n",
       "      <td>0.015835</td>\n",
       "      <td>NaN</td>\n",
       "      <td>113952.35790</td>\n",
       "      <td>NaN</td>\n",
       "      <td>0.002832</td>\n",
       "    </tr>\n",
       "    <tr>\n",
       "      <th>Netherlands</th>\n",
       "      <td>0.010793</td>\n",
       "      <td>0.009389</td>\n",
       "      <td>47573.65569</td>\n",
       "      <td>56239.95536</td>\n",
       "      <td>0.000061</td>\n",
       "      <td>0.000840</td>\n",
       "    </tr>\n",
       "    <tr>\n",
       "      <th>New Zealand</th>\n",
       "      <td>NaN</td>\n",
       "      <td>0.007396</td>\n",
       "      <td>NaN</td>\n",
       "      <td>42642.66293</td>\n",
       "      <td>NaN</td>\n",
       "      <td>0.005999</td>\n",
       "    </tr>\n",
       "    <tr>\n",
       "      <th>Norway</th>\n",
       "      <td>NaN</td>\n",
       "      <td>0.008209</td>\n",
       "      <td>NaN</td>\n",
       "      <td>64655.68752</td>\n",
       "      <td>NaN</td>\n",
       "      <td>0.026862</td>\n",
       "    </tr>\n",
       "    <tr>\n",
       "      <th>Poland</th>\n",
       "      <td>NaN</td>\n",
       "      <td>0.008905</td>\n",
       "      <td>NaN</td>\n",
       "      <td>31775.26164</td>\n",
       "      <td>NaN</td>\n",
       "      <td>0.000408</td>\n",
       "    </tr>\n",
       "    <tr>\n",
       "      <th>Portugal</th>\n",
       "      <td>0.006364</td>\n",
       "      <td>0.005020</td>\n",
       "      <td>30480.13428</td>\n",
       "      <td>34149.39832</td>\n",
       "      <td>0.001154</td>\n",
       "      <td>0.002657</td>\n",
       "    </tr>\n",
       "    <tr>\n",
       "      <th>Romania</th>\n",
       "      <td>NaN</td>\n",
       "      <td>0.003945</td>\n",
       "      <td>NaN</td>\n",
       "      <td>28616.60000</td>\n",
       "      <td>NaN</td>\n",
       "      <td>0.001343</td>\n",
       "    </tr>\n",
       "    <tr>\n",
       "      <th>Slovenia</th>\n",
       "      <td>NaN</td>\n",
       "      <td>0.006973</td>\n",
       "      <td>NaN</td>\n",
       "      <td>38089.53867</td>\n",
       "      <td>NaN</td>\n",
       "      <td>0.002480</td>\n",
       "    </tr>\n",
       "    <tr>\n",
       "      <th>Spain</th>\n",
       "      <td>0.007624</td>\n",
       "      <td>0.005775</td>\n",
       "      <td>34868.60397</td>\n",
       "      <td>40441.27469</td>\n",
       "      <td>0.000895</td>\n",
       "      <td>0.002151</td>\n",
       "    </tr>\n",
       "    <tr>\n",
       "      <th>Sweden</th>\n",
       "      <td>0.006157</td>\n",
       "      <td>0.004188</td>\n",
       "      <td>40755.08686</td>\n",
       "      <td>52516.45407</td>\n",
       "      <td>0.008903</td>\n",
       "      <td>0.007951</td>\n",
       "    </tr>\n",
       "    <tr>\n",
       "      <th>Switzerland</th>\n",
       "      <td>0.006106</td>\n",
       "      <td>0.004328</td>\n",
       "      <td>58404.10477</td>\n",
       "      <td>68246.40264</td>\n",
       "      <td>0.005353</td>\n",
       "      <td>0.004676</td>\n",
       "    </tr>\n",
       "    <tr>\n",
       "      <th>Turkey</th>\n",
       "      <td>NaN</td>\n",
       "      <td>0.005091</td>\n",
       "      <td>NaN</td>\n",
       "      <td>28410.11313</td>\n",
       "      <td>NaN</td>\n",
       "      <td>0.001065</td>\n",
       "    </tr>\n",
       "    <tr>\n",
       "      <th>Ukraine</th>\n",
       "      <td>NaN</td>\n",
       "      <td>0.005236</td>\n",
       "      <td>NaN</td>\n",
       "      <td>12338.00280</td>\n",
       "      <td>NaN</td>\n",
       "      <td>0.000323</td>\n",
       "    </tr>\n",
       "    <tr>\n",
       "      <th>United Kingdom</th>\n",
       "      <td>0.009643</td>\n",
       "      <td>0.005672</td>\n",
       "      <td>38115.16887</td>\n",
       "      <td>46290.12272</td>\n",
       "      <td>0.000148</td>\n",
       "      <td>0.001158</td>\n",
       "    </tr>\n",
       "    <tr>\n",
       "      <th>United States</th>\n",
       "      <td>0.021292</td>\n",
       "      <td>0.016585</td>\n",
       "      <td>50163.88947</td>\n",
       "      <td>61498.36983</td>\n",
       "      <td>0.001016</td>\n",
       "      <td>0.002073</td>\n",
       "    </tr>\n",
       "  </tbody>\n",
       "</table>\n",
       "</div>"
      ],
      "text/plain": [
       "               CO2_emmissions_per_capita           GDP_Per_Capita  \\\n",
       "Year                                2000      2018           2000   \n",
       "Country                                                             \n",
       "Australia                       0.018440  0.016706    38462.01536   \n",
       "Austria                         0.008199  0.007504    46551.45979   \n",
       "Belarus                              NaN  0.006545            NaN   \n",
       "Belgium                              NaN  0.008727            NaN   \n",
       "Bulgaria                             NaN  0.006176            NaN   \n",
       "Canada                          0.018705  0.015820    37278.43251   \n",
       "Croatia                              NaN  0.004263            NaN   \n",
       "Denmark                         0.010411  0.006301    49063.18270   \n",
       "Estonia                              NaN  0.013388            NaN   \n",
       "Finland                         0.010994  0.008302    39926.41368   \n",
       "France                          0.007104  0.005206    39859.19272   \n",
       "Germany                         0.011054  0.009087    43001.82825   \n",
       "Greece                               NaN  0.006823            NaN   \n",
       "Hungary                              NaN  0.005112            NaN   \n",
       "Italy                           0.008263  0.005741    43191.41536   \n",
       "Japan                           0.009918  0.008928    35722.12311   \n",
       "Latvia                               NaN  0.004075            NaN   \n",
       "Lithuania                            NaN  0.004880            NaN   \n",
       "Luxembourg                           NaN  0.015835            NaN   \n",
       "Netherlands                     0.010793  0.009389    47573.65569   \n",
       "New Zealand                          NaN  0.007396            NaN   \n",
       "Norway                               NaN  0.008209            NaN   \n",
       "Poland                               NaN  0.008905            NaN   \n",
       "Portugal                        0.006364  0.005020    30480.13428   \n",
       "Romania                              NaN  0.003945            NaN   \n",
       "Slovenia                             NaN  0.006973            NaN   \n",
       "Spain                           0.007624  0.005775    34868.60397   \n",
       "Sweden                          0.006157  0.004188    40755.08686   \n",
       "Switzerland                     0.006106  0.004328    58404.10477   \n",
       "Turkey                               NaN  0.005091            NaN   \n",
       "Ukraine                              NaN  0.005236            NaN   \n",
       "United Kingdom                  0.009643  0.005672    38115.16887   \n",
       "United States                   0.021292  0.016585    50163.88947   \n",
       "\n",
       "                             renewable_energy_per_capita            \n",
       "Year                    2018                        2000      2018  \n",
       "Country                                                             \n",
       "Australia        49304.25111                    0.000885  0.001651  \n",
       "Austria          55474.20315                    0.005365  0.005475  \n",
       "Belarus          18885.23550                         NaN  0.000057  \n",
       "Belgium          51279.65454                         NaN  0.001106  \n",
       "Bulgaria         22279.36194                         NaN  0.001146  \n",
       "Canada           48770.33586                    0.011733  0.011408  \n",
       "Croatia          27888.57363                         NaN  0.002212  \n",
       "Denmark          56461.00792                    0.000800  0.002585  \n",
       "Estonia          35320.47464                         NaN  0.000516  \n",
       "Finland          48303.36220                    0.002841  0.003482  \n",
       "France           45488.65322                    0.001206  0.001689  \n",
       "Germany          53634.14458                    0.000435  0.002164  \n",
       "Greece           29859.80485                         NaN  0.001506  \n",
       "Hungary          31196.50498                         NaN  0.000149  \n",
       "Italy            42187.82412                    0.000908  0.001499  \n",
       "Japan            41309.95609                    0.000763  0.001246  \n",
       "Latvia           30131.97915                         NaN  0.001325  \n",
       "Lithuania        35540.65377                         NaN  0.000782  \n",
       "Luxembourg      113952.35790                         NaN  0.002832  \n",
       "Netherlands      56239.95536                    0.000061  0.000840  \n",
       "New Zealand      42642.66293                         NaN  0.005999  \n",
       "Norway           64655.68752                         NaN  0.026862  \n",
       "Poland           31775.26164                         NaN  0.000408  \n",
       "Portugal         34149.39832                    0.001154  0.002657  \n",
       "Romania          28616.60000                         NaN  0.001343  \n",
       "Slovenia         38089.53867                         NaN  0.002480  \n",
       "Spain            40441.27469                    0.000895  0.002151  \n",
       "Sweden           52516.45407                    0.008903  0.007951  \n",
       "Switzerland      68246.40264                    0.005353  0.004676  \n",
       "Turkey           28410.11313                         NaN  0.001065  \n",
       "Ukraine          12338.00280                         NaN  0.000323  \n",
       "United Kingdom   46290.12272                    0.000148  0.001158  \n",
       "United States    61498.36983                    0.001016  0.002073  "
      ]
     },
     "execution_count": 141,
     "metadata": {},
     "output_type": "execute_result"
    }
   ],
   "source": [
    "renewable_energy_pivoted"
   ]
  },
  {
   "cell_type": "code",
   "execution_count": 142,
   "id": "49732b11",
   "metadata": {},
   "outputs": [],
   "source": [
    "renewable_energy_pivoted = renewable_energy_pivoted.dropna()"
   ]
  },
  {
   "cell_type": "code",
   "execution_count": 143,
   "id": "a6c913b0",
   "metadata": {
    "slideshow": {
     "slide_type": "slide"
    }
   },
   "outputs": [
    {
     "data": {
      "text/plain": [
       "Text(0.5, 1.0, 'Distribution of Renewable Energy per Capita')"
      ]
     },
     "execution_count": 143,
     "metadata": {},
     "output_type": "execute_result"
    },
    {
     "data": {
      "image/png": "[encoded data removed]",
      "text/plain": [
       "<Figure size 432x288 with 1 Axes>"
      ]
     },
     "metadata": {
      "needs_background": "light"
     },
     "output_type": "display_data"
    }
   ],
   "source": [
    "renewable_energy_pivoted[(\"renewable_energy_per_capita\",2018)].hist(alpha = 0.7)\n",
    "renewable_energy_pivoted[(\"renewable_energy_per_capita\",2000)].hist(alpha = 0.7)\n",
    "plt.legend([\"2018\",\"2000\"])\n",
    "plt.title(\"Distribution of Renewable Energy per Capita\")"
   ]
  },
  {
   "cell_type": "code",
   "execution_count": 144,
   "id": "3f359db4",
   "metadata": {
    "slideshow": {
     "slide_type": "slide"
    }
   },
   "outputs": [
    {
     "data": {
      "text/plain": [
       "Text(0.5, 1.0, 'Distribution of CO2 emissions per Capita')"
      ]
     },
     "execution_count": 144,
     "metadata": {},
     "output_type": "execute_result"
    },
    {
     "data": {
      "image/png": "[encoded data removed]",
      "text/plain": [
       "<Figure size 432x288 with 1 Axes>"
      ]
     },
     "metadata": {
      "needs_background": "light"
     },
     "output_type": "display_data"
    }
   ],
   "source": [
    "renewable_energy_pivoted[(\"CO2_emmissions_per_capita\",2018)].hist(alpha = 0.7)\n",
    "renewable_energy_pivoted[(\"CO2_emmissions_per_capita\",2000)].hist(alpha = 0.7)\n",
    "plt.legend([\"2018\",\"2000\"])\n",
    "plt.title(\"Distribution of CO2 emissions per Capita\")"
   ]
  },
  {
   "cell_type": "code",
   "execution_count": 145,
   "id": "8777551a",
   "metadata": {},
   "outputs": [],
   "source": [
    "renewable_energy_2018 = gdp_and_renewable_energy_full[gdp_and_renewable_energy_full[\"Year\"] == 2018]\n",
    "renewable_energy_2000 = gdp_and_renewable_energy_full[gdp_and_renewable_energy_full[\"Year\"] == 2000]"
   ]
  },
  {
   "cell_type": "code",
   "execution_count": 146,
   "id": "3043605e",
   "metadata": {},
   "outputs": [],
   "source": [
    "mean_by_continent2018 = renewable_energy_2018.groupby(\"Continent\")[\"renewable_energy_per_capita\"].mean().tolist()\n",
    "mean_by_continent2000 = renewable_energy_2000.groupby(\"Continent\")[\"renewable_energy_per_capita\"].mean().tolist()"
   ]
  },
  {
   "cell_type": "code",
   "execution_count": 147,
   "id": "30d145bf",
   "metadata": {
    "slideshow": {
     "slide_type": "slide"
    }
   },
   "outputs": [
    {
     "data": {
      "text/plain": [
       "Text(0.5, 1.0, 'Average Renewable Energy Production Per Capita by Continent')"
      ]
     },
     "execution_count": 147,
     "metadata": {},
     "output_type": "execute_result"
    },
    {
     "data": {
      "image/png": "[encoded data removed]",
      "text/plain": [
       "<Figure size 432x288 with 1 Axes>"
      ]
     },
     "metadata": {
      "needs_background": "light"
     },
     "output_type": "display_data"
    }
   ],
   "source": [
    "plt.bar(renewable_energy_2018[\"Continent\"].drop_duplicates(), height = mean_by_continent2018)\n",
    "plt.bar(renewable_energy_2000[\"Continent\"].drop_duplicates(), height = mean_by_continent2000)\n",
    "plt.legend([\"2018\",\"2010\"])\n",
    "plt.xlabel(\"Continent\")\n",
    "plt.ylabel(\"Renewable Energy Per Capita\")\n",
    "plt.title(\"Average Renewable Energy Production Per Capita by Continent\")"
   ]
  },
  {
   "cell_type": "code",
   "execution_count": 148,
   "id": "74d7170e",
   "metadata": {
    "slideshow": {
     "slide_type": "-"
    }
   },
   "outputs": [
    {
     "name": "stderr",
     "output_type": "stream",
     "text": [
      "<ipython-input-148-64dfe3a74fae>:1: SettingWithCopyWarning: \n",
      "A value is trying to be set on a copy of a slice from a DataFrame.\n",
      "Try using .loc[row_indexer,col_indexer] = value instead\n",
      "\n",
      "See the caveats in the documentation: https://pandas.pydata.org/pandas-docs/stable/user_guide/indexing.html#returning-a-view-versus-a-copy\n",
      "  renewable_energy_pivoted[\"Percent_Change_energy\"] = 100*(renewable_energy_pivoted[(\"renewable_energy_per_capita\",2018)]-renewable_energy_pivoted[(\"renewable_energy_per_capita\",2000)])/renewable_energy_pivoted[(\"renewable_energy_per_capita\",2000)]\n",
      "<ipython-input-148-64dfe3a74fae>:2: SettingWithCopyWarning: \n",
      "A value is trying to be set on a copy of a slice from a DataFrame.\n",
      "Try using .loc[row_indexer,col_indexer] = value instead\n",
      "\n",
      "See the caveats in the documentation: https://pandas.pydata.org/pandas-docs/stable/user_guide/indexing.html#returning-a-view-versus-a-copy\n",
      "  renewable_energy_pivoted[\"Percent_Change_GDP\"] = 100*(renewable_energy_pivoted[(\"GDP_Per_Capita\",2018)]-renewable_energy_pivoted[(\"GDP_Per_Capita\",2000)])/renewable_energy_pivoted[(\"GDP_Per_Capita\",2000)]\n",
      "<ipython-input-148-64dfe3a74fae>:3: SettingWithCopyWarning: \n",
      "A value is trying to be set on a copy of a slice from a DataFrame.\n",
      "Try using .loc[row_indexer,col_indexer] = value instead\n",
      "\n",
      "See the caveats in the documentation: https://pandas.pydata.org/pandas-docs/stable/user_guide/indexing.html#returning-a-view-versus-a-copy\n",
      "  renewable_energy_pivoted[\"Percent_Change_CO2\"] = 100*(renewable_energy_pivoted[(\"CO2_emmissions_per_capita\",2018)]-renewable_energy_pivoted[(\"CO2_emmissions_per_capita\",2000)])/renewable_energy_pivoted[(\"CO2_emmissions_per_capita\",2000)]\n"
     ]
    }
   ],
   "source": [
    "renewable_energy_pivoted[\"Percent_Change_energy\"] = 100*(renewable_energy_pivoted[(\"renewable_energy_per_capita\",2018)]-renewable_energy_pivoted[(\"renewable_energy_per_capita\",2000)])/renewable_energy_pivoted[(\"renewable_energy_per_capita\",2000)]\n",
    "renewable_energy_pivoted[\"Percent_Change_GDP\"] = 100*(renewable_energy_pivoted[(\"GDP_Per_Capita\",2018)]-renewable_energy_pivoted[(\"GDP_Per_Capita\",2000)])/renewable_energy_pivoted[(\"GDP_Per_Capita\",2000)]\n",
    "renewable_energy_pivoted[\"Percent_Change_CO2\"] = 100*(renewable_energy_pivoted[(\"CO2_emmissions_per_capita\",2018)]-renewable_energy_pivoted[(\"CO2_emmissions_per_capita\",2000)])/renewable_energy_pivoted[(\"CO2_emmissions_per_capita\",2000)]"
   ]
  },
  {
   "cell_type": "code",
   "execution_count": 149,
   "id": "c2e154dc",
   "metadata": {
    "scrolled": true,
    "slideshow": {
     "slide_type": "slide"
    }
   },
   "outputs": [
    {
     "data": {
      "text/html": [
       "<div>\n",
       "<style scoped>\n",
       "    .dataframe tbody tr th:only-of-type {\n",
       "        vertical-align: middle;\n",
       "    }\n",
       "\n",
       "    .dataframe tbody tr th {\n",
       "        vertical-align: top;\n",
       "    }\n",
       "\n",
       "    .dataframe thead tr th {\n",
       "        text-align: left;\n",
       "    }\n",
       "\n",
       "    .dataframe thead tr:last-of-type th {\n",
       "        text-align: right;\n",
       "    }\n",
       "</style>\n",
       "<table border=\"1\" class=\"dataframe\">\n",
       "  <thead>\n",
       "    <tr>\n",
       "      <th></th>\n",
       "      <th colspan=\"2\" halign=\"left\">CO2_emmissions_per_capita</th>\n",
       "      <th colspan=\"2\" halign=\"left\">GDP_Per_Capita</th>\n",
       "      <th colspan=\"2\" halign=\"left\">renewable_energy_per_capita</th>\n",
       "      <th>Percent_Change_energy</th>\n",
       "      <th>Percent_Change_GDP</th>\n",
       "      <th>Percent_Change_CO2</th>\n",
       "    </tr>\n",
       "    <tr>\n",
       "      <th>Year</th>\n",
       "      <th>2000</th>\n",
       "      <th>2018</th>\n",
       "      <th>2000</th>\n",
       "      <th>2018</th>\n",
       "      <th>2000</th>\n",
       "      <th>2018</th>\n",
       "      <th></th>\n",
       "      <th></th>\n",
       "      <th></th>\n",
       "    </tr>\n",
       "    <tr>\n",
       "      <th>Country</th>\n",
       "      <th></th>\n",
       "      <th></th>\n",
       "      <th></th>\n",
       "      <th></th>\n",
       "      <th></th>\n",
       "      <th></th>\n",
       "      <th></th>\n",
       "      <th></th>\n",
       "      <th></th>\n",
       "    </tr>\n",
       "  </thead>\n",
       "  <tbody>\n",
       "    <tr>\n",
       "      <th>Switzerland</th>\n",
       "      <td>0.006106</td>\n",
       "      <td>0.004328</td>\n",
       "      <td>58404.10477</td>\n",
       "      <td>68246.40264</td>\n",
       "      <td>0.005353</td>\n",
       "      <td>0.004676</td>\n",
       "      <td>-12.647883</td>\n",
       "      <td>16.852065</td>\n",
       "      <td>-29.121757</td>\n",
       "    </tr>\n",
       "    <tr>\n",
       "      <th>Sweden</th>\n",
       "      <td>0.006157</td>\n",
       "      <td>0.004188</td>\n",
       "      <td>40755.08686</td>\n",
       "      <td>52516.45407</td>\n",
       "      <td>0.008903</td>\n",
       "      <td>0.007951</td>\n",
       "      <td>-10.702332</td>\n",
       "      <td>28.858648</td>\n",
       "      <td>-31.971990</td>\n",
       "    </tr>\n",
       "    <tr>\n",
       "      <th>Canada</th>\n",
       "      <td>0.018705</td>\n",
       "      <td>0.015820</td>\n",
       "      <td>37278.43251</td>\n",
       "      <td>48770.33586</td>\n",
       "      <td>0.011733</td>\n",
       "      <td>0.011408</td>\n",
       "      <td>-2.775543</td>\n",
       "      <td>30.827217</td>\n",
       "      <td>-15.426783</td>\n",
       "    </tr>\n",
       "    <tr>\n",
       "      <th>Austria</th>\n",
       "      <td>0.008199</td>\n",
       "      <td>0.007504</td>\n",
       "      <td>46551.45979</td>\n",
       "      <td>55474.20315</td>\n",
       "      <td>0.005365</td>\n",
       "      <td>0.005475</td>\n",
       "      <td>2.064264</td>\n",
       "      <td>19.167483</td>\n",
       "      <td>-8.482427</td>\n",
       "    </tr>\n",
       "    <tr>\n",
       "      <th>Finland</th>\n",
       "      <td>0.010994</td>\n",
       "      <td>0.008302</td>\n",
       "      <td>39926.41368</td>\n",
       "      <td>48303.36220</td>\n",
       "      <td>0.002841</td>\n",
       "      <td>0.003482</td>\n",
       "      <td>22.556462</td>\n",
       "      <td>20.980969</td>\n",
       "      <td>-24.487053</td>\n",
       "    </tr>\n",
       "    <tr>\n",
       "      <th>France</th>\n",
       "      <td>0.007104</td>\n",
       "      <td>0.005206</td>\n",
       "      <td>39859.19272</td>\n",
       "      <td>45488.65322</td>\n",
       "      <td>0.001206</td>\n",
       "      <td>0.001689</td>\n",
       "      <td>40.009891</td>\n",
       "      <td>14.123368</td>\n",
       "      <td>-26.718352</td>\n",
       "    </tr>\n",
       "    <tr>\n",
       "      <th>Japan</th>\n",
       "      <td>0.009918</td>\n",
       "      <td>0.008928</td>\n",
       "      <td>35722.12311</td>\n",
       "      <td>41309.95609</td>\n",
       "      <td>0.000763</td>\n",
       "      <td>0.001246</td>\n",
       "      <td>63.336037</td>\n",
       "      <td>15.642500</td>\n",
       "      <td>-9.983959</td>\n",
       "    </tr>\n",
       "    <tr>\n",
       "      <th>Italy</th>\n",
       "      <td>0.008263</td>\n",
       "      <td>0.005741</td>\n",
       "      <td>43191.41536</td>\n",
       "      <td>42187.82412</td>\n",
       "      <td>0.000908</td>\n",
       "      <td>0.001499</td>\n",
       "      <td>65.063598</td>\n",
       "      <td>-2.323590</td>\n",
       "      <td>-30.516063</td>\n",
       "    </tr>\n",
       "    <tr>\n",
       "      <th>Australia</th>\n",
       "      <td>0.018440</td>\n",
       "      <td>0.016706</td>\n",
       "      <td>38462.01536</td>\n",
       "      <td>49304.25111</td>\n",
       "      <td>0.000885</td>\n",
       "      <td>0.001651</td>\n",
       "      <td>86.490885</td>\n",
       "      <td>28.189463</td>\n",
       "      <td>-9.400489</td>\n",
       "    </tr>\n",
       "    <tr>\n",
       "      <th>United States</th>\n",
       "      <td>0.021292</td>\n",
       "      <td>0.016585</td>\n",
       "      <td>50163.88947</td>\n",
       "      <td>61498.36983</td>\n",
       "      <td>0.001016</td>\n",
       "      <td>0.002073</td>\n",
       "      <td>103.930536</td>\n",
       "      <td>22.594899</td>\n",
       "      <td>-22.105503</td>\n",
       "    </tr>\n",
       "    <tr>\n",
       "      <th>Portugal</th>\n",
       "      <td>0.006364</td>\n",
       "      <td>0.005020</td>\n",
       "      <td>30480.13428</td>\n",
       "      <td>34149.39832</td>\n",
       "      <td>0.001154</td>\n",
       "      <td>0.002657</td>\n",
       "      <td>130.223182</td>\n",
       "      <td>12.038215</td>\n",
       "      <td>-21.119226</td>\n",
       "    </tr>\n",
       "    <tr>\n",
       "      <th>Spain</th>\n",
       "      <td>0.007624</td>\n",
       "      <td>0.005775</td>\n",
       "      <td>34868.60397</td>\n",
       "      <td>40441.27469</td>\n",
       "      <td>0.000895</td>\n",
       "      <td>0.002151</td>\n",
       "      <td>140.286393</td>\n",
       "      <td>15.981915</td>\n",
       "      <td>-24.256172</td>\n",
       "    </tr>\n",
       "    <tr>\n",
       "      <th>Denmark</th>\n",
       "      <td>0.010411</td>\n",
       "      <td>0.006301</td>\n",
       "      <td>49063.18270</td>\n",
       "      <td>56461.00792</td>\n",
       "      <td>0.000800</td>\n",
       "      <td>0.002585</td>\n",
       "      <td>223.148437</td>\n",
       "      <td>15.078160</td>\n",
       "      <td>-39.476775</td>\n",
       "    </tr>\n",
       "    <tr>\n",
       "      <th>Germany</th>\n",
       "      <td>0.011054</td>\n",
       "      <td>0.009087</td>\n",
       "      <td>43001.82825</td>\n",
       "      <td>53634.14458</td>\n",
       "      <td>0.000435</td>\n",
       "      <td>0.002164</td>\n",
       "      <td>397.959901</td>\n",
       "      <td>24.725266</td>\n",
       "      <td>-17.790995</td>\n",
       "    </tr>\n",
       "    <tr>\n",
       "      <th>United Kingdom</th>\n",
       "      <td>0.009643</td>\n",
       "      <td>0.005672</td>\n",
       "      <td>38115.16887</td>\n",
       "      <td>46290.12272</td>\n",
       "      <td>0.000148</td>\n",
       "      <td>0.001158</td>\n",
       "      <td>681.772804</td>\n",
       "      <td>21.448033</td>\n",
       "      <td>-41.179032</td>\n",
       "    </tr>\n",
       "    <tr>\n",
       "      <th>Netherlands</th>\n",
       "      <td>0.010793</td>\n",
       "      <td>0.009389</td>\n",
       "      <td>47573.65569</td>\n",
       "      <td>56239.95536</td>\n",
       "      <td>0.000061</td>\n",
       "      <td>0.000840</td>\n",
       "      <td>1266.302596</td>\n",
       "      <td>18.216594</td>\n",
       "      <td>-13.007574</td>\n",
       "    </tr>\n",
       "  </tbody>\n",
       "</table>\n",
       "</div>"
      ],
      "text/plain": [
       "               CO2_emmissions_per_capita           GDP_Per_Capita  \\\n",
       "Year                                2000      2018           2000   \n",
       "Country                                                             \n",
       "Switzerland                     0.006106  0.004328    58404.10477   \n",
       "Sweden                          0.006157  0.004188    40755.08686   \n",
       "Canada                          0.018705  0.015820    37278.43251   \n",
       "Austria                         0.008199  0.007504    46551.45979   \n",
       "Finland                         0.010994  0.008302    39926.41368   \n",
       "France                          0.007104  0.005206    39859.19272   \n",
       "Japan                           0.009918  0.008928    35722.12311   \n",
       "Italy                           0.008263  0.005741    43191.41536   \n",
       "Australia                       0.018440  0.016706    38462.01536   \n",
       "United States                   0.021292  0.016585    50163.88947   \n",
       "Portugal                        0.006364  0.005020    30480.13428   \n",
       "Spain                           0.007624  0.005775    34868.60397   \n",
       "Denmark                         0.010411  0.006301    49063.18270   \n",
       "Germany                         0.011054  0.009087    43001.82825   \n",
       "United Kingdom                  0.009643  0.005672    38115.16887   \n",
       "Netherlands                     0.010793  0.009389    47573.65569   \n",
       "\n",
       "                            renewable_energy_per_capita            \\\n",
       "Year                   2018                        2000      2018   \n",
       "Country                                                             \n",
       "Switzerland     68246.40264                    0.005353  0.004676   \n",
       "Sweden          52516.45407                    0.008903  0.007951   \n",
       "Canada          48770.33586                    0.011733  0.011408   \n",
       "Austria         55474.20315                    0.005365  0.005475   \n",
       "Finland         48303.36220                    0.002841  0.003482   \n",
       "France          45488.65322                    0.001206  0.001689   \n",
       "Japan           41309.95609                    0.000763  0.001246   \n",
       "Italy           42187.82412                    0.000908  0.001499   \n",
       "Australia       49304.25111                    0.000885  0.001651   \n",
       "United States   61498.36983                    0.001016  0.002073   \n",
       "Portugal        34149.39832                    0.001154  0.002657   \n",
       "Spain           40441.27469                    0.000895  0.002151   \n",
       "Denmark         56461.00792                    0.000800  0.002585   \n",
       "Germany         53634.14458                    0.000435  0.002164   \n",
       "United Kingdom  46290.12272                    0.000148  0.001158   \n",
       "Netherlands     56239.95536                    0.000061  0.000840   \n",
       "\n",
       "               Percent_Change_energy Percent_Change_GDP Percent_Change_CO2  \n",
       "Year                                                                        \n",
       "Country                                                                     \n",
       "Switzerland               -12.647883          16.852065         -29.121757  \n",
       "Sweden                    -10.702332          28.858648         -31.971990  \n",
       "Canada                     -2.775543          30.827217         -15.426783  \n",
       "Austria                     2.064264          19.167483          -8.482427  \n",
       "Finland                    22.556462          20.980969         -24.487053  \n",
       "France                     40.009891          14.123368         -26.718352  \n",
       "Japan                      63.336037          15.642500          -9.983959  \n",
       "Italy                      65.063598          -2.323590         -30.516063  \n",
       "Australia                  86.490885          28.189463          -9.400489  \n",
       "United States             103.930536          22.594899         -22.105503  \n",
       "Portugal                  130.223182          12.038215         -21.119226  \n",
       "Spain                     140.286393          15.981915         -24.256172  \n",
       "Denmark                   223.148437          15.078160         -39.476775  \n",
       "Germany                   397.959901          24.725266         -17.790995  \n",
       "United Kingdom            681.772804          21.448033         -41.179032  \n",
       "Netherlands              1266.302596          18.216594         -13.007574  "
      ]
     },
     "execution_count": 149,
     "metadata": {},
     "output_type": "execute_result"
    }
   ],
   "source": [
    "renewable_energy_pivoted.sort_values(\"Percent_Change_energy\")"
   ]
  },
  {
   "cell_type": "code",
   "execution_count": 150,
   "id": "7ad68f9b",
   "metadata": {
    "scrolled": true,
    "slideshow": {
     "slide_type": "slide"
    }
   },
   "outputs": [
    {
     "data": {
      "text/plain": [
       "0.00939358745454549"
      ]
     },
     "execution_count": 150,
     "metadata": {},
     "output_type": "execute_result"
    },
    {
     "data": {
      "image/png": "[encoded data removed]",
      "text/plain": [
       "<Figure size 432x288 with 1 Axes>"
      ]
     },
     "metadata": {
      "needs_background": "light"
     },
     "output_type": "display_data"
    }
   ],
   "source": [
    "renewable_energy_pivoted.plot(x = \"Percent_Change_GDP\" , y = \"Percent_Change_energy\" , kind = \"scatter\", title = \"Change in renewable energy production vs. Change in GDP per capita\")\n",
    "renewable_energy_pivoted[\"Percent_Change_GDP\"].corr(renewable_energy_pivoted[\"Percent_Change_energy\"])"
   ]
  },
  {
   "cell_type": "code",
   "execution_count": 151,
   "id": "66b09b92",
   "metadata": {},
   "outputs": [],
   "source": [
    "#Very weak correllation between GDP Growth and renewable energy use"
   ]
  },
  {
   "cell_type": "code",
   "execution_count": 152,
   "id": "67bc80b4",
   "metadata": {
    "scrolled": true,
    "slideshow": {
     "slide_type": "slide"
    }
   },
   "outputs": [
    {
     "data": {
      "text/plain": [
       "0.2561635757686921"
      ]
     },
     "execution_count": 152,
     "metadata": {},
     "output_type": "execute_result"
    },
    {
     "data": {
      "image/png": "[encoded data removed]",
      "text/plain": [
       "<Figure size 432x288 with 1 Axes>"
      ]
     },
     "metadata": {
      "needs_background": "light"
     },
     "output_type": "display_data"
    }
   ],
   "source": [
    "renewable_energy_pivoted.plot(x = \"Percent_Change_GDP\" , y = \"Percent_Change_CO2\" , kind = \"scatter\", title = \"Change in carbon emissions vs. Change in GDP per capita\")\n",
    "renewable_energy_pivoted[\"Percent_Change_GDP\"].corr(renewable_energy_pivoted[\"Percent_Change_CO2\"])"
   ]
  },
  {
   "cell_type": "code",
   "execution_count": 153,
   "id": "7a39713e",
   "metadata": {},
   "outputs": [],
   "source": [
    "#stronger correlation between GDP growth and carbon emissions growth"
   ]
  },
  {
   "cell_type": "code",
   "execution_count": 154,
   "id": "232cfad7",
   "metadata": {
    "slideshow": {
     "slide_type": "slide"
    }
   },
   "outputs": [
    {
     "data": {
      "text/plain": [
       "-0.005095866379234739"
      ]
     },
     "execution_count": 154,
     "metadata": {},
     "output_type": "execute_result"
    },
    {
     "data": {
      "image/png": "[encoded data removed]",
      "text/plain": [
       "<Figure size 432x288 with 1 Axes>"
      ]
     },
     "metadata": {
      "needs_background": "light"
     },
     "output_type": "display_data"
    }
   ],
   "source": [
    "renewable_energy_pivoted.plot(x = \"Percent_Change_energy\" , y = \"Percent_Change_CO2\" , kind = \"scatter\", title = \"Change in Carbon emissions vs. Change in renewable energy use\")\n",
    "renewable_energy_pivoted[\"Percent_Change_energy\"].corr(renewable_energy_pivoted[\"Percent_Change_CO2\"])"
   ]
  },
  {
   "cell_type": "markdown",
   "id": "89a0593d",
   "metadata": {},
   "source": [
    "Negative correlation between the use of renewable energy and carbon emissions"
   ]
  },
  {
   "cell_type": "markdown",
   "id": "891d5c6e",
   "metadata": {
    "slideshow": {
     "slide_type": "slide"
    }
   },
   "source": [
    "# Exploring the Top 3 Countries in Renewable Energy"
   ]
  },
  {
   "cell_type": "code",
   "execution_count": 155,
   "id": "e7a1fb2b",
   "metadata": {
    "scrolled": true,
    "slideshow": {
     "slide_type": "subslide"
    }
   },
   "outputs": [
    {
     "data": {
      "text/html": [
       "<div>\n",
       "<style scoped>\n",
       "    .dataframe tbody tr th:only-of-type {\n",
       "        vertical-align: middle;\n",
       "    }\n",
       "\n",
       "    .dataframe tbody tr th {\n",
       "        vertical-align: top;\n",
       "    }\n",
       "\n",
       "    .dataframe thead tr th {\n",
       "        text-align: left;\n",
       "    }\n",
       "\n",
       "    .dataframe thead tr:last-of-type th {\n",
       "        text-align: right;\n",
       "    }\n",
       "</style>\n",
       "<table border=\"1\" class=\"dataframe\">\n",
       "  <thead>\n",
       "    <tr>\n",
       "      <th></th>\n",
       "      <th colspan=\"2\" halign=\"left\">CO2_emmissions_per_capita</th>\n",
       "      <th colspan=\"2\" halign=\"left\">GDP_Per_Capita</th>\n",
       "      <th colspan=\"2\" halign=\"left\">renewable_energy_per_capita</th>\n",
       "      <th>Percent_Change_energy</th>\n",
       "      <th>Percent_Change_GDP</th>\n",
       "      <th>Percent_Change_CO2</th>\n",
       "    </tr>\n",
       "    <tr>\n",
       "      <th>Year</th>\n",
       "      <th>2000</th>\n",
       "      <th>2018</th>\n",
       "      <th>2000</th>\n",
       "      <th>2018</th>\n",
       "      <th>2000</th>\n",
       "      <th>2018</th>\n",
       "      <th></th>\n",
       "      <th></th>\n",
       "      <th></th>\n",
       "    </tr>\n",
       "    <tr>\n",
       "      <th>Country</th>\n",
       "      <th></th>\n",
       "      <th></th>\n",
       "      <th></th>\n",
       "      <th></th>\n",
       "      <th></th>\n",
       "      <th></th>\n",
       "      <th></th>\n",
       "      <th></th>\n",
       "      <th></th>\n",
       "    </tr>\n",
       "  </thead>\n",
       "  <tbody>\n",
       "    <tr>\n",
       "      <th>Switzerland</th>\n",
       "      <td>0.006106</td>\n",
       "      <td>0.004328</td>\n",
       "      <td>58404.10477</td>\n",
       "      <td>68246.40264</td>\n",
       "      <td>0.005353</td>\n",
       "      <td>0.004676</td>\n",
       "      <td>-12.647883</td>\n",
       "      <td>16.852065</td>\n",
       "      <td>-29.121757</td>\n",
       "    </tr>\n",
       "    <tr>\n",
       "      <th>Sweden</th>\n",
       "      <td>0.006157</td>\n",
       "      <td>0.004188</td>\n",
       "      <td>40755.08686</td>\n",
       "      <td>52516.45407</td>\n",
       "      <td>0.008903</td>\n",
       "      <td>0.007951</td>\n",
       "      <td>-10.702332</td>\n",
       "      <td>28.858648</td>\n",
       "      <td>-31.971990</td>\n",
       "    </tr>\n",
       "    <tr>\n",
       "      <th>Canada</th>\n",
       "      <td>0.018705</td>\n",
       "      <td>0.015820</td>\n",
       "      <td>37278.43251</td>\n",
       "      <td>48770.33586</td>\n",
       "      <td>0.011733</td>\n",
       "      <td>0.011408</td>\n",
       "      <td>-2.775543</td>\n",
       "      <td>30.827217</td>\n",
       "      <td>-15.426783</td>\n",
       "    </tr>\n",
       "    <tr>\n",
       "      <th>Austria</th>\n",
       "      <td>0.008199</td>\n",
       "      <td>0.007504</td>\n",
       "      <td>46551.45979</td>\n",
       "      <td>55474.20315</td>\n",
       "      <td>0.005365</td>\n",
       "      <td>0.005475</td>\n",
       "      <td>2.064264</td>\n",
       "      <td>19.167483</td>\n",
       "      <td>-8.482427</td>\n",
       "    </tr>\n",
       "    <tr>\n",
       "      <th>Finland</th>\n",
       "      <td>0.010994</td>\n",
       "      <td>0.008302</td>\n",
       "      <td>39926.41368</td>\n",
       "      <td>48303.36220</td>\n",
       "      <td>0.002841</td>\n",
       "      <td>0.003482</td>\n",
       "      <td>22.556462</td>\n",
       "      <td>20.980969</td>\n",
       "      <td>-24.487053</td>\n",
       "    </tr>\n",
       "    <tr>\n",
       "      <th>France</th>\n",
       "      <td>0.007104</td>\n",
       "      <td>0.005206</td>\n",
       "      <td>39859.19272</td>\n",
       "      <td>45488.65322</td>\n",
       "      <td>0.001206</td>\n",
       "      <td>0.001689</td>\n",
       "      <td>40.009891</td>\n",
       "      <td>14.123368</td>\n",
       "      <td>-26.718352</td>\n",
       "    </tr>\n",
       "    <tr>\n",
       "      <th>Japan</th>\n",
       "      <td>0.009918</td>\n",
       "      <td>0.008928</td>\n",
       "      <td>35722.12311</td>\n",
       "      <td>41309.95609</td>\n",
       "      <td>0.000763</td>\n",
       "      <td>0.001246</td>\n",
       "      <td>63.336037</td>\n",
       "      <td>15.642500</td>\n",
       "      <td>-9.983959</td>\n",
       "    </tr>\n",
       "    <tr>\n",
       "      <th>Italy</th>\n",
       "      <td>0.008263</td>\n",
       "      <td>0.005741</td>\n",
       "      <td>43191.41536</td>\n",
       "      <td>42187.82412</td>\n",
       "      <td>0.000908</td>\n",
       "      <td>0.001499</td>\n",
       "      <td>65.063598</td>\n",
       "      <td>-2.323590</td>\n",
       "      <td>-30.516063</td>\n",
       "    </tr>\n",
       "    <tr>\n",
       "      <th>Australia</th>\n",
       "      <td>0.018440</td>\n",
       "      <td>0.016706</td>\n",
       "      <td>38462.01536</td>\n",
       "      <td>49304.25111</td>\n",
       "      <td>0.000885</td>\n",
       "      <td>0.001651</td>\n",
       "      <td>86.490885</td>\n",
       "      <td>28.189463</td>\n",
       "      <td>-9.400489</td>\n",
       "    </tr>\n",
       "    <tr>\n",
       "      <th>United States</th>\n",
       "      <td>0.021292</td>\n",
       "      <td>0.016585</td>\n",
       "      <td>50163.88947</td>\n",
       "      <td>61498.36983</td>\n",
       "      <td>0.001016</td>\n",
       "      <td>0.002073</td>\n",
       "      <td>103.930536</td>\n",
       "      <td>22.594899</td>\n",
       "      <td>-22.105503</td>\n",
       "    </tr>\n",
       "    <tr>\n",
       "      <th>Portugal</th>\n",
       "      <td>0.006364</td>\n",
       "      <td>0.005020</td>\n",
       "      <td>30480.13428</td>\n",
       "      <td>34149.39832</td>\n",
       "      <td>0.001154</td>\n",
       "      <td>0.002657</td>\n",
       "      <td>130.223182</td>\n",
       "      <td>12.038215</td>\n",
       "      <td>-21.119226</td>\n",
       "    </tr>\n",
       "    <tr>\n",
       "      <th>Spain</th>\n",
       "      <td>0.007624</td>\n",
       "      <td>0.005775</td>\n",
       "      <td>34868.60397</td>\n",
       "      <td>40441.27469</td>\n",
       "      <td>0.000895</td>\n",
       "      <td>0.002151</td>\n",
       "      <td>140.286393</td>\n",
       "      <td>15.981915</td>\n",
       "      <td>-24.256172</td>\n",
       "    </tr>\n",
       "    <tr>\n",
       "      <th>Denmark</th>\n",
       "      <td>0.010411</td>\n",
       "      <td>0.006301</td>\n",
       "      <td>49063.18270</td>\n",
       "      <td>56461.00792</td>\n",
       "      <td>0.000800</td>\n",
       "      <td>0.002585</td>\n",
       "      <td>223.148437</td>\n",
       "      <td>15.078160</td>\n",
       "      <td>-39.476775</td>\n",
       "    </tr>\n",
       "    <tr>\n",
       "      <th>Germany</th>\n",
       "      <td>0.011054</td>\n",
       "      <td>0.009087</td>\n",
       "      <td>43001.82825</td>\n",
       "      <td>53634.14458</td>\n",
       "      <td>0.000435</td>\n",
       "      <td>0.002164</td>\n",
       "      <td>397.959901</td>\n",
       "      <td>24.725266</td>\n",
       "      <td>-17.790995</td>\n",
       "    </tr>\n",
       "    <tr>\n",
       "      <th>United Kingdom</th>\n",
       "      <td>0.009643</td>\n",
       "      <td>0.005672</td>\n",
       "      <td>38115.16887</td>\n",
       "      <td>46290.12272</td>\n",
       "      <td>0.000148</td>\n",
       "      <td>0.001158</td>\n",
       "      <td>681.772804</td>\n",
       "      <td>21.448033</td>\n",
       "      <td>-41.179032</td>\n",
       "    </tr>\n",
       "    <tr>\n",
       "      <th>Netherlands</th>\n",
       "      <td>0.010793</td>\n",
       "      <td>0.009389</td>\n",
       "      <td>47573.65569</td>\n",
       "      <td>56239.95536</td>\n",
       "      <td>0.000061</td>\n",
       "      <td>0.000840</td>\n",
       "      <td>1266.302596</td>\n",
       "      <td>18.216594</td>\n",
       "      <td>-13.007574</td>\n",
       "    </tr>\n",
       "  </tbody>\n",
       "</table>\n",
       "</div>"
      ],
      "text/plain": [
       "               CO2_emmissions_per_capita           GDP_Per_Capita  \\\n",
       "Year                                2000      2018           2000   \n",
       "Country                                                             \n",
       "Switzerland                     0.006106  0.004328    58404.10477   \n",
       "Sweden                          0.006157  0.004188    40755.08686   \n",
       "Canada                          0.018705  0.015820    37278.43251   \n",
       "Austria                         0.008199  0.007504    46551.45979   \n",
       "Finland                         0.010994  0.008302    39926.41368   \n",
       "France                          0.007104  0.005206    39859.19272   \n",
       "Japan                           0.009918  0.008928    35722.12311   \n",
       "Italy                           0.008263  0.005741    43191.41536   \n",
       "Australia                       0.018440  0.016706    38462.01536   \n",
       "United States                   0.021292  0.016585    50163.88947   \n",
       "Portugal                        0.006364  0.005020    30480.13428   \n",
       "Spain                           0.007624  0.005775    34868.60397   \n",
       "Denmark                         0.010411  0.006301    49063.18270   \n",
       "Germany                         0.011054  0.009087    43001.82825   \n",
       "United Kingdom                  0.009643  0.005672    38115.16887   \n",
       "Netherlands                     0.010793  0.009389    47573.65569   \n",
       "\n",
       "                            renewable_energy_per_capita            \\\n",
       "Year                   2018                        2000      2018   \n",
       "Country                                                             \n",
       "Switzerland     68246.40264                    0.005353  0.004676   \n",
       "Sweden          52516.45407                    0.008903  0.007951   \n",
       "Canada          48770.33586                    0.011733  0.011408   \n",
       "Austria         55474.20315                    0.005365  0.005475   \n",
       "Finland         48303.36220                    0.002841  0.003482   \n",
       "France          45488.65322                    0.001206  0.001689   \n",
       "Japan           41309.95609                    0.000763  0.001246   \n",
       "Italy           42187.82412                    0.000908  0.001499   \n",
       "Australia       49304.25111                    0.000885  0.001651   \n",
       "United States   61498.36983                    0.001016  0.002073   \n",
       "Portugal        34149.39832                    0.001154  0.002657   \n",
       "Spain           40441.27469                    0.000895  0.002151   \n",
       "Denmark         56461.00792                    0.000800  0.002585   \n",
       "Germany         53634.14458                    0.000435  0.002164   \n",
       "United Kingdom  46290.12272                    0.000148  0.001158   \n",
       "Netherlands     56239.95536                    0.000061  0.000840   \n",
       "\n",
       "               Percent_Change_energy Percent_Change_GDP Percent_Change_CO2  \n",
       "Year                                                                        \n",
       "Country                                                                     \n",
       "Switzerland               -12.647883          16.852065         -29.121757  \n",
       "Sweden                    -10.702332          28.858648         -31.971990  \n",
       "Canada                     -2.775543          30.827217         -15.426783  \n",
       "Austria                     2.064264          19.167483          -8.482427  \n",
       "Finland                    22.556462          20.980969         -24.487053  \n",
       "France                     40.009891          14.123368         -26.718352  \n",
       "Japan                      63.336037          15.642500          -9.983959  \n",
       "Italy                      65.063598          -2.323590         -30.516063  \n",
       "Australia                  86.490885          28.189463          -9.400489  \n",
       "United States             103.930536          22.594899         -22.105503  \n",
       "Portugal                  130.223182          12.038215         -21.119226  \n",
       "Spain                     140.286393          15.981915         -24.256172  \n",
       "Denmark                   223.148437          15.078160         -39.476775  \n",
       "Germany                   397.959901          24.725266         -17.790995  \n",
       "United Kingdom            681.772804          21.448033         -41.179032  \n",
       "Netherlands              1266.302596          18.216594         -13.007574  "
      ]
     },
     "execution_count": 155,
     "metadata": {},
     "output_type": "execute_result"
    }
   ],
   "source": [
    "renewable_energy_pivoted.sort_values(\"Percent_Change_energy\")\n"
   ]
  },
  {
   "cell_type": "code",
   "execution_count": 156,
   "id": "e5e35896",
   "metadata": {
    "slideshow": {
     "slide_type": "slide"
    }
   },
   "outputs": [],
   "source": [
    "top_3_renewable = gdp_and_renewable_energy_full[(gdp_and_renewable_energy_full[\"Country\"] == \"Switzerland\") |\n",
    "                                               (gdp_and_renewable_energy_full[\"Country\"] == \"Sweden\") |\n",
    "                                               (gdp_and_renewable_energy_full[\"Country\"] == \"Canada\")]"
   ]
  },
  {
   "cell_type": "code",
   "execution_count": 157,
   "id": "a93f1967",
   "metadata": {
    "slideshow": {
     "slide_type": "subslide"
    }
   },
   "outputs": [
    {
     "data": {
      "text/plain": [
       "<seaborn.axisgrid.FacetGrid at 0x2d9da9de6a0>"
      ]
     },
     "execution_count": 157,
     "metadata": {},
     "output_type": "execute_result"
    },
    {
     "data": {
      "image/png": "[encoded data removed]",
      "text/plain": [
       "<Figure size 648x216 with 3 Axes>"
      ]
     },
     "metadata": {
      "needs_background": "light"
     },
     "output_type": "display_data"
    }
   ],
   "source": [
    "renewable_facetgrid = sns.FacetGrid(top_3_renewable, col= \"Country\")\n",
    "renewable_facetgrid.map(plt.plot, \"Year\", \"CO2_emmissions\")"
   ]
  },
  {
   "cell_type": "code",
   "execution_count": null,
   "id": "89c0ea24",
   "metadata": {},
   "outputs": [],
   "source": []
  }
 ],
 "metadata": {
  "kernelspec": {
   "display_name": "Python 3",
   "language": "python",
   "name": "python3"
  },
  "language_info": {
   "codemirror_mode": {
    "name": "ipython",
    "version": 3
   },
   "file_extension": ".py",
   "mimetype": "text/x-python",
   "name": "python",
   "nbconvert_exporter": "python",
   "pygments_lexer": "ipython3",
   "version": "3.8.8"
  }
 },
 "nbformat": 4,
 "nbformat_minor": 5
}
