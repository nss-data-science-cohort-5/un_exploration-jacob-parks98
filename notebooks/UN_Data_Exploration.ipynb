{
 "cells": [
  {
   "cell_type": "code",
   "execution_count": 1,
   "id": "634b515a",
   "metadata": {},
   "outputs": [],
   "source": [
    "import pandas as pd\n",
    "import numpy as np\n",
    "import matplotlib.pyplot as plt\n",
    "import seaborn as sns\n",
    "%matplotlib inline"
   ]
  },
  {
   "cell_type": "code",
   "execution_count": 2,
   "id": "ea4fa656",
   "metadata": {},
   "outputs": [],
   "source": [
    "#Using the pandas `read_csv()` function, read the GDP dataset into your notebook as a DataFrame called `gdp_df`. \n",
    "#* Take a look at the first 10 rows. \n",
    "#* Look at the last 5 rows. Do you see a problem?\n",
    "#* Redo the read_csv() call to correct this issue - **do not** modify the original csv file."
   ]
  },
  {
   "cell_type": "code",
   "execution_count": 3,
   "id": "d70468e0",
   "metadata": {},
   "outputs": [],
   "source": [
    "gdp_df = pd.read_csv(\"../data/gdp_per_capita.csv\")"
   ]
  },
  {
   "cell_type": "code",
   "execution_count": 105,
   "id": "4dab5661",
   "metadata": {},
   "outputs": [
    {
     "data": {
      "text/html": [
       "<div>\n",
       "<style scoped>\n",
       "    .dataframe tbody tr th:only-of-type {\n",
       "        vertical-align: middle;\n",
       "    }\n",
       "\n",
       "    .dataframe tbody tr th {\n",
       "        vertical-align: top;\n",
       "    }\n",
       "\n",
       "    .dataframe thead th {\n",
       "        text-align: right;\n",
       "    }\n",
       "</style>\n",
       "<table border=\"1\" class=\"dataframe\">\n",
       "  <thead>\n",
       "    <tr style=\"text-align: right;\">\n",
       "      <th></th>\n",
       "      <th>Continent</th>\n",
       "      <th>Country</th>\n",
       "      <th>Year</th>\n",
       "      <th>GDP_Per_Capita</th>\n",
       "    </tr>\n",
       "  </thead>\n",
       "  <tbody>\n",
       "    <tr>\n",
       "      <th>0</th>\n",
       "      <td>Asia</td>\n",
       "      <td>Afghanistan</td>\n",
       "      <td>2019</td>\n",
       "      <td>2065.036398</td>\n",
       "    </tr>\n",
       "    <tr>\n",
       "      <th>1</th>\n",
       "      <td>Asia</td>\n",
       "      <td>Afghanistan</td>\n",
       "      <td>2018</td>\n",
       "      <td>2033.779002</td>\n",
       "    </tr>\n",
       "    <tr>\n",
       "      <th>2</th>\n",
       "      <td>Asia</td>\n",
       "      <td>Afghanistan</td>\n",
       "      <td>2017</td>\n",
       "      <td>2058.383832</td>\n",
       "    </tr>\n",
       "    <tr>\n",
       "      <th>3</th>\n",
       "      <td>Asia</td>\n",
       "      <td>Afghanistan</td>\n",
       "      <td>2016</td>\n",
       "      <td>2057.062164</td>\n",
       "    </tr>\n",
       "    <tr>\n",
       "      <th>4</th>\n",
       "      <td>Asia</td>\n",
       "      <td>Afghanistan</td>\n",
       "      <td>2015</td>\n",
       "      <td>2068.265904</td>\n",
       "    </tr>\n",
       "    <tr>\n",
       "      <th>5</th>\n",
       "      <td>Asia</td>\n",
       "      <td>Afghanistan</td>\n",
       "      <td>2014</td>\n",
       "      <td>2102.385234</td>\n",
       "    </tr>\n",
       "    <tr>\n",
       "      <th>6</th>\n",
       "      <td>Asia</td>\n",
       "      <td>Afghanistan</td>\n",
       "      <td>2013</td>\n",
       "      <td>2116.465454</td>\n",
       "    </tr>\n",
       "    <tr>\n",
       "      <th>7</th>\n",
       "      <td>Asia</td>\n",
       "      <td>Afghanistan</td>\n",
       "      <td>2012</td>\n",
       "      <td>2075.491747</td>\n",
       "    </tr>\n",
       "    <tr>\n",
       "      <th>8</th>\n",
       "      <td>Asia</td>\n",
       "      <td>Afghanistan</td>\n",
       "      <td>2011</td>\n",
       "      <td>1904.559799</td>\n",
       "    </tr>\n",
       "    <tr>\n",
       "      <th>9</th>\n",
       "      <td>Asia</td>\n",
       "      <td>Afghanistan</td>\n",
       "      <td>2010</td>\n",
       "      <td>1957.029338</td>\n",
       "    </tr>\n",
       "  </tbody>\n",
       "</table>\n",
       "</div>"
      ],
      "text/plain": [
       "  Continent      Country  Year  GDP_Per_Capita\n",
       "0      Asia  Afghanistan  2019     2065.036398\n",
       "1      Asia  Afghanistan  2018     2033.779002\n",
       "2      Asia  Afghanistan  2017     2058.383832\n",
       "3      Asia  Afghanistan  2016     2057.062164\n",
       "4      Asia  Afghanistan  2015     2068.265904\n",
       "5      Asia  Afghanistan  2014     2102.385234\n",
       "6      Asia  Afghanistan  2013     2116.465454\n",
       "7      Asia  Afghanistan  2012     2075.491747\n",
       "8      Asia  Afghanistan  2011     1904.559799\n",
       "9      Asia  Afghanistan  2010     1957.029338"
      ]
     },
     "execution_count": 105,
     "metadata": {},
     "output_type": "execute_result"
    }
   ],
   "source": [
    "gdp_df[0:10]"
   ]
  },
  {
   "cell_type": "code",
   "execution_count": 5,
   "id": "7c2c389f",
   "metadata": {},
   "outputs": [
    {
     "data": {
      "text/html": [
       "<div>\n",
       "<style scoped>\n",
       "    .dataframe tbody tr th:only-of-type {\n",
       "        vertical-align: middle;\n",
       "    }\n",
       "\n",
       "    .dataframe tbody tr th {\n",
       "        vertical-align: top;\n",
       "    }\n",
       "\n",
       "    .dataframe thead th {\n",
       "        text-align: right;\n",
       "    }\n",
       "</style>\n",
       "<table border=\"1\" class=\"dataframe\">\n",
       "  <thead>\n",
       "    <tr style=\"text-align: right;\">\n",
       "      <th></th>\n",
       "      <th>Country or Area</th>\n",
       "      <th>Year</th>\n",
       "      <th>Value</th>\n",
       "      <th>Value Footnotes</th>\n",
       "    </tr>\n",
       "  </thead>\n",
       "  <tbody>\n",
       "    <tr>\n",
       "      <th>6866</th>\n",
       "      <td>Zimbabwe</td>\n",
       "      <td>1991</td>\n",
       "      <td>3426.598094</td>\n",
       "      <td>NaN</td>\n",
       "    </tr>\n",
       "    <tr>\n",
       "      <th>6867</th>\n",
       "      <td>Zimbabwe</td>\n",
       "      <td>1990</td>\n",
       "      <td>3324.348171</td>\n",
       "      <td>NaN</td>\n",
       "    </tr>\n",
       "    <tr>\n",
       "      <th>6868</th>\n",
       "      <td>NaN</td>\n",
       "      <td>NaN</td>\n",
       "      <td>NaN</td>\n",
       "      <td>NaN</td>\n",
       "    </tr>\n",
       "    <tr>\n",
       "      <th>6869</th>\n",
       "      <td>footnoteSeqID</td>\n",
       "      <td>Footnote</td>\n",
       "      <td>NaN</td>\n",
       "      <td>NaN</td>\n",
       "    </tr>\n",
       "    <tr>\n",
       "      <th>6870</th>\n",
       "      <td>2</td>\n",
       "      <td>Excludes South Sudan after July 9, 2011.</td>\n",
       "      <td>NaN</td>\n",
       "      <td>NaN</td>\n",
       "    </tr>\n",
       "  </tbody>\n",
       "</table>\n",
       "</div>"
      ],
      "text/plain": [
       "     Country or Area                                      Year        Value  \\\n",
       "6866        Zimbabwe                                      1991  3426.598094   \n",
       "6867        Zimbabwe                                      1990  3324.348171   \n",
       "6868             NaN                                       NaN          NaN   \n",
       "6869   footnoteSeqID                                  Footnote          NaN   \n",
       "6870               2  Excludes South Sudan after July 9, 2011.          NaN   \n",
       "\n",
       "      Value Footnotes  \n",
       "6866              NaN  \n",
       "6867              NaN  \n",
       "6868              NaN  \n",
       "6869              NaN  \n",
       "6870              NaN  "
      ]
     },
     "execution_count": 5,
     "metadata": {},
     "output_type": "execute_result"
    }
   ],
   "source": [
    "gdp_df[-5:]"
   ]
  },
  {
   "cell_type": "code",
   "execution_count": 6,
   "id": "7b237a2d",
   "metadata": {},
   "outputs": [],
   "source": [
    "gdp_df = pd.read_csv(\"../data/gdp_per_capita.csv\", skipfooter = 3, engine = 'python')"
   ]
  },
  {
   "cell_type": "code",
   "execution_count": 7,
   "id": "08352863",
   "metadata": {},
   "outputs": [
    {
     "data": {
      "text/html": [
       "<div>\n",
       "<style scoped>\n",
       "    .dataframe tbody tr th:only-of-type {\n",
       "        vertical-align: middle;\n",
       "    }\n",
       "\n",
       "    .dataframe tbody tr th {\n",
       "        vertical-align: top;\n",
       "    }\n",
       "\n",
       "    .dataframe thead th {\n",
       "        text-align: right;\n",
       "    }\n",
       "</style>\n",
       "<table border=\"1\" class=\"dataframe\">\n",
       "  <thead>\n",
       "    <tr style=\"text-align: right;\">\n",
       "      <th></th>\n",
       "      <th>Country or Area</th>\n",
       "      <th>Year</th>\n",
       "      <th>Value</th>\n",
       "      <th>Value Footnotes</th>\n",
       "    </tr>\n",
       "  </thead>\n",
       "  <tbody>\n",
       "    <tr>\n",
       "      <th>6863</th>\n",
       "      <td>Zimbabwe</td>\n",
       "      <td>1994</td>\n",
       "      <td>3263.934978</td>\n",
       "      <td>NaN</td>\n",
       "    </tr>\n",
       "    <tr>\n",
       "      <th>6864</th>\n",
       "      <td>Zimbabwe</td>\n",
       "      <td>1993</td>\n",
       "      <td>3033.504852</td>\n",
       "      <td>NaN</td>\n",
       "    </tr>\n",
       "    <tr>\n",
       "      <th>6865</th>\n",
       "      <td>Zimbabwe</td>\n",
       "      <td>1992</td>\n",
       "      <td>3054.889178</td>\n",
       "      <td>NaN</td>\n",
       "    </tr>\n",
       "    <tr>\n",
       "      <th>6866</th>\n",
       "      <td>Zimbabwe</td>\n",
       "      <td>1991</td>\n",
       "      <td>3426.598094</td>\n",
       "      <td>NaN</td>\n",
       "    </tr>\n",
       "    <tr>\n",
       "      <th>6867</th>\n",
       "      <td>Zimbabwe</td>\n",
       "      <td>1990</td>\n",
       "      <td>3324.348171</td>\n",
       "      <td>NaN</td>\n",
       "    </tr>\n",
       "  </tbody>\n",
       "</table>\n",
       "</div>"
      ],
      "text/plain": [
       "     Country or Area  Year        Value  Value Footnotes\n",
       "6863        Zimbabwe  1994  3263.934978              NaN\n",
       "6864        Zimbabwe  1993  3033.504852              NaN\n",
       "6865        Zimbabwe  1992  3054.889178              NaN\n",
       "6866        Zimbabwe  1991  3426.598094              NaN\n",
       "6867        Zimbabwe  1990  3324.348171              NaN"
      ]
     },
     "execution_count": 7,
     "metadata": {},
     "output_type": "execute_result"
    }
   ],
   "source": [
    "gdp_df[-5:]"
   ]
  },
  {
   "cell_type": "code",
   "execution_count": 8,
   "id": "cad210cb",
   "metadata": {},
   "outputs": [],
   "source": [
    "#Drop the 'Value Footnotes' column, and rename the remaining columns to ‘Country’, ‘Year’, and ‘GDP_Per_Capita’."
   ]
  },
  {
   "cell_type": "code",
   "execution_count": 9,
   "id": "e2a5396f",
   "metadata": {},
   "outputs": [],
   "source": [
    "gdp_df = gdp_df.rename(columns = {\"Country or Area\":\"Country\",\"Value\":\"GDP_Per_Capita\"})"
   ]
  },
  {
   "cell_type": "code",
   "execution_count": 10,
   "id": "d06d3166",
   "metadata": {
    "scrolled": true
   },
   "outputs": [
    {
     "data": {
      "text/html": [
       "<div>\n",
       "<style scoped>\n",
       "    .dataframe tbody tr th:only-of-type {\n",
       "        vertical-align: middle;\n",
       "    }\n",
       "\n",
       "    .dataframe tbody tr th {\n",
       "        vertical-align: top;\n",
       "    }\n",
       "\n",
       "    .dataframe thead th {\n",
       "        text-align: right;\n",
       "    }\n",
       "</style>\n",
       "<table border=\"1\" class=\"dataframe\">\n",
       "  <thead>\n",
       "    <tr style=\"text-align: right;\">\n",
       "      <th></th>\n",
       "      <th>Country</th>\n",
       "      <th>Year</th>\n",
       "      <th>GDP_Per_Capita</th>\n",
       "      <th>Value Footnotes</th>\n",
       "    </tr>\n",
       "  </thead>\n",
       "  <tbody>\n",
       "    <tr>\n",
       "      <th>0</th>\n",
       "      <td>Afghanistan</td>\n",
       "      <td>2019</td>\n",
       "      <td>2065.036398</td>\n",
       "      <td>NaN</td>\n",
       "    </tr>\n",
       "    <tr>\n",
       "      <th>1</th>\n",
       "      <td>Afghanistan</td>\n",
       "      <td>2018</td>\n",
       "      <td>2033.779002</td>\n",
       "      <td>NaN</td>\n",
       "    </tr>\n",
       "    <tr>\n",
       "      <th>2</th>\n",
       "      <td>Afghanistan</td>\n",
       "      <td>2017</td>\n",
       "      <td>2058.383832</td>\n",
       "      <td>NaN</td>\n",
       "    </tr>\n",
       "    <tr>\n",
       "      <th>3</th>\n",
       "      <td>Afghanistan</td>\n",
       "      <td>2016</td>\n",
       "      <td>2057.062164</td>\n",
       "      <td>NaN</td>\n",
       "    </tr>\n",
       "    <tr>\n",
       "      <th>4</th>\n",
       "      <td>Afghanistan</td>\n",
       "      <td>2015</td>\n",
       "      <td>2068.265904</td>\n",
       "      <td>NaN</td>\n",
       "    </tr>\n",
       "    <tr>\n",
       "      <th>...</th>\n",
       "      <td>...</td>\n",
       "      <td>...</td>\n",
       "      <td>...</td>\n",
       "      <td>...</td>\n",
       "    </tr>\n",
       "    <tr>\n",
       "      <th>6863</th>\n",
       "      <td>Zimbabwe</td>\n",
       "      <td>1994</td>\n",
       "      <td>3263.934978</td>\n",
       "      <td>NaN</td>\n",
       "    </tr>\n",
       "    <tr>\n",
       "      <th>6864</th>\n",
       "      <td>Zimbabwe</td>\n",
       "      <td>1993</td>\n",
       "      <td>3033.504852</td>\n",
       "      <td>NaN</td>\n",
       "    </tr>\n",
       "    <tr>\n",
       "      <th>6865</th>\n",
       "      <td>Zimbabwe</td>\n",
       "      <td>1992</td>\n",
       "      <td>3054.889178</td>\n",
       "      <td>NaN</td>\n",
       "    </tr>\n",
       "    <tr>\n",
       "      <th>6866</th>\n",
       "      <td>Zimbabwe</td>\n",
       "      <td>1991</td>\n",
       "      <td>3426.598094</td>\n",
       "      <td>NaN</td>\n",
       "    </tr>\n",
       "    <tr>\n",
       "      <th>6867</th>\n",
       "      <td>Zimbabwe</td>\n",
       "      <td>1990</td>\n",
       "      <td>3324.348171</td>\n",
       "      <td>NaN</td>\n",
       "    </tr>\n",
       "  </tbody>\n",
       "</table>\n",
       "<p>6868 rows × 4 columns</p>\n",
       "</div>"
      ],
      "text/plain": [
       "          Country  Year  GDP_Per_Capita  Value Footnotes\n",
       "0     Afghanistan  2019     2065.036398              NaN\n",
       "1     Afghanistan  2018     2033.779002              NaN\n",
       "2     Afghanistan  2017     2058.383832              NaN\n",
       "3     Afghanistan  2016     2057.062164              NaN\n",
       "4     Afghanistan  2015     2068.265904              NaN\n",
       "...           ...   ...             ...              ...\n",
       "6863     Zimbabwe  1994     3263.934978              NaN\n",
       "6864     Zimbabwe  1993     3033.504852              NaN\n",
       "6865     Zimbabwe  1992     3054.889178              NaN\n",
       "6866     Zimbabwe  1991     3426.598094              NaN\n",
       "6867     Zimbabwe  1990     3324.348171              NaN\n",
       "\n",
       "[6868 rows x 4 columns]"
      ]
     },
     "execution_count": 10,
     "metadata": {},
     "output_type": "execute_result"
    }
   ],
   "source": [
    "gdp_df"
   ]
  },
  {
   "cell_type": "code",
   "execution_count": 11,
   "id": "e5f0658b",
   "metadata": {},
   "outputs": [],
   "source": [
    "gdp_df = gdp_df.drop(columns = \"Value Footnotes\")"
   ]
  },
  {
   "cell_type": "code",
   "execution_count": 12,
   "id": "4808082a",
   "metadata": {},
   "outputs": [
    {
     "data": {
      "text/html": [
       "<div>\n",
       "<style scoped>\n",
       "    .dataframe tbody tr th:only-of-type {\n",
       "        vertical-align: middle;\n",
       "    }\n",
       "\n",
       "    .dataframe tbody tr th {\n",
       "        vertical-align: top;\n",
       "    }\n",
       "\n",
       "    .dataframe thead th {\n",
       "        text-align: right;\n",
       "    }\n",
       "</style>\n",
       "<table border=\"1\" class=\"dataframe\">\n",
       "  <thead>\n",
       "    <tr style=\"text-align: right;\">\n",
       "      <th></th>\n",
       "      <th>Country</th>\n",
       "      <th>Year</th>\n",
       "      <th>GDP_Per_Capita</th>\n",
       "    </tr>\n",
       "  </thead>\n",
       "  <tbody>\n",
       "    <tr>\n",
       "      <th>0</th>\n",
       "      <td>Afghanistan</td>\n",
       "      <td>2019</td>\n",
       "      <td>2065.036398</td>\n",
       "    </tr>\n",
       "    <tr>\n",
       "      <th>1</th>\n",
       "      <td>Afghanistan</td>\n",
       "      <td>2018</td>\n",
       "      <td>2033.779002</td>\n",
       "    </tr>\n",
       "    <tr>\n",
       "      <th>2</th>\n",
       "      <td>Afghanistan</td>\n",
       "      <td>2017</td>\n",
       "      <td>2058.383832</td>\n",
       "    </tr>\n",
       "    <tr>\n",
       "      <th>3</th>\n",
       "      <td>Afghanistan</td>\n",
       "      <td>2016</td>\n",
       "      <td>2057.062164</td>\n",
       "    </tr>\n",
       "    <tr>\n",
       "      <th>4</th>\n",
       "      <td>Afghanistan</td>\n",
       "      <td>2015</td>\n",
       "      <td>2068.265904</td>\n",
       "    </tr>\n",
       "    <tr>\n",
       "      <th>...</th>\n",
       "      <td>...</td>\n",
       "      <td>...</td>\n",
       "      <td>...</td>\n",
       "    </tr>\n",
       "    <tr>\n",
       "      <th>6863</th>\n",
       "      <td>Zimbabwe</td>\n",
       "      <td>1994</td>\n",
       "      <td>3263.934978</td>\n",
       "    </tr>\n",
       "    <tr>\n",
       "      <th>6864</th>\n",
       "      <td>Zimbabwe</td>\n",
       "      <td>1993</td>\n",
       "      <td>3033.504852</td>\n",
       "    </tr>\n",
       "    <tr>\n",
       "      <th>6865</th>\n",
       "      <td>Zimbabwe</td>\n",
       "      <td>1992</td>\n",
       "      <td>3054.889178</td>\n",
       "    </tr>\n",
       "    <tr>\n",
       "      <th>6866</th>\n",
       "      <td>Zimbabwe</td>\n",
       "      <td>1991</td>\n",
       "      <td>3426.598094</td>\n",
       "    </tr>\n",
       "    <tr>\n",
       "      <th>6867</th>\n",
       "      <td>Zimbabwe</td>\n",
       "      <td>1990</td>\n",
       "      <td>3324.348171</td>\n",
       "    </tr>\n",
       "  </tbody>\n",
       "</table>\n",
       "<p>6868 rows × 3 columns</p>\n",
       "</div>"
      ],
      "text/plain": [
       "          Country  Year  GDP_Per_Capita\n",
       "0     Afghanistan  2019     2065.036398\n",
       "1     Afghanistan  2018     2033.779002\n",
       "2     Afghanistan  2017     2058.383832\n",
       "3     Afghanistan  2016     2057.062164\n",
       "4     Afghanistan  2015     2068.265904\n",
       "...           ...   ...             ...\n",
       "6863     Zimbabwe  1994     3263.934978\n",
       "6864     Zimbabwe  1993     3033.504852\n",
       "6865     Zimbabwe  1992     3054.889178\n",
       "6866     Zimbabwe  1991     3426.598094\n",
       "6867     Zimbabwe  1990     3324.348171\n",
       "\n",
       "[6868 rows x 3 columns]"
      ]
     },
     "execution_count": 12,
     "metadata": {},
     "output_type": "execute_result"
    }
   ],
   "source": [
    "gdp_df"
   ]
  },
  {
   "cell_type": "code",
   "execution_count": 13,
   "id": "f2cc01a2",
   "metadata": {},
   "outputs": [],
   "source": [
    "#How many rows and columns does gdp_df have? What are the data types of its columns? If any of the columns are not the expected types, figure out why and fix it."
   ]
  },
  {
   "cell_type": "code",
   "execution_count": 14,
   "id": "83a3e979",
   "metadata": {},
   "outputs": [
    {
     "name": "stdout",
     "output_type": "stream",
     "text": [
      "<class 'pandas.core.frame.DataFrame'>\n",
      "RangeIndex: 6868 entries, 0 to 6867\n",
      "Data columns (total 3 columns):\n",
      " #   Column          Non-Null Count  Dtype  \n",
      "---  ------          --------------  -----  \n",
      " 0   Country         6868 non-null   object \n",
      " 1   Year            6868 non-null   int64  \n",
      " 2   GDP_Per_Capita  6868 non-null   float64\n",
      "dtypes: float64(1), int64(1), object(1)\n",
      "memory usage: 161.1+ KB\n"
     ]
    }
   ],
   "source": [
    "gdp_df.info()"
   ]
  },
  {
   "cell_type": "code",
   "execution_count": 15,
   "id": "14ab0de0",
   "metadata": {},
   "outputs": [],
   "source": [
    "gdp_df[\"Country\"] = gdp_df[\"Country\"].astype(str)"
   ]
  },
  {
   "cell_type": "code",
   "execution_count": 16,
   "id": "eafc2151",
   "metadata": {},
   "outputs": [
    {
     "name": "stdout",
     "output_type": "stream",
     "text": [
      "<class 'pandas.core.frame.DataFrame'>\n",
      "RangeIndex: 6868 entries, 0 to 6867\n",
      "Data columns (total 3 columns):\n",
      " #   Column          Non-Null Count  Dtype  \n",
      "---  ------          --------------  -----  \n",
      " 0   Country         6868 non-null   object \n",
      " 1   Year            6868 non-null   int64  \n",
      " 2   GDP_Per_Capita  6868 non-null   float64\n",
      "dtypes: float64(1), int64(1), object(1)\n",
      "memory usage: 161.1+ KB\n"
     ]
    }
   ],
   "source": [
    "gdp_df.info()"
   ]
  },
  {
   "cell_type": "code",
   "execution_count": 17,
   "id": "35dbdf83",
   "metadata": {},
   "outputs": [],
   "source": [
    "#Which years are represented in this dataset? Take a look at the number of observations per year. What do you notice?"
   ]
  },
  {
   "cell_type": "code",
   "execution_count": 18,
   "id": "e090f4c5",
   "metadata": {},
   "outputs": [
    {
     "data": {
      "text/plain": [
       "2013    238\n",
       "2014    238\n",
       "2016    238\n",
       "2015    238\n",
       "2017    238\n",
       "2012    237\n",
       "2018    237\n",
       "2011    237\n",
       "2009    236\n",
       "2010    236\n",
       "2007    235\n",
       "2008    235\n",
       "2006    235\n",
       "2004    234\n",
       "2005    234\n",
       "2002    233\n",
       "2003    233\n",
       "2001    232\n",
       "2019    231\n",
       "2000    231\n",
       "1999    224\n",
       "1998    223\n",
       "1997    223\n",
       "1996    221\n",
       "1995    221\n",
       "1994    214\n",
       "1993    212\n",
       "1992    209\n",
       "1991    208\n",
       "1990    207\n",
       "Name: Year, dtype: int64"
      ]
     },
     "execution_count": 18,
     "metadata": {},
     "output_type": "execute_result"
    }
   ],
   "source": [
    "gdp_df[\"Year\"].value_counts()"
   ]
  },
  {
   "cell_type": "code",
   "execution_count": 19,
   "id": "a9a4a6e8",
   "metadata": {},
   "outputs": [],
   "source": [
    "#How many countries are represented in this dataset? Which countries are least represented in the dataset? Why do you think these countries have so few observations?"
   ]
  },
  {
   "cell_type": "code",
   "execution_count": 20,
   "id": "4a432e90",
   "metadata": {},
   "outputs": [
    {
     "data": {
      "text/plain": [
       "Country            238\n",
       "Year                30\n",
       "GDP_Per_Capita    6808\n",
       "dtype: int64"
      ]
     },
     "execution_count": 20,
     "metadata": {},
     "output_type": "execute_result"
    }
   ],
   "source": [
    "gdp_df.nunique()"
   ]
  },
  {
   "cell_type": "code",
   "execution_count": 21,
   "id": "df57f055",
   "metadata": {},
   "outputs": [],
   "source": [
    "#238 countries"
   ]
  },
  {
   "cell_type": "code",
   "execution_count": 22,
   "id": "b776081b",
   "metadata": {},
   "outputs": [
    {
     "data": {
      "text/plain": [
       "Least developed countries: UN classification    30\n",
       "Euro area                                       30\n",
       "Zimbabwe                                        30\n",
       "Trinidad and Tobago                             30\n",
       "Kenya                                           30\n",
       "                                                ..\n",
       "Nauru                                           16\n",
       "Cayman Islands                                  13\n",
       "Sint Maarten (Dutch part)                       10\n",
       "Turks and Caicos Islands                         9\n",
       "Djibouti                                         7\n",
       "Name: Country, Length: 238, dtype: int64"
      ]
     },
     "execution_count": 22,
     "metadata": {},
     "output_type": "execute_result"
    }
   ],
   "source": [
    "gdp_df[\"Country\"].value_counts()"
   ]
  },
  {
   "cell_type": "code",
   "execution_count": 23,
   "id": "28135342",
   "metadata": {},
   "outputs": [],
   "source": [
    "#The Countries with less data may be territories or newer countries"
   ]
  },
  {
   "cell_type": "code",
   "execution_count": 24,
   "id": "c3e3373b",
   "metadata": {},
   "outputs": [],
   "source": [
    "#Create a new dataframe by subsetting `gdp_df` to just the year 2014. Call this new dataframe `gdp_2014`."
   ]
  },
  {
   "cell_type": "code",
   "execution_count": 25,
   "id": "6dcbd9db",
   "metadata": {},
   "outputs": [],
   "source": [
    "gdp_2014 = gdp_df[gdp_df[\"Year\"] == 2014]"
   ]
  },
  {
   "cell_type": "code",
   "execution_count": 26,
   "id": "9aa93788",
   "metadata": {},
   "outputs": [
    {
     "data": {
      "text/html": [
       "<div>\n",
       "<style scoped>\n",
       "    .dataframe tbody tr th:only-of-type {\n",
       "        vertical-align: middle;\n",
       "    }\n",
       "\n",
       "    .dataframe tbody tr th {\n",
       "        vertical-align: top;\n",
       "    }\n",
       "\n",
       "    .dataframe thead th {\n",
       "        text-align: right;\n",
       "    }\n",
       "</style>\n",
       "<table border=\"1\" class=\"dataframe\">\n",
       "  <thead>\n",
       "    <tr style=\"text-align: right;\">\n",
       "      <th></th>\n",
       "      <th>Country</th>\n",
       "      <th>Year</th>\n",
       "      <th>GDP_Per_Capita</th>\n",
       "    </tr>\n",
       "  </thead>\n",
       "  <tbody>\n",
       "    <tr>\n",
       "      <th>5</th>\n",
       "      <td>Afghanistan</td>\n",
       "      <td>2014</td>\n",
       "      <td>2102.385234</td>\n",
       "    </tr>\n",
       "    <tr>\n",
       "      <th>23</th>\n",
       "      <td>Albania</td>\n",
       "      <td>2014</td>\n",
       "      <td>11623.866680</td>\n",
       "    </tr>\n",
       "    <tr>\n",
       "      <th>53</th>\n",
       "      <td>Algeria</td>\n",
       "      <td>2014</td>\n",
       "      <td>11512.705410</td>\n",
       "    </tr>\n",
       "    <tr>\n",
       "      <th>83</th>\n",
       "      <td>Angola</td>\n",
       "      <td>2014</td>\n",
       "      <td>8239.828837</td>\n",
       "    </tr>\n",
       "    <tr>\n",
       "      <th>113</th>\n",
       "      <td>Antigua and Barbuda</td>\n",
       "      <td>2014</td>\n",
       "      <td>18104.241470</td>\n",
       "    </tr>\n",
       "    <tr>\n",
       "      <th>...</th>\n",
       "      <td>...</td>\n",
       "      <td>...</td>\n",
       "      <td>...</td>\n",
       "    </tr>\n",
       "    <tr>\n",
       "      <th>6727</th>\n",
       "      <td>Vietnam</td>\n",
       "      <td>2014</td>\n",
       "      <td>6098.489609</td>\n",
       "    </tr>\n",
       "    <tr>\n",
       "      <th>6757</th>\n",
       "      <td>West Bank and Gaza</td>\n",
       "      <td>2014</td>\n",
       "      <td>5967.073437</td>\n",
       "    </tr>\n",
       "    <tr>\n",
       "      <th>6783</th>\n",
       "      <td>World</td>\n",
       "      <td>2014</td>\n",
       "      <td>15189.648510</td>\n",
       "    </tr>\n",
       "    <tr>\n",
       "      <th>6813</th>\n",
       "      <td>Zambia</td>\n",
       "      <td>2014</td>\n",
       "      <td>3450.046561</td>\n",
       "    </tr>\n",
       "    <tr>\n",
       "      <th>6843</th>\n",
       "      <td>Zimbabwe</td>\n",
       "      <td>2014</td>\n",
       "      <td>2955.240287</td>\n",
       "    </tr>\n",
       "  </tbody>\n",
       "</table>\n",
       "<p>238 rows × 3 columns</p>\n",
       "</div>"
      ],
      "text/plain": [
       "                  Country  Year  GDP_Per_Capita\n",
       "5             Afghanistan  2014     2102.385234\n",
       "23                Albania  2014    11623.866680\n",
       "53                Algeria  2014    11512.705410\n",
       "83                 Angola  2014     8239.828837\n",
       "113   Antigua and Barbuda  2014    18104.241470\n",
       "...                   ...   ...             ...\n",
       "6727              Vietnam  2014     6098.489609\n",
       "6757   West Bank and Gaza  2014     5967.073437\n",
       "6783                World  2014    15189.648510\n",
       "6813               Zambia  2014     3450.046561\n",
       "6843             Zimbabwe  2014     2955.240287\n",
       "\n",
       "[238 rows x 3 columns]"
      ]
     },
     "execution_count": 26,
     "metadata": {},
     "output_type": "execute_result"
    }
   ],
   "source": [
    "gdp_2014"
   ]
  },
  {
   "cell_type": "code",
   "execution_count": 27,
   "id": "1e024d13",
   "metadata": {},
   "outputs": [],
   "source": [
    "# Use `.describe()` to find the summary statistics for GDP per capita in 2014. "
   ]
  },
  {
   "cell_type": "code",
   "execution_count": 28,
   "id": "e45c3bd0",
   "metadata": {},
   "outputs": [
    {
     "data": {
      "text/plain": [
       "count       238.000000\n",
       "mean      19766.710347\n",
       "std       20983.869621\n",
       "min         822.610458\n",
       "25%        4753.110935\n",
       "50%       12209.385755\n",
       "75%       26803.610475\n",
       "max      156514.133800\n",
       "Name: GDP_Per_Capita, dtype: float64"
      ]
     },
     "execution_count": 28,
     "metadata": {},
     "output_type": "execute_result"
    }
   ],
   "source": [
    "gdp_2014[\"GDP_Per_Capita\"].describe()"
   ]
  },
  {
   "cell_type": "code",
   "execution_count": 29,
   "id": "18e73cd4",
   "metadata": {},
   "outputs": [],
   "source": [
    "#Create a histogram of GDP Per Capita numbers for 2014 (you may wish to adjust the number of bins for your histogram). How would you describe the shape of the distribution?"
   ]
  },
  {
   "cell_type": "code",
   "execution_count": 30,
   "id": "62ba5d52",
   "metadata": {},
   "outputs": [
    {
     "data": {
      "text/plain": [
       "<AxesSubplot:>"
      ]
     },
     "execution_count": 30,
     "metadata": {},
     "output_type": "execute_result"
    },
    {
     "data": {
      "image/png": "[encoded data removed]",
      "text/plain": [
       "<Figure size 432x288 with 1 Axes>"
      ]
     },
     "metadata": {
      "needs_background": "light"
     },
     "output_type": "display_data"
    }
   ],
   "source": [
    "gdp_2014[\"GDP_Per_Capita\"].hist(bins = 10)"
   ]
  },
  {
   "cell_type": "code",
   "execution_count": 31,
   "id": "30be18bf",
   "metadata": {},
   "outputs": [],
   "source": [
    "#Histogram is right skewed"
   ]
  },
  {
   "cell_type": "code",
   "execution_count": 32,
   "id": "d5bac87d",
   "metadata": {},
   "outputs": [],
   "source": [
    "#Find the top 5 counties and bottom 5 countries by GDP per capita in 2014."
   ]
  },
  {
   "cell_type": "code",
   "execution_count": 33,
   "id": "4d2d2c3e",
   "metadata": {},
   "outputs": [],
   "source": [
    "gdp_sorted = gdp_2014.sort_values(\"GDP_Per_Capita\", ascending = False)"
   ]
  },
  {
   "cell_type": "code",
   "execution_count": 34,
   "id": "c26dfa06",
   "metadata": {},
   "outputs": [
    {
     "data": {
      "text/html": [
       "<div>\n",
       "<style scoped>\n",
       "    .dataframe tbody tr th:only-of-type {\n",
       "        vertical-align: middle;\n",
       "    }\n",
       "\n",
       "    .dataframe tbody tr th {\n",
       "        vertical-align: top;\n",
       "    }\n",
       "\n",
       "    .dataframe thead th {\n",
       "        text-align: right;\n",
       "    }\n",
       "</style>\n",
       "<table border=\"1\" class=\"dataframe\">\n",
       "  <thead>\n",
       "    <tr style=\"text-align: right;\">\n",
       "      <th></th>\n",
       "      <th>Country</th>\n",
       "      <th>Year</th>\n",
       "      <th>GDP_Per_Capita</th>\n",
       "    </tr>\n",
       "  </thead>\n",
       "  <tbody>\n",
       "    <tr>\n",
       "      <th>3721</th>\n",
       "      <td>Macao SAR, China</td>\n",
       "      <td>2014</td>\n",
       "      <td>156514.133800</td>\n",
       "    </tr>\n",
       "    <tr>\n",
       "      <th>3691</th>\n",
       "      <td>Luxembourg</td>\n",
       "      <td>2014</td>\n",
       "      <td>108760.916000</td>\n",
       "    </tr>\n",
       "    <tr>\n",
       "      <th>5138</th>\n",
       "      <td>Qatar</td>\n",
       "      <td>2014</td>\n",
       "      <td>95578.416970</td>\n",
       "    </tr>\n",
       "    <tr>\n",
       "      <th>5464</th>\n",
       "      <td>Singapore</td>\n",
       "      <td>2014</td>\n",
       "      <td>87808.663160</td>\n",
       "    </tr>\n",
       "    <tr>\n",
       "      <th>561</th>\n",
       "      <td>Bermuda</td>\n",
       "      <td>2014</td>\n",
       "      <td>77361.104880</td>\n",
       "    </tr>\n",
       "    <tr>\n",
       "      <th>...</th>\n",
       "      <td>...</td>\n",
       "      <td>...</td>\n",
       "      <td>...</td>\n",
       "    </tr>\n",
       "    <tr>\n",
       "      <th>4528</th>\n",
       "      <td>Niger</td>\n",
       "      <td>2014</td>\n",
       "      <td>1127.615541</td>\n",
       "    </tr>\n",
       "    <tr>\n",
       "      <th>1422</th>\n",
       "      <td>Dem. Rep. Congo</td>\n",
       "      <td>2014</td>\n",
       "      <td>1029.790785</td>\n",
       "    </tr>\n",
       "    <tr>\n",
       "      <th>3781</th>\n",
       "      <td>Malawi</td>\n",
       "      <td>2014</td>\n",
       "      <td>1027.208496</td>\n",
       "    </tr>\n",
       "    <tr>\n",
       "      <th>827</th>\n",
       "      <td>Burundi</td>\n",
       "      <td>2014</td>\n",
       "      <td>886.235777</td>\n",
       "    </tr>\n",
       "    <tr>\n",
       "      <th>1047</th>\n",
       "      <td>Central African Republic</td>\n",
       "      <td>2014</td>\n",
       "      <td>822.610458</td>\n",
       "    </tr>\n",
       "  </tbody>\n",
       "</table>\n",
       "<p>238 rows × 3 columns</p>\n",
       "</div>"
      ],
      "text/plain": [
       "                       Country  Year  GDP_Per_Capita\n",
       "3721          Macao SAR, China  2014   156514.133800\n",
       "3691                Luxembourg  2014   108760.916000\n",
       "5138                     Qatar  2014    95578.416970\n",
       "5464                 Singapore  2014    87808.663160\n",
       "561                    Bermuda  2014    77361.104880\n",
       "...                        ...   ...             ...\n",
       "4528                     Niger  2014     1127.615541\n",
       "1422           Dem. Rep. Congo  2014     1029.790785\n",
       "3781                    Malawi  2014     1027.208496\n",
       "827                    Burundi  2014      886.235777\n",
       "1047  Central African Republic  2014      822.610458\n",
       "\n",
       "[238 rows x 3 columns]"
      ]
     },
     "execution_count": 34,
     "metadata": {},
     "output_type": "execute_result"
    }
   ],
   "source": [
    "gdp_sorted"
   ]
  },
  {
   "cell_type": "code",
   "execution_count": 35,
   "id": "0344a427",
   "metadata": {},
   "outputs": [
    {
     "name": "stdout",
     "output_type": "stream",
     "text": [
      "               Country  GDP_Per_Capita\n",
      "3721  Macao SAR, China    156514.13380\n",
      "3691        Luxembourg    108760.91600\n",
      "5138             Qatar     95578.41697\n",
      "5464         Singapore     87808.66316\n",
      "561            Bermuda     77361.10488\n"
     ]
    }
   ],
   "source": [
    "print(gdp_sorted[:5][[\"Country\",\"GDP_Per_Capita\"]])"
   ]
  },
  {
   "cell_type": "code",
   "execution_count": 36,
   "id": "c5000bda",
   "metadata": {},
   "outputs": [
    {
     "name": "stdout",
     "output_type": "stream",
     "text": [
      "                       Country  GDP_Per_Capita\n",
      "4528                     Niger     1127.615541\n",
      "1422           Dem. Rep. Congo     1029.790785\n",
      "3781                    Malawi     1027.208496\n",
      "827                    Burundi      886.235777\n",
      "1047  Central African Republic      822.610458\n"
     ]
    }
   ],
   "source": [
    "print(gdp_sorted[-5:][[\"Country\",\"GDP_Per_Capita\"]])"
   ]
  },
  {
   "cell_type": "code",
   "execution_count": 37,
   "id": "5523d268",
   "metadata": {},
   "outputs": [],
   "source": [
    "#Now, return to the full dataset, `gdp_df`. Pivot the data for 1990 and 2017 (using the pandas `.pivot_table()` method or another method) so that each row corresponds to a country, each column corresponds to a year, and the values in the table give the GDP_Per_Capita amount. Drop any rows that are missing values for either 1990 or 2017. Save the result to a dataframe named `gdp_pivoted`."
   ]
  },
  {
   "cell_type": "code",
   "execution_count": 38,
   "id": "3785966e",
   "metadata": {},
   "outputs": [],
   "source": [
    "gdp_pivoted = gdp_df[gdp_df[\"Year\"].isin([1990,2017])].pivot_table(values = 'GDP_Per_Capita', index = \"Country\", columns = \"Year\")"
   ]
  },
  {
   "cell_type": "code",
   "execution_count": 39,
   "id": "5b83778f",
   "metadata": {},
   "outputs": [
    {
     "data": {
      "text/html": [
       "<div>\n",
       "<style scoped>\n",
       "    .dataframe tbody tr th:only-of-type {\n",
       "        vertical-align: middle;\n",
       "    }\n",
       "\n",
       "    .dataframe tbody tr th {\n",
       "        vertical-align: top;\n",
       "    }\n",
       "\n",
       "    .dataframe thead th {\n",
       "        text-align: right;\n",
       "    }\n",
       "</style>\n",
       "<table border=\"1\" class=\"dataframe\">\n",
       "  <thead>\n",
       "    <tr style=\"text-align: right;\">\n",
       "      <th>Year</th>\n",
       "      <th>1990</th>\n",
       "      <th>2017</th>\n",
       "    </tr>\n",
       "    <tr>\n",
       "      <th>Country</th>\n",
       "      <th></th>\n",
       "      <th></th>\n",
       "    </tr>\n",
       "  </thead>\n",
       "  <tbody>\n",
       "    <tr>\n",
       "      <th>Afghanistan</th>\n",
       "      <td>NaN</td>\n",
       "      <td>2058.383832</td>\n",
       "    </tr>\n",
       "    <tr>\n",
       "      <th>Albania</th>\n",
       "      <td>4842.734635</td>\n",
       "      <td>12811.759440</td>\n",
       "    </tr>\n",
       "    <tr>\n",
       "      <th>Algeria</th>\n",
       "      <td>8746.352901</td>\n",
       "      <td>11737.409350</td>\n",
       "    </tr>\n",
       "    <tr>\n",
       "      <th>Angola</th>\n",
       "      <td>5783.429064</td>\n",
       "      <td>7310.901738</td>\n",
       "    </tr>\n",
       "    <tr>\n",
       "      <th>Antigua and Barbuda</th>\n",
       "      <td>15459.551680</td>\n",
       "      <td>19840.076120</td>\n",
       "    </tr>\n",
       "    <tr>\n",
       "      <th>...</th>\n",
       "      <td>...</td>\n",
       "      <td>...</td>\n",
       "    </tr>\n",
       "    <tr>\n",
       "      <th>Vietnam</th>\n",
       "      <td>1673.249634</td>\n",
       "      <td>7155.745829</td>\n",
       "    </tr>\n",
       "    <tr>\n",
       "      <th>West Bank and Gaza</th>\n",
       "      <td>NaN</td>\n",
       "      <td>6401.740891</td>\n",
       "    </tr>\n",
       "    <tr>\n",
       "      <th>World</th>\n",
       "      <td>9680.269697</td>\n",
       "      <td>16253.385520</td>\n",
       "    </tr>\n",
       "    <tr>\n",
       "      <th>Zambia</th>\n",
       "      <td>2190.182814</td>\n",
       "      <td>3485.005238</td>\n",
       "    </tr>\n",
       "    <tr>\n",
       "      <th>Zimbabwe</th>\n",
       "      <td>3324.348171</td>\n",
       "      <td>3028.245976</td>\n",
       "    </tr>\n",
       "  </tbody>\n",
       "</table>\n",
       "<p>238 rows × 2 columns</p>\n",
       "</div>"
      ],
      "text/plain": [
       "Year                         1990          2017\n",
       "Country                                        \n",
       "Afghanistan                   NaN   2058.383832\n",
       "Albania               4842.734635  12811.759440\n",
       "Algeria               8746.352901  11737.409350\n",
       "Angola                5783.429064   7310.901738\n",
       "Antigua and Barbuda  15459.551680  19840.076120\n",
       "...                           ...           ...\n",
       "Vietnam               1673.249634   7155.745829\n",
       "West Bank and Gaza            NaN   6401.740891\n",
       "World                 9680.269697  16253.385520\n",
       "Zambia                2190.182814   3485.005238\n",
       "Zimbabwe              3324.348171   3028.245976\n",
       "\n",
       "[238 rows x 2 columns]"
      ]
     },
     "execution_count": 39,
     "metadata": {},
     "output_type": "execute_result"
    }
   ],
   "source": [
    "gdp_pivoted"
   ]
  },
  {
   "cell_type": "code",
   "execution_count": 40,
   "id": "50f51aa9",
   "metadata": {},
   "outputs": [],
   "source": [
    "gdp_pivoted = gdp_pivoted.dropna()"
   ]
  },
  {
   "cell_type": "code",
   "execution_count": 41,
   "id": "9616c9c9",
   "metadata": {},
   "outputs": [
    {
     "data": {
      "text/html": [
       "<div>\n",
       "<style scoped>\n",
       "    .dataframe tbody tr th:only-of-type {\n",
       "        vertical-align: middle;\n",
       "    }\n",
       "\n",
       "    .dataframe tbody tr th {\n",
       "        vertical-align: top;\n",
       "    }\n",
       "\n",
       "    .dataframe thead th {\n",
       "        text-align: right;\n",
       "    }\n",
       "</style>\n",
       "<table border=\"1\" class=\"dataframe\">\n",
       "  <thead>\n",
       "    <tr style=\"text-align: right;\">\n",
       "      <th>Year</th>\n",
       "      <th>1990</th>\n",
       "      <th>2017</th>\n",
       "    </tr>\n",
       "    <tr>\n",
       "      <th>Country</th>\n",
       "      <th></th>\n",
       "      <th></th>\n",
       "    </tr>\n",
       "  </thead>\n",
       "  <tbody>\n",
       "    <tr>\n",
       "      <th>Albania</th>\n",
       "      <td>4842.734635</td>\n",
       "      <td>12811.759440</td>\n",
       "    </tr>\n",
       "    <tr>\n",
       "      <th>Algeria</th>\n",
       "      <td>8746.352901</td>\n",
       "      <td>11737.409350</td>\n",
       "    </tr>\n",
       "    <tr>\n",
       "      <th>Angola</th>\n",
       "      <td>5783.429064</td>\n",
       "      <td>7310.901738</td>\n",
       "    </tr>\n",
       "    <tr>\n",
       "      <th>Antigua and Barbuda</th>\n",
       "      <td>15459.551680</td>\n",
       "      <td>19840.076120</td>\n",
       "    </tr>\n",
       "    <tr>\n",
       "      <th>Arab World</th>\n",
       "      <td>9694.667544</td>\n",
       "      <td>14555.474920</td>\n",
       "    </tr>\n",
       "    <tr>\n",
       "      <th>...</th>\n",
       "      <td>...</td>\n",
       "      <td>...</td>\n",
       "    </tr>\n",
       "    <tr>\n",
       "      <th>Vanuatu</th>\n",
       "      <td>2888.309393</td>\n",
       "      <td>3116.645194</td>\n",
       "    </tr>\n",
       "    <tr>\n",
       "      <th>Vietnam</th>\n",
       "      <td>1673.249634</td>\n",
       "      <td>7155.745829</td>\n",
       "    </tr>\n",
       "    <tr>\n",
       "      <th>World</th>\n",
       "      <td>9680.269697</td>\n",
       "      <td>16253.385520</td>\n",
       "    </tr>\n",
       "    <tr>\n",
       "      <th>Zambia</th>\n",
       "      <td>2190.182814</td>\n",
       "      <td>3485.005238</td>\n",
       "    </tr>\n",
       "    <tr>\n",
       "      <th>Zimbabwe</th>\n",
       "      <td>3324.348171</td>\n",
       "      <td>3028.245976</td>\n",
       "    </tr>\n",
       "  </tbody>\n",
       "</table>\n",
       "<p>207 rows × 2 columns</p>\n",
       "</div>"
      ],
      "text/plain": [
       "Year                         1990          2017\n",
       "Country                                        \n",
       "Albania               4842.734635  12811.759440\n",
       "Algeria               8746.352901  11737.409350\n",
       "Angola                5783.429064   7310.901738\n",
       "Antigua and Barbuda  15459.551680  19840.076120\n",
       "Arab World            9694.667544  14555.474920\n",
       "...                           ...           ...\n",
       "Vanuatu               2888.309393   3116.645194\n",
       "Vietnam               1673.249634   7155.745829\n",
       "World                 9680.269697  16253.385520\n",
       "Zambia                2190.182814   3485.005238\n",
       "Zimbabwe              3324.348171   3028.245976\n",
       "\n",
       "[207 rows x 2 columns]"
      ]
     },
     "execution_count": 41,
     "metadata": {},
     "output_type": "execute_result"
    }
   ],
   "source": [
    "gdp_pivoted"
   ]
  },
  {
   "cell_type": "code",
   "execution_count": 42,
   "id": "f4a9167f",
   "metadata": {},
   "outputs": [],
   "source": [
    "#Create a new column in `gdp_pivoted` named `Percent_Change`. This column should contain the percent change in GDP_Per_Capita from 1990 to 2017. Hint: Percent change is calculated as 100*(New Value - Old Value) / Old Value."
   ]
  },
  {
   "cell_type": "code",
   "execution_count": 43,
   "id": "27fdcf28",
   "metadata": {},
   "outputs": [
    {
     "name": "stderr",
     "output_type": "stream",
     "text": [
      "<ipython-input-43-c36042363769>:1: SettingWithCopyWarning: \n",
      "A value is trying to be set on a copy of a slice from a DataFrame.\n",
      "Try using .loc[row_indexer,col_indexer] = value instead\n",
      "\n",
      "See the caveats in the documentation: https://pandas.pydata.org/pandas-docs/stable/user_guide/indexing.html#returning-a-view-versus-a-copy\n",
      "  gdp_pivoted[\"Percent_Change\"] = 100*(gdp_pivoted[2017] - gdp_pivoted[1990]) / gdp_pivoted[1990]\n"
     ]
    }
   ],
   "source": [
    "gdp_pivoted[\"Percent_Change\"] = 100*(gdp_pivoted[2017] - gdp_pivoted[1990]) / gdp_pivoted[1990]\n"
   ]
  },
  {
   "cell_type": "code",
   "execution_count": 44,
   "id": "a77e1dd9",
   "metadata": {},
   "outputs": [
    {
     "data": {
      "text/html": [
       "<div>\n",
       "<style scoped>\n",
       "    .dataframe tbody tr th:only-of-type {\n",
       "        vertical-align: middle;\n",
       "    }\n",
       "\n",
       "    .dataframe tbody tr th {\n",
       "        vertical-align: top;\n",
       "    }\n",
       "\n",
       "    .dataframe thead th {\n",
       "        text-align: right;\n",
       "    }\n",
       "</style>\n",
       "<table border=\"1\" class=\"dataframe\">\n",
       "  <thead>\n",
       "    <tr style=\"text-align: right;\">\n",
       "      <th>Year</th>\n",
       "      <th>1990</th>\n",
       "      <th>2017</th>\n",
       "      <th>Percent_Change</th>\n",
       "    </tr>\n",
       "    <tr>\n",
       "      <th>Country</th>\n",
       "      <th></th>\n",
       "      <th></th>\n",
       "      <th></th>\n",
       "    </tr>\n",
       "  </thead>\n",
       "  <tbody>\n",
       "    <tr>\n",
       "      <th>Albania</th>\n",
       "      <td>4842.734635</td>\n",
       "      <td>12811.759440</td>\n",
       "      <td>164.556297</td>\n",
       "    </tr>\n",
       "    <tr>\n",
       "      <th>Algeria</th>\n",
       "      <td>8746.352901</td>\n",
       "      <td>11737.409350</td>\n",
       "      <td>34.197756</td>\n",
       "    </tr>\n",
       "    <tr>\n",
       "      <th>Angola</th>\n",
       "      <td>5783.429064</td>\n",
       "      <td>7310.901738</td>\n",
       "      <td>26.411194</td>\n",
       "    </tr>\n",
       "    <tr>\n",
       "      <th>Antigua and Barbuda</th>\n",
       "      <td>15459.551680</td>\n",
       "      <td>19840.076120</td>\n",
       "      <td>28.335391</td>\n",
       "    </tr>\n",
       "    <tr>\n",
       "      <th>Arab World</th>\n",
       "      <td>9694.667544</td>\n",
       "      <td>14555.474920</td>\n",
       "      <td>50.138980</td>\n",
       "    </tr>\n",
       "    <tr>\n",
       "      <th>...</th>\n",
       "      <td>...</td>\n",
       "      <td>...</td>\n",
       "      <td>...</td>\n",
       "    </tr>\n",
       "    <tr>\n",
       "      <th>Vanuatu</th>\n",
       "      <td>2888.309393</td>\n",
       "      <td>3116.645194</td>\n",
       "      <td>7.905517</td>\n",
       "    </tr>\n",
       "    <tr>\n",
       "      <th>Vietnam</th>\n",
       "      <td>1673.249634</td>\n",
       "      <td>7155.745829</td>\n",
       "      <td>327.655604</td>\n",
       "    </tr>\n",
       "    <tr>\n",
       "      <th>World</th>\n",
       "      <td>9680.269697</td>\n",
       "      <td>16253.385520</td>\n",
       "      <td>67.902197</td>\n",
       "    </tr>\n",
       "    <tr>\n",
       "      <th>Zambia</th>\n",
       "      <td>2190.182814</td>\n",
       "      <td>3485.005238</td>\n",
       "      <td>59.119377</td>\n",
       "    </tr>\n",
       "    <tr>\n",
       "      <th>Zimbabwe</th>\n",
       "      <td>3324.348171</td>\n",
       "      <td>3028.245976</td>\n",
       "      <td>-8.907075</td>\n",
       "    </tr>\n",
       "  </tbody>\n",
       "</table>\n",
       "<p>207 rows × 3 columns</p>\n",
       "</div>"
      ],
      "text/plain": [
       "Year                         1990          2017  Percent_Change\n",
       "Country                                                        \n",
       "Albania               4842.734635  12811.759440      164.556297\n",
       "Algeria               8746.352901  11737.409350       34.197756\n",
       "Angola                5783.429064   7310.901738       26.411194\n",
       "Antigua and Barbuda  15459.551680  19840.076120       28.335391\n",
       "Arab World            9694.667544  14555.474920       50.138980\n",
       "...                           ...           ...             ...\n",
       "Vanuatu               2888.309393   3116.645194        7.905517\n",
       "Vietnam               1673.249634   7155.745829      327.655604\n",
       "World                 9680.269697  16253.385520       67.902197\n",
       "Zambia                2190.182814   3485.005238       59.119377\n",
       "Zimbabwe              3324.348171   3028.245976       -8.907075\n",
       "\n",
       "[207 rows x 3 columns]"
      ]
     },
     "execution_count": 44,
     "metadata": {},
     "output_type": "execute_result"
    }
   ],
   "source": [
    "gdp_pivoted"
   ]
  },
  {
   "cell_type": "code",
   "execution_count": 45,
   "id": "d648a9d1",
   "metadata": {},
   "outputs": [],
   "source": [
    "#How many countries experienced a negative percent change in GDP per capita from 1990 to 2017?"
   ]
  },
  {
   "cell_type": "code",
   "execution_count": 46,
   "id": "993d22d2",
   "metadata": {},
   "outputs": [
    {
     "data": {
      "text/plain": [
       "Year\n",
       "1990              17\n",
       "2017              17\n",
       "Percent_Change    17\n",
       "dtype: int64"
      ]
     },
     "execution_count": 46,
     "metadata": {},
     "output_type": "execute_result"
    }
   ],
   "source": [
    "gdp_pivoted[gdp_pivoted[\"Percent_Change\"] < 0].count()"
   ]
  },
  {
   "cell_type": "code",
   "execution_count": 47,
   "id": "6d36cb7a",
   "metadata": {},
   "outputs": [],
   "source": [
    "#17 countries experienced a negative percent change in GDP"
   ]
  },
  {
   "cell_type": "code",
   "execution_count": 48,
   "id": "9e1cc7d6",
   "metadata": {},
   "outputs": [],
   "source": [
    "#Which country had the highest % change in GDP per capita? Create a line plot showing this country's GDP per capita for all years from 1990 to 2017. Create another showing the country with the second highest % change in GDP. How do the trends in these countries compare?"
   ]
  },
  {
   "cell_type": "code",
   "execution_count": 49,
   "id": "8e6b8f6c",
   "metadata": {},
   "outputs": [
    {
     "name": "stdout",
     "output_type": "stream",
     "text": [
      "Year                                                1990          2017  \\\n",
      "Country                                                                  \n",
      "Equatorial Guinea                            1039.985049  22551.083250   \n",
      "China                                        1423.896348  14344.421240   \n",
      "Myanmar                                       619.645145   4739.910118   \n",
      "East Asia & Pacific (excluding high income)  2173.223895  12986.322230   \n",
      "East Asia & Pacific (IDA & IBRD)             2196.950288  13123.151790   \n",
      "\n",
      "Year                                         Percent_Change  \n",
      "Country                                                      \n",
      "Equatorial Guinea                               2068.404562  \n",
      "China                                            907.406281  \n",
      "Myanmar                                          664.939443  \n",
      "East Asia & Pacific (excluding high income)      497.560254  \n",
      "East Asia & Pacific (IDA & IBRD)                 497.334945  \n"
     ]
    }
   ],
   "source": [
    "print(gdp_pivoted.sort_values(\"Percent_Change\", ascending = False).head())"
   ]
  },
  {
   "cell_type": "code",
   "execution_count": 50,
   "id": "8faed87c",
   "metadata": {},
   "outputs": [
    {
     "data": {
      "text/plain": [
       "<AxesSubplot:xlabel='Year'>"
      ]
     },
     "execution_count": 50,
     "metadata": {},
     "output_type": "execute_result"
    },
    {
     "data": {
      "image/png": "[encoded data removed]",
      "text/plain": [
       "<Figure size 432x288 with 1 Axes>"
      ]
     },
     "metadata": {
      "needs_background": "light"
     },
     "output_type": "display_data"
    },
    {
     "data": {
      "image/png": "[encoded data removed]",
      "text/plain": [
       "<Figure size 432x288 with 1 Axes>"
      ]
     },
     "metadata": {
      "needs_background": "light"
     },
     "output_type": "display_data"
    }
   ],
   "source": [
    "gdp_df[gdp_df[\"Country\"]==\"Equatorial Guinea\"].plot(x = \"Year\", y = \"GDP_Per_Capita\", kind = \"line\")\n",
    "gdp_df[gdp_df[\"Country\"] == \"China\"].plot(x = \"Year\", y = \"GDP_Per_Capita\", kind = \"line\")\n"
   ]
  },
  {
   "cell_type": "code",
   "execution_count": 51,
   "id": "e7d4aefc",
   "metadata": {},
   "outputs": [],
   "source": [
    "#Read in continents.csv contained in the `data` folder into a new dataframe called `continents`. We will be using this dataframe to add a new column to our dataset."
   ]
  },
  {
   "cell_type": "code",
   "execution_count": 52,
   "id": "e0113e62",
   "metadata": {},
   "outputs": [],
   "source": [
    "continents = pd.read_csv(\"../data/continents.csv\")"
   ]
  },
  {
   "cell_type": "code",
   "execution_count": 53,
   "id": "ee5ef383",
   "metadata": {},
   "outputs": [
    {
     "data": {
      "text/html": [
       "<div>\n",
       "<style scoped>\n",
       "    .dataframe tbody tr th:only-of-type {\n",
       "        vertical-align: middle;\n",
       "    }\n",
       "\n",
       "    .dataframe tbody tr th {\n",
       "        vertical-align: top;\n",
       "    }\n",
       "\n",
       "    .dataframe thead th {\n",
       "        text-align: right;\n",
       "    }\n",
       "</style>\n",
       "<table border=\"1\" class=\"dataframe\">\n",
       "  <thead>\n",
       "    <tr style=\"text-align: right;\">\n",
       "      <th></th>\n",
       "      <th>Continent</th>\n",
       "      <th>Country</th>\n",
       "    </tr>\n",
       "  </thead>\n",
       "  <tbody>\n",
       "    <tr>\n",
       "      <th>0</th>\n",
       "      <td>Asia</td>\n",
       "      <td>Afghanistan</td>\n",
       "    </tr>\n",
       "    <tr>\n",
       "      <th>1</th>\n",
       "      <td>Europe</td>\n",
       "      <td>Albania</td>\n",
       "    </tr>\n",
       "    <tr>\n",
       "      <th>2</th>\n",
       "      <td>Africa</td>\n",
       "      <td>Algeria</td>\n",
       "    </tr>\n",
       "    <tr>\n",
       "      <th>3</th>\n",
       "      <td>Europe</td>\n",
       "      <td>Andorra</td>\n",
       "    </tr>\n",
       "    <tr>\n",
       "      <th>4</th>\n",
       "      <td>Africa</td>\n",
       "      <td>Angola</td>\n",
       "    </tr>\n",
       "  </tbody>\n",
       "</table>\n",
       "</div>"
      ],
      "text/plain": [
       "  Continent      Country\n",
       "0      Asia  Afghanistan\n",
       "1    Europe      Albania\n",
       "2    Africa      Algeria\n",
       "3    Europe      Andorra\n",
       "4    Africa       Angola"
      ]
     },
     "execution_count": 53,
     "metadata": {},
     "output_type": "execute_result"
    }
   ],
   "source": [
    "continents.head()"
   ]
  },
  {
   "cell_type": "code",
   "execution_count": 54,
   "id": "ebca90a2",
   "metadata": {},
   "outputs": [],
   "source": [
    "#Merge gdp_df and continents. Keep only the countries that appear in both data frames. Save the result back to gdp_df."
   ]
  },
  {
   "cell_type": "code",
   "execution_count": 55,
   "id": "bed304b5",
   "metadata": {},
   "outputs": [],
   "source": [
    "gdp_df = pd.merge(left = continents, right = gdp_df, on = \"Country\")"
   ]
  },
  {
   "cell_type": "code",
   "execution_count": 56,
   "id": "61cfdd51",
   "metadata": {},
   "outputs": [],
   "source": [
    "#Determine the number of countries per continent. Create a bar chart showing this."
   ]
  },
  {
   "cell_type": "code",
   "execution_count": 57,
   "id": "0e33669f",
   "metadata": {},
   "outputs": [],
   "source": [
    "countries_per_continent = gdp_df.drop_duplicates(subset = \"Country\")"
   ]
  },
  {
   "cell_type": "code",
   "execution_count": 58,
   "id": "e6fbcaa5",
   "metadata": {},
   "outputs": [
    {
     "data": {
      "text/plain": [
       "<AxesSubplot:>"
      ]
     },
     "execution_count": 58,
     "metadata": {},
     "output_type": "execute_result"
    },
    {
     "data": {
      "image/png": "[encoded data removed]",
      "text/plain": [
       "<Figure size 432x288 with 1 Axes>"
      ]
     },
     "metadata": {
      "needs_background": "light"
     },
     "output_type": "display_data"
    }
   ],
   "source": [
    "countries_per_continent[\"Continent\"].value_counts().plot(kind = \"bar\")"
   ]
  },
  {
   "cell_type": "code",
   "execution_count": 59,
   "id": "32b012f9",
   "metadata": {},
   "outputs": [],
   "source": [
    "#Create a seaborn boxplot showing GDP per capita in 2014 split out by continent. What do you notice?"
   ]
  },
  {
   "cell_type": "code",
   "execution_count": 60,
   "id": "4bbfd3e1",
   "metadata": {},
   "outputs": [
    {
     "data": {
      "text/plain": [
       "<AxesSubplot:xlabel='Continent', ylabel='GDP_Per_Capita'>"
      ]
     },
     "execution_count": 60,
     "metadata": {},
     "output_type": "execute_result"
    },
    {
     "data": {
      "image/png": "[encoded data removed]",
      "text/plain": [
       "<Figure size 432x288 with 1 Axes>"
      ]
     },
     "metadata": {
      "needs_background": "light"
     },
     "output_type": "display_data"
    }
   ],
   "source": [
    "sns.boxplot(x = \"Continent\", y= \"GDP_Per_Capita\", data = gdp_df[gdp_df[\"Year\"]== 2014])"
   ]
  },
  {
   "cell_type": "code",
   "execution_count": 61,
   "id": "b2493683",
   "metadata": {},
   "outputs": [],
   "source": [
    "#Read in internet_use.csv into a DataFrame called `internet_df`. You will most likely get an error message when doing this - figure out what is going wrong and fix it. Take a look at the first and last five rows and make any corrections to your `read_csv()` call to fix this. Again, **do not** modify the original datasets."
   ]
  },
  {
   "cell_type": "code",
   "execution_count": 62,
   "id": "ff7c57bd",
   "metadata": {},
   "outputs": [],
   "source": [
    "internet_df = pd.read_csv(\"../data/internet_use.csv\", skipfooter = 182, engine = 'python')"
   ]
  },
  {
   "cell_type": "code",
   "execution_count": 63,
   "id": "514c780a",
   "metadata": {},
   "outputs": [
    {
     "data": {
      "text/html": [
       "<div>\n",
       "<style scoped>\n",
       "    .dataframe tbody tr th:only-of-type {\n",
       "        vertical-align: middle;\n",
       "    }\n",
       "\n",
       "    .dataframe tbody tr th {\n",
       "        vertical-align: top;\n",
       "    }\n",
       "\n",
       "    .dataframe thead th {\n",
       "        text-align: right;\n",
       "    }\n",
       "</style>\n",
       "<table border=\"1\" class=\"dataframe\">\n",
       "  <thead>\n",
       "    <tr style=\"text-align: right;\">\n",
       "      <th></th>\n",
       "      <th>Country or Area</th>\n",
       "      <th>Year</th>\n",
       "      <th>Value</th>\n",
       "      <th>Value Footnotes</th>\n",
       "      <th>Unnamed: 4</th>\n",
       "      <th>Unnamed: 5</th>\n",
       "    </tr>\n",
       "  </thead>\n",
       "  <tbody>\n",
       "    <tr>\n",
       "      <th>0</th>\n",
       "      <td>Afghanistan</td>\n",
       "      <td>2014</td>\n",
       "      <td>6.390000</td>\n",
       "      <td>NaN</td>\n",
       "      <td>NaN</td>\n",
       "      <td>NaN</td>\n",
       "    </tr>\n",
       "    <tr>\n",
       "      <th>1</th>\n",
       "      <td>Afghanistan</td>\n",
       "      <td>2013</td>\n",
       "      <td>5.900000</td>\n",
       "      <td>NaN</td>\n",
       "      <td>NaN</td>\n",
       "      <td>NaN</td>\n",
       "    </tr>\n",
       "    <tr>\n",
       "      <th>2</th>\n",
       "      <td>Afghanistan</td>\n",
       "      <td>2012</td>\n",
       "      <td>5.454545</td>\n",
       "      <td>NaN</td>\n",
       "      <td>NaN</td>\n",
       "      <td>NaN</td>\n",
       "    </tr>\n",
       "    <tr>\n",
       "      <th>3</th>\n",
       "      <td>Afghanistan</td>\n",
       "      <td>2011</td>\n",
       "      <td>5.000000</td>\n",
       "      <td>NaN</td>\n",
       "      <td>NaN</td>\n",
       "      <td>NaN</td>\n",
       "    </tr>\n",
       "    <tr>\n",
       "      <th>4</th>\n",
       "      <td>Afghanistan</td>\n",
       "      <td>2010</td>\n",
       "      <td>4.000000</td>\n",
       "      <td>NaN</td>\n",
       "      <td>NaN</td>\n",
       "      <td>NaN</td>\n",
       "    </tr>\n",
       "  </tbody>\n",
       "</table>\n",
       "</div>"
      ],
      "text/plain": [
       "  Country or Area  Year     Value  Value Footnotes  Unnamed: 4  Unnamed: 5\n",
       "0     Afghanistan  2014  6.390000              NaN         NaN         NaN\n",
       "1     Afghanistan  2013  5.900000              NaN         NaN         NaN\n",
       "2     Afghanistan  2012  5.454545              NaN         NaN         NaN\n",
       "3     Afghanistan  2011  5.000000              NaN         NaN         NaN\n",
       "4     Afghanistan  2010  4.000000              NaN         NaN         NaN"
      ]
     },
     "execution_count": 63,
     "metadata": {},
     "output_type": "execute_result"
    }
   ],
   "source": [
    "internet_df.head(5)"
   ]
  },
  {
   "cell_type": "code",
   "execution_count": 64,
   "id": "1f007b7d",
   "metadata": {},
   "outputs": [
    {
     "data": {
      "text/html": [
       "<div>\n",
       "<style scoped>\n",
       "    .dataframe tbody tr th:only-of-type {\n",
       "        vertical-align: middle;\n",
       "    }\n",
       "\n",
       "    .dataframe tbody tr th {\n",
       "        vertical-align: top;\n",
       "    }\n",
       "\n",
       "    .dataframe thead th {\n",
       "        text-align: right;\n",
       "    }\n",
       "</style>\n",
       "<table border=\"1\" class=\"dataframe\">\n",
       "  <thead>\n",
       "    <tr style=\"text-align: right;\">\n",
       "      <th></th>\n",
       "      <th>Country or Area</th>\n",
       "      <th>Year</th>\n",
       "      <th>Value</th>\n",
       "      <th>Value Footnotes</th>\n",
       "      <th>Unnamed: 4</th>\n",
       "      <th>Unnamed: 5</th>\n",
       "    </tr>\n",
       "  </thead>\n",
       "  <tbody>\n",
       "    <tr>\n",
       "      <th>4490</th>\n",
       "      <td>Zimbabwe</td>\n",
       "      <td>1997</td>\n",
       "      <td>0.033080</td>\n",
       "      <td>NaN</td>\n",
       "      <td>NaN</td>\n",
       "      <td>NaN</td>\n",
       "    </tr>\n",
       "    <tr>\n",
       "      <th>4491</th>\n",
       "      <td>Zimbabwe</td>\n",
       "      <td>1996</td>\n",
       "      <td>0.016790</td>\n",
       "      <td>NaN</td>\n",
       "      <td>NaN</td>\n",
       "      <td>NaN</td>\n",
       "    </tr>\n",
       "    <tr>\n",
       "      <th>4492</th>\n",
       "      <td>Zimbabwe</td>\n",
       "      <td>1995</td>\n",
       "      <td>0.007684</td>\n",
       "      <td>NaN</td>\n",
       "      <td>NaN</td>\n",
       "      <td>NaN</td>\n",
       "    </tr>\n",
       "    <tr>\n",
       "      <th>4493</th>\n",
       "      <td>Zimbabwe</td>\n",
       "      <td>1994</td>\n",
       "      <td>0.001739</td>\n",
       "      <td>NaN</td>\n",
       "      <td>NaN</td>\n",
       "      <td>NaN</td>\n",
       "    </tr>\n",
       "    <tr>\n",
       "      <th>4494</th>\n",
       "      <td>Zimbabwe</td>\n",
       "      <td>1990</td>\n",
       "      <td>0.000000</td>\n",
       "      <td>NaN</td>\n",
       "      <td>NaN</td>\n",
       "      <td>NaN</td>\n",
       "    </tr>\n",
       "  </tbody>\n",
       "</table>\n",
       "</div>"
      ],
      "text/plain": [
       "     Country or Area  Year     Value  Value Footnotes  Unnamed: 4  Unnamed: 5\n",
       "4490        Zimbabwe  1997  0.033080              NaN         NaN         NaN\n",
       "4491        Zimbabwe  1996  0.016790              NaN         NaN         NaN\n",
       "4492        Zimbabwe  1995  0.007684              NaN         NaN         NaN\n",
       "4493        Zimbabwe  1994  0.001739              NaN         NaN         NaN\n",
       "4494        Zimbabwe  1990  0.000000              NaN         NaN         NaN"
      ]
     },
     "execution_count": 64,
     "metadata": {},
     "output_type": "execute_result"
    }
   ],
   "source": [
    "internet_df[-5:]"
   ]
  },
  {
   "cell_type": "code",
   "execution_count": 65,
   "id": "5bd1f9af",
   "metadata": {},
   "outputs": [],
   "source": [
    "#Drop the Value Footnotes column and then rename the columns to ‘Country’, ‘Year’, and ‘Internet_Users_Pct’."
   ]
  },
  {
   "cell_type": "code",
   "execution_count": 66,
   "id": "6a14a98b",
   "metadata": {},
   "outputs": [],
   "source": [
    "internet_df = internet_df.drop(columns = [\"Value Footnotes\", \"Unnamed: 4\",\"Unnamed: 5\"])"
   ]
  },
  {
   "cell_type": "code",
   "execution_count": 67,
   "id": "ab2260c3",
   "metadata": {},
   "outputs": [],
   "source": [
    "internet_df = internet_df.rename(columns = {\"Country or Area\":\"Country\",\"Value\": \"Internet_Users_Pct\"})"
   ]
  },
  {
   "cell_type": "code",
   "execution_count": 68,
   "id": "8e850628",
   "metadata": {},
   "outputs": [
    {
     "data": {
      "text/html": [
       "<div>\n",
       "<style scoped>\n",
       "    .dataframe tbody tr th:only-of-type {\n",
       "        vertical-align: middle;\n",
       "    }\n",
       "\n",
       "    .dataframe tbody tr th {\n",
       "        vertical-align: top;\n",
       "    }\n",
       "\n",
       "    .dataframe thead th {\n",
       "        text-align: right;\n",
       "    }\n",
       "</style>\n",
       "<table border=\"1\" class=\"dataframe\">\n",
       "  <thead>\n",
       "    <tr style=\"text-align: right;\">\n",
       "      <th></th>\n",
       "      <th>Country</th>\n",
       "      <th>Year</th>\n",
       "      <th>Internet_Users_Pct</th>\n",
       "    </tr>\n",
       "  </thead>\n",
       "  <tbody>\n",
       "    <tr>\n",
       "      <th>0</th>\n",
       "      <td>Afghanistan</td>\n",
       "      <td>2014</td>\n",
       "      <td>6.390000</td>\n",
       "    </tr>\n",
       "    <tr>\n",
       "      <th>1</th>\n",
       "      <td>Afghanistan</td>\n",
       "      <td>2013</td>\n",
       "      <td>5.900000</td>\n",
       "    </tr>\n",
       "    <tr>\n",
       "      <th>2</th>\n",
       "      <td>Afghanistan</td>\n",
       "      <td>2012</td>\n",
       "      <td>5.454545</td>\n",
       "    </tr>\n",
       "    <tr>\n",
       "      <th>3</th>\n",
       "      <td>Afghanistan</td>\n",
       "      <td>2011</td>\n",
       "      <td>5.000000</td>\n",
       "    </tr>\n",
       "    <tr>\n",
       "      <th>4</th>\n",
       "      <td>Afghanistan</td>\n",
       "      <td>2010</td>\n",
       "      <td>4.000000</td>\n",
       "    </tr>\n",
       "    <tr>\n",
       "      <th>...</th>\n",
       "      <td>...</td>\n",
       "      <td>...</td>\n",
       "      <td>...</td>\n",
       "    </tr>\n",
       "    <tr>\n",
       "      <th>4490</th>\n",
       "      <td>Zimbabwe</td>\n",
       "      <td>1997</td>\n",
       "      <td>0.033080</td>\n",
       "    </tr>\n",
       "    <tr>\n",
       "      <th>4491</th>\n",
       "      <td>Zimbabwe</td>\n",
       "      <td>1996</td>\n",
       "      <td>0.016790</td>\n",
       "    </tr>\n",
       "    <tr>\n",
       "      <th>4492</th>\n",
       "      <td>Zimbabwe</td>\n",
       "      <td>1995</td>\n",
       "      <td>0.007684</td>\n",
       "    </tr>\n",
       "    <tr>\n",
       "      <th>4493</th>\n",
       "      <td>Zimbabwe</td>\n",
       "      <td>1994</td>\n",
       "      <td>0.001739</td>\n",
       "    </tr>\n",
       "    <tr>\n",
       "      <th>4494</th>\n",
       "      <td>Zimbabwe</td>\n",
       "      <td>1990</td>\n",
       "      <td>0.000000</td>\n",
       "    </tr>\n",
       "  </tbody>\n",
       "</table>\n",
       "<p>4495 rows × 3 columns</p>\n",
       "</div>"
      ],
      "text/plain": [
       "          Country  Year  Internet_Users_Pct\n",
       "0     Afghanistan  2014            6.390000\n",
       "1     Afghanistan  2013            5.900000\n",
       "2     Afghanistan  2012            5.454545\n",
       "3     Afghanistan  2011            5.000000\n",
       "4     Afghanistan  2010            4.000000\n",
       "...           ...   ...                 ...\n",
       "4490     Zimbabwe  1997            0.033080\n",
       "4491     Zimbabwe  1996            0.016790\n",
       "4492     Zimbabwe  1995            0.007684\n",
       "4493     Zimbabwe  1994            0.001739\n",
       "4494     Zimbabwe  1990            0.000000\n",
       "\n",
       "[4495 rows x 3 columns]"
      ]
     },
     "execution_count": 68,
     "metadata": {},
     "output_type": "execute_result"
    }
   ],
   "source": [
    "internet_df"
   ]
  },
  {
   "cell_type": "code",
   "execution_count": 69,
   "id": "cb2b81eb",
   "metadata": {},
   "outputs": [],
   "source": [
    "# How many rows and columns does this new dataset have? What are the types of its columns? Ensure that the `Internet_Users_Pct` column is a numeric data type and fix it if it is not."
   ]
  },
  {
   "cell_type": "code",
   "execution_count": 70,
   "id": "42e1b397",
   "metadata": {},
   "outputs": [
    {
     "name": "stdout",
     "output_type": "stream",
     "text": [
      "<class 'pandas.core.frame.DataFrame'>\n",
      "RangeIndex: 4495 entries, 0 to 4494\n",
      "Data columns (total 3 columns):\n",
      " #   Column              Non-Null Count  Dtype  \n",
      "---  ------              --------------  -----  \n",
      " 0   Country             4495 non-null   object \n",
      " 1   Year                4495 non-null   int64  \n",
      " 2   Internet_Users_Pct  4495 non-null   float64\n",
      "dtypes: float64(1), int64(1), object(1)\n",
      "memory usage: 105.5+ KB\n"
     ]
    }
   ],
   "source": [
    "internet_df.info()"
   ]
  },
  {
   "cell_type": "code",
   "execution_count": 71,
   "id": "58e0095b",
   "metadata": {},
   "outputs": [],
   "source": [
    "#3 columns, 4495 rows."
   ]
  },
  {
   "cell_type": "code",
   "execution_count": 72,
   "id": "118d364e",
   "metadata": {},
   "outputs": [],
   "source": [
    "#What is the first year that has a nonzero internet users percentage reported? What is the general trend in internet users percentage over the years. Pick a visualization that you think illustrates this trend well."
   ]
  },
  {
   "cell_type": "code",
   "execution_count": 73,
   "id": "881cffbb",
   "metadata": {},
   "outputs": [
    {
     "data": {
      "text/plain": [
       "Year    1990\n",
       "dtype: int64"
      ]
     },
     "execution_count": 73,
     "metadata": {},
     "output_type": "execute_result"
    }
   ],
   "source": [
    "internet_df[internet_df[\"Internet_Users_Pct\"] !=0][[\"Year\"]].min()"
   ]
  },
  {
   "cell_type": "code",
   "execution_count": 74,
   "id": "f028f384",
   "metadata": {},
   "outputs": [],
   "source": [
    "#1990 is the first year with nonzero "
   ]
  },
  {
   "cell_type": "code",
   "execution_count": 75,
   "id": "845ea05a",
   "metadata": {},
   "outputs": [
    {
     "data": {
      "text/plain": [
       "<AxesSubplot:xlabel='Year', ylabel='Internet_Users_Pct'>"
      ]
     },
     "execution_count": 75,
     "metadata": {},
     "output_type": "execute_result"
    },
    {
     "data": {
      "image/png": "[encoded data removed]",
      "text/plain": [
       "<Figure size 432x288 with 1 Axes>"
      ]
     },
     "metadata": {
      "needs_background": "light"
     },
     "output_type": "display_data"
    }
   ],
   "source": [
    "internet_df[[\"Year\",\"Internet_Users_Pct\"]].plot(x = \"Year\", y = \"Internet_Users_Pct\", kind = \"scatter\")"
   ]
  },
  {
   "cell_type": "code",
   "execution_count": 76,
   "id": "27f52902",
   "metadata": {},
   "outputs": [],
   "source": [
    "#Merge `gdp_df` and `internet_df` (on Country and Year) into a single DataFrame named `gdp_and_internet_use`. Keep only countries and years that appear in both tables. "
   ]
  },
  {
   "cell_type": "code",
   "execution_count": 77,
   "id": "a2b4577d",
   "metadata": {},
   "outputs": [],
   "source": [
    "gdp_and_internet_use = pd.merge(left = gdp_df, right = internet_df, on = [\"Country\",\"Year\"])"
   ]
  },
  {
   "cell_type": "code",
   "execution_count": 78,
   "id": "a394cb76",
   "metadata": {},
   "outputs": [
    {
     "data": {
      "text/html": [
       "<div>\n",
       "<style scoped>\n",
       "    .dataframe tbody tr th:only-of-type {\n",
       "        vertical-align: middle;\n",
       "    }\n",
       "\n",
       "    .dataframe tbody tr th {\n",
       "        vertical-align: top;\n",
       "    }\n",
       "\n",
       "    .dataframe thead th {\n",
       "        text-align: right;\n",
       "    }\n",
       "</style>\n",
       "<table border=\"1\" class=\"dataframe\">\n",
       "  <thead>\n",
       "    <tr style=\"text-align: right;\">\n",
       "      <th></th>\n",
       "      <th>Continent</th>\n",
       "      <th>Country</th>\n",
       "      <th>Year</th>\n",
       "      <th>GDP_Per_Capita</th>\n",
       "      <th>Internet_Users_Pct</th>\n",
       "    </tr>\n",
       "  </thead>\n",
       "  <tbody>\n",
       "    <tr>\n",
       "      <th>0</th>\n",
       "      <td>Asia</td>\n",
       "      <td>Afghanistan</td>\n",
       "      <td>2014</td>\n",
       "      <td>2102.385234</td>\n",
       "      <td>6.390000</td>\n",
       "    </tr>\n",
       "    <tr>\n",
       "      <th>1</th>\n",
       "      <td>Asia</td>\n",
       "      <td>Afghanistan</td>\n",
       "      <td>2013</td>\n",
       "      <td>2116.465454</td>\n",
       "      <td>5.900000</td>\n",
       "    </tr>\n",
       "    <tr>\n",
       "      <th>2</th>\n",
       "      <td>Asia</td>\n",
       "      <td>Afghanistan</td>\n",
       "      <td>2012</td>\n",
       "      <td>2075.491747</td>\n",
       "      <td>5.454545</td>\n",
       "    </tr>\n",
       "    <tr>\n",
       "      <th>3</th>\n",
       "      <td>Asia</td>\n",
       "      <td>Afghanistan</td>\n",
       "      <td>2011</td>\n",
       "      <td>1904.559799</td>\n",
       "      <td>5.000000</td>\n",
       "    </tr>\n",
       "    <tr>\n",
       "      <th>4</th>\n",
       "      <td>Asia</td>\n",
       "      <td>Afghanistan</td>\n",
       "      <td>2010</td>\n",
       "      <td>1957.029338</td>\n",
       "      <td>4.000000</td>\n",
       "    </tr>\n",
       "  </tbody>\n",
       "</table>\n",
       "</div>"
      ],
      "text/plain": [
       "  Continent      Country  Year  GDP_Per_Capita  Internet_Users_Pct\n",
       "0      Asia  Afghanistan  2014     2102.385234            6.390000\n",
       "1      Asia  Afghanistan  2013     2116.465454            5.900000\n",
       "2      Asia  Afghanistan  2012     2075.491747            5.454545\n",
       "3      Asia  Afghanistan  2011     1904.559799            5.000000\n",
       "4      Asia  Afghanistan  2010     1957.029338            4.000000"
      ]
     },
     "execution_count": 78,
     "metadata": {},
     "output_type": "execute_result"
    }
   ],
   "source": [
    "gdp_and_internet_use.head(5)"
   ]
  },
  {
   "cell_type": "code",
   "execution_count": 79,
   "id": "b7356f85",
   "metadata": {},
   "outputs": [],
   "source": [
    "#Create a new DataFrame, named `gdp_and_internet_use_2014` by extracting data for the year 2014 from `gdp_and_internet_use`. How many countries have at least 90% internet users in 2014?"
   ]
  },
  {
   "cell_type": "code",
   "execution_count": 80,
   "id": "90f04145",
   "metadata": {},
   "outputs": [],
   "source": [
    "gdp_and_internet_use_2014 = gdp_and_internet_use[gdp_and_internet_use[\"Year\"] == 2014]"
   ]
  },
  {
   "cell_type": "code",
   "execution_count": 81,
   "id": "726ba1cf",
   "metadata": {},
   "outputs": [
    {
     "data": {
      "text/plain": [
       "Continent             13\n",
       "Country               13\n",
       "Year                  13\n",
       "GDP_Per_Capita        13\n",
       "Internet_Users_Pct    13\n",
       "dtype: int64"
      ]
     },
     "execution_count": 81,
     "metadata": {},
     "output_type": "execute_result"
    }
   ],
   "source": [
    "gdp_and_internet_use_2014[gdp_and_internet_use_2014[\"Internet_Users_Pct\"] >= 90].count()"
   ]
  },
  {
   "cell_type": "code",
   "execution_count": 82,
   "id": "206a813b",
   "metadata": {},
   "outputs": [],
   "source": [
    "#13 countries had over 90% internet users in 2014"
   ]
  },
  {
   "cell_type": "code",
   "execution_count": 83,
   "id": "200d2031",
   "metadata": {},
   "outputs": [],
   "source": [
    "#Find the countries that had the top 3 largest GDP per capita figures for 2014. Create a seaborn FacetGrid showing the change in internet user percentage over time for these three countries. Each individual figure in the facet grid will represent a single country.  What trends do you notice?"
   ]
  },
  {
   "cell_type": "code",
   "execution_count": 84,
   "id": "1b9d2a29",
   "metadata": {},
   "outputs": [],
   "source": [
    "gdp_and_internet_use_2014_sorted = gdp_and_internet_use_2014.sort_values(\"GDP_Per_Capita\", ascending= False)"
   ]
  },
  {
   "cell_type": "code",
   "execution_count": 85,
   "id": "9a138041",
   "metadata": {},
   "outputs": [
    {
     "data": {
      "text/html": [
       "<div>\n",
       "<style scoped>\n",
       "    .dataframe tbody tr th:only-of-type {\n",
       "        vertical-align: middle;\n",
       "    }\n",
       "\n",
       "    .dataframe tbody tr th {\n",
       "        vertical-align: top;\n",
       "    }\n",
       "\n",
       "    .dataframe thead th {\n",
       "        text-align: right;\n",
       "    }\n",
       "</style>\n",
       "<table border=\"1\" class=\"dataframe\">\n",
       "  <thead>\n",
       "    <tr style=\"text-align: right;\">\n",
       "      <th></th>\n",
       "      <th>Continent</th>\n",
       "      <th>Country</th>\n",
       "      <th>Year</th>\n",
       "      <th>GDP_Per_Capita</th>\n",
       "      <th>Internet_Users_Pct</th>\n",
       "    </tr>\n",
       "  </thead>\n",
       "  <tbody>\n",
       "    <tr>\n",
       "      <th>1798</th>\n",
       "      <td>Europe</td>\n",
       "      <td>Luxembourg</td>\n",
       "      <td>2014</td>\n",
       "      <td>108760.916000</td>\n",
       "      <td>94.67</td>\n",
       "    </tr>\n",
       "    <tr>\n",
       "      <th>2542</th>\n",
       "      <td>Asia</td>\n",
       "      <td>Qatar</td>\n",
       "      <td>2014</td>\n",
       "      <td>95578.416970</td>\n",
       "      <td>91.49</td>\n",
       "    </tr>\n",
       "    <tr>\n",
       "      <th>2772</th>\n",
       "      <td>Asia</td>\n",
       "      <td>Singapore</td>\n",
       "      <td>2014</td>\n",
       "      <td>87808.663160</td>\n",
       "      <td>82.00</td>\n",
       "    </tr>\n",
       "    <tr>\n",
       "      <th>372</th>\n",
       "      <td>North America</td>\n",
       "      <td>Bermuda</td>\n",
       "      <td>2014</td>\n",
       "      <td>77361.104880</td>\n",
       "      <td>96.80</td>\n",
       "    </tr>\n",
       "    <tr>\n",
       "      <th>627</th>\n",
       "      <td>North America</td>\n",
       "      <td>Cayman Islands</td>\n",
       "      <td>2014</td>\n",
       "      <td>66207.447230</td>\n",
       "      <td>74.10</td>\n",
       "    </tr>\n",
       "    <tr>\n",
       "      <th>...</th>\n",
       "      <td>...</td>\n",
       "      <td>...</td>\n",
       "      <td>...</td>\n",
       "      <td>...</td>\n",
       "      <td>...</td>\n",
       "    </tr>\n",
       "    <tr>\n",
       "      <th>3098</th>\n",
       "      <td>Africa</td>\n",
       "      <td>Togo</td>\n",
       "      <td>2014</td>\n",
       "      <td>1404.132938</td>\n",
       "      <td>5.70</td>\n",
       "    </tr>\n",
       "    <tr>\n",
       "      <th>2102</th>\n",
       "      <td>Africa</td>\n",
       "      <td>Mozambique</td>\n",
       "      <td>2014</td>\n",
       "      <td>1217.090210</td>\n",
       "      <td>5.94</td>\n",
       "    </tr>\n",
       "    <tr>\n",
       "      <th>2256</th>\n",
       "      <td>Africa</td>\n",
       "      <td>Niger</td>\n",
       "      <td>2014</td>\n",
       "      <td>1127.615541</td>\n",
       "      <td>1.95</td>\n",
       "    </tr>\n",
       "    <tr>\n",
       "      <th>1842</th>\n",
       "      <td>Africa</td>\n",
       "      <td>Malawi</td>\n",
       "      <td>2014</td>\n",
       "      <td>1027.208496</td>\n",
       "      <td>5.83</td>\n",
       "    </tr>\n",
       "    <tr>\n",
       "      <th>540</th>\n",
       "      <td>Africa</td>\n",
       "      <td>Burundi</td>\n",
       "      <td>2014</td>\n",
       "      <td>886.235777</td>\n",
       "      <td>1.38</td>\n",
       "    </tr>\n",
       "  </tbody>\n",
       "</table>\n",
       "<p>163 rows × 5 columns</p>\n",
       "</div>"
      ],
      "text/plain": [
       "          Continent         Country  Year  GDP_Per_Capita  Internet_Users_Pct\n",
       "1798         Europe      Luxembourg  2014   108760.916000               94.67\n",
       "2542           Asia           Qatar  2014    95578.416970               91.49\n",
       "2772           Asia       Singapore  2014    87808.663160               82.00\n",
       "372   North America         Bermuda  2014    77361.104880               96.80\n",
       "627   North America  Cayman Islands  2014    66207.447230               74.10\n",
       "...             ...             ...   ...             ...                 ...\n",
       "3098         Africa            Togo  2014     1404.132938                5.70\n",
       "2102         Africa      Mozambique  2014     1217.090210                5.94\n",
       "2256         Africa           Niger  2014     1127.615541                1.95\n",
       "1842         Africa          Malawi  2014     1027.208496                5.83\n",
       "540          Africa         Burundi  2014      886.235777                1.38\n",
       "\n",
       "[163 rows x 5 columns]"
      ]
     },
     "execution_count": 85,
     "metadata": {},
     "output_type": "execute_result"
    }
   ],
   "source": [
    "gdp_and_internet_use_2014_sorted"
   ]
  },
  {
   "cell_type": "code",
   "execution_count": 86,
   "id": "4375989c",
   "metadata": {},
   "outputs": [
    {
     "data": {
      "text/html": [
       "<div>\n",
       "<style scoped>\n",
       "    .dataframe tbody tr th:only-of-type {\n",
       "        vertical-align: middle;\n",
       "    }\n",
       "\n",
       "    .dataframe tbody tr th {\n",
       "        vertical-align: top;\n",
       "    }\n",
       "\n",
       "    .dataframe thead th {\n",
       "        text-align: right;\n",
       "    }\n",
       "</style>\n",
       "<table border=\"1\" class=\"dataframe\">\n",
       "  <thead>\n",
       "    <tr style=\"text-align: right;\">\n",
       "      <th></th>\n",
       "      <th>Continent</th>\n",
       "      <th>Country</th>\n",
       "      <th>Year</th>\n",
       "      <th>GDP_Per_Capita</th>\n",
       "      <th>Internet_Users_Pct</th>\n",
       "    </tr>\n",
       "  </thead>\n",
       "  <tbody>\n",
       "    <tr>\n",
       "      <th>1798</th>\n",
       "      <td>Europe</td>\n",
       "      <td>Luxembourg</td>\n",
       "      <td>2014</td>\n",
       "      <td>108760.91600</td>\n",
       "      <td>94.670000</td>\n",
       "    </tr>\n",
       "    <tr>\n",
       "      <th>1799</th>\n",
       "      <td>Europe</td>\n",
       "      <td>Luxembourg</td>\n",
       "      <td>2013</td>\n",
       "      <td>106767.27500</td>\n",
       "      <td>93.776500</td>\n",
       "    </tr>\n",
       "    <tr>\n",
       "      <th>1800</th>\n",
       "      <td>Europe</td>\n",
       "      <td>Luxembourg</td>\n",
       "      <td>2012</td>\n",
       "      <td>105411.46460</td>\n",
       "      <td>91.949924</td>\n",
       "    </tr>\n",
       "    <tr>\n",
       "      <th>1801</th>\n",
       "      <td>Europe</td>\n",
       "      <td>Luxembourg</td>\n",
       "      <td>2011</td>\n",
       "      <td>108355.58260</td>\n",
       "      <td>90.029859</td>\n",
       "    </tr>\n",
       "    <tr>\n",
       "      <th>1802</th>\n",
       "      <td>Europe</td>\n",
       "      <td>Luxembourg</td>\n",
       "      <td>2010</td>\n",
       "      <td>108047.34690</td>\n",
       "      <td>90.620000</td>\n",
       "    </tr>\n",
       "    <tr>\n",
       "      <th>...</th>\n",
       "      <td>...</td>\n",
       "      <td>...</td>\n",
       "      <td>...</td>\n",
       "      <td>...</td>\n",
       "      <td>...</td>\n",
       "    </tr>\n",
       "    <tr>\n",
       "      <th>2792</th>\n",
       "      <td>Asia</td>\n",
       "      <td>Singapore</td>\n",
       "      <td>1994</td>\n",
       "      <td>46895.05301</td>\n",
       "      <td>1.185204</td>\n",
       "    </tr>\n",
       "    <tr>\n",
       "      <th>2793</th>\n",
       "      <td>Asia</td>\n",
       "      <td>Singapore</td>\n",
       "      <td>1993</td>\n",
       "      <td>43555.61904</td>\n",
       "      <td>0.763278</td>\n",
       "    </tr>\n",
       "    <tr>\n",
       "      <th>2794</th>\n",
       "      <td>Asia</td>\n",
       "      <td>Singapore</td>\n",
       "      <td>1992</td>\n",
       "      <td>40077.54879</td>\n",
       "      <td>0.471368</td>\n",
       "    </tr>\n",
       "    <tr>\n",
       "      <th>2795</th>\n",
       "      <td>Asia</td>\n",
       "      <td>Singapore</td>\n",
       "      <td>1991</td>\n",
       "      <td>38728.40391</td>\n",
       "      <td>0.161504</td>\n",
       "    </tr>\n",
       "    <tr>\n",
       "      <th>2796</th>\n",
       "      <td>Asia</td>\n",
       "      <td>Singapore</td>\n",
       "      <td>1990</td>\n",
       "      <td>37348.20679</td>\n",
       "      <td>0.000000</td>\n",
       "    </tr>\n",
       "  </tbody>\n",
       "</table>\n",
       "<p>64 rows × 5 columns</p>\n",
       "</div>"
      ],
      "text/plain": [
       "     Continent     Country  Year  GDP_Per_Capita  Internet_Users_Pct\n",
       "1798    Europe  Luxembourg  2014    108760.91600           94.670000\n",
       "1799    Europe  Luxembourg  2013    106767.27500           93.776500\n",
       "1800    Europe  Luxembourg  2012    105411.46460           91.949924\n",
       "1801    Europe  Luxembourg  2011    108355.58260           90.029859\n",
       "1802    Europe  Luxembourg  2010    108047.34690           90.620000\n",
       "...        ...         ...   ...             ...                 ...\n",
       "2792      Asia   Singapore  1994     46895.05301            1.185204\n",
       "2793      Asia   Singapore  1993     43555.61904            0.763278\n",
       "2794      Asia   Singapore  1992     40077.54879            0.471368\n",
       "2795      Asia   Singapore  1991     38728.40391            0.161504\n",
       "2796      Asia   Singapore  1990     37348.20679            0.000000\n",
       "\n",
       "[64 rows x 5 columns]"
      ]
     },
     "execution_count": 86,
     "metadata": {},
     "output_type": "execute_result"
    }
   ],
   "source": [
    "top_3_gdps = gdp_and_internet_use[(gdp_and_internet_use[\"Country\"] == \"Luxembourg\")\n",
    "                                 |(gdp_and_internet_use[\"Country\"] == \"Qatar\")\n",
    "                                 |(gdp_and_internet_use[\"Country\"] == \"Singapore\")]\n",
    "top_3_gdps"
   ]
  },
  {
   "cell_type": "code",
   "execution_count": 87,
   "id": "cd4d0fee",
   "metadata": {},
   "outputs": [
    {
     "data": {
      "image/png": "[encoded data removed]",
      "text/plain": [
       "<Figure size 648x216 with 3 Axes>"
      ]
     },
     "metadata": {
      "needs_background": "light"
     },
     "output_type": "display_data"
    }
   ],
   "source": [
    "graph = sns.FacetGrid(top_3_gdps, col = \"Country\")"
   ]
  },
  {
   "cell_type": "code",
   "execution_count": 88,
   "id": "d2b7f020",
   "metadata": {},
   "outputs": [
    {
     "data": {
      "text/plain": [
       "<seaborn.axisgrid.FacetGrid at 0x26ada781610>"
      ]
     },
     "execution_count": 88,
     "metadata": {},
     "output_type": "execute_result"
    },
    {
     "data": {
      "image/png": "[encoded data removed]",
      "text/plain": [
       "<Figure size 648x216 with 3 Axes>"
      ]
     },
     "metadata": {
      "needs_background": "light"
     },
     "output_type": "display_data"
    }
   ],
   "source": [
    "graph.map(plt.scatter, \"Year\", \"Internet_Users_Pct\")"
   ]
  },
  {
   "cell_type": "code",
   "execution_count": 89,
   "id": "9495a7b6",
   "metadata": {},
   "outputs": [],
   "source": [
    "#Create a scatter plot of Internet Use vs GDP per Capita for the year 2014. What do you notice?"
   ]
  },
  {
   "cell_type": "code",
   "execution_count": 90,
   "id": "c4581464",
   "metadata": {},
   "outputs": [
    {
     "data": {
      "text/plain": [
       "<AxesSubplot:title={'center':'Internet Use vs. GDP Per Capita'}, xlabel='GDP_Per_Capita', ylabel='Internet_Users_Pct'>"
      ]
     },
     "execution_count": 90,
     "metadata": {},
     "output_type": "execute_result"
    },
    {
     "data": {
      "image/png": "[encoded data removed]",
      "text/plain": [
       "<Figure size 432x288 with 1 Axes>"
      ]
     },
     "metadata": {
      "needs_background": "light"
     },
     "output_type": "display_data"
    }
   ],
   "source": [
    "gdp_and_internet_use_2014.plot(x = \"GDP_Per_Capita\", y = \"Internet_Users_Pct\" , kind = \"scatter\", title = \"Internet Use vs. GDP Per Capita\")"
   ]
  },
  {
   "cell_type": "code",
   "execution_count": 91,
   "id": "a83a2ab3",
   "metadata": {},
   "outputs": [],
   "source": [
    "#The data does not look like it is a linear correlation."
   ]
  },
  {
   "cell_type": "code",
   "execution_count": 92,
   "id": "bb9b208a",
   "metadata": {},
   "outputs": [],
   "source": [
    "#Find the correlation between GDP per Capita and Internet Use for the year 2014. What is the meaning of this number?"
   ]
  },
  {
   "cell_type": "code",
   "execution_count": 93,
   "id": "a84c9508",
   "metadata": {},
   "outputs": [
    {
     "data": {
      "text/plain": [
       "0.8246267227719846"
      ]
     },
     "execution_count": 93,
     "metadata": {},
     "output_type": "execute_result"
    }
   ],
   "source": [
    "gdp_and_internet_use_2014[\"GDP_Per_Capita\"].corr(gdp_and_internet_use_2014[\"Internet_Users_Pct\"])"
   ]
  },
  {
   "cell_type": "code",
   "execution_count": 94,
   "id": "b8702ee6",
   "metadata": {},
   "outputs": [],
   "source": [
    "#the correlation is 0.8246. This means that the variables have a strong positive correlation."
   ]
  },
  {
   "cell_type": "code",
   "execution_count": 95,
   "id": "64fd8cf5",
   "metadata": {},
   "outputs": [],
   "source": [
    "#Add a column to `gdp_and_internet_use_2014` and calculate the logarithm of GDP per capita. Find the correlation between the log of GDP per capita and internet users percentage. How does this compare to the calculation in the previous part?"
   ]
  },
  {
   "cell_type": "code",
   "execution_count": 96,
   "id": "b7a75843",
   "metadata": {},
   "outputs": [
    {
     "name": "stderr",
     "output_type": "stream",
     "text": [
      "<ipython-input-96-2f27264dbf70>:1: SettingWithCopyWarning: \n",
      "A value is trying to be set on a copy of a slice from a DataFrame.\n",
      "Try using .loc[row_indexer,col_indexer] = value instead\n",
      "\n",
      "See the caveats in the documentation: https://pandas.pydata.org/pandas-docs/stable/user_guide/indexing.html#returning-a-view-versus-a-copy\n",
      "  gdp_and_internet_use_2014[\"log_of_GDP_Per_Capita\"] = np.log10(gdp_and_internet_use_2014[\"GDP_Per_Capita\"])\n"
     ]
    }
   ],
   "source": [
    "gdp_and_internet_use_2014[\"log_of_GDP_Per_Capita\"] = np.log10(gdp_and_internet_use_2014[\"GDP_Per_Capita\"])"
   ]
  },
  {
   "cell_type": "code",
   "execution_count": 97,
   "id": "68002682",
   "metadata": {},
   "outputs": [
    {
     "data": {
      "text/html": [
       "<div>\n",
       "<style scoped>\n",
       "    .dataframe tbody tr th:only-of-type {\n",
       "        vertical-align: middle;\n",
       "    }\n",
       "\n",
       "    .dataframe tbody tr th {\n",
       "        vertical-align: top;\n",
       "    }\n",
       "\n",
       "    .dataframe thead th {\n",
       "        text-align: right;\n",
       "    }\n",
       "</style>\n",
       "<table border=\"1\" class=\"dataframe\">\n",
       "  <thead>\n",
       "    <tr style=\"text-align: right;\">\n",
       "      <th></th>\n",
       "      <th>Continent</th>\n",
       "      <th>Country</th>\n",
       "      <th>Year</th>\n",
       "      <th>GDP_Per_Capita</th>\n",
       "      <th>Internet_Users_Pct</th>\n",
       "      <th>log_of_GDP_Per_Capita</th>\n",
       "    </tr>\n",
       "  </thead>\n",
       "  <tbody>\n",
       "    <tr>\n",
       "      <th>0</th>\n",
       "      <td>Asia</td>\n",
       "      <td>Afghanistan</td>\n",
       "      <td>2014</td>\n",
       "      <td>2102.385234</td>\n",
       "      <td>6.39</td>\n",
       "      <td>3.322712</td>\n",
       "    </tr>\n",
       "    <tr>\n",
       "      <th>13</th>\n",
       "      <td>Europe</td>\n",
       "      <td>Albania</td>\n",
       "      <td>2014</td>\n",
       "      <td>11623.866680</td>\n",
       "      <td>60.10</td>\n",
       "      <td>4.065351</td>\n",
       "    </tr>\n",
       "    <tr>\n",
       "      <th>34</th>\n",
       "      <td>Africa</td>\n",
       "      <td>Algeria</td>\n",
       "      <td>2014</td>\n",
       "      <td>11512.705410</td>\n",
       "      <td>18.09</td>\n",
       "      <td>4.061177</td>\n",
       "    </tr>\n",
       "    <tr>\n",
       "      <th>56</th>\n",
       "      <td>Africa</td>\n",
       "      <td>Angola</td>\n",
       "      <td>2014</td>\n",
       "      <td>8239.828837</td>\n",
       "      <td>21.26</td>\n",
       "      <td>3.915918</td>\n",
       "    </tr>\n",
       "    <tr>\n",
       "      <th>76</th>\n",
       "      <td>North America</td>\n",
       "      <td>Antigua and Barbuda</td>\n",
       "      <td>2014</td>\n",
       "      <td>18104.241470</td>\n",
       "      <td>64.00</td>\n",
       "      <td>4.257780</td>\n",
       "    </tr>\n",
       "    <tr>\n",
       "      <th>...</th>\n",
       "      <td>...</td>\n",
       "      <td>...</td>\n",
       "      <td>...</td>\n",
       "      <td>...</td>\n",
       "      <td>...</td>\n",
       "      <td>...</td>\n",
       "    </tr>\n",
       "    <tr>\n",
       "      <th>3348</th>\n",
       "      <td>North America</td>\n",
       "      <td>United States</td>\n",
       "      <td>2014</td>\n",
       "      <td>57273.129070</td>\n",
       "      <td>87.36</td>\n",
       "      <td>4.757951</td>\n",
       "    </tr>\n",
       "    <tr>\n",
       "      <th>3373</th>\n",
       "      <td>Asia</td>\n",
       "      <td>Uzbekistan</td>\n",
       "      <td>2014</td>\n",
       "      <td>5764.492705</td>\n",
       "      <td>43.55</td>\n",
       "      <td>3.760761</td>\n",
       "    </tr>\n",
       "    <tr>\n",
       "      <th>3394</th>\n",
       "      <td>Oceania</td>\n",
       "      <td>Vanuatu</td>\n",
       "      <td>2014</td>\n",
       "      <td>3116.077025</td>\n",
       "      <td>18.80</td>\n",
       "      <td>3.493608</td>\n",
       "    </tr>\n",
       "    <tr>\n",
       "      <th>3414</th>\n",
       "      <td>Africa</td>\n",
       "      <td>Zambia</td>\n",
       "      <td>2014</td>\n",
       "      <td>3450.046561</td>\n",
       "      <td>17.34</td>\n",
       "      <td>3.537825</td>\n",
       "    </tr>\n",
       "    <tr>\n",
       "      <th>3436</th>\n",
       "      <td>Africa</td>\n",
       "      <td>Zimbabwe</td>\n",
       "      <td>2014</td>\n",
       "      <td>2955.240287</td>\n",
       "      <td>19.89</td>\n",
       "      <td>3.470593</td>\n",
       "    </tr>\n",
       "  </tbody>\n",
       "</table>\n",
       "<p>163 rows × 6 columns</p>\n",
       "</div>"
      ],
      "text/plain": [
       "          Continent              Country  Year  GDP_Per_Capita  \\\n",
       "0              Asia          Afghanistan  2014     2102.385234   \n",
       "13           Europe              Albania  2014    11623.866680   \n",
       "34           Africa              Algeria  2014    11512.705410   \n",
       "56           Africa               Angola  2014     8239.828837   \n",
       "76    North America  Antigua and Barbuda  2014    18104.241470   \n",
       "...             ...                  ...   ...             ...   \n",
       "3348  North America        United States  2014    57273.129070   \n",
       "3373           Asia           Uzbekistan  2014     5764.492705   \n",
       "3394        Oceania              Vanuatu  2014     3116.077025   \n",
       "3414         Africa               Zambia  2014     3450.046561   \n",
       "3436         Africa             Zimbabwe  2014     2955.240287   \n",
       "\n",
       "      Internet_Users_Pct  log_of_GDP_Per_Capita  \n",
       "0                   6.39               3.322712  \n",
       "13                 60.10               4.065351  \n",
       "34                 18.09               4.061177  \n",
       "56                 21.26               3.915918  \n",
       "76                 64.00               4.257780  \n",
       "...                  ...                    ...  \n",
       "3348               87.36               4.757951  \n",
       "3373               43.55               3.760761  \n",
       "3394               18.80               3.493608  \n",
       "3414               17.34               3.537825  \n",
       "3436               19.89               3.470593  \n",
       "\n",
       "[163 rows x 6 columns]"
      ]
     },
     "execution_count": 97,
     "metadata": {},
     "output_type": "execute_result"
    }
   ],
   "source": [
    "gdp_and_internet_use_2014"
   ]
  },
  {
   "cell_type": "code",
   "execution_count": 98,
   "id": "572e8760",
   "metadata": {},
   "outputs": [
    {
     "data": {
      "text/plain": [
       "<AxesSubplot:xlabel='log_of_GDP_Per_Capita', ylabel='Internet_Users_Pct'>"
      ]
     },
     "execution_count": 98,
     "metadata": {},
     "output_type": "execute_result"
    },
    {
     "data": {
      "image/png": "[encoded data removed]",
      "text/plain": [
       "<Figure size 432x288 with 1 Axes>"
      ]
     },
     "metadata": {
      "needs_background": "light"
     },
     "output_type": "display_data"
    }
   ],
   "source": [
    "gdp_and_internet_use_2014.plot(x = \"log_of_GDP_Per_Capita\", y = \"Internet_Users_Pct\", kind = \"scatter\")"
   ]
  },
  {
   "cell_type": "code",
   "execution_count": 99,
   "id": "853d7f2e",
   "metadata": {},
   "outputs": [
    {
     "data": {
      "text/plain": [
       "0.9039866356848423"
      ]
     },
     "execution_count": 99,
     "metadata": {},
     "output_type": "execute_result"
    }
   ],
   "source": [
    "gdp_and_internet_use_2014[\"log_of_GDP_Per_Capita\"].corr(gdp_and_internet_use_2014[\"Internet_Users_Pct\"])"
   ]
  },
  {
   "cell_type": "code",
   "execution_count": 100,
   "id": "ceff6154",
   "metadata": {},
   "outputs": [],
   "source": [
    "#The Correlation between the log of GDP and Internet users is stronger than the correlation between GDP per Capita and Internet Users"
   ]
  },
  {
   "cell_type": "code",
   "execution_count": 101,
   "id": "740a6a37",
   "metadata": {},
   "outputs": [],
   "source": [
    "#Filter the original dataset down to just the United States for all available years. Calculate correlation between internet use and gdp per capita. Is this meaningful or useful?"
   ]
  },
  {
   "cell_type": "code",
   "execution_count": 102,
   "id": "b20a05f3",
   "metadata": {},
   "outputs": [
    {
     "data": {
      "text/html": [
       "<div>\n",
       "<style scoped>\n",
       "    .dataframe tbody tr th:only-of-type {\n",
       "        vertical-align: middle;\n",
       "    }\n",
       "\n",
       "    .dataframe tbody tr th {\n",
       "        vertical-align: top;\n",
       "    }\n",
       "\n",
       "    .dataframe thead th {\n",
       "        text-align: right;\n",
       "    }\n",
       "</style>\n",
       "<table border=\"1\" class=\"dataframe\">\n",
       "  <thead>\n",
       "    <tr style=\"text-align: right;\">\n",
       "      <th></th>\n",
       "      <th>Continent</th>\n",
       "      <th>Country</th>\n",
       "      <th>Year</th>\n",
       "      <th>GDP_Per_Capita</th>\n",
       "      <th>Internet_Users_Pct</th>\n",
       "    </tr>\n",
       "  </thead>\n",
       "  <tbody>\n",
       "    <tr>\n",
       "      <th>3348</th>\n",
       "      <td>North America</td>\n",
       "      <td>United States</td>\n",
       "      <td>2014</td>\n",
       "      <td>57273.12907</td>\n",
       "      <td>87.360000</td>\n",
       "    </tr>\n",
       "    <tr>\n",
       "      <th>3349</th>\n",
       "      <td>North America</td>\n",
       "      <td>United States</td>\n",
       "      <td>2013</td>\n",
       "      <td>56269.95643</td>\n",
       "      <td>84.200000</td>\n",
       "    </tr>\n",
       "    <tr>\n",
       "      <th>3350</th>\n",
       "      <td>North America</td>\n",
       "      <td>United States</td>\n",
       "      <td>2012</td>\n",
       "      <td>55632.92976</td>\n",
       "      <td>79.300000</td>\n",
       "    </tr>\n",
       "    <tr>\n",
       "      <th>3351</th>\n",
       "      <td>North America</td>\n",
       "      <td>United States</td>\n",
       "      <td>2011</td>\n",
       "      <td>54806.11693</td>\n",
       "      <td>69.729461</td>\n",
       "    </tr>\n",
       "    <tr>\n",
       "      <th>3352</th>\n",
       "      <td>North America</td>\n",
       "      <td>United States</td>\n",
       "      <td>2010</td>\n",
       "      <td>54359.13397</td>\n",
       "      <td>71.690000</td>\n",
       "    </tr>\n",
       "    <tr>\n",
       "      <th>3353</th>\n",
       "      <td>North America</td>\n",
       "      <td>United States</td>\n",
       "      <td>2009</td>\n",
       "      <td>53440.91154</td>\n",
       "      <td>71.000000</td>\n",
       "    </tr>\n",
       "    <tr>\n",
       "      <th>3354</th>\n",
       "      <td>North America</td>\n",
       "      <td>United States</td>\n",
       "      <td>2008</td>\n",
       "      <td>55314.66006</td>\n",
       "      <td>74.000000</td>\n",
       "    </tr>\n",
       "    <tr>\n",
       "      <th>3355</th>\n",
       "      <td>North America</td>\n",
       "      <td>United States</td>\n",
       "      <td>2007</td>\n",
       "      <td>55916.71538</td>\n",
       "      <td>75.000000</td>\n",
       "    </tr>\n",
       "    <tr>\n",
       "      <th>3356</th>\n",
       "      <td>North America</td>\n",
       "      <td>United States</td>\n",
       "      <td>2006</td>\n",
       "      <td>55411.43755</td>\n",
       "      <td>68.931193</td>\n",
       "    </tr>\n",
       "    <tr>\n",
       "      <th>3357</th>\n",
       "      <td>North America</td>\n",
       "      <td>United States</td>\n",
       "      <td>2005</td>\n",
       "      <td>54395.35648</td>\n",
       "      <td>67.968053</td>\n",
       "    </tr>\n",
       "    <tr>\n",
       "      <th>3358</th>\n",
       "      <td>North America</td>\n",
       "      <td>United States</td>\n",
       "      <td>2004</td>\n",
       "      <td>53035.78291</td>\n",
       "      <td>64.758256</td>\n",
       "    </tr>\n",
       "    <tr>\n",
       "      <th>3359</th>\n",
       "      <td>North America</td>\n",
       "      <td>United States</td>\n",
       "      <td>2003</td>\n",
       "      <td>51569.81769</td>\n",
       "      <td>61.697117</td>\n",
       "    </tr>\n",
       "    <tr>\n",
       "      <th>3360</th>\n",
       "      <td>North America</td>\n",
       "      <td>United States</td>\n",
       "      <td>2002</td>\n",
       "      <td>50568.10111</td>\n",
       "      <td>58.785404</td>\n",
       "    </tr>\n",
       "    <tr>\n",
       "      <th>3361</th>\n",
       "      <td>North America</td>\n",
       "      <td>United States</td>\n",
       "      <td>2001</td>\n",
       "      <td>50165.71994</td>\n",
       "      <td>49.080832</td>\n",
       "    </tr>\n",
       "    <tr>\n",
       "      <th>3362</th>\n",
       "      <td>North America</td>\n",
       "      <td>United States</td>\n",
       "      <td>2000</td>\n",
       "      <td>50163.88947</td>\n",
       "      <td>43.079163</td>\n",
       "    </tr>\n",
       "    <tr>\n",
       "      <th>3363</th>\n",
       "      <td>North America</td>\n",
       "      <td>United States</td>\n",
       "      <td>1999</td>\n",
       "      <td>48714.53055</td>\n",
       "      <td>35.848724</td>\n",
       "    </tr>\n",
       "    <tr>\n",
       "      <th>3364</th>\n",
       "      <td>North America</td>\n",
       "      <td>United States</td>\n",
       "      <td>1998</td>\n",
       "      <td>47041.18478</td>\n",
       "      <td>30.093197</td>\n",
       "    </tr>\n",
       "    <tr>\n",
       "      <th>3365</th>\n",
       "      <td>North America</td>\n",
       "      <td>United States</td>\n",
       "      <td>1997</td>\n",
       "      <td>45551.41480</td>\n",
       "      <td>21.616401</td>\n",
       "    </tr>\n",
       "    <tr>\n",
       "      <th>3366</th>\n",
       "      <td>North America</td>\n",
       "      <td>United States</td>\n",
       "      <td>1996</td>\n",
       "      <td>44140.14279</td>\n",
       "      <td>16.419353</td>\n",
       "    </tr>\n",
       "    <tr>\n",
       "      <th>3367</th>\n",
       "      <td>North America</td>\n",
       "      <td>United States</td>\n",
       "      <td>1995</td>\n",
       "      <td>43033.24352</td>\n",
       "      <td>9.237088</td>\n",
       "    </tr>\n",
       "    <tr>\n",
       "      <th>3368</th>\n",
       "      <td>North America</td>\n",
       "      <td>United States</td>\n",
       "      <td>1994</td>\n",
       "      <td>42410.32605</td>\n",
       "      <td>4.862781</td>\n",
       "    </tr>\n",
       "    <tr>\n",
       "      <th>3369</th>\n",
       "      <td>North America</td>\n",
       "      <td>United States</td>\n",
       "      <td>1993</td>\n",
       "      <td>41270.86730</td>\n",
       "      <td>2.271673</td>\n",
       "    </tr>\n",
       "    <tr>\n",
       "      <th>3370</th>\n",
       "      <td>North America</td>\n",
       "      <td>United States</td>\n",
       "      <td>1992</td>\n",
       "      <td>40698.34018</td>\n",
       "      <td>1.724203</td>\n",
       "    </tr>\n",
       "    <tr>\n",
       "      <th>3371</th>\n",
       "      <td>North America</td>\n",
       "      <td>United States</td>\n",
       "      <td>1991</td>\n",
       "      <td>39862.57556</td>\n",
       "      <td>1.163194</td>\n",
       "    </tr>\n",
       "    <tr>\n",
       "      <th>3372</th>\n",
       "      <td>North America</td>\n",
       "      <td>United States</td>\n",
       "      <td>1990</td>\n",
       "      <td>40442.60113</td>\n",
       "      <td>0.784729</td>\n",
       "    </tr>\n",
       "  </tbody>\n",
       "</table>\n",
       "</div>"
      ],
      "text/plain": [
       "          Continent        Country  Year  GDP_Per_Capita  Internet_Users_Pct\n",
       "3348  North America  United States  2014     57273.12907           87.360000\n",
       "3349  North America  United States  2013     56269.95643           84.200000\n",
       "3350  North America  United States  2012     55632.92976           79.300000\n",
       "3351  North America  United States  2011     54806.11693           69.729461\n",
       "3352  North America  United States  2010     54359.13397           71.690000\n",
       "3353  North America  United States  2009     53440.91154           71.000000\n",
       "3354  North America  United States  2008     55314.66006           74.000000\n",
       "3355  North America  United States  2007     55916.71538           75.000000\n",
       "3356  North America  United States  2006     55411.43755           68.931193\n",
       "3357  North America  United States  2005     54395.35648           67.968053\n",
       "3358  North America  United States  2004     53035.78291           64.758256\n",
       "3359  North America  United States  2003     51569.81769           61.697117\n",
       "3360  North America  United States  2002     50568.10111           58.785404\n",
       "3361  North America  United States  2001     50165.71994           49.080832\n",
       "3362  North America  United States  2000     50163.88947           43.079163\n",
       "3363  North America  United States  1999     48714.53055           35.848724\n",
       "3364  North America  United States  1998     47041.18478           30.093197\n",
       "3365  North America  United States  1997     45551.41480           21.616401\n",
       "3366  North America  United States  1996     44140.14279           16.419353\n",
       "3367  North America  United States  1995     43033.24352            9.237088\n",
       "3368  North America  United States  1994     42410.32605            4.862781\n",
       "3369  North America  United States  1993     41270.86730            2.271673\n",
       "3370  North America  United States  1992     40698.34018            1.724203\n",
       "3371  North America  United States  1991     39862.57556            1.163194\n",
       "3372  North America  United States  1990     40442.60113            0.784729"
      ]
     },
     "execution_count": 102,
     "metadata": {},
     "output_type": "execute_result"
    }
   ],
   "source": [
    "gdp_United_States = gdp_and_internet_use[gdp_and_internet_use[\"Country\"] == \"United States\"]\n",
    "gdp_United_States"
   ]
  },
  {
   "cell_type": "code",
   "execution_count": 103,
   "id": "ea557c57",
   "metadata": {
    "scrolled": true
   },
   "outputs": [
    {
     "data": {
      "text/plain": [
       "0.9916600677796319"
      ]
     },
     "execution_count": 103,
     "metadata": {},
     "output_type": "execute_result"
    }
   ],
   "source": [
    "gdp_United_States[\"GDP_Per_Capita\"].corr(gdp_United_States[\"Internet_Users_Pct\"])"
   ]
  },
  {
   "cell_type": "code",
   "execution_count": 104,
   "id": "73d97698",
   "metadata": {},
   "outputs": [],
   "source": [
    "#This is meaningful. This means that within the United States, there is a strong correlation between the GDP Per\n",
    "#Capita and the percentage of internet users. As the GDP in the US increases, so does the percentage of Internet\n",
    "#users"
   ]
  },
  {
   "cell_type": "code",
   "execution_count": null,
   "id": "5823f2f6",
   "metadata": {},
   "outputs": [],
   "source": []
  }
 ],
 "metadata": {
  "kernelspec": {
   "display_name": "Python 3",
   "language": "python",
   "name": "python3"
  },
  "language_info": {
   "codemirror_mode": {
    "name": "ipython",
    "version": 3
   },
   "file_extension": ".py",
   "mimetype": "text/x-python",
   "name": "python",
   "nbconvert_exporter": "python",
   "pygments_lexer": "ipython3",
   "version": "3.8.8"
  }
 },
 "nbformat": 4,
 "nbformat_minor": 5
}
